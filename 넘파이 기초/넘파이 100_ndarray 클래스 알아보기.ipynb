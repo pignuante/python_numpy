{
 "cells": [
  {
   "cell_type": "markdown",
   "metadata": {},
   "source": [
    "# 2. Numpy 모듈 이해하기 \n"
   ]
  },
  {
   "cell_type": "code",
   "execution_count": 1,
   "metadata": {
    "collapsed": true
   },
   "outputs": [],
   "source": [
    "%matplotlib inline\n",
    "import numpy as np"
   ]
  },
  {
   "cell_type": "markdown",
   "metadata": {
    "collapsed": true
   },
   "source": [
    "##  np.Ndarray 클래스 이해하기"
   ]
  },
  {
   "cell_type": "markdown",
   "metadata": {},
   "source": [
    "### 리스트 만들기\n",
    "\n",
    "    리스트는 배열이지만 객체를 보관해서 관리할 수 있다. 그런 이유로 객체의 특성을 별도로 관리하므로 세부적인 관리기준이 일반적인 배열과 다르다.\n",
    "    "
   ]
  },
  {
   "cell_type": "code",
   "execution_count": 2,
   "metadata": {
    "collapsed": true
   },
   "outputs": [],
   "source": [
    "l = [1,2,3]"
   ]
  },
  {
   "cell_type": "code",
   "execution_count": 3,
   "metadata": {},
   "outputs": [
    {
     "data": {
      "text/plain": [
       "([1, 2, 3], list)"
      ]
     },
     "execution_count": 3,
     "metadata": {},
     "output_type": "execute_result"
    }
   ],
   "source": [
    "l, type(l)"
   ]
  },
  {
   "cell_type": "markdown",
   "metadata": {},
   "source": [
    "### 넘파이 배열 "
   ]
  },
  {
   "cell_type": "code",
   "execution_count": 4,
   "metadata": {},
   "outputs": [
    {
     "name": "stdout",
     "output_type": "stream",
     "text": [
      "[1 2 3]\n"
     ]
    }
   ],
   "source": [
    "a = np.array([1,2,3])\n",
    "print(a)"
   ]
  },
  {
   "cell_type": "code",
   "execution_count": 5,
   "metadata": {},
   "outputs": [
    {
     "data": {
      "text/plain": [
       "numpy.ndarray"
      ]
     },
     "execution_count": 5,
     "metadata": {},
     "output_type": "execute_result"
    }
   ],
   "source": [
    "type(a)"
   ]
  },
  {
   "cell_type": "markdown",
   "metadata": {},
   "source": [
    "### 덧셈 연산자 사용할 때 차이점?\n",
    "\n",
    "    리스트는 덧셈연산자를 사용하면 실제 두 개의 리스트를 연결하지만 넘파이 배열은 내부의 원소간의 덧셈을 처리한다.\n",
    "    "
   ]
  },
  {
   "cell_type": "markdown",
   "metadata": {},
   "source": [
    "#### 리스트의 덧셈은 리스트를 연결해서 처리"
   ]
  },
  {
   "cell_type": "code",
   "execution_count": 8,
   "metadata": {},
   "outputs": [
    {
     "data": {
      "text/plain": [
       "[1, 2, 3, 1, 2, 3]"
      ]
     },
     "execution_count": 8,
     "metadata": {},
     "output_type": "execute_result"
    }
   ],
   "source": [
    "l+l"
   ]
  },
  {
   "cell_type": "code",
   "execution_count": 10,
   "metadata": {},
   "outputs": [
    {
     "name": "stdout",
     "output_type": "stream",
     "text": [
      "[2, 4, 6]\n"
     ]
    }
   ],
   "source": [
    "\n",
    "\n",
    "# 두개의 리스트의 원소를 더하려면\n",
    "\n",
    "for i in range(len(l)) :\n",
    "    l[i] += l[i]\n",
    "    \n",
    "print(l)\n"
   ]
  },
  {
   "cell_type": "markdown",
   "metadata": {},
   "source": [
    "#### 배열은 덧셈은 각 원소별로 덧셈을 처리"
   ]
  },
  {
   "cell_type": "code",
   "execution_count": 9,
   "metadata": {},
   "outputs": [
    {
     "data": {
      "text/plain": [
       "array([2, 4, 6])"
      ]
     },
     "execution_count": 9,
     "metadata": {},
     "output_type": "execute_result"
    }
   ],
   "source": [
    "a+a"
   ]
  },
  {
   "cell_type": "markdown",
   "metadata": {},
   "source": [
    "###  numpy.ndarray와 lits 타입 차이점\n"
   ]
  },
  {
   "cell_type": "markdown",
   "metadata": {},
   "source": [
    "### 데이터 관리 기준  : flat \n",
    "\n",
    "   다 차원 배열도 차원과 상관없이 내부적으로 데이터는  flat한  구조로 관리 \n",
    "   "
   ]
  },
  {
   "cell_type": "code",
   "execution_count": 6,
   "metadata": {},
   "outputs": [
    {
     "name": "stdout",
     "output_type": "stream",
     "text": [
      "flat :  <numpy.flatiter object at 0x7f8660a80a00>\n"
     ]
    }
   ],
   "source": [
    "a = np.array([1,2,3,4,5,6])\n",
    "\n",
    "print(\"flat : \", a.flat)\n"
   ]
  },
  {
   "cell_type": "markdown",
   "metadata": {},
   "source": [
    "### flatten 메소드는 새로운 사본을 만든다"
   ]
  },
  {
   "cell_type": "code",
   "execution_count": 9,
   "metadata": {},
   "outputs": [],
   "source": [
    "b = a.flatten()"
   ]
  },
  {
   "cell_type": "code",
   "execution_count": 10,
   "metadata": {},
   "outputs": [
    {
     "data": {
      "text/plain": [
       "array([1, 2, 3, 4, 5, 6])"
      ]
     },
     "execution_count": 10,
     "metadata": {},
     "output_type": "execute_result"
    }
   ],
   "source": [
    "b"
   ]
  },
  {
   "cell_type": "code",
   "execution_count": 14,
   "metadata": {
    "collapsed": true
   },
   "outputs": [],
   "source": [
    "b.base"
   ]
  },
  {
   "cell_type": "markdown",
   "metadata": {},
   "source": [
    "### ravel은 원본을 그대로 유지한체로 처리된다."
   ]
  },
  {
   "cell_type": "code",
   "execution_count": 11,
   "metadata": {},
   "outputs": [],
   "source": [
    "c = a.ravel()"
   ]
  },
  {
   "cell_type": "code",
   "execution_count": 12,
   "metadata": {},
   "outputs": [
    {
     "data": {
      "text/plain": [
       "array([1, 2, 3, 4, 5, 6])"
      ]
     },
     "execution_count": 12,
     "metadata": {},
     "output_type": "execute_result"
    }
   ],
   "source": [
    "c"
   ]
  },
  {
   "cell_type": "code",
   "execution_count": 13,
   "metadata": {},
   "outputs": [
    {
     "data": {
      "text/plain": [
       "array([1, 2, 3, 4, 5, 6])"
      ]
     },
     "execution_count": 13,
     "metadata": {},
     "output_type": "execute_result"
    }
   ],
   "source": [
    "c.base"
   ]
  },
  {
   "cell_type": "markdown",
   "metadata": {},
   "source": [
    "### 실제 데이터는 배열 내의 속성의 data 내의 obj 내에 저장해서 관리한다."
   ]
  },
  {
   "cell_type": "code",
   "execution_count": 13,
   "metadata": {},
   "outputs": [
    {
     "data": {
      "text/plain": [
       "<memory at 0x1110104c8>"
      ]
     },
     "execution_count": 13,
     "metadata": {},
     "output_type": "execute_result"
    }
   ],
   "source": [
    "a.data"
   ]
  },
  {
   "cell_type": "code",
   "execution_count": 14,
   "metadata": {},
   "outputs": [
    {
     "data": {
      "text/plain": [
       "array([1, 2, 3, 4, 5, 6])"
      ]
     },
     "execution_count": 14,
     "metadata": {},
     "output_type": "execute_result"
    }
   ],
   "source": [
    "a.data.obj"
   ]
  },
  {
   "cell_type": "code",
   "execution_count": 12,
   "metadata": {},
   "outputs": [
    {
     "name": "stdout",
     "output_type": "stream",
     "text": [
      "[1, 2, 3, 4, 5, 6]\n",
      "[1, 2, 3, 4, 5, 6]\n"
     ]
    }
   ],
   "source": [
    "print(list(a.flat))\n",
    "print(a.data.tolist())"
   ]
  },
  {
   "cell_type": "markdown",
   "metadata": {},
   "source": [
    "## reshape 함수로 view를 5행 5열로 정의해서 사용 \n",
    "\n",
    "    실제 내부는 flat이므로  flat 속성을 가지고 직접 접근해서 조회 및 수정이 가능함\n",
    "    "
   ]
  },
  {
   "cell_type": "code",
   "execution_count": 15,
   "metadata": {},
   "outputs": [
    {
     "name": "stdout",
     "output_type": "stream",
     "text": [
      "[[  0.   1.   2.   3.   4.]\n",
      " [  5.   6.   7.   8.   9.]\n",
      " [ 10.  11.  12.  13.  14.]\n",
      " [ 15.  16.  17.  18.  19.]\n",
      " [ 20.  21.  22.  23.  24.]]\n"
     ]
    }
   ],
   "source": [
    "y = np.reshape(np.arange(25.0),(5,5))\n",
    "print(y)\n"
   ]
  },
  {
   "cell_type": "code",
   "execution_count": 16,
   "metadata": {},
   "outputs": [
    {
     "name": "stdout",
     "output_type": "stream",
     "text": [
      " 0번째 :  0.0\n",
      " 6번째 :  5.0\n",
      " 11번째 :  10.0\n",
      " 25번째 :  24.0\n",
      "[[  0.   1.   2.   3.   4.]\n",
      " [  5.   6.   7.   8.   9.]\n",
      " [ 10.  11.  12.  13.  14.]\n",
      " [ 15.  16.  17.  18.  19.]\n",
      " [ 20.  21.  22.  23.  99.]]\n",
      " 25번째 :  99.0\n"
     ]
    }
   ],
   "source": [
    "print(\" 0번째 : \",y.flat[0])\n",
    "print(\" 6번째 : \",y.flat[5])\n",
    "print(\" 11번째 : \",y.flat[10])\n",
    "\n",
    "print(\" 25번째 : \",y.flat[24])\n",
    "y.flat[24] = 99\n",
    "print(y)\n",
    "print(\" 25번째 : \",y.flat[24])"
   ]
  },
  {
   "cell_type": "markdown",
   "metadata": {},
   "source": [
    "###  원본을 유지하고 항상 memoryview 제공  "
   ]
  },
  {
   "cell_type": "code",
   "execution_count": 19,
   "metadata": {},
   "outputs": [
    {
     "name": "stdout",
     "output_type": "stream",
     "text": [
      "data  :  <memory at 0x111010948>\n",
      "<class 'memoryview'>\n"
     ]
    }
   ],
   "source": [
    "a = np.array([1,2,3,4,5,6])\n",
    "print(\"data  : \", a.data)\n",
    "print(type(a.data))\n"
   ]
  },
  {
   "cell_type": "markdown",
   "metadata": {},
   "source": [
    "#### 원본일 경우는 base 속성에 데이터를 관리하지 않는다."
   ]
  },
  {
   "cell_type": "code",
   "execution_count": 20,
   "metadata": {},
   "outputs": [
    {
     "name": "stdout",
     "output_type": "stream",
     "text": [
      "base  :  None\n"
     ]
    }
   ],
   "source": [
    "print(\"base  : \", a.base)"
   ]
  },
  {
   "cell_type": "markdown",
   "metadata": {},
   "source": [
    "### data type과 strides 관계\n",
    "\n",
    "    데이터 타입에 따라 strides 구성에 차이가 생김"
   ]
  },
  {
   "cell_type": "code",
   "execution_count": 21,
   "metadata": {},
   "outputs": [
    {
     "name": "stdout",
     "output_type": "stream",
     "text": [
      "data type :  int64\n",
      "cdata type :  <numpy.core._internal._ctypes object at 0x1112384a8>\n",
      "strides :  (8,)\n",
      " size :  6\n",
      " item size :  8\n"
     ]
    }
   ],
   "source": [
    "a = np.array([1,2,3,4,5,6])\n",
    "print(\"data type : \", a.dtype)\n",
    "print(\"cdata type : \", a.ctypes)\n",
    "print(\"strides : \", a.strides)\n",
    "print(\" size : \", a.size)\n",
    "print(\" item size : \", a.itemsize)\n"
   ]
  },
  {
   "cell_type": "code",
   "execution_count": 22,
   "metadata": {},
   "outputs": [
    {
     "name": "stdout",
     "output_type": "stream",
     "text": [
      "data type :  float64\n",
      "cdata type :  <numpy.core._internal._ctypes object at 0x1112334e0>\n",
      "strides :  (8,)\n",
      " size :  3\n",
      " itemsize :  8\n"
     ]
    }
   ],
   "source": [
    "b = np.array([1,2,3], dtype=np.float64)\n",
    "print(\"data type : \", b.dtype)\n",
    "print(\"cdata type : \", b.ctypes)\n",
    "print(\"strides : \", b.strides)\n",
    "print(\" size : \", b.size)\n",
    "print(\" itemsize : \", b.itemsize)"
   ]
  },
  {
   "cell_type": "markdown",
   "metadata": {},
   "source": [
    "### dtype 처리 이해하기 \n",
    "\n",
    "    기존 데이터가 int로 생성된 경우는 dtype에 맞춰 데이터를 관리하므로 int이고 넘파이 배열은 모든 원소가 동일한 타입이므로\n",
    "    원소를 float으로 하나를 변경한다면 실제 int로 처리되는 것을 볼 수 있다.\n",
    "    "
   ]
  },
  {
   "cell_type": "code",
   "execution_count": 90,
   "metadata": {},
   "outputs": [
    {
     "name": "stdout",
     "output_type": "stream",
     "text": [
      "int32\n",
      "[3 1 2 3 4]\n"
     ]
    }
   ],
   "source": [
    "x = [0, 1, 2, 3, 4] # Integers\n",
    "y = np.array(x)\n",
    "print(y.dtype)\n",
    "\n",
    "y[0] = 3.141592\n",
    "print(y)\n"
   ]
  },
  {
   "cell_type": "markdown",
   "metadata": {},
   "source": [
    "#### 넘파이 배열을 생성할 때 float으로 결정될 경우에는\n",
    "\n",
    "    실제  특정 영역에 재할당할 때 실수로 넣으면 실수로 저장되는 것을 알 수 있다."
   ]
  },
  {
   "cell_type": "code",
   "execution_count": 91,
   "metadata": {},
   "outputs": [
    {
     "name": "stdout",
     "output_type": "stream",
     "text": [
      "float64\n",
      "[ 3.141592  1.        2.        3.        4.      ]\n"
     ]
    }
   ],
   "source": [
    "\n",
    "x = [0.0,1, 2, 3, 4] # 1 Float makes all float\n",
    "y = np.array(x)\n",
    "print(y.dtype)\n",
    "\n",
    "y[0] = 3.141592\n",
    "print(y)"
   ]
  },
  {
   "cell_type": "markdown",
   "metadata": {},
   "source": [
    "## 차원별로 넘파이 배열 만들어 보기\n"
   ]
  },
  {
   "cell_type": "markdown",
   "metadata": {},
   "source": [
    "#### 0차원의 scalar 만들기"
   ]
  },
  {
   "cell_type": "code",
   "execution_count": 12,
   "metadata": {},
   "outputs": [
    {
     "name": "stdout",
     "output_type": "stream",
     "text": [
      "1 <class 'numpy.ndarray'>\n",
      "demension :  0\n",
      "shape :  ()\n",
      "data type :  int32\n"
     ]
    }
   ],
   "source": [
    "a = np.array(1)\n",
    "print(a, type(a))\n",
    "\n",
    "print(\"demension : \",a.ndim)\n",
    "print(\"shape : \",a.shape)\n",
    "print(\"data type : \", a.dtype)"
   ]
  },
  {
   "cell_type": "markdown",
   "metadata": {},
   "source": [
    "#### 1차원의 벡터 만들기"
   ]
  },
  {
   "cell_type": "code",
   "execution_count": 49,
   "metadata": {},
   "outputs": [
    {
     "name": "stdout",
     "output_type": "stream",
     "text": [
      "[1 2 3] <class 'numpy.ndarray'>\n",
      "demension :  1\n",
      "shape :  (3,)\n",
      "data type :  int32\n",
      "strides :  (4,)\n"
     ]
    }
   ],
   "source": [
    "a = np.array([1,2,3])\n",
    "print(a, type(a))\n",
    "\n",
    "print(\"demension : \",a.ndim)\n",
    "print(\"shape : \",a.shape)\n",
    "print(\"data type : \", a.dtype)\n",
    "print(\"strides : \", a.strides)"
   ]
  },
  {
   "cell_type": "markdown",
   "metadata": {},
   "source": [
    "#### 2차원의 Matrix 만들기\n"
   ]
  },
  {
   "cell_type": "code",
   "execution_count": 7,
   "metadata": {},
   "outputs": [
    {
     "name": "stdout",
     "output_type": "stream",
     "text": [
      "[[1 2 3]\n",
      " [4 5 6]] <class 'numpy.ndarray'>\n",
      "demension :  2\n",
      "shape :  (2, 3)\n",
      "data type :  int32\n"
     ]
    }
   ],
   "source": [
    "a = np.array([[1,2,3],[4,5,6]])\n",
    "print(a, type(a))\n",
    "\n",
    "print(\"demension : \",a.ndim)\n",
    "print(\"shape : \",a.shape)\n",
    "print(\"data type : \", a.dtype)"
   ]
  },
  {
   "cell_type": "markdown",
   "metadata": {},
   "source": [
    "#### 3차원의 Cube 만들기 "
   ]
  },
  {
   "cell_type": "code",
   "execution_count": 8,
   "metadata": {},
   "outputs": [
    {
     "name": "stdout",
     "output_type": "stream",
     "text": [
      "[[[1 2 3]\n",
      "  [4 5 6]]\n",
      "\n",
      " [[1 2 3]\n",
      "  [4 5 6]]] <class 'numpy.ndarray'>\n",
      "demension :  3\n",
      "shape :  (2, 2, 3)\n",
      "data type :  int32\n"
     ]
    }
   ],
   "source": [
    "a = np.array([[[1,2,3],[4,5,6]],[[1,2,3],[4,5,6]]])\n",
    "print(a, type(a))\n",
    "\n",
    "print(\"demension : \",a.ndim)\n",
    "print(\"shape : \",a.shape)\n",
    "print(\"data type : \", a.dtype)"
   ]
  },
  {
   "cell_type": "markdown",
   "metadata": {},
   "source": [
    "# 생성 함수\n"
   ]
  },
  {
   "cell_type": "markdown",
   "metadata": {},
   "source": [
    "### 1차원 배열 생성 함수 "
   ]
  },
  {
   "cell_type": "code",
   "execution_count": 73,
   "metadata": {},
   "outputs": [
    {
     "name": "stdout",
     "output_type": "stream",
     "text": [
      "[0 1 2 3 4 5 6 7 8 9]\n"
     ]
    }
   ],
   "source": [
    "import numpy as np\n",
    "\n",
    "zs = np.arange(10)\n",
    "print(zs)"
   ]
  },
  {
   "cell_type": "code",
   "execution_count": 121,
   "metadata": {},
   "outputs": [
    {
     "name": "stdout",
     "output_type": "stream",
     "text": [
      "[  1.   2.   3.   4.   5.   6.   7.   8.   9.  10.]\n"
     ]
    }
   ],
   "source": [
    "import numpy as np\n",
    "\n",
    "zs = np.linspace(1,10,10)\n",
    "print(zs)"
   ]
  },
  {
   "cell_type": "markdown",
   "metadata": {},
   "source": [
    "## 벡터로 그래프 그리기 \n",
    "\n",
    "   x 측은 index, y 측은 값이 됨"
   ]
  },
  {
   "cell_type": "code",
   "execution_count": 122,
   "metadata": {},
   "outputs": [
    {
     "data": {
      "image/png": "[encoded data removed]",
      "text/plain": [
       "<matplotlib.figure.Figure at 0xa5037b8>"
      ]
     },
     "metadata": {},
     "output_type": "display_data"
    }
   ],
   "source": [
    "import matplotlib.pyplot as plt\n",
    "\n",
    "plt.plot(zs)\n",
    "plt.show()"
   ]
  },
  {
   "cell_type": "markdown",
   "metadata": {},
   "source": [
    "### 다차원이 있는 배열 생성 함수 \n"
   ]
  },
  {
   "cell_type": "markdown",
   "metadata": {},
   "source": [
    "#### 2차원 배열 값을 기준으로 그래프 그리기"
   ]
  },
  {
   "cell_type": "code",
   "execution_count": 125,
   "metadata": {},
   "outputs": [
    {
     "name": "stdout",
     "output_type": "stream",
     "text": [
      "[[  1.   2.   3.   4.   5.]\n",
      " [  6.   7.   8.   9.  10.]]\n"
     ]
    },
    {
     "data": {
      "image/png": "[encoded data removed]",
      "text/plain": [
       "<matplotlib.figure.Figure at 0x943c0f0>"
      ]
     },
     "metadata": {},
     "output_type": "display_data"
    }
   ],
   "source": [
    "import numpy as np\n",
    "\n",
    "zs = np.linspace(1,10,10).reshape(2,5)\n",
    "print(zs)\n",
    "\n",
    "import matplotlib.pyplot as plt\n",
    "\n",
    "plt.plot(zs[0],zs[1])\n",
    "\n",
    "plt.show()"
   ]
  },
  {
   "cell_type": "markdown",
   "metadata": {},
   "source": [
    "#### zeros 함수"
   ]
  },
  {
   "cell_type": "code",
   "execution_count": 101,
   "metadata": {},
   "outputs": [
    {
     "name": "stdout",
     "output_type": "stream",
     "text": [
      "<built-in function zeros>\n",
      "[[ 0.  0.]\n",
      " [ 0.  0.]]\n"
     ]
    }
   ],
   "source": [
    "import numpy as np\n",
    "\n",
    "print(np.zeros)\n",
    "zs = np.zeros((2,2))\n",
    "print(zs)"
   ]
  },
  {
   "cell_type": "markdown",
   "metadata": {},
   "source": [
    "#### ones 함수 "
   ]
  },
  {
   "cell_type": "code",
   "execution_count": 102,
   "metadata": {},
   "outputs": [
    {
     "name": "stdout",
     "output_type": "stream",
     "text": [
      "<function ones at 0x00000000053826A8>\n",
      "[[ 1.  1.]\n",
      " [ 1.  1.]]\n"
     ]
    }
   ],
   "source": [
    "import numpy as np\n",
    "\n",
    "print(np.ones)\n",
    "os = np.ones((2,2))\n",
    "print(os)"
   ]
  },
  {
   "cell_type": "markdown",
   "metadata": {},
   "source": [
    "#### empty 함수 "
   ]
  },
  {
   "cell_type": "code",
   "execution_count": 104,
   "metadata": {},
   "outputs": [
    {
     "name": "stdout",
     "output_type": "stream",
     "text": [
      "<built-in function empty>\n",
      "[[ 0.  0.]\n",
      " [ 0.  0.]]\n"
     ]
    }
   ],
   "source": [
    "import numpy as np\n",
    "\n",
    "print(np.empty)\n",
    "es = np.empty((2,2))\n",
    "print(es)"
   ]
  },
  {
   "cell_type": "markdown",
   "metadata": {},
   "source": [
    "###  단위행렬 생성하기\n"
   ]
  },
  {
   "cell_type": "code",
   "execution_count": 80,
   "metadata": {},
   "outputs": [
    {
     "name": "stdout",
     "output_type": "stream",
     "text": [
      "[[ 1.  0.  0.]\n",
      " [ 0.  1.  0.]\n",
      " [ 0.  0.  1.]]\n"
     ]
    }
   ],
   "source": [
    "import numpy as np\n",
    "\n",
    "print(np.identity(3))"
   ]
  },
  {
   "cell_type": "code",
   "execution_count": 81,
   "metadata": {},
   "outputs": [
    {
     "name": "stdout",
     "output_type": "stream",
     "text": [
      "[[ 1.  0.  0.]\n",
      " [ 0.  1.  0.]\n",
      " [ 0.  0.  1.]]\n"
     ]
    }
   ],
   "source": [
    "import numpy as np\n",
    "\n",
    "print(np.eye(3))"
   ]
  },
  {
   "cell_type": "markdown",
   "metadata": {},
   "source": [
    "### matrix 객체 생성하기 \n",
    "\n",
    "    matrix만을 처리하는 객체 생성하기 "
   ]
  },
  {
   "cell_type": "code",
   "execution_count": 86,
   "metadata": {},
   "outputs": [
    {
     "name": "stdout",
     "output_type": "stream",
     "text": [
      "<class 'numpy.matrixlib.defmatrix.matrix'>\n",
      "<class 'numpy.ndarray'>\n",
      "<class 'numpy.matrixlib.defmatrix.matrix'>\n",
      "[[  2.]\n",
      " [  4.]\n",
      " [  6.]\n",
      " [  8.]\n",
      " [ 10.]]\n"
     ]
    }
   ],
   "source": [
    "xm= np.matrix([[1.0],[2.0],[3.0],[4.0],[5.0]])\n",
    "xa= np.array([[1.0],[2.0],[3.0],[4.0],[5.0]])\n",
    "\n",
    "print(type(xm))\n",
    "print(type(xa))\n",
    "\n",
    "xx = xm + xa \n",
    "print(type(xx))\n",
    "print(xx)"
   ]
  },
  {
   "cell_type": "code",
   "execution_count": 89,
   "metadata": {},
   "outputs": [
    {
     "name": "stdout",
     "output_type": "stream",
     "text": [
      "2\n",
      "(5, 1)\n",
      "float64\n",
      "<numpy.flatiter object at 0x0000000006DD5AC0>\n"
     ]
    }
   ],
   "source": [
    "print(xm.ndim)\n",
    "print(xm.shape)\n",
    "print(xm.dtype)\n",
    "print(xm.flat)"
   ]
  }
 ],
 "metadata": {
  "anaconda-cloud": {},
  "kernelspec": {
   "display_name": "Python 3",
   "language": "python",
   "name": "python3"
  },
  "language_info": {
   "codemirror_mode": {
    "name": "ipython",
    "version": 3
   },
   "file_extension": ".py",
   "mimetype": "text/x-python",
   "name": "python",
   "nbconvert_exporter": "python",
   "pygments_lexer": "ipython3",
   "version": "3.6.1"
  }
 },
 "nbformat": 4,
 "nbformat_minor": 1
}
