{
 "cells": [
  {
   "cell_type": "code",
   "execution_count": 1,
   "metadata": {
    "collapsed": true
   },
   "outputs": [],
   "source": [
    "import numpy as np"
   ]
  },
  {
   "cell_type": "markdown",
   "metadata": {},
   "source": [
    "## gradient "
   ]
  },
  {
   "cell_type": "code",
   "execution_count": 45,
   "metadata": {},
   "outputs": [
    {
     "name": "stdout",
     "output_type": "stream",
     "text": [
      "[ 1.   1.5  2.5  3.5  4.5  5. ]\n"
     ]
    }
   ],
   "source": [
    "import numpy as np\n",
    "\n",
    "x = np.array([1, 2, 4, 7, 11, 16], dtype=np.float)\n",
    "j = np.gradient(x)\n",
    "print(j)"
   ]
  },
  {
   "cell_type": "code",
   "execution_count": 46,
   "metadata": {},
   "outputs": [
    {
     "name": "stdout",
     "output_type": "stream",
     "text": [
      "[ 1.   1.5  2.5  3.5  4.5  5. ]\n"
     ]
    }
   ],
   "source": [
    "\n",
    "import numpy as np\n",
    "\n",
    "x = np.array([1, 2, 4, 7, 11, 16], dtype=np.float)\n",
    "j = np.zeros(6)\n",
    "j[0] = (x[1]-x[0])/1 \n",
    "j[1] = (x[2]-x[0])/2 \n",
    "j[2] = (x[3]-x[1])/2 \n",
    "j[3] = (x[4]-x[2])/2 \n",
    "j[4] = (x[5]-x[3])/2 \n",
    "j[5] = (x[5]-x[4])/1\n",
    "\n",
    "print(j)"
   ]
  },
  {
   "cell_type": "code",
   "execution_count": 47,
   "metadata": {},
   "outputs": [
    {
     "name": "stdout",
     "output_type": "stream",
     "text": [
      "[[-1. -1. -1.]\n",
      " [-1. -1. -1.]]\n",
      "[[ 1.  1.  1.]\n",
      " [ 1.  1.  1.]]\n"
     ]
    }
   ],
   "source": [
    "import numpy as np\n",
    "\n",
    "a = np.array([[4, 5, 6], [3, 4, 5]], dtype=np.float)\n",
    "x,y = np.gradient(a)\n",
    "print(x)\n",
    "print(y)"
   ]
  },
  {
   "cell_type": "code",
   "execution_count": 48,
   "metadata": {},
   "outputs": [
    {
     "name": "stdout",
     "output_type": "stream",
     "text": [
      "[[-1. -1. -1.]\n",
      " [-1. -1. -1.]]\n"
     ]
    }
   ],
   "source": [
    "import numpy as np\n",
    "\n",
    "a = np.array([[4, 5, 6], [3, 4, 5]], dtype=np.float)\n",
    "j = np.zeros((2,3))\n",
    "j[0,0] = (a[1,0]-a[0,0])/1 \n",
    "j[0,1] = (a[1,1]-a[0,1])/1 \n",
    "j[0,2] = (a[1,2]-a[0,2])/1 \n",
    "j[1,0] = (a[1,0]-a[0,0])/1 \n",
    "j[1,1] = (a[1,1]-a[0,1])/1 \n",
    "j[1,2] = (a[1,2]-a[0,2])/1 \n",
    "print(j)"
   ]
  },
  {
   "cell_type": "code",
   "execution_count": 49,
   "metadata": {},
   "outputs": [
    {
     "name": "stdout",
     "output_type": "stream",
     "text": [
      "[[ 1.  1.  1.]\n",
      " [ 1.  1.  1.]]\n"
     ]
    }
   ],
   "source": [
    "import numpy as np\n",
    "\n",
    "a = np.array([[4, 5, 6], [3, 4, 5]], dtype=np.float)\n",
    "j = np.zeros((2,3))\n",
    "j[0,0] = (a[0,1]-a[0,0])/1 \n",
    "j[0,1] = (a[0,2]-a[0,0])/2 \n",
    "j[0,2] = (a[0,2]-a[0,1])/1\n",
    "j[1,0] = (a[1,1]-a[1,0])/1 \n",
    "j[1,1] = (a[1,2]-a[1,0])/2 \n",
    "j[1,2] = (a[1,2]-a[1,1])/1\n",
    "print(j)"
   ]
  },
  {
   "cell_type": "code",
   "execution_count": 50,
   "metadata": {},
   "outputs": [
    {
     "name": "stdout",
     "output_type": "stream",
     "text": [
      "[ 1.   1.5  2. ]\n",
      "[ 1.   1.5  2. ]\n"
     ]
    }
   ],
   "source": [
    "x = np.array([1, 2, 4], dtype=np.float)\n",
    "print(np.gradient(x))\n",
    "\n",
    "j = np.zeros(3)\n",
    "j[0] = (x[1]-x[0])/1 \n",
    "j[1] = (x[2]-x[0])/2 \n",
    "j[2] = (x[2]-x[1])/1\n",
    "\n",
    "print(j)"
   ]
  },
  {
   "cell_type": "code",
   "execution_count": 51,
   "metadata": {},
   "outputs": [
    {
     "name": "stdout",
     "output_type": "stream",
     "text": [
      "[ 1.   1.5  2. ]\n"
     ]
    }
   ],
   "source": [
    "\n",
    "j = np.zeros(3)\n",
    "j[0] = (x[1]-x[0])/1 \n",
    "j[1] = (x[2]-x[0])/2 \n",
    "j[2] = (x[2]-x[1])/1\n",
    "\n",
    "print(j)"
   ]
  },
  {
   "cell_type": "markdown",
   "metadata": {
    "collapsed": true
   },
   "source": [
    "## diff"
   ]
  },
  {
   "cell_type": "code",
   "execution_count": 2,
   "metadata": {},
   "outputs": [
    {
     "name": "stdout",
     "output_type": "stream",
     "text": [
      "[ 1  2  3 -7]\n",
      "1\n",
      "2\n",
      "3\n",
      "-7\n"
     ]
    }
   ],
   "source": [
    "x = np.array([1, 2, 4, 7, 0])\n",
    "\n",
    "print(np.diff(x))\n",
    "print(x[1] - x[0])\n",
    "print(x[2] - x[1])\n",
    "print(x[3] - x[2])\n",
    "print(x[4] - x[3])"
   ]
  },
  {
   "cell_type": "code",
   "execution_count": 3,
   "metadata": {},
   "outputs": [
    {
     "name": "stdout",
     "output_type": "stream",
     "text": [
      "[ 1  2  3 -7]\n",
      "1\n",
      "1\n",
      "-10\n"
     ]
    }
   ],
   "source": [
    "x = np.array([1, 2, 4, 7, 0])\n",
    "xd = np.diff(x)\n",
    "print(xd)\n",
    "xx = np.diff(x,n=2)\n",
    "print(xd[1] - xd[0])\n",
    "print(xd[2] - xd[1])\n",
    "print(xd[3] - xd[2])"
   ]
  },
  {
   "cell_type": "code",
   "execution_count": null,
   "metadata": {
    "collapsed": true
   },
   "outputs": [],
   "source": []
  }
 ],
 "metadata": {
  "kernelspec": {
   "display_name": "Python 3",
   "language": "python",
   "name": "python3"
  },
  "language_info": {
   "codemirror_mode": {
    "name": "ipython",
    "version": 3
   },
   "file_extension": ".py",
   "mimetype": "text/x-python",
   "name": "python",
   "nbconvert_exporter": "python",
   "pygments_lexer": "ipython3",
   "version": "3.6.1"
  }
 },
 "nbformat": 4,
 "nbformat_minor": 2
}
