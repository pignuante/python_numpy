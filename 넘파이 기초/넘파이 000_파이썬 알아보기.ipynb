{
 "cells": [
  {
   "cell_type": "markdown",
   "metadata": {},
   "source": [
    "# 0.  아나콘다 다운로드\n",
    "\n",
    "   https://www.continuum.io/downloads\n",
    "   \n",
    "   \n",
    "   1. anaconda 폴더에 jupyter notebook 실행하면 브라우저에 주피터노트북 홈이 보임\n",
    "   \n",
    "   2. jupyter notebook 에서 new를 실행해서 파일 만들기\n",
    "   \n",
    "   3. %cd로 현재 작업 위치 확인\n",
    "   \n",
    "   4. 주피터 노트북 파일을 현재 작업위치에 가져감\n",
    "   \n",
    "   http://blog.naver.com/zerosum99/220974124089\n",
    "   \n",
    "   5. 주피터 노트북에서 가져간 파일을 더블클릭하면 브라우저에 표시됨\n",
    "   \n",
    "   "
   ]
  },
  {
   "cell_type": "code",
   "execution_count": 44,
   "metadata": {},
   "outputs": [
    {
     "name": "stdout",
     "output_type": "stream",
     "text": [
      "C:\\Users\\06411\n"
     ]
    }
   ],
   "source": [
    "%cd "
   ]
  },
  {
   "cell_type": "markdown",
   "metadata": {},
   "source": [
    "# 1. 파이썬 기초 이해하기\n"
   ]
  },
  {
   "cell_type": "markdown",
   "metadata": {},
   "source": [
    "## 변수 \n",
    "\n",
    "     변수는 파이썬 내의 데이터 타입 등을 관리해서 프로그램 내에서 계속 사용할 수 있는 목적으로 사용된다.\n",
    "     "
   ]
  },
  {
   "cell_type": "code",
   "execution_count": 39,
   "metadata": {},
   "outputs": [],
   "source": [
    "# 파이썬 식별자인 변수 정하기\n",
    "\n",
    "i = 1\n",
    "\n"
   ]
  },
  {
   "cell_type": "code",
   "execution_count": 40,
   "metadata": {},
   "outputs": [
    {
     "name": "stdout",
     "output_type": "stream",
     "text": [
      "1\n"
     ]
    }
   ],
   "source": [
    "# 변수명 i에 1이라는 정수 타입의 인스턴스 객체의 주소를 할당\n",
    "\n",
    "# 변수 i 가 가르치는 1을 출력\n",
    "print(i)"
   ]
  },
  {
   "cell_type": "markdown",
   "metadata": {},
   "source": [
    "## 데이터 타입 \n",
    "\n",
    "    데이터 타입이 없는 타입(None) : 임의적인 데이터 타입이 필요해서 만든 타입이고 아무것도 하지 않는 곳에 사용\n",
    "    \n",
    "    논리표현(bool) :  True와 False를 관리하는 데이터 타입\n",
    "    \n",
    "    정수 숫자(int) : 실수가 아닌 숫자를 관리하는 데이터 타입\n",
    "    \n",
    "    실수 숫자(float) : 정수가 아닌 숫자를 관리하는 데이터 타입\n",
    "    \n",
    "    문자열(str) :  ' ', \" \", \"\"\" \"\"\" 안에 들어간 문자들의 집합을 프로그램 언어에서는 별도의 문자열 데이터 타입으로 관리\n",
    "    \n",
    "    리스트(list) :  다양한 객체를 원소로 가지는 배열 타입\n",
    "    \n",
    "    튜플(tuple)  :  다양한 객체를 원소로 가지는 배열 타입이지만 한번 생성하면 변경할 수 없다.\n",
    "    \n",
    "    집합(set)    :  집합 연산이 필요한 경우 사용하는 데이터 타입\n",
    "    \n",
    "    사전(dict)   :   내부 원소가 키와 값으로 구성되어 사용하는 데이터 타입\n",
    "        "
   ]
  },
  {
   "cell_type": "markdown",
   "metadata": {},
   "source": [
    "### 숫자"
   ]
  },
  {
   "cell_type": "code",
   "execution_count": 203,
   "metadata": {},
   "outputs": [
    {
     "name": "stdout",
     "output_type": "stream",
     "text": [
      "<class 'int'>\n",
      "<class 'float'>\n"
     ]
    }
   ],
   "source": [
    "i = 10\n",
    "print(type(i))\n",
    "f = 10.1\n",
    "print(type(f))\n"
   ]
  },
  {
   "cell_type": "markdown",
   "metadata": {},
   "source": [
    "### 문자열 처리 "
   ]
  },
  {
   "cell_type": "code",
   "execution_count": 202,
   "metadata": {},
   "outputs": [
    {
     "name": "stdout",
     "output_type": "stream",
     "text": [
      "<class 'str'>\n",
      "Hello world\n"
     ]
    }
   ],
   "source": [
    "# 평상시 사용하는 문자들의 집합을 문자열이라고 함\n",
    "s = \"Hello world\"\n",
    "\n",
    "print(type(s))\n",
    "\n",
    "# 출력하기\n",
    "print(s)"
   ]
  },
  {
   "cell_type": "markdown",
   "metadata": {},
   "source": [
    "### 튜플 처리\n"
   ]
  },
  {
   "cell_type": "code",
   "execution_count": 212,
   "metadata": {},
   "outputs": [
    {
     "name": "stdout",
     "output_type": "stream",
     "text": [
      "<class 'tuple'>\n",
      "(1, 1.0, 'Hello world')\n"
     ]
    }
   ],
   "source": [
    "t = (1, 1.0, \"Hello world\")\n",
    "\n",
    "print(type(t))\n",
    "print(t)"
   ]
  },
  {
   "cell_type": "markdown",
   "metadata": {},
   "source": [
    "### 리스트 처리 \n"
   ]
  },
  {
   "cell_type": "code",
   "execution_count": 205,
   "metadata": {},
   "outputs": [
    {
     "name": "stdout",
     "output_type": "stream",
     "text": [
      "<class 'list'>\n",
      "[1, 1.0, 'Hello world']\n"
     ]
    }
   ],
   "source": [
    "l = [1, 1.0, \"Hello world\"]\n",
    "\n",
    "print(type(l))\n",
    "print(l)"
   ]
  },
  {
   "cell_type": "markdown",
   "metadata": {},
   "source": [
    "### 사전타입 "
   ]
  },
  {
   "cell_type": "code",
   "execution_count": 208,
   "metadata": {},
   "outputs": [
    {
     "name": "stdout",
     "output_type": "stream",
     "text": [
      "<class 'dict'>\n",
      "{'a': 1}\n"
     ]
    }
   ],
   "source": [
    "d = {'a': 1}\n",
    "\n",
    "print(type(d))\n",
    "print(d)"
   ]
  },
  {
   "cell_type": "markdown",
   "metadata": {},
   "source": [
    "### 집합 타입"
   ]
  },
  {
   "cell_type": "code",
   "execution_count": 48,
   "metadata": {},
   "outputs": [
    {
     "name": "stdout",
     "output_type": "stream",
     "text": [
      "{1, 2, 3, 4, 5, 6}\n",
      "{1, 2, 3, 4, 5, 6}\n"
     ]
    }
   ],
   "source": [
    "##원소나열법\n",
    "\n",
    "dice = {1,2,3,4,5,6}\n",
    "\n",
    "print(dice)\n",
    "\n",
    "## 조건제시법\n",
    "dice = {x for x in range(1,7)}\n",
    "\n",
    "print(dice)\n"
   ]
  },
  {
   "cell_type": "markdown",
   "metadata": {},
   "source": [
    "## 제어문 \n",
    "\n",
    "    if 조건식이 참이면 바로 다음의 문장을 처리하고 \n",
    "    else 조건식이 거짓이면 문장을 처리"
   ]
  },
  {
   "cell_type": "code",
   "execution_count": 41,
   "metadata": {},
   "outputs": [
    {
     "name": "stdout",
     "output_type": "stream",
     "text": [
      " True \n"
     ]
    }
   ],
   "source": [
    "if True :\n",
    "    print(\" True \")\n",
    "else :\n",
    "    print(\" False \")"
   ]
  },
  {
   "cell_type": "code",
   "execution_count": 42,
   "metadata": {},
   "outputs": [
    {
     "name": "stdout",
     "output_type": "stream",
     "text": [
      " False \n"
     ]
    }
   ],
   "source": [
    "if False  :\n",
    "    print(\" True \")\n",
    "else :\n",
    "    print(\" False \")"
   ]
  },
  {
   "cell_type": "markdown",
   "metadata": {},
   "source": [
    "### 순환문 \n",
    "\n",
    "     for문은 반복하는 원소가 있는 경우 반복을 실행\n",
    "     while 문은 반복을 하는 조건이 만족할 경우 반복 실행     "
   ]
  },
  {
   "cell_type": "code",
   "execution_count": 43,
   "metadata": {},
   "outputs": [
    {
     "name": "stdout",
     "output_type": "stream",
     "text": [
      "H\n",
      "e\n",
      "l\n",
      "l\n",
      "o\n"
     ]
    }
   ],
   "source": [
    "s = \"Hello\"\n",
    "for i in s :\n",
    "    print(i)"
   ]
  },
  {
   "cell_type": "code",
   "execution_count": 46,
   "metadata": {},
   "outputs": [
    {
     "name": "stdout",
     "output_type": "stream",
     "text": [
      "o\n",
      "l\n",
      "l\n",
      "e\n",
      "H\n"
     ]
    }
   ],
   "source": [
    "count = len(s)\n",
    "while count > 0 :\n",
    "    print(s[count-1])\n",
    "    count -= 1\n",
    "    "
   ]
  },
  {
   "cell_type": "markdown",
   "metadata": {},
   "source": [
    "### 파이썬에서 객체란 ?\n",
    "\n",
    "    파이썬은 모든 구성 요소를 객체로 본다.\n",
    "    \n",
    "    데이터 타입은 이 객체를 만드는 클래스로 사용된다.\n",
    "    "
   ]
  },
  {
   "cell_type": "code",
   "execution_count": 213,
   "metadata": {},
   "outputs": [
    {
     "name": "stdout",
     "output_type": "stream",
     "text": [
      "True\n"
     ]
    }
   ],
   "source": [
    "# 클래스 내의 원소인 객체를 확인하는 법\n",
    "\n",
    "# 정수 클래스에 의해 만들어진 하나의 원소인지 확인\n",
    "\n",
    "print(isinstance(1, int))"
   ]
  },
  {
   "cell_type": "code",
   "execution_count": 214,
   "metadata": {},
   "outputs": [
    {
     "name": "stdout",
     "output_type": "stream",
     "text": [
      "<class 'int'>\n"
     ]
    }
   ],
   "source": [
    "# 실제 객체가 어떤 타입에 의해 만들어져 있는지 확인 \n",
    "\n",
    "print(type(1))"
   ]
  },
  {
   "cell_type": "markdown",
   "metadata": {},
   "source": [
    "## 함수 이해하기 \n",
    "\n",
    "    프로그램 언어에서 함수는 하나의 기능을 가지고 처리할 수 있는 로직을 묶은 것이다.\n",
    "    \n",
    "    함수를 사용하려면 함수 정의를 먼저하고 이를 호출해서 실행시켜야 한다.\n",
    "    \n",
    "    \n",
    "    \n",
    "    "
   ]
  },
  {
   "cell_type": "markdown",
   "metadata": {},
   "source": [
    "###  함수 정의 및 함수 호출\n",
    "\n",
    "    함수 정의는 사용하고 싶은 로직들을 함수로 그룹핑하는 것\n",
    "    \n",
    "    함수 호출은 정의된 함수를 실제 실행시켜 처리하게 하는 것\n",
    "    "
   ]
  },
  {
   "cell_type": "code",
   "execution_count": 218,
   "metadata": {},
   "outputs": [
    {
     "name": "stdout",
     "output_type": "stream",
     "text": [
      " call add\n"
     ]
    }
   ],
   "source": [
    "# 함수 정의\n",
    "\n",
    "def add() :\n",
    "    print(\" call add\")\n",
    "\n",
    "# 함수 호출\n",
    "add()"
   ]
  },
  {
   "cell_type": "markdown",
   "metadata": {},
   "source": [
    "### 함수 처리결과 \n",
    "\n",
    "    함수가 실행되고 난 다음에 결과의 값을 외부로 전달하기 위해 return 을 사용해야 함\n"
   ]
  },
  {
   "cell_type": "code",
   "execution_count": 220,
   "metadata": {},
   "outputs": [
    {
     "name": "stdout",
     "output_type": "stream",
     "text": [
      " call add\n"
     ]
    }
   ],
   "source": [
    "# 함수 정의시 함수를 호출했을 때 실행된 결과를 출력\n",
    "\n",
    "def add() :\n",
    "    \n",
    "    return \" call add\"\n",
    "\n",
    "# 함수 처리 결과 받기\n",
    "result = add()\n",
    "\n",
    "print(result)"
   ]
  },
  {
   "cell_type": "markdown",
   "metadata": {},
   "source": [
    "#### 함수의 파라미터와 인자 \n",
    "\n",
    "    함수 정의 시 필요한 변수를 정의하는 것을 함수의 파라미터를 지정하는 것이고 \n",
    "    \n",
    "    함수 호출시 함수 파라미터 즉 변수에 값을 넣는게 함수인자라고 함\n",
    "    "
   ]
  },
  {
   "cell_type": "code",
   "execution_count": 219,
   "metadata": {},
   "outputs": [
    {
     "name": "stdout",
     "output_type": "stream",
     "text": [
      "10\n"
     ]
    }
   ],
   "source": [
    "# 함수 파라미터란\n",
    "\n",
    "def add(x,y) :\n",
    "    result = x+y\n",
    "    return result\n",
    "\n",
    "# 함수 호출시 인자 넣기\n",
    "# x= 5, y=5가 할당됨\n",
    "\n",
    "print(add(5,5))"
   ]
  },
  {
   "cell_type": "markdown",
   "metadata": {},
   "source": [
    "### 다른 모듈 사용하기\n",
    "\n",
    "    import 모듈명 \n",
    "    from 모듈명 import 함수 나 클래스 등"
   ]
  },
  {
   "cell_type": "code",
   "execution_count": 50,
   "metadata": {},
   "outputs": [
    {
     "name": "stdout",
     "output_type": "stream",
     "text": [
      "3.141592653589793\n",
      "8.0\n"
     ]
    }
   ],
   "source": [
    "import math\n",
    "\n",
    "print(math.pi)\n",
    "\n",
    "print(math.pow(2,3))"
   ]
  },
  {
   "cell_type": "markdown",
   "metadata": {},
   "source": [
    "### 함수를 이용해서 부분집합을 나타내기"
   ]
  },
  {
   "cell_type": "code",
   "execution_count": 47,
   "metadata": {},
   "outputs": [
    {
     "name": "stdout",
     "output_type": "stream",
     "text": [
      "{2, 4, 6}\n",
      "[set(), {2}, {4}, {6}, {2, 4}, {2, 6}, {4, 6}, {2, 4, 6}]\n",
      "8\n"
     ]
    }
   ],
   "source": [
    "import itertools\n",
    "\n",
    "\n",
    "def subset_dis(set_obj) :\n",
    "    s = list()\n",
    "    s.append(set())\n",
    "    \n",
    "    \n",
    "    l = list(set_obj)\n",
    "    \n",
    "    for x in range(1,len(l)+1) :\n",
    "        #itertools.combinations를 이용해서 조합을 만들기\n",
    "        lc = list(itertools.combinations(l,x))\n",
    "        for i in lc :\n",
    "            s.append(set(i))\n",
    "    \n",
    "    return s\n",
    "\n",
    "E = set(x for x in range(1,7) if x % 2 == 0)\n",
    "print(E)\n",
    "\n",
    "print(subset_dis(E))\n",
    "print(len(subset_dis(E)))"
   ]
  },
  {
   "cell_type": "markdown",
   "metadata": {},
   "source": [
    "## 사용자 데이터 타입 만들기 : class\n",
    "\n",
    "\n",
    "    파이썬에는 기본적인 데이터 타입을 제공하지만 실제 필요한 것을 class 문을 이용해서 정의 가능\n",
    "    \n",
    "    "
   ]
  },
  {
   "cell_type": "markdown",
   "metadata": {},
   "source": [
    "### 클래스 정의\n",
    "\n",
    "    개발에 필요한 요건을 하나의 클래스를 만드는 것 "
   ]
  },
  {
   "cell_type": "code",
   "execution_count": 224,
   "metadata": {},
   "outputs": [
    {
     "name": "stdout",
     "output_type": "stream",
     "text": [
      "<class '__main__.Person'>\n"
     ]
    }
   ],
   "source": [
    "class Person(object) :\n",
    "    pass\n",
    "\n",
    "print(Person)"
   ]
  },
  {
   "cell_type": "markdown",
   "metadata": {},
   "source": [
    "### 클래스를 호출해서 인스턴스 만들기\n"
   ]
  },
  {
   "cell_type": "code",
   "execution_count": 225,
   "metadata": {},
   "outputs": [
    {
     "name": "stdout",
     "output_type": "stream",
     "text": [
      "<__main__.Person object at 0x000000000A4FF550>\n",
      "True\n"
     ]
    }
   ],
   "source": [
    "class Person(object) :\n",
    "    pass\n",
    "\n",
    "\n",
    "p = Person()\n",
    "\n",
    "print(p)\n",
    "print(isinstance(p,Person))"
   ]
  },
  {
   "cell_type": "markdown",
   "metadata": {},
   "source": [
    "### 클래스 내부에 초기화  메소드 만들기\n",
    "\n",
    "    인스턴스 만들 때  인스턴스에 속성 만들기\n"
   ]
  },
  {
   "cell_type": "code",
   "execution_count": 227,
   "metadata": {},
   "outputs": [
    {
     "name": "stdout",
     "output_type": "stream",
     "text": [
      "<__main__.Person object at 0x000000000941E9B0>\n",
      "True\n"
     ]
    }
   ],
   "source": [
    "class Person(object) :\n",
    "    def __init__(self, name, age) :\n",
    "        self.name = name\n",
    "        self.age = age\n",
    "\n",
    "# 속성값을 가진 인스턴스 만들기\n",
    "p = Person(\"Dahl\",40)\n",
    "\n",
    "\n",
    "print(p)\n",
    "print(isinstance(p,Person))"
   ]
  },
  {
   "cell_type": "markdown",
   "metadata": {},
   "source": [
    "### 인스턴스의 속성 사용하기 \n",
    "\n",
    "    속성을 사용하려면 dot(.) 연산자로 속성을 접근해야 함\n",
    "    "
   ]
  },
  {
   "cell_type": "code",
   "execution_count": 229,
   "metadata": {},
   "outputs": [
    {
     "name": "stdout",
     "output_type": "stream",
     "text": [
      "Dahl\n",
      "40\n"
     ]
    }
   ],
   "source": [
    "print(p.name)\n",
    "print(p.age)\n"
   ]
  },
  {
   "cell_type": "markdown",
   "metadata": {},
   "source": [
    "### 인스턴스의  메소드로 속성 값 가져오기 \n",
    "\n",
    "    클래스 정의시 인스턴스에서 사용할 수 있는 메소드를 만든다.\n",
    "    \n",
    "    인스턴스 메소드에 파라미터이 첫번째 위치는 self라는 변수로 정의해서 인스턴스 주소가 명확히 세팅되어야 함\n",
    "    \n",
    "    인스턴스 메소드로 인스턴스의 속성의 내용을 호출해서 사용한다 \n",
    "    "
   ]
  },
  {
   "cell_type": "code",
   "execution_count": 231,
   "metadata": {},
   "outputs": [
    {
     "name": "stdout",
     "output_type": "stream",
     "text": [
      "('Dahl', 40)\n"
     ]
    }
   ],
   "source": [
    "class Person(object) :\n",
    "    def __init__(self, name, age) :\n",
    "        self.name = name\n",
    "        self.age = age\n",
    "        \n",
    "    def getPerson(self) :\n",
    "        return self.name, self.age\n",
    "\n",
    "# 속성값을 가진 인스턴스 만들기\n",
    "p = Person(\"Dahl\",40)\n",
    "\n",
    "\n",
    "print(p.getPerson())\n"
   ]
  },
  {
   "cell_type": "markdown",
   "metadata": {},
   "source": [
    "### 인스턴스 메소드로 인스턴스 속성 값을 변경하기\n"
   ]
  },
  {
   "cell_type": "code",
   "execution_count": 234,
   "metadata": {},
   "outputs": [
    {
     "name": "stdout",
     "output_type": "stream",
     "text": [
      "('Dahl', 40)\n",
      "('Moon', 50)\n"
     ]
    }
   ],
   "source": [
    "class Person(object) :\n",
    "    def __init__(self, name, age) :\n",
    "        self.name = name\n",
    "        self.age = age\n",
    "        \n",
    "    def getPerson(self) :\n",
    "        return self.name, self.age\n",
    "    \n",
    "    def setName(self, value) :\n",
    "        self.name = value\n",
    "        \n",
    "    def setAge(self, value) :\n",
    "        self.age = value\n",
    "\n",
    "# 속성값을 가진 인스턴스 만들기\n",
    "p = Person(\"Dahl\",40)\n",
    "\n",
    "\n",
    "print(p.getPerson())\n",
    "\n",
    "# 인스턴스 내의 속성 변경\n",
    "p.setAge(50)\n",
    "p.setName(\"Moon\")\n",
    "\n",
    "print(p.getPerson())\n"
   ]
  },
  {
   "cell_type": "markdown",
   "metadata": {},
   "source": [
    "# 2. matplotlib 이해하기"
   ]
  },
  {
   "cell_type": "code",
   "execution_count": 9,
   "metadata": {},
   "outputs": [],
   "source": [
    "import matplotlib.pyplot as plt\n"
   ]
  },
  {
   "cell_type": "code",
   "execution_count": 11,
   "metadata": {},
   "outputs": [],
   "source": [
    "%matplotlib inline"
   ]
  },
  {
   "cell_type": "markdown",
   "metadata": {},
   "source": [
    "## 선그래프 그리기"
   ]
  },
  {
   "cell_type": "code",
   "execution_count": 12,
   "metadata": {},
   "outputs": [
    {
     "data": {
      "image/png": "[encoded data removed]",
      "text/plain": [
       "<matplotlib.figure.Figure at 0x8cfc668>"
      ]
     },
     "metadata": {},
     "output_type": "display_data"
    }
   ],
   "source": [
    "plt.plot([1,2,3,4])\n",
    "plt.show()"
   ]
  },
  {
   "cell_type": "markdown",
   "metadata": {},
   "source": [
    "## 원그래프 그리기"
   ]
  },
  {
   "cell_type": "code",
   "execution_count": 16,
   "metadata": {},
   "outputs": [
    {
     "data": {
      "image/png": "[encoded data removed]",
      "text/plain": [
       "<matplotlib.figure.Figure at 0x8da9588>"
      ]
     },
     "metadata": {},
     "output_type": "display_data"
    }
   ],
   "source": [
    "\n",
    "plt.pie([1,2,3,4],labels=[\"apple\",\"pear\",\"banana\",\"pineapple\"])\n",
    "plt.show()"
   ]
  },
  {
   "cell_type": "markdown",
   "metadata": {},
   "source": [
    "# 3. Numpy 모듈 이해하기 \n"
   ]
  },
  {
   "cell_type": "code",
   "execution_count": 2,
   "metadata": {
    "collapsed": true
   },
   "outputs": [],
   "source": [
    "%matplotlib inline\n",
    "import numpy as np"
   ]
  },
  {
   "cell_type": "markdown",
   "metadata": {
    "collapsed": true
   },
   "source": [
    "##  np.Ndarray 클래스 이해하기"
   ]
  },
  {
   "cell_type": "markdown",
   "metadata": {},
   "source": [
    "###  numpy.ndarray와 list 타입 차이점\n",
    "\n",
    "    numpy.ndarray는 선형대수를 계산하기 위한 배열 체계를 만들어서 for문 없이도 순환처리를 한다.\n",
    "    \n",
    "    list 타입은 단순히 보관기능만을 하므로 순환하려면 for문을 사용해야 함"
   ]
  },
  {
   "cell_type": "code",
   "execution_count": 244,
   "metadata": {},
   "outputs": [
    {
     "name": "stdout",
     "output_type": "stream",
     "text": [
      "[1 2 3]\n",
      "array([1, 2, 3])\n",
      "[2 4 6]\n",
      "[1, 2, 3, 1, 2, 3]\n",
      "[2, 4, 6]\n"
     ]
    }
   ],
   "source": [
    "l = [1,2,3]\n",
    "\n",
    "a = np.array([1,2,3])\n",
    "print(a)\n",
    "print(repr(a))\n",
    "\n",
    "# 벡터화 처리 : for 문 없이 연산 가능\n",
    "print(a+a)\n",
    "\n",
    "# 리스트는 두개의 리스트 연결\n",
    "print(l+l)\n",
    "\n",
    "# 두개의 리스트의 원소를 더하려면\n",
    "\n",
    "for i in range(len(l)) :\n",
    "    l[i] += l[i]\n",
    "    \n",
    "print(l)\n"
   ]
  },
  {
   "cell_type": "markdown",
   "metadata": {},
   "source": [
    "### 데이터 관리 기준  : flat \n",
    "\n",
    "   다 차원 배열도 차원과 상관없이 내부적으로 데이터는  flat한  구조로 관리 \n",
    "   "
   ]
  },
  {
   "cell_type": "code",
   "execution_count": 74,
   "metadata": {},
   "outputs": [
    {
     "name": "stdout",
     "output_type": "stream",
     "text": [
      "flat :  <numpy.flatiter object at 0x0000000006CF17F0>\n",
      "[1, 2, 3, 4, 5, 6]\n",
      "[1, 2, 3, 4, 5, 6]\n"
     ]
    }
   ],
   "source": [
    "a = np.array([1,2,3,4,5,6])\n",
    "\n",
    "print(\"flat : \", a.flat)\n",
    "print(list(a.flat))\n",
    "print(a.data.tolist())\n",
    "\n"
   ]
  },
  {
   "cell_type": "markdown",
   "metadata": {},
   "source": [
    "#### reshape 함수로 view를 5행 5열로 정의해서 사용 \n",
    "\n",
    "    실제 내부는 flat이므로  flat 속성을 가지고 직접 접근해서 조회 및 수정이 가능함\n",
    "    "
   ]
  },
  {
   "cell_type": "code",
   "execution_count": 96,
   "metadata": {},
   "outputs": [
    {
     "name": "stdout",
     "output_type": "stream",
     "text": [
      "[[  0.   1.   2.   3.   4.]\n",
      " [  5.   6.   7.   8.   9.]\n",
      " [ 10.  11.  12.  13.  14.]\n",
      " [ 15.  16.  17.  18.  19.]\n",
      " [ 20.  21.  22.  23.  24.]]\n",
      " 0번째 :  0.0\n",
      " 6번째 :  5.0\n",
      " 11번째 :  10.0\n",
      " 25번째 :  24.0\n",
      "[[  0.   1.   2.   3.   4.]\n",
      " [  5.   6.   7.   8.   9.]\n",
      " [ 10.  11.  12.  13.  14.]\n",
      " [ 15.  16.  17.  18.  19.]\n",
      " [ 20.  21.  22.  23.  99.]]\n",
      " 25번째 :  99.0\n"
     ]
    }
   ],
   "source": [
    "y = np.reshape(np.arange(25.0),(5,5))\n",
    "print(y)\n",
    "\n",
    "print(\" 0번째 : \",y.flat[0])\n",
    "print(\" 6번째 : \",y.flat[5])\n",
    "print(\" 11번째 : \",y.flat[10])\n",
    "\n",
    "print(\" 25번째 : \",y.flat[24])\n",
    "y.flat[24] = 99\n",
    "print(y)\n",
    "print(\" 25번째 : \",y.flat[24])"
   ]
  },
  {
   "cell_type": "markdown",
   "metadata": {},
   "source": [
    "###  원본을 유지하고 항상 memoryview 제공  "
   ]
  },
  {
   "cell_type": "code",
   "execution_count": 75,
   "metadata": {},
   "outputs": [
    {
     "name": "stdout",
     "output_type": "stream",
     "text": [
      "data  :  <memory at 0x0000000005A42048>\n",
      "<class 'memoryview'>\n",
      "base  :  None\n"
     ]
    }
   ],
   "source": [
    "a = np.array([1,2,3,4,5,6])\n",
    "print(\"data  : \", a.data)\n",
    "print(type(a.data))\n",
    "\n",
    "\n",
    "print(\"base  : \", a.base)"
   ]
  },
  {
   "cell_type": "markdown",
   "metadata": {},
   "source": [
    "### data type과 strides 관계\n",
    "\n",
    "    데이터 타입에 따라 strides 구성에 차이가 생김"
   ]
  },
  {
   "cell_type": "code",
   "execution_count": 63,
   "metadata": {},
   "outputs": [
    {
     "name": "stdout",
     "output_type": "stream",
     "text": [
      "data type :  int32\n",
      "cdata type :  <numpy.core._internal._ctypes object at 0x0000000005A33320>\n",
      "strides :  (4,)\n",
      " size :  6\n",
      " item size :  4\n",
      "data type :  float64\n",
      "cdata type :  <numpy.core._internal._ctypes object at 0x0000000005A33320>\n",
      "strides :  (8,)\n",
      " size :  3\n",
      " itemsize :  8\n"
     ]
    }
   ],
   "source": [
    "a = np.array([1,2,3,4,5,6])\n",
    "print(\"data type : \", a.dtype)\n",
    "print(\"cdata type : \", a.ctypes)\n",
    "print(\"strides : \", a.strides)\n",
    "print(\" size : \", a.size)\n",
    "print(\" item size : \", a.itemsize)\n",
    "\n",
    "b = np.array([1,2,3], dtype=np.float64)\n",
    "print(\"data type : \", b.dtype)\n",
    "print(\"cdata type : \", b.ctypes)\n",
    "print(\"strides : \", b.strides)\n",
    "print(\" size : \", b.size)\n",
    "print(\" itemsize : \", b.itemsize)"
   ]
  },
  {
   "cell_type": "markdown",
   "metadata": {},
   "source": [
    "### dtype 처리 이해하기 \n",
    "\n",
    "    dtype에 맞춰 데이터를 관리하므로 int 일 경우 float으로 할당시 int로 처리\n",
    "    "
   ]
  },
  {
   "cell_type": "code",
   "execution_count": 90,
   "metadata": {},
   "outputs": [
    {
     "name": "stdout",
     "output_type": "stream",
     "text": [
      "int32\n",
      "[3 1 2 3 4]\n"
     ]
    }
   ],
   "source": [
    "x = [0, 1, 2, 3, 4] # Integers\n",
    "y = np.array(x)\n",
    "print(y.dtype)\n",
    "\n",
    "y[0] = 3.141592\n",
    "print(y)\n"
   ]
  },
  {
   "cell_type": "code",
   "execution_count": 91,
   "metadata": {},
   "outputs": [
    {
     "name": "stdout",
     "output_type": "stream",
     "text": [
      "float64\n",
      "[ 3.141592  1.        2.        3.        4.      ]\n"
     ]
    }
   ],
   "source": [
    "\n",
    "x = [0.0,1, 2, 3, 4] # 1 Float makes all float\n",
    "y = np.array(x)\n",
    "print(y.dtype)\n",
    "\n",
    "y[0] = 3.141592\n",
    "print(y)"
   ]
  },
  {
   "cell_type": "markdown",
   "metadata": {},
   "source": [
    "#### 0차원의 scalar 만들기"
   ]
  },
  {
   "cell_type": "code",
   "execution_count": 12,
   "metadata": {},
   "outputs": [
    {
     "name": "stdout",
     "output_type": "stream",
     "text": [
      "1 <class 'numpy.ndarray'>\n",
      "demension :  0\n",
      "shape :  ()\n",
      "data type :  int32\n"
     ]
    }
   ],
   "source": [
    "a = np.array(1)\n",
    "print(a, type(a))\n",
    "\n",
    "print(\"demension : \",a.ndim)\n",
    "print(\"shape : \",a.shape)\n",
    "print(\"data type : \", a.dtype)"
   ]
  },
  {
   "cell_type": "markdown",
   "metadata": {},
   "source": [
    "#### 1차원의 벡터 만들기"
   ]
  },
  {
   "cell_type": "code",
   "execution_count": 49,
   "metadata": {},
   "outputs": [
    {
     "name": "stdout",
     "output_type": "stream",
     "text": [
      "[1 2 3] <class 'numpy.ndarray'>\n",
      "demension :  1\n",
      "shape :  (3,)\n",
      "data type :  int32\n",
      "strides :  (4,)\n"
     ]
    }
   ],
   "source": [
    "a = np.array([1,2,3])\n",
    "print(a, type(a))\n",
    "\n",
    "print(\"demension : \",a.ndim)\n",
    "print(\"shape : \",a.shape)\n",
    "print(\"data type : \", a.dtype)\n",
    "print(\"strides : \", a.strides)"
   ]
  },
  {
   "cell_type": "markdown",
   "metadata": {},
   "source": [
    "#### 2차원의 Matrix 만들기\n"
   ]
  },
  {
   "cell_type": "code",
   "execution_count": 7,
   "metadata": {},
   "outputs": [
    {
     "name": "stdout",
     "output_type": "stream",
     "text": [
      "[[1 2 3]\n",
      " [4 5 6]] <class 'numpy.ndarray'>\n",
      "demension :  2\n",
      "shape :  (2, 3)\n",
      "data type :  int32\n"
     ]
    }
   ],
   "source": [
    "a = np.array([[1,2,3],[4,5,6]])\n",
    "print(a, type(a))\n",
    "\n",
    "print(\"demension : \",a.ndim)\n",
    "print(\"shape : \",a.shape)\n",
    "print(\"data type : \", a.dtype)"
   ]
  },
  {
   "cell_type": "markdown",
   "metadata": {},
   "source": [
    "#### 3차원의 Cube 만들기 "
   ]
  },
  {
   "cell_type": "code",
   "execution_count": 8,
   "metadata": {},
   "outputs": [
    {
     "name": "stdout",
     "output_type": "stream",
     "text": [
      "[[[1 2 3]\n",
      "  [4 5 6]]\n",
      "\n",
      " [[1 2 3]\n",
      "  [4 5 6]]] <class 'numpy.ndarray'>\n",
      "demension :  3\n",
      "shape :  (2, 2, 3)\n",
      "data type :  int32\n"
     ]
    }
   ],
   "source": [
    "a = np.array([[[1,2,3],[4,5,6]],[[1,2,3],[4,5,6]]])\n",
    "print(a, type(a))\n",
    "\n",
    "print(\"demension : \",a.ndim)\n",
    "print(\"shape : \",a.shape)\n",
    "print(\"data type : \", a.dtype)"
   ]
  },
  {
   "cell_type": "markdown",
   "metadata": {},
   "source": [
    "## indexing으로 원소 검색 하기"
   ]
  },
  {
   "cell_type": "code",
   "execution_count": 21,
   "metadata": {},
   "outputs": [
    {
     "name": "stdout",
     "output_type": "stream",
     "text": [
      "(2, 2, 3)\n"
     ]
    }
   ],
   "source": [
    "a = np.array([[[1,2,3],[4,5,6]],[[1,2,3],[4,5,6]]])\n",
    "print(a.shape)"
   ]
  },
  {
   "cell_type": "markdown",
   "metadata": {},
   "source": [
    "### 3차원에서 1번째 축으로 원소가져오기\n",
    "\n",
    "    행렬로 가져오기"
   ]
  },
  {
   "cell_type": "code",
   "execution_count": 24,
   "metadata": {},
   "outputs": [
    {
     "name": "stdout",
     "output_type": "stream",
     "text": [
      "[[1 2 3]\n",
      " [4 5 6]]\n",
      "(2, 3)\n",
      "[[1 2 3]\n",
      " [4 5 6]]\n",
      "(2, 3)\n"
     ]
    }
   ],
   "source": [
    "print(a[0])\n",
    "print(a[0].shape)\n",
    "\n",
    "print(a[1])\n",
    "print(a[1].shape)"
   ]
  },
  {
   "cell_type": "markdown",
   "metadata": {},
   "source": [
    "### 3차원에서 1번째와 2번째 축으로 원소가져오기\n",
    "\n",
    "    벡터로 가져오기"
   ]
  },
  {
   "cell_type": "code",
   "execution_count": 26,
   "metadata": {},
   "outputs": [
    {
     "name": "stdout",
     "output_type": "stream",
     "text": [
      "[1 2 3]\n",
      "(3,)\n",
      "[4 5 6]\n",
      "(3,)\n"
     ]
    }
   ],
   "source": [
    "print(a[0,0])\n",
    "print(a[0,0].shape)\n",
    "\n",
    "print(a[0,1])\n",
    "print(a[0,1].shape)"
   ]
  },
  {
   "cell_type": "markdown",
   "metadata": {},
   "source": [
    "### 3차원에서 1번째, 2번째, 3번째 축으로 원소가져오기\n",
    "\n",
    "    최종 값은 스칼라로 가져오기"
   ]
  },
  {
   "cell_type": "code",
   "execution_count": 28,
   "metadata": {},
   "outputs": [
    {
     "name": "stdout",
     "output_type": "stream",
     "text": [
      "1\n",
      "()\n",
      "2\n",
      "()\n",
      "3\n",
      "()\n"
     ]
    }
   ],
   "source": [
    "print(a[0,0,0])\n",
    "print(a[0,0,0].shape)\n",
    "\n",
    "print(a[0,0,1])\n",
    "print(a[0,0,1].shape)\n",
    "\n",
    "print(a[0,0,2])\n",
    "print(a[0,0,2].shape)"
   ]
  },
  {
   "cell_type": "markdown",
   "metadata": {},
   "source": [
    "## slicing으로 배열 가져오기\n",
    "\n",
    "    슬라이싱으로 가져오면 주로 배열 처리"
   ]
  },
  {
   "cell_type": "code",
   "execution_count": 29,
   "metadata": {},
   "outputs": [
    {
     "name": "stdout",
     "output_type": "stream",
     "text": [
      "(2, 2, 3)\n"
     ]
    }
   ],
   "source": [
    "a = np.array([[[1,2,3],[4,5,6]],[[1,2,3],[4,5,6]]])\n",
    "print(a.shape)"
   ]
  },
  {
   "cell_type": "markdown",
   "metadata": {},
   "source": [
    "### 1,2 번째 축으로만 가져오기"
   ]
  },
  {
   "cell_type": "code",
   "execution_count": 32,
   "metadata": {},
   "outputs": [
    {
     "name": "stdout",
     "output_type": "stream",
     "text": [
      "[[1 2 3]\n",
      " [4 5 6]]\n",
      "(2, 3)\n"
     ]
    }
   ],
   "source": [
    "print(a[0,:])\n",
    "print(a[0,:].shape)"
   ]
  },
  {
   "cell_type": "markdown",
   "metadata": {},
   "source": [
    "### 1,2,3 번째 축으로 가져오기"
   ]
  },
  {
   "cell_type": "code",
   "execution_count": 33,
   "metadata": {},
   "outputs": [
    {
     "name": "stdout",
     "output_type": "stream",
     "text": [
      "[1 2 3]\n",
      "(3,)\n"
     ]
    }
   ],
   "source": [
    "print(a[0,0,:])\n",
    "print(a[0,0,:].shape)"
   ]
  },
  {
   "cell_type": "markdown",
   "metadata": {},
   "source": [
    "### 두번째 축으로 0번을 읽어보기"
   ]
  },
  {
   "cell_type": "code",
   "execution_count": 35,
   "metadata": {},
   "outputs": [
    {
     "name": "stdout",
     "output_type": "stream",
     "text": [
      "[[1 2 3]\n",
      " [1 2 3]]\n",
      "(2, 3)\n"
     ]
    }
   ],
   "source": [
    "print(a[:,0,:])\n",
    "print(a[:,0,:].shape)"
   ]
  },
  {
   "cell_type": "markdown",
   "metadata": {},
   "source": [
    "## csv file를 읽고 numpy 파일 만들기"
   ]
  },
  {
   "cell_type": "code",
   "execution_count": 17,
   "metadata": {},
   "outputs": [
    {
     "name": "stdout",
     "output_type": "stream",
     "text": [
      "Writing myfile.csv\n"
     ]
    }
   ],
   "source": [
    "%%writefile myfile.csv\n",
    "100,200,300\n",
    "400,500,600"
   ]
  },
  {
   "cell_type": "code",
   "execution_count": 18,
   "metadata": {},
   "outputs": [
    {
     "name": "stdout",
     "output_type": "stream",
     "text": [
      "[[ 100.  200.  300.]\n",
      " [ 400.  500.  600.]]\n"
     ]
    }
   ],
   "source": [
    "import numpy as np\n",
    "f = np.genfromtxt('myfile.csv',delimiter=',')\n",
    "print(f)"
   ]
  },
  {
   "cell_type": "markdown",
   "metadata": {},
   "source": [
    "### 점 그래프 그리기"
   ]
  },
  {
   "cell_type": "code",
   "execution_count": 20,
   "metadata": {},
   "outputs": [
    {
     "data": {
      "image/png": "[encoded data removed]",
      "text/plain": [
       "<matplotlib.figure.Figure at 0x8f23198>"
      ]
     },
     "metadata": {},
     "output_type": "display_data"
    }
   ],
   "source": [
    "plt.scatter(f[0],f[1])\n",
    "plt.plot(f[0],f[1])\n",
    "plt.show()"
   ]
  },
  {
   "cell_type": "markdown",
   "metadata": {},
   "source": [
    "# 벡터화 처리\n",
    "\n",
    "    for 문 등 순환문 없이 계산처리가 가능하다.\n",
    "    \n"
   ]
  },
  {
   "cell_type": "markdown",
   "metadata": {},
   "source": [
    "#### 파이썬 리스트를 이용해서 원소 단위로 계산이 필요할 경우 \n",
    "\n",
    "     벡터화 처리가 안되므로 순환해서 원소별로 더해야 함\n",
    "     "
   ]
  },
  {
   "cell_type": "code",
   "execution_count": 47,
   "metadata": {},
   "outputs": [
    {
     "name": "stdout",
     "output_type": "stream",
     "text": [
      "[1, 2, 3, 4, 5, 6]\n",
      "[5, 7, 9]\n"
     ]
    }
   ],
   "source": [
    "# \n",
    "l = [1,2,3]\n",
    "ll = [4,5,6]\n",
    "\n",
    "# 리스트 끼리 병합\n",
    "print(l+ ll)\n",
    "\n",
    "# 순환문을 이용해서 원소끼리 계산\n",
    "for i in range(len(l)) :\n",
    "    l[i] +=  ll[i]\n",
    "    \n",
    "print(l)"
   ]
  },
  {
   "cell_type": "markdown",
   "metadata": {},
   "source": [
    "###  산술계산 처리\n",
    "\n",
    "    사칙연산에 대한 처리는 ndarray 내부 원소별로 처리 \n",
    "    \n",
    "    Operator    Meaning          Example Algebraic\n",
    "       +        Addition             x + y \n",
    "       -        Subtraction          x-y\n",
    "       *        Multiplication       x * y \n",
    "       /        Division             x/y\n",
    "      **        Exponentiation       x**y \n",
    "      "
   ]
  },
  {
   "cell_type": "code",
   "execution_count": 13,
   "metadata": {},
   "outputs": [
    {
     "name": "stdout",
     "output_type": "stream",
     "text": [
      "[[[ 2  4  6]\n",
      "  [ 8 10 12]]\n",
      "\n",
      " [[ 2  4  6]\n",
      "  [ 8 10 12]]]\n"
     ]
    }
   ],
   "source": [
    "l = np.array([[[1,2,3],[4,5,6]],[[1,2,3],[4,5,6]]])\n",
    "\n",
    "print(l+l)"
   ]
  },
  {
   "cell_type": "code",
   "execution_count": 14,
   "metadata": {},
   "outputs": [
    {
     "name": "stdout",
     "output_type": "stream",
     "text": [
      "[[[0 0 0]\n",
      "  [0 0 0]]\n",
      "\n",
      " [[0 0 0]\n",
      "  [0 0 0]]]\n"
     ]
    }
   ],
   "source": [
    "l = np.array([[[1,2,3],[4,5,6]],[[1,2,3],[4,5,6]]])\n",
    "\n",
    "print(l-l)"
   ]
  },
  {
   "cell_type": "code",
   "execution_count": 15,
   "metadata": {},
   "outputs": [
    {
     "name": "stdout",
     "output_type": "stream",
     "text": [
      "[[[ 1  4  9]\n",
      "  [16 25 36]]\n",
      "\n",
      " [[ 1  4  9]\n",
      "  [16 25 36]]]\n"
     ]
    }
   ],
   "source": [
    "l = np.array([[[1,2,3],[4,5,6]],[[1,2,3],[4,5,6]]])\n",
    "\n",
    "print(l*l)"
   ]
  },
  {
   "cell_type": "code",
   "execution_count": 16,
   "metadata": {},
   "outputs": [
    {
     "name": "stdout",
     "output_type": "stream",
     "text": [
      "[[[ 1.  1.  1.]\n",
      "  [ 1.  1.  1.]]\n",
      "\n",
      " [[ 1.  1.  1.]\n",
      "  [ 1.  1.  1.]]]\n"
     ]
    }
   ],
   "source": [
    "l = np.array([[[1,2,3],[4,5,6]],[[1,2,3],[4,5,6]]])\n",
    "\n",
    "print(l/l)"
   ]
  },
  {
   "cell_type": "code",
   "execution_count": 17,
   "metadata": {},
   "outputs": [
    {
     "name": "stdout",
     "output_type": "stream",
     "text": [
      "[[[1 1 1]\n",
      "  [1 1 1]]\n",
      "\n",
      " [[1 1 1]\n",
      "  [1 1 1]]]\n"
     ]
    }
   ],
   "source": [
    "l = np.array([[[1,2,3],[4,5,6]],[[1,2,3],[4,5,6]]])\n",
    "\n",
    "print(l//l)"
   ]
  },
  {
   "cell_type": "markdown",
   "metadata": {},
   "source": [
    "## 원소의 갯수가 다를 경우 : 브로드캐스팅 처리\n",
    "\n",
    "    브로드캐스팅은 선형대수를 값을 구하기 위해 서로 차원과 원소의 갯수를 맞춰 각 원소별로 계산이 가능하도록 만든 후에 연산이 들어감\n",
    "    \n",
    "    차원이 작은 경우 큰 차원에 맞춘다.\n",
    "    \n",
    "    단,  원소의 갯수가 다른 경우는 에러를 발생시킴 \n",
    "    \n",
    "    \n",
    "   "
   ]
  },
  {
   "cell_type": "markdown",
   "metadata": {},
   "source": [
    "#### scalar 값에 대한 브로드캐스팅 \n"
   ]
  },
  {
   "cell_type": "code",
   "execution_count": 42,
   "metadata": {},
   "outputs": [
    {
     "name": "stdout",
     "output_type": "stream",
     "text": [
      "[101 102 103]\n"
     ]
    }
   ],
   "source": [
    "l = np.array([1,2,3])\n",
    "\n",
    "print( l + 100)"
   ]
  },
  {
   "cell_type": "code",
   "execution_count": 44,
   "metadata": {},
   "outputs": [
    {
     "name": "stdout",
     "output_type": "stream",
     "text": [
      "[100, 100, 100]\n",
      "[101 102 103]\n"
     ]
    }
   ],
   "source": [
    "sl = []\n",
    "l = np.array([1,2,3])\n",
    "for _ in range(len(l)) :\n",
    "    sl.append(100)\n",
    "    \n",
    "print( sl)\n",
    "print( l + sl)"
   ]
  },
  {
   "cell_type": "code",
   "execution_count": 22,
   "metadata": {},
   "outputs": [
    {
     "name": "stdout",
     "output_type": "stream",
     "text": [
      "[[[101 102 103]\n",
      "  [104 105 106]]\n",
      "\n",
      " [[101 102 103]\n",
      "  [104 105 106]]]\n"
     ]
    }
   ],
   "source": [
    "l = np.array([[[1,2,3],[4,5,6]],[[1,2,3],[4,5,6]]])\n",
    "print( l + 100)"
   ]
  },
  {
   "cell_type": "markdown",
   "metadata": {},
   "source": [
    "#### 차원의 높은 경우 일단 원소의 갯수 확인\n",
    "\n",
    "    차원을 확인하고 원소의 갯수가 맞을 경우 브로드캐스팅한 후 계산을 한다.\n",
    "    \n",
    "    "
   ]
  },
  {
   "cell_type": "code",
   "execution_count": 38,
   "metadata": {},
   "outputs": [
    {
     "name": "stdout",
     "output_type": "stream",
     "text": [
      " 원소 불일치 \n"
     ]
    }
   ],
   "source": [
    "l1 = np.array([100,100])\n",
    "l3 = np.array([[[1,2,3],[4,5,6]],[[1,2,3],[4,5,6]]])\n",
    "\n",
    "\n",
    "if l1.ndim == 1 :\n",
    "    s1 = l1.shape[0]\n",
    "    \n",
    "if l3.ndim == 3 :\n",
    "    s3 = l3.shape[2]\n",
    "    \n",
    "if s1 == s3 :\n",
    "    print(l1+l3)\n",
    "else :\n",
    "    print(\" 원소 불일치 \")\n",
    "    "
   ]
  },
  {
   "cell_type": "markdown",
   "metadata": {},
   "source": [
    "### 1차원과 3차원 비교"
   ]
  },
  {
   "cell_type": "code",
   "execution_count": 28,
   "metadata": {},
   "outputs": [
    {
     "name": "stdout",
     "output_type": "stream",
     "text": [
      "(3,) (2, 2, 3)\n",
      "[[[101 102 103]\n",
      "  [104 105 106]]\n",
      "\n",
      " [[101 102 103]\n",
      "  [104 105 106]]]\n"
     ]
    }
   ],
   "source": [
    "l1 = np.array([100,100,100])\n",
    "l3 = np.array([[[1,2,3],[4,5,6]],[[1,2,3],[4,5,6]]])\n",
    "\n",
    "print(l1.shape, l3.shape)\n",
    "print(l1+l3)"
   ]
  },
  {
   "cell_type": "markdown",
   "metadata": {},
   "source": [
    "### 2차원과 3차원 비교\n"
   ]
  },
  {
   "cell_type": "code",
   "execution_count": 29,
   "metadata": {},
   "outputs": [
    {
     "name": "stdout",
     "output_type": "stream",
     "text": [
      "(2, 3) (2, 2, 3)\n",
      "[[[101 102 103]\n",
      "  [204 205 206]]\n",
      "\n",
      " [[101 102 103]\n",
      "  [204 205 206]]]\n"
     ]
    }
   ],
   "source": [
    "l2 = np.array([[100,100,100],[200,200,200]])\n",
    "l3 = np.array([[[1,2,3],[4,5,6]],[[1,2,3],[4,5,6]]])\n",
    "\n",
    "print(l2.shape, l3.shape)\n",
    "print(l2+l3)"
   ]
  },
  {
   "cell_type": "markdown",
   "metadata": {},
   "source": [
    "### 차원은 같고 행과 열의 원소 갯수가 같을 경우 \n",
    "\n"
   ]
  },
  {
   "cell_type": "code",
   "execution_count": 98,
   "metadata": {},
   "outputs": [
    {
     "name": "stdout",
     "output_type": "stream",
     "text": [
      "(1, 3)\n",
      "(3, 1)\n",
      "[[ 1.  2.  3.]\n",
      " [ 1.  2.  3.]\n",
      " [ 1.  2.  3.]] (3, 3)\n"
     ]
    }
   ],
   "source": [
    "x = np.array([[1,2,3.0]])\n",
    "print(x.shape)\n",
    "\n",
    "y = np.array([[0],[0],[0.0]])\n",
    "print(y.shape)\n",
    "\n",
    "print((x+y), (x+y).shape)"
   ]
  },
  {
   "cell_type": "markdown",
   "metadata": {},
   "source": [
    "# 생성 함수\n"
   ]
  },
  {
   "cell_type": "markdown",
   "metadata": {},
   "source": [
    "### 1차원 배열 생성 함수 "
   ]
  },
  {
   "cell_type": "code",
   "execution_count": 73,
   "metadata": {},
   "outputs": [
    {
     "name": "stdout",
     "output_type": "stream",
     "text": [
      "[0 1 2 3 4 5 6 7 8 9]\n"
     ]
    }
   ],
   "source": [
    "import numpy as np\n",
    "\n",
    "zs = np.arange(10)\n",
    "print(zs)"
   ]
  },
  {
   "cell_type": "code",
   "execution_count": 121,
   "metadata": {},
   "outputs": [
    {
     "name": "stdout",
     "output_type": "stream",
     "text": [
      "[  1.   2.   3.   4.   5.   6.   7.   8.   9.  10.]\n"
     ]
    }
   ],
   "source": [
    "import numpy as np\n",
    "\n",
    "zs = np.linspace(1,10,10)\n",
    "print(zs)"
   ]
  },
  {
   "cell_type": "markdown",
   "metadata": {},
   "source": [
    "#### 벡터로 그래프 그리기 \n",
    "\n",
    "   x 측은 index, y 측은 값이 됨"
   ]
  },
  {
   "cell_type": "code",
   "execution_count": 122,
   "metadata": {},
   "outputs": [
    {
     "data": {
      "image/png": "[encoded data removed]",
      "text/plain": [
       "<matplotlib.figure.Figure at 0xa5037b8>"
      ]
     },
     "metadata": {},
     "output_type": "display_data"
    }
   ],
   "source": [
    "import matplotlib.pyplot as plt\n",
    "\n",
    "plt.plot(zs)\n",
    "plt.show()"
   ]
  },
  {
   "cell_type": "markdown",
   "metadata": {},
   "source": [
    "### 다차원이 있는 배열 생성 함수 \n"
   ]
  },
  {
   "cell_type": "markdown",
   "metadata": {},
   "source": [
    "#### 2차원 배열 값을 기준으로 그래프 그리기"
   ]
  },
  {
   "cell_type": "code",
   "execution_count": 125,
   "metadata": {},
   "outputs": [
    {
     "name": "stdout",
     "output_type": "stream",
     "text": [
      "[[  1.   2.   3.   4.   5.]\n",
      " [  6.   7.   8.   9.  10.]]\n"
     ]
    },
    {
     "data": {
      "image/png": "[encoded data removed]",
      "text/plain": [
       "<matplotlib.figure.Figure at 0x943c0f0>"
      ]
     },
     "metadata": {},
     "output_type": "display_data"
    }
   ],
   "source": [
    "import numpy as np\n",
    "\n",
    "zs = np.linspace(1,10,10).reshape(2,5)\n",
    "print(zs)\n",
    "\n",
    "import matplotlib.pyplot as plt\n",
    "\n",
    "plt.plot(zs[0],zs[1])\n",
    "\n",
    "plt.show()"
   ]
  },
  {
   "cell_type": "markdown",
   "metadata": {},
   "source": [
    "#### zeros 함수"
   ]
  },
  {
   "cell_type": "code",
   "execution_count": 101,
   "metadata": {},
   "outputs": [
    {
     "name": "stdout",
     "output_type": "stream",
     "text": [
      "<built-in function zeros>\n",
      "[[ 0.  0.]\n",
      " [ 0.  0.]]\n"
     ]
    }
   ],
   "source": [
    "import numpy as np\n",
    "\n",
    "print(np.zeros)\n",
    "zs = np.zeros((2,2))\n",
    "print(zs)"
   ]
  },
  {
   "cell_type": "markdown",
   "metadata": {},
   "source": [
    "#### ones 함수 "
   ]
  },
  {
   "cell_type": "code",
   "execution_count": 102,
   "metadata": {},
   "outputs": [
    {
     "name": "stdout",
     "output_type": "stream",
     "text": [
      "<function ones at 0x00000000053826A8>\n",
      "[[ 1.  1.]\n",
      " [ 1.  1.]]\n"
     ]
    }
   ],
   "source": [
    "import numpy as np\n",
    "\n",
    "print(np.ones)\n",
    "os = np.ones((2,2))\n",
    "print(os)"
   ]
  },
  {
   "cell_type": "markdown",
   "metadata": {},
   "source": [
    "#### empty 함수 "
   ]
  },
  {
   "cell_type": "code",
   "execution_count": 104,
   "metadata": {},
   "outputs": [
    {
     "name": "stdout",
     "output_type": "stream",
     "text": [
      "<built-in function empty>\n",
      "[[ 0.  0.]\n",
      " [ 0.  0.]]\n"
     ]
    }
   ],
   "source": [
    "import numpy as np\n",
    "\n",
    "print(np.empty)\n",
    "es = np.empty((2,2))\n",
    "print(es)"
   ]
  },
  {
   "cell_type": "markdown",
   "metadata": {},
   "source": [
    "###  단위행렬 생성하기\n"
   ]
  },
  {
   "cell_type": "code",
   "execution_count": 80,
   "metadata": {},
   "outputs": [
    {
     "name": "stdout",
     "output_type": "stream",
     "text": [
      "[[ 1.  0.  0.]\n",
      " [ 0.  1.  0.]\n",
      " [ 0.  0.  1.]]\n"
     ]
    }
   ],
   "source": [
    "import numpy as np\n",
    "\n",
    "print(np.identity(3))"
   ]
  },
  {
   "cell_type": "code",
   "execution_count": 81,
   "metadata": {},
   "outputs": [
    {
     "name": "stdout",
     "output_type": "stream",
     "text": [
      "[[ 1.  0.  0.]\n",
      " [ 0.  1.  0.]\n",
      " [ 0.  0.  1.]]\n"
     ]
    }
   ],
   "source": [
    "import numpy as np\n",
    "\n",
    "print(np.eye(3))"
   ]
  },
  {
   "cell_type": "markdown",
   "metadata": {},
   "source": [
    "### matrix 객체 생성하기 \n",
    "\n",
    "    matrix만을 처리하는 객체 생성하기 "
   ]
  },
  {
   "cell_type": "code",
   "execution_count": 86,
   "metadata": {},
   "outputs": [
    {
     "name": "stdout",
     "output_type": "stream",
     "text": [
      "<class 'numpy.matrixlib.defmatrix.matrix'>\n",
      "<class 'numpy.ndarray'>\n",
      "<class 'numpy.matrixlib.defmatrix.matrix'>\n",
      "[[  2.]\n",
      " [  4.]\n",
      " [  6.]\n",
      " [  8.]\n",
      " [ 10.]]\n"
     ]
    }
   ],
   "source": [
    "xm= np.matrix([[1.0],[2.0],[3.0],[4.0],[5.0]])\n",
    "xa= np.array([[1.0],[2.0],[3.0],[4.0],[5.0]])\n",
    "\n",
    "print(type(xm))\n",
    "print(type(xa))\n",
    "\n",
    "xx = xm + xa \n",
    "print(type(xx))\n",
    "print(xx)"
   ]
  },
  {
   "cell_type": "code",
   "execution_count": 89,
   "metadata": {},
   "outputs": [
    {
     "name": "stdout",
     "output_type": "stream",
     "text": [
      "2\n",
      "(5, 1)\n",
      "float64\n",
      "<numpy.flatiter object at 0x0000000006DD5AC0>\n"
     ]
    }
   ],
   "source": [
    "print(xm.ndim)\n",
    "print(xm.shape)\n",
    "print(xm.dtype)\n",
    "print(xm.flat)"
   ]
  },
  {
   "cell_type": "markdown",
   "metadata": {},
   "source": [
    "## 선형 대수 \n"
   ]
  },
  {
   "cell_type": "code",
   "execution_count": 1,
   "metadata": {
    "collapsed": true
   },
   "outputs": [],
   "source": [
    "import numpy as np"
   ]
  },
  {
   "cell_type": "markdown",
   "metadata": {},
   "source": [
    "### 내적구하기"
   ]
  },
  {
   "cell_type": "code",
   "execution_count": 4,
   "metadata": {},
   "outputs": [
    {
     "name": "stdout",
     "output_type": "stream",
     "text": [
      "[[  5  23]\n",
      " [ 23 113]]\n"
     ]
    }
   ],
   "source": [
    "m = np.array([[1,2],[7,8]])\n",
    "print(np.dot(m,m.T))"
   ]
  },
  {
   "cell_type": "markdown",
   "metadata": {},
   "source": [
    "###  행렬식 구하기"
   ]
  },
  {
   "cell_type": "code",
   "execution_count": 5,
   "metadata": {},
   "outputs": [
    {
     "name": "stdout",
     "output_type": "stream",
     "text": [
      "-6.0\n"
     ]
    }
   ],
   "source": [
    "print(np.linalg.det(m))"
   ]
  },
  {
   "cell_type": "markdown",
   "metadata": {},
   "source": [
    "### 역행렬 구하기"
   ]
  },
  {
   "cell_type": "code",
   "execution_count": 6,
   "metadata": {},
   "outputs": [
    {
     "name": "stdout",
     "output_type": "stream",
     "text": [
      "[[-1.33333333  0.33333333]\n",
      " [ 1.16666667 -0.16666667]]\n"
     ]
    }
   ],
   "source": [
    "print(np.linalg.inv(m))"
   ]
  },
  {
   "cell_type": "markdown",
   "metadata": {},
   "source": [
    "### 단위행렬 구하기"
   ]
  },
  {
   "cell_type": "code",
   "execution_count": 7,
   "metadata": {},
   "outputs": [
    {
     "name": "stdout",
     "output_type": "stream",
     "text": [
      "[[ 1.  0.]\n",
      " [ 0.  1.]]\n"
     ]
    }
   ],
   "source": [
    "m_1 = np.linalg.inv(m)\n",
    "\n",
    "print(np.dot(m,m_1))"
   ]
  },
  {
   "cell_type": "markdown",
   "metadata": {},
   "source": [
    "## 대표값 구하기 "
   ]
  },
  {
   "cell_type": "markdown",
   "metadata": {},
   "source": [
    "###  평균 "
   ]
  },
  {
   "cell_type": "code",
   "execution_count": 110,
   "metadata": {},
   "outputs": [
    {
     "name": "stdout",
     "output_type": "stream",
     "text": [
      "<function mean at 0x00000000053A1A60>\n",
      "[ 1  2  3  4  5  6  7  8  9 10]\n",
      "5.5\n"
     ]
    }
   ],
   "source": [
    "import numpy as np\n",
    "\n",
    "print(np.mean) \n",
    "\n",
    "ar = np.arange(1,11) \n",
    "print(ar)\n",
    "print(np.mean(ar))"
   ]
  },
  {
   "cell_type": "code",
   "execution_count": 123,
   "metadata": {},
   "outputs": [
    {
     "name": "stdout",
     "output_type": "stream",
     "text": [
      "<function average at 0x000000000547DE18>\n",
      "[ 1  2  3  4  5  6  7  8  9 10]\n",
      "5.5\n"
     ]
    }
   ],
   "source": [
    "import numpy as np\n",
    "\n",
    "print(np.average) \n",
    "\n",
    "ar = np.arange(1,11) \n",
    "print(ar)\n",
    "print(np.average(ar))"
   ]
  },
  {
   "cell_type": "markdown",
   "metadata": {},
   "source": [
    "#### axis 단위로 평균 구하기 \n",
    "\n",
    "    axis = 0 : 열단위로 계산\n",
    "    \n",
    "    axis = 1 : 행단위로 계산 \n"
   ]
  },
  {
   "cell_type": "code",
   "execution_count": 127,
   "metadata": {},
   "outputs": [
    {
     "name": "stdout",
     "output_type": "stream",
     "text": [
      "[[ 1  2  3  4]\n",
      " [ 5  6  7  8]\n",
      " [ 9 10 11 12]]\n",
      "[ 5.  6.  7.  8.]\n",
      "[  2.5   6.5  10.5]\n",
      "[ 5.  6.  7.  8.]\n",
      "[  2.5   6.5  10.5]\n"
     ]
    }
   ],
   "source": [
    "import numpy as np\n",
    "\n",
    "ar = np.arange(1,13).reshape(3,4) \n",
    "print(ar)\n",
    "print(np.mean(ar,axis=0))\n",
    "print(np.mean(ar,axis=1))\n",
    "\n",
    "print(np.average(ar,axis=0))\n",
    "print(np.average(ar,axis=1))"
   ]
  },
  {
   "cell_type": "markdown",
   "metadata": {},
   "source": [
    "#### 가중 평균 구하기 \n",
    "\n",
    "    원소와 가중치를 곱한 후에 합하고 이를 가중치의 합으로 나누어서 구함 \n",
    "    "
   ]
  },
  {
   "cell_type": "code",
   "execution_count": 136,
   "metadata": {},
   "outputs": [
    {
     "name": "stdout",
     "output_type": "stream",
     "text": [
      "[[0 1]\n",
      " [2 3]\n",
      " [4 5]]\n",
      "[ 0.5  2.5  4.5]\n",
      "0.75\n",
      "2.75\n",
      "4.75\n",
      "[ 0.75  2.75  4.75]\n"
     ]
    }
   ],
   "source": [
    "data = np.arange(6).reshape((3,2))\n",
    "\n",
    "print(data)\n",
    "print(np.average(data, axis=1))\n",
    "\n",
    "for i,j in data :\n",
    "    result = (i * (1/4)) + (j * (3/4))\n",
    "    avr = result/((1/4) + (3/4))\n",
    "    print(avr)\n",
    "    \n",
    "print(np.average(data, axis=1, weights=[1/4, 3/4]))\n"
   ]
  },
  {
   "cell_type": "markdown",
   "metadata": {},
   "source": [
    "### 중앙값 \n"
   ]
  },
  {
   "cell_type": "code",
   "execution_count": 113,
   "metadata": {},
   "outputs": [
    {
     "name": "stdout",
     "output_type": "stream",
     "text": [
      "<function median at 0x000000000547F510>\n",
      "[ 1  2  3  4  5  6  7  8  9 10]\n",
      "5.5\n",
      "[ 1  2  3  4  5  6  7  8  9 10 11]\n",
      "6.0\n"
     ]
    }
   ],
   "source": [
    "import numpy as np\n",
    "\n",
    "print(np.median) \n",
    "\n",
    "# 짝수 갯수\n",
    "ar = np.arange(1,11) \n",
    "print(ar)\n",
    "print(np.median(ar))\n",
    "\n",
    "# 홀수 갯수\n",
    "ar = np.arange(1,12) \n",
    "print(ar)\n",
    "print(np.median(ar))"
   ]
  },
  {
   "cell_type": "markdown",
   "metadata": {},
   "source": [
    "### 빈도값 \n"
   ]
  },
  {
   "cell_type": "code",
   "execution_count": 124,
   "metadata": {},
   "outputs": [
    {
     "name": "stdout",
     "output_type": "stream",
     "text": [
      "<function mode at 0x00000000097A1D08>\n",
      "[1 2 3 3 3 4 5 6 7]\n",
      "ModeResult(mode=array([3]), count=array([3]))\n",
      "[3]\n"
     ]
    }
   ],
   "source": [
    "import numpy as np\n",
    "\n",
    "from scipy import stats\n",
    "\n",
    "print(stats.mode) \n",
    "\n",
    "ar = np.array([1,2,3,3,3,4,5,6,7])\n",
    "print(ar)\n",
    "print(stats.mode(ar))\n",
    "print((stats.mode(ar).mode))"
   ]
  },
  {
   "cell_type": "code",
   "execution_count": 120,
   "metadata": {},
   "outputs": [
    {
     "name": "stdout",
     "output_type": "stream",
     "text": [
      "[3]\n"
     ]
    }
   ],
   "source": [
    "print((stats.mode(ar).mode))"
   ]
  },
  {
   "cell_type": "markdown",
   "metadata": {},
   "source": [
    "#### 빈도수에 대해 계산하기 "
   ]
  },
  {
   "cell_type": "code",
   "execution_count": 24,
   "metadata": {},
   "outputs": [
    {
     "name": "stdout",
     "output_type": "stream",
     "text": [
      "(array([1, 1, 0, 3, 0, 1, 1, 0, 1, 1], dtype=int64), array([ 1. ,  1.6,  2.2,  2.8,  3.4,  4. ,  4.6,  5.2,  5.8,  6.4,  7. ]))\n"
     ]
    }
   ],
   "source": [
    "import matplotlib.pyplot as plt\n",
    "\n",
    "ar = np.array([1,2,3,3,3,4,5,6,7])\n",
    "\n",
    "print(np.histogram(ar))"
   ]
  },
  {
   "cell_type": "markdown",
   "metadata": {},
   "source": [
    "####  histogram 그래프 그리기\n",
    "\n",
    "    빈도수를 기준으로 histogram 그래프 그리기"
   ]
  },
  {
   "cell_type": "code",
   "execution_count": 128,
   "metadata": {},
   "outputs": [
    {
     "data": {
      "image/png": "[encoded data removed]",
      "text/plain": [
       "<matplotlib.figure.Figure at 0x938d828>"
      ]
     },
     "metadata": {},
     "output_type": "display_data"
    }
   ],
   "source": [
    "import matplotlib.pyplot as plt\n",
    "\n",
    "ar = np.array([1,2,3,3,3,4,5,6,7])\n",
    "\n",
    "xbins=range(1,len(ar)+1)\n",
    "plt.hist(ar, bins=xbins, normed=1, histtype='bar',\n",
    "                            color=['crimson'],\n",
    "                            label=['Crimson'],alpha=0.8, width = 1/1.2)\n",
    "plt.legend()\n",
    "plt.title(\" Mode Histogram\")\n",
    "\n",
    "plt.xlabel(\"Value\")\n",
    "plt.ylabel(\"Frequency\")\n",
    "plt.show()\n",
    "\n"
   ]
  },
  {
   "cell_type": "markdown",
   "metadata": {},
   "source": [
    "#### 막대그래프\n",
    "\n",
    "    실제 위치별로 크기를 표시해서 그리기 \n"
   ]
  },
  {
   "cell_type": "code",
   "execution_count": 145,
   "metadata": {},
   "outputs": [
    {
     "data": {
      "image/png": "[encoded data removed]",
      "text/plain": [
       "<matplotlib.figure.Figure at 0xa5579b0>"
      ]
     },
     "metadata": {},
     "output_type": "display_data"
    }
   ],
   "source": [
    "import matplotlib.pyplot as plt\n",
    "\n",
    "ar = np.array([1,2,3,4,5,6,7])\n",
    "\n",
    "N = len(ar)\n",
    "x = range(N)\n",
    "plt.bar(x,ar, width=0.8, color=['crimson'],label=['Crimson'],alpha=0.8)\n",
    "plt.legend()\n",
    "plt.title(\" var chart\")\n",
    "plt.xlabel(\"Index\")\n",
    "plt.ylabel(\"Value\")\n",
    "plt.show()\n"
   ]
  },
  {
   "cell_type": "markdown",
   "metadata": {},
   "source": [
    "### 분산 구하기 "
   ]
  },
  {
   "cell_type": "code",
   "execution_count": 63,
   "metadata": {},
   "outputs": [
    {
     "name": "stdout",
     "output_type": "stream",
     "text": [
      "<function var at 0x0000000004FB0950>\n",
      "[1 2 3 3 3 4 5 6 7]\n",
      "3.28395061728\n",
      "3.28395061728\n",
      "3.69444444444\n",
      "3.69444444444\n"
     ]
    }
   ],
   "source": [
    "import numpy as np\n",
    "\n",
    "\n",
    "print(np.var) \n",
    "\n",
    "ar = np.array([1,2,3,3,3,4,5,6,7])\n",
    "print(ar)\n",
    "print(np.var(ar))\n",
    "\n",
    "# 모분산을 구하는 함수\n",
    "def var_(ar) :\n",
    "    avr = np.mean(ar) \n",
    "    x_xx = [pow(x-avr,2) for x in ar]\n",
    "    return sum(x_xx)/len(ar)\n",
    "\n",
    "print(var_(ar))\n",
    "\n",
    "\n",
    "print(np.var(ar, ddof=1))\n",
    "\n",
    "# 샘플분산을 구하는 함수\n",
    "def var_s(ar) :\n",
    "    avr = np.mean(ar) \n",
    "    x_xx = [pow(x-avr,2) for x in ar]\n",
    "    return sum(x_xx)/(len(ar)-1)\n",
    "\n",
    "print(var_s(ar))"
   ]
  },
  {
   "cell_type": "markdown",
   "metadata": {},
   "source": [
    "### 표준편차 구하기 \n",
    "\n",
    "    ddof=1로 세팅하면 샘플리 표준편차 ( n-1)"
   ]
  },
  {
   "cell_type": "code",
   "execution_count": 62,
   "metadata": {},
   "outputs": [
    {
     "name": "stdout",
     "output_type": "stream",
     "text": [
      "<function std at 0x0000000004FB08C8>\n",
      "[1 2 3 3 3 4 5 6 7]\n",
      "1.81216738114\n",
      "1.81216738114\n",
      "1.92209376578\n",
      "1.92209376578\n"
     ]
    }
   ],
   "source": [
    "import numpy as np\n",
    "\n",
    "\n",
    "print(np.std) \n",
    "\n",
    "ar = np.array([1,2,3,3,3,4,5,6,7])\n",
    "print(ar)\n",
    "print(np.std(ar))\n",
    "\n",
    "# 모표준편차을 구하는 함수\n",
    "def std_(ar) :\n",
    "    avr = np.mean(ar) \n",
    "    x_xx = [pow(x-avr,2) for x in ar]\n",
    "    return np.sqrt(sum(x_xx)/len(ar))\n",
    "\n",
    "print(std_(ar))\n",
    "\n",
    "\n",
    "print(np.std(ar, ddof=1))\n",
    "\n",
    "# 샘플 표준편차를 구하는 함수\n",
    "def std_s(ar) :\n",
    "    avr = np.mean(ar) \n",
    "    x_xx = [pow(x-avr,2) for x in ar]\n",
    "    return np.sqrt(sum(x_xx)/(len(ar)-1))\n",
    "print(std_s(ar))\n"
   ]
  },
  {
   "cell_type": "markdown",
   "metadata": {
    "collapsed": true
   },
   "source": [
    "#  공분산 \n",
    "\n",
    "    Subject           1 2 3  4  5   Mean    S\n",
    "    Adverts Watched   5 4 4  6  8    5.4   1.67\n",
    "    Packets Bought    8 9 10 14 15   11.2  3.11\n",
    "    \n",
    "   "
   ]
  },
  {
   "cell_type": "code",
   "execution_count": 48,
   "metadata": {},
   "outputs": [
    {
     "data": {
      "image/png": "[encoded data removed]",
      "text/plain": [
       "<matplotlib.figure.Figure at 0x651c550>"
      ]
     },
     "metadata": {},
     "output_type": "display_data"
    }
   ],
   "source": [
    "import matplotlib.pyplot as plt\n",
    "\n",
    "aw = np.array([5,4,4,6,8])\n",
    "pb = np.array([8,9,10,14,15])\n",
    "\n",
    "plt.plot(aw,pb)\n",
    "\n",
    "plt.title(\" Mode Histogram\")\n",
    "\n",
    "plt.xlabel(\"Adverts Watched \")\n",
    "plt.ylabel(\"Packets Bought\")\n",
    "plt.show()"
   ]
  },
  {
   "cell_type": "code",
   "execution_count": 116,
   "metadata": {},
   "outputs": [
    {
     "name": "stdout",
     "output_type": "stream",
     "text": [
      "aw mean : 5.4\n",
      "aw std : 1.67332005307\n",
      "pb mean : 11.2\n",
      "pb std : 3.11448230048\n",
      " aa sum :  -1.7763568394e-15\n",
      " pp sum:  3.5527136788e-15\n",
      " cov  :  -1.57772181044e-30\n"
     ]
    }
   ],
   "source": [
    "aw = np.array([5,4,4,6,8])\n",
    "pb = np.array([8,9,10,14,15])\n",
    "\n",
    "print(\"aw mean :\", np.mean(aw))\n",
    "print(\"aw std :\", np.std(aw, ddof=1))\n",
    "\n",
    "print(\"pb mean :\", np.mean(pb))\n",
    "print(\"pb std :\", np.std(pb, ddof=1))\n",
    "\n",
    "aa = (aw - np.mean(aw))\n",
    "pp = (pb - np.mean(pb))\n",
    "\n",
    "print(\" aa sum : \", sum(aa))\n",
    "print(\" pp sum: \", sum(pp))\n",
    "\n",
    "coo = sum(aw-np.mean(aw))* sum(pb-np.mean(pb))/(5-1)\n",
    "print(\" cov  : \", coo)\n"
   ]
  },
  {
   "cell_type": "markdown",
   "metadata": {},
   "source": [
    "### 상관계수 "
   ]
  },
  {
   "cell_type": "code",
   "execution_count": 118,
   "metadata": {},
   "outputs": [
    {
     "name": "stdout",
     "output_type": "stream",
     "text": [
      "corr\n",
      "-3.02737030344e-31\n"
     ]
    }
   ],
   "source": [
    "cov = np.sum(aw-np.mean(aw))* np.sum(pb-np.mean(pb))/(5-1)\n",
    "\n",
    "corr = cov  /(np.std(aw, ddof=1) * np.std(pb, ddof=1))\n",
    "\n",
    "if -1<= corr <= 1 :\n",
    "    print('corr')\n",
    "    \n",
    "print(corr)\n"
   ]
  },
  {
   "cell_type": "markdown",
   "metadata": {},
   "source": [
    "# 확률\n"
   ]
  },
  {
   "cell_type": "markdown",
   "metadata": {},
   "source": [
    "### 시행(trial) \n",
    "\n",
    "    모든 결과가 우연에 의해서 지배가 되고 반복가능하며 모든 결과가 예측이 가능한 실험이나 관찰\n",
    "    \n",
    "    확률실험(random experiment)즉 시행은 결과가 우연에 좌우되는 현상을 실현시키는 행위는 실험, \n",
    "    관찰, 조사 등으로써 몇 가지 특징을 가지는 것을 시행 또는 확률실험이라고 한다.\n"
   ]
  },
  {
   "cell_type": "markdown",
   "metadata": {},
   "source": [
    "### 표본공간(sample space) \n",
    "\n",
    "    표본공간 또는 전체 표본공간은 종종 S, Ω 또는 U로 표기되며, 실험 또는 임의 시도의 모든 가능한 산출들의 집합이다\n",
    "    "
   ]
  },
  {
   "cell_type": "markdown",
   "metadata": {},
   "source": [
    "### 사건(event) \n",
    "\n",
    "    확률에서는 실험에서 발생할 수 있는 결과들이 기본 사건(elementary event) 이라고 불리는데\n",
    "    이것의 모음은 그냥 사건이라고 일컫는다.\n",
    "    \n",
    "    어떤 실험의 표본공간 S에 관한 사건(event)이란 S의 부분 집 합을 뜻함. 즉, 실험의 가능한 결과로 이루어진 집합을 사건 (event)이라 함\n"
   ]
  },
  {
   "cell_type": "markdown",
   "metadata": {},
   "source": [
    "### 주사위를 한 번 던질 경우 발생할 수 있는 확률을 구하는 함수 정의\n",
    "\n",
    "    fractions.Fraction을 이용해서 유리수 처리"
   ]
  },
  {
   "cell_type": "code",
   "execution_count": 169,
   "metadata": {
    "collapsed": true
   },
   "outputs": [],
   "source": [
    "import fractions\n",
    "# 주사위를 한번 던질때 나오는 경우\n",
    "\n",
    "def p(x) :\n",
    "    # 표본공간\n",
    "    samplespace = {1,2,3,4,5,6}\n",
    "    if x | samplespace :\n",
    "        return fractions.Fraction(len(x),len(samplespace))\n",
    "    else :\n",
    "        raise Exception(\" No event \")"
   ]
  },
  {
   "cell_type": "markdown",
   "metadata": {},
   "source": [
    "#### 이산확률 분포 그래프 그리기\n",
    "\n",
    "    주사의를 던질 경우 동등한 비중이므로 이를 이산확률분포로 그리려면 stem 그래프로 처리\n",
    "    "
   ]
  },
  {
   "cell_type": "code",
   "execution_count": 198,
   "metadata": {},
   "outputs": [
    {
     "data": {
      "image/png": "[encoded data removed]",
      "text/plain": [
       "<matplotlib.figure.Figure at 0x9362fd0>"
      ]
     },
     "metadata": {},
     "output_type": "display_data"
    }
   ],
   "source": [
    "import matplotlib.pyplot as plt\n",
    "\n",
    "x = np.arange(1,7)\n",
    "y = np.array([1,1,1,1,1,1])\n",
    "plt.xlim(0, 7)\n",
    "plt.ylim(0, 2)\n",
    "plt.stem(x,y)\n",
    "plt.show()"
   ]
  },
  {
   "cell_type": "markdown",
   "metadata": {},
   "source": [
    "#### 주사위를 한번 던질 경우 발생하는 사건과 확률 "
   ]
  },
  {
   "cell_type": "code",
   "execution_count": 171,
   "metadata": {},
   "outputs": [
    {
     "name": "stdout",
     "output_type": "stream",
     "text": [
      "event 1 1/6\n",
      "event odd  1/2\n"
     ]
    }
   ],
   "source": [
    "\n",
    "# 주사위가 1이 나올 사건\n",
    "event_1 = {1}\n",
    "print(\"event 1\",p(event_1))\n",
    "\n",
    "# 주사위가 홀수일 사건\n",
    "event_odd = {1,3,5}\n",
    "print(\"event odd \",p(event_odd))\n"
   ]
  },
  {
   "cell_type": "markdown",
   "metadata": {},
   "source": [
    "#### 두개의 사건의 결합해서 발생할 확률 ( & 조건)"
   ]
  },
  {
   "cell_type": "code",
   "execution_count": 173,
   "metadata": {},
   "outputs": [
    {
     "name": "stdout",
     "output_type": "stream",
     "text": [
      "1/6\n"
     ]
    }
   ],
   "source": [
    "# 홀수이면서 하나인 경우 확률\n",
    "\n",
    "print( p(event_1 & event_odd))"
   ]
  },
  {
   "cell_type": "markdown",
   "metadata": {},
   "source": [
    "####  독립사건일 경우 결합확률"
   ]
  },
  {
   "cell_type": "code",
   "execution_count": 175,
   "metadata": {},
   "outputs": [
    {
     "name": "stdout",
     "output_type": "stream",
     "text": [
      "event even  1/2\n",
      "1/12\n"
     ]
    }
   ],
   "source": [
    "# 주사위가 홀수일 사건\n",
    "event_even = {2,4,6}\n",
    "print(\"event even \",p(event_even))\n",
    "\n",
    "a = event_1 & event_even\n",
    "if a :\n",
    "    pass\n",
    "else :\n",
    "    print( p(event_1) * p(event_even))"
   ]
  },
  {
   "cell_type": "markdown",
   "metadata": {},
   "source": [
    "####  조건부 확률 :\n",
    "\n",
    "    특정 사건이 발생한 후에 다른 사건이 발생활 확률\n",
    "    \n",
    "    p(b/a) =  p(a & b)/p(b)"
   ]
  },
  {
   "cell_type": "code",
   "execution_count": 170,
   "metadata": {},
   "outputs": [
    {
     "name": "stdout",
     "output_type": "stream",
     "text": [
      "1/6\n",
      "1/3\n"
     ]
    }
   ],
   "source": [
    "# 주사위를 던질 때 odd and 1 나올 결합확률\n",
    "# p(b | a)= p(b&a)/p(a)\n",
    "print( p(event_1 & event_odd))\n",
    "print( p(event_1 & event_odd)/p(event_odd))\n"
   ]
  },
  {
   "cell_type": "markdown",
   "metadata": {},
   "source": [
    "## 빈도를 기준으로 확률을 처리 \n",
    "\n",
    "    총 실험에 대한 기준으로 빈도를 확정함\n",
    "    "
   ]
  },
  {
   "cell_type": "markdown",
   "metadata": {},
   "source": [
    "### 발생할 수 있는 빈수를 정리"
   ]
  },
  {
   "cell_type": "code",
   "execution_count": 177,
   "metadata": {},
   "outputs": [
    {
     "name": "stdout",
     "output_type": "stream",
     "text": [
      "Counter({7: 20, 6: 15, 8: 14, 9: 12, 4: 10, 5: 9, 10: 8, 3: 5, 12: 5, 2: 1, 11: 1})\n",
      "100\n"
     ]
    }
   ],
   "source": [
    "import random\n",
    "import collections as cols\n",
    "\n",
    "aCount = cols.Counter()\n",
    "for i in range(1,101):\n",
    "    a=random.randint(1, 6)+random.randint(1, 6)\n",
    "    aCount[a] += 1\n",
    "    \n",
    "print(aCount)\n",
    "total = 0\n",
    "for _,x in aCount.items() :\n",
    "    total += x\n",
    "    \n",
    "print(total)\n"
   ]
  },
  {
   "cell_type": "code",
   "execution_count": 176,
   "metadata": {},
   "outputs": [
    {
     "name": "stdout",
     "output_type": "stream",
     "text": [
      "2 :1.00% \n",
      "3 :3.00% \n",
      "4 :10.00% \n",
      "5 :9.00% \n",
      "6 :13.00% \n",
      "7 :9.00% \n",
      "8 :13.00% \n",
      "9 :17.00% \n",
      "10 :11.00% \n",
      "11 :7.00% \n",
      "12 :7.00% \n"
     ]
    }
   ],
   "source": [
    "for x in range(2,13):\n",
    "    print(x,\":{0:.2%} \".format(aCount[x]/total,sep=','))"
   ]
  },
  {
   "cell_type": "markdown",
   "metadata": {},
   "source": [
    "####  주사위를 두번 던졌을 때 합의 값에 대한 확률은?\n"
   ]
  },
  {
   "cell_type": "code",
   "execution_count": 183,
   "metadata": {},
   "outputs": [
    {
     "name": "stdout",
     "output_type": "stream",
     "text": [
      "4\n",
      "10\n",
      "0.1\n"
     ]
    }
   ],
   "source": [
    "a=random.randint(1, 6)+random.randint(1, 6)\n",
    "print(a)\n",
    "print(aCount[a]) \n",
    "print(aCount[a]/total)"
   ]
  },
  {
   "cell_type": "code",
   "execution_count": null,
   "metadata": {
    "collapsed": true
   },
   "outputs": [],
   "source": []
  }
 ],
 "metadata": {
  "anaconda-cloud": {},
  "kernelspec": {
   "display_name": "Python 3",
   "language": "python",
   "name": "python3"
  },
  "language_info": {
   "codemirror_mode": {
    "name": "ipython",
    "version": 3
   },
   "file_extension": ".py",
   "mimetype": "text/x-python",
   "name": "python",
   "nbconvert_exporter": "python",
   "pygments_lexer": "ipython3",
   "version": "3.6.1"
  }
 },
 "nbformat": 4,
 "nbformat_minor": 1
}
