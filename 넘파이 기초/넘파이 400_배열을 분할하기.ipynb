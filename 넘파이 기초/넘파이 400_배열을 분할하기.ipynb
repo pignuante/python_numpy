{
 "cells": [
  {
   "cell_type": "code",
   "execution_count": 1,
   "metadata": {
    "collapsed": true
   },
   "outputs": [],
   "source": [
    "import numpy as np"
   ]
  },
  {
   "cell_type": "code",
   "execution_count": 2,
   "metadata": {
    "collapsed": true
   },
   "outputs": [],
   "source": [
    "a = np.array([1,2,3,4,5,6])"
   ]
  },
  {
   "cell_type": "markdown",
   "metadata": {},
   "source": [
    "## 1 차원 배열을 분할하기"
   ]
  },
  {
   "cell_type": "code",
   "execution_count": 10,
   "metadata": {},
   "outputs": [
    {
     "name": "stdout",
     "output_type": "stream",
     "text": [
      "Help on function split in module numpy.lib.shape_base:\n",
      "\n",
      "split(ary, indices_or_sections, axis=0)\n",
      "    Split an array into multiple sub-arrays.\n",
      "    \n",
      "    Parameters\n",
      "    ----------\n",
      "    ary : ndarray\n",
      "        Array to be divided into sub-arrays.\n",
      "    indices_or_sections : int or 1-D array\n",
      "        If `indices_or_sections` is an integer, N, the array will be divided\n",
      "        into N equal arrays along `axis`.  If such a split is not possible,\n",
      "        an error is raised.\n",
      "    \n",
      "        If `indices_or_sections` is a 1-D array of sorted integers, the entries\n",
      "        indicate where along `axis` the array is split.  For example,\n",
      "        ``[2, 3]`` would, for ``axis=0``, result in\n",
      "    \n",
      "          - ary[:2]\n",
      "          - ary[2:3]\n",
      "          - ary[3:]\n",
      "    \n",
      "        If an index exceeds the dimension of the array along `axis`,\n",
      "        an empty sub-array is returned correspondingly.\n",
      "    axis : int, optional\n",
      "        The axis along which to split, default is 0.\n",
      "    \n",
      "    Returns\n",
      "    -------\n",
      "    sub-arrays : list of ndarrays\n",
      "        A list of sub-arrays.\n",
      "    \n",
      "    Raises\n",
      "    ------\n",
      "    ValueError\n",
      "        If `indices_or_sections` is given as an integer, but\n",
      "        a split does not result in equal division.\n",
      "    \n",
      "    See Also\n",
      "    --------\n",
      "    array_split : Split an array into multiple sub-arrays of equal or\n",
      "                  near-equal size.  Does not raise an exception if\n",
      "                  an equal division cannot be made.\n",
      "    hsplit : Split array into multiple sub-arrays horizontally (column-wise).\n",
      "    vsplit : Split array into multiple sub-arrays vertically (row wise).\n",
      "    dsplit : Split array into multiple sub-arrays along the 3rd axis (depth).\n",
      "    concatenate : Join a sequence of arrays along an existing axis.\n",
      "    stack : Join a sequence of arrays along a new axis.\n",
      "    hstack : Stack arrays in sequence horizontally (column wise).\n",
      "    vstack : Stack arrays in sequence vertically (row wise).\n",
      "    dstack : Stack arrays in sequence depth wise (along third dimension).\n",
      "    \n",
      "    Examples\n",
      "    --------\n",
      "    >>> x = np.arange(9.0)\n",
      "    >>> np.split(x, 3)\n",
      "    [array([ 0.,  1.,  2.]), array([ 3.,  4.,  5.]), array([ 6.,  7.,  8.])]\n",
      "    \n",
      "    >>> x = np.arange(8.0)\n",
      "    >>> np.split(x, [3, 5, 6, 10])\n",
      "    [array([ 0.,  1.,  2.]),\n",
      "     array([ 3.,  4.]),\n",
      "     array([ 5.]),\n",
      "     array([ 6.,  7.]),\n",
      "     array([], dtype=float64)]\n",
      "\n"
     ]
    }
   ],
   "source": [
    "help(np.split)"
   ]
  },
  {
   "cell_type": "code",
   "execution_count": 3,
   "metadata": {
    "collapsed": true
   },
   "outputs": [],
   "source": [
    "x1,x2,x3 = np.split(a,[3,5])"
   ]
  },
  {
   "cell_type": "code",
   "execution_count": 4,
   "metadata": {},
   "outputs": [
    {
     "data": {
      "text/plain": [
       "array([1, 2, 3])"
      ]
     },
     "execution_count": 4,
     "metadata": {},
     "output_type": "execute_result"
    }
   ],
   "source": [
    "x1"
   ]
  },
  {
   "cell_type": "markdown",
   "metadata": {},
   "source": [
    "### 분할된 결과는 사본이 아닌 뷰를 제공한다"
   ]
  },
  {
   "cell_type": "code",
   "execution_count": 7,
   "metadata": {},
   "outputs": [
    {
     "data": {
      "text/plain": [
       "array([1, 2, 3, 4, 5, 6])"
      ]
     },
     "execution_count": 7,
     "metadata": {},
     "output_type": "execute_result"
    }
   ],
   "source": [
    "x1.base"
   ]
  },
  {
   "cell_type": "code",
   "execution_count": 5,
   "metadata": {},
   "outputs": [
    {
     "data": {
      "text/plain": [
       "array([4, 5])"
      ]
     },
     "execution_count": 5,
     "metadata": {},
     "output_type": "execute_result"
    }
   ],
   "source": [
    "x2"
   ]
  },
  {
   "cell_type": "code",
   "execution_count": 8,
   "metadata": {},
   "outputs": [
    {
     "data": {
      "text/plain": [
       "array([1, 2, 3, 4, 5, 6])"
      ]
     },
     "execution_count": 8,
     "metadata": {},
     "output_type": "execute_result"
    }
   ],
   "source": [
    "x2.base"
   ]
  },
  {
   "cell_type": "code",
   "execution_count": 6,
   "metadata": {},
   "outputs": [
    {
     "data": {
      "text/plain": [
       "array([6])"
      ]
     },
     "execution_count": 6,
     "metadata": {},
     "output_type": "execute_result"
    }
   ],
   "source": [
    "x3"
   ]
  },
  {
   "cell_type": "code",
   "execution_count": 9,
   "metadata": {},
   "outputs": [
    {
     "data": {
      "text/plain": [
       "array([1, 2, 3, 4, 5, 6])"
      ]
     },
     "execution_count": 9,
     "metadata": {},
     "output_type": "execute_result"
    }
   ],
   "source": [
    "x3.base"
   ]
  },
  {
   "cell_type": "markdown",
   "metadata": {},
   "source": [
    "## 수직으로 분할하기"
   ]
  },
  {
   "cell_type": "code",
   "execution_count": 11,
   "metadata": {},
   "outputs": [
    {
     "name": "stdout",
     "output_type": "stream",
     "text": [
      "Help on function vsplit in module numpy.lib.shape_base:\n",
      "\n",
      "vsplit(ary, indices_or_sections)\n",
      "    Split an array into multiple sub-arrays vertically (row-wise).\n",
      "    \n",
      "    Please refer to the ``split`` documentation.  ``vsplit`` is equivalent\n",
      "    to ``split`` with `axis=0` (default), the array is always split along the\n",
      "    first axis regardless of the array dimension.\n",
      "    \n",
      "    See Also\n",
      "    --------\n",
      "    split : Split an array into multiple sub-arrays of equal size.\n",
      "    \n",
      "    Examples\n",
      "    --------\n",
      "    >>> x = np.arange(16.0).reshape(4, 4)\n",
      "    >>> x\n",
      "    array([[  0.,   1.,   2.,   3.],\n",
      "           [  4.,   5.,   6.,   7.],\n",
      "           [  8.,   9.,  10.,  11.],\n",
      "           [ 12.,  13.,  14.,  15.]])\n",
      "    >>> np.vsplit(x, 2)\n",
      "    [array([[ 0.,  1.,  2.,  3.],\n",
      "           [ 4.,  5.,  6.,  7.]]),\n",
      "     array([[  8.,   9.,  10.,  11.],\n",
      "           [ 12.,  13.,  14.,  15.]])]\n",
      "    >>> np.vsplit(x, np.array([3, 6]))\n",
      "    [array([[  0.,   1.,   2.,   3.],\n",
      "           [  4.,   5.,   6.,   7.],\n",
      "           [  8.,   9.,  10.,  11.]]),\n",
      "     array([[ 12.,  13.,  14.,  15.]]),\n",
      "     array([], dtype=float64)]\n",
      "    \n",
      "    With a higher dimensional array the split is still along the first axis.\n",
      "    \n",
      "    >>> x = np.arange(8.0).reshape(2, 2, 2)\n",
      "    >>> x\n",
      "    array([[[ 0.,  1.],\n",
      "            [ 2.,  3.]],\n",
      "           [[ 4.,  5.],\n",
      "            [ 6.,  7.]]])\n",
      "    >>> np.vsplit(x, 2)\n",
      "    [array([[[ 0.,  1.],\n",
      "            [ 2.,  3.]]]),\n",
      "     array([[[ 4.,  5.],\n",
      "            [ 6.,  7.]]])]\n",
      "\n"
     ]
    }
   ],
   "source": [
    "help(np.vsplit)"
   ]
  },
  {
   "cell_type": "code",
   "execution_count": 12,
   "metadata": {
    "collapsed": true
   },
   "outputs": [],
   "source": [
    "x = np.arange(16.0).reshape(4, 4)"
   ]
  },
  {
   "cell_type": "markdown",
   "metadata": {},
   "source": [
    "### 스칼라 값으로 넣으면 그 값을 기준으로 두개로만 분리"
   ]
  },
  {
   "cell_type": "code",
   "execution_count": 13,
   "metadata": {},
   "outputs": [
    {
     "data": {
      "text/plain": [
       "[array([[ 0.,  1.,  2.,  3.],\n",
       "        [ 4.,  5.,  6.,  7.]]), array([[  8.,   9.,  10.,  11.],\n",
       "        [ 12.,  13.,  14.,  15.]])]"
      ]
     },
     "execution_count": 13,
     "metadata": {},
     "output_type": "execute_result"
    }
   ],
   "source": [
    "np.vsplit(x, 2)"
   ]
  },
  {
   "cell_type": "markdown",
   "metadata": {},
   "source": [
    "### 배열로 처리하면 배열의 기준으로 행을 분리"
   ]
  },
  {
   "cell_type": "code",
   "execution_count": 15,
   "metadata": {},
   "outputs": [
    {
     "data": {
      "text/plain": [
       "[array([[  0.,   1.,   2.,   3.],\n",
       "        [  4.,   5.,   6.,   7.],\n",
       "        [  8.,   9.,  10.,  11.]]),\n",
       " array([[ 12.,  13.,  14.,  15.]]),\n",
       " array([], shape=(0, 4), dtype=float64)]"
      ]
     },
     "execution_count": 15,
     "metadata": {},
     "output_type": "execute_result"
    }
   ],
   "source": [
    "np.vsplit(x, [3, 6])"
   ]
  },
  {
   "cell_type": "code",
   "execution_count": 16,
   "metadata": {},
   "outputs": [
    {
     "data": {
      "text/plain": [
       "[array([[  0.,   1.,   2.,   3.],\n",
       "        [  4.,   5.,   6.,   7.],\n",
       "        [  8.,   9.,  10.,  11.]]),\n",
       " array([[ 12.,  13.,  14.,  15.]]),\n",
       " array([], shape=(0, 4), dtype=float64)]"
      ]
     },
     "execution_count": 16,
     "metadata": {},
     "output_type": "execute_result"
    }
   ],
   "source": [
    "np.vsplit(x, np.array([3, 6]))"
   ]
  },
  {
   "cell_type": "markdown",
   "metadata": {},
   "source": [
    "## 수평으로 분리"
   ]
  },
  {
   "cell_type": "code",
   "execution_count": 17,
   "metadata": {},
   "outputs": [
    {
     "name": "stdout",
     "output_type": "stream",
     "text": [
      "Help on function hsplit in module numpy.lib.shape_base:\n",
      "\n",
      "hsplit(ary, indices_or_sections)\n",
      "    Split an array into multiple sub-arrays horizontally (column-wise).\n",
      "    \n",
      "    Please refer to the `split` documentation.  `hsplit` is equivalent\n",
      "    to `split` with ``axis=1``, the array is always split along the second\n",
      "    axis regardless of the array dimension.\n",
      "    \n",
      "    See Also\n",
      "    --------\n",
      "    split : Split an array into multiple sub-arrays of equal size.\n",
      "    \n",
      "    Examples\n",
      "    --------\n",
      "    >>> x = np.arange(16.0).reshape(4, 4)\n",
      "    >>> x\n",
      "    array([[  0.,   1.,   2.,   3.],\n",
      "           [  4.,   5.,   6.,   7.],\n",
      "           [  8.,   9.,  10.,  11.],\n",
      "           [ 12.,  13.,  14.,  15.]])\n",
      "    >>> np.hsplit(x, 2)\n",
      "    [array([[  0.,   1.],\n",
      "           [  4.,   5.],\n",
      "           [  8.,   9.],\n",
      "           [ 12.,  13.]]),\n",
      "     array([[  2.,   3.],\n",
      "           [  6.,   7.],\n",
      "           [ 10.,  11.],\n",
      "           [ 14.,  15.]])]\n",
      "    >>> np.hsplit(x, np.array([3, 6]))\n",
      "    [array([[  0.,   1.,   2.],\n",
      "           [  4.,   5.,   6.],\n",
      "           [  8.,   9.,  10.],\n",
      "           [ 12.,  13.,  14.]]),\n",
      "     array([[  3.],\n",
      "           [  7.],\n",
      "           [ 11.],\n",
      "           [ 15.]]),\n",
      "     array([], dtype=float64)]\n",
      "    \n",
      "    With a higher dimensional array the split is still along the second axis.\n",
      "    \n",
      "    >>> x = np.arange(8.0).reshape(2, 2, 2)\n",
      "    >>> x\n",
      "    array([[[ 0.,  1.],\n",
      "            [ 2.,  3.]],\n",
      "           [[ 4.,  5.],\n",
      "            [ 6.,  7.]]])\n",
      "    >>> np.hsplit(x, 2)\n",
      "    [array([[[ 0.,  1.]],\n",
      "           [[ 4.,  5.]]]),\n",
      "     array([[[ 2.,  3.]],\n",
      "           [[ 6.,  7.]]])]\n",
      "\n"
     ]
    }
   ],
   "source": [
    "help(np.hsplit)"
   ]
  },
  {
   "cell_type": "code",
   "execution_count": 18,
   "metadata": {},
   "outputs": [
    {
     "data": {
      "text/plain": [
       "[array([[  0.,   1.],\n",
       "        [  4.,   5.],\n",
       "        [  8.,   9.],\n",
       "        [ 12.,  13.]]), array([[  2.,   3.],\n",
       "        [  6.,   7.],\n",
       "        [ 10.,  11.],\n",
       "        [ 14.,  15.]])]"
      ]
     },
     "execution_count": 18,
     "metadata": {},
     "output_type": "execute_result"
    }
   ],
   "source": [
    "np.hsplit(x, 2)"
   ]
  },
  {
   "cell_type": "code",
   "execution_count": 19,
   "metadata": {},
   "outputs": [
    {
     "data": {
      "text/plain": [
       "[array([[  0.,   1.,   2.],\n",
       "        [  4.,   5.,   6.],\n",
       "        [  8.,   9.,  10.],\n",
       "        [ 12.,  13.,  14.]]), array([[  3.],\n",
       "        [  7.],\n",
       "        [ 11.],\n",
       "        [ 15.]]), array([], shape=(4, 0), dtype=float64)]"
      ]
     },
     "execution_count": 19,
     "metadata": {},
     "output_type": "execute_result"
    }
   ],
   "source": [
    "np.hsplit(x, np.array([3, 6]))"
   ]
  },
  {
   "cell_type": "code",
   "execution_count": null,
   "metadata": {
    "collapsed": true
   },
   "outputs": [],
   "source": []
  }
 ],
 "metadata": {
  "kernelspec": {
   "display_name": "Python 3",
   "language": "python",
   "name": "python3"
  },
  "language_info": {
   "codemirror_mode": {
    "name": "ipython",
    "version": 3
   },
   "file_extension": ".py",
   "mimetype": "text/x-python",
   "name": "python",
   "nbconvert_exporter": "python",
   "pygments_lexer": "ipython3",
   "version": "3.6.1"
  }
 },
 "nbformat": 4,
 "nbformat_minor": 2
}
