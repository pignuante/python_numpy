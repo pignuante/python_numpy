{
 "cells": [
  {
   "cell_type": "code",
   "execution_count": 1,
   "metadata": {
    "collapsed": true
   },
   "outputs": [],
   "source": [
    "import numpy as np"
   ]
  },
  {
   "cell_type": "code",
   "execution_count": 43,
   "metadata": {},
   "outputs": [
    {
     "name": "stdout",
     "output_type": "stream",
     "text": [
      "[0 1 2 3 4 5 6 7 8 9]\n",
      "1\n",
      "(10,)\n",
      "(4,)\n"
     ]
    }
   ],
   "source": [
    "import numpy as np\n",
    "\n",
    "v = np.arange(0,10)\n",
    "print(v)\n",
    "print(v.ndim)\n",
    "print(v.shape)\n",
    "print(v.strides)"
   ]
  },
  {
   "cell_type": "code",
   "execution_count": 45,
   "metadata": {},
   "outputs": [
    {
     "name": "stdout",
     "output_type": "stream",
     "text": [
      "[0 1 2]\n",
      "[4 5 6]\n",
      "17\n"
     ]
    }
   ],
   "source": [
    "import numpy as np\n",
    "\n",
    "v1 = np.arange(0,3)\n",
    "v2 = np.arange(4,7)\n",
    "print(v1)\n",
    "print(v2)\n",
    "print(np.dot(v1,v2))"
   ]
  },
  {
   "cell_type": "code",
   "execution_count": 5,
   "metadata": {},
   "outputs": [
    {
     "name": "stdout",
     "output_type": "stream",
     "text": [
      "<class 'numpy.ndarray'>\n",
      "(2, 3)\n",
      "int32\n"
     ]
    }
   ],
   "source": [
    "import numpy as np\n",
    "a = np.array([[1,2,3],[4,5,6]])\n",
    "\n",
    "print(type(a))\n",
    "print(a.shape)\n",
    "print(a.dtype)"
   ]
  },
  {
   "cell_type": "code",
   "execution_count": 7,
   "metadata": {},
   "outputs": [
    {
     "name": "stdout",
     "output_type": "stream",
     "text": [
      "2\n"
     ]
    }
   ],
   "source": [
    "print(a[0,1])"
   ]
  },
  {
   "cell_type": "code",
   "execution_count": 9,
   "metadata": {},
   "outputs": [
    {
     "name": "stdout",
     "output_type": "stream",
     "text": [
      "[1 2 3 4 5 6]\n"
     ]
    }
   ],
   "source": [
    "print(a.flatten())"
   ]
  },
  {
   "cell_type": "code",
   "execution_count": 11,
   "metadata": {},
   "outputs": [
    {
     "name": "stdout",
     "output_type": "stream",
     "text": [
      "[[[ 0  1  2  3  4]\n",
      "  [ 5  6  7  8  9]\n",
      "  [10 11 12 13 14]\n",
      "  [15 16 17 18 19]]\n",
      "\n",
      " [[20 21 22 23 24]\n",
      "  [25 26 27 28 29]\n",
      "  [30 31 32 33 34]\n",
      "  [35 36 37 38 39]]\n",
      "\n",
      " [[40 41 42 43 44]\n",
      "  [45 46 47 48 49]\n",
      "  [50 51 52 53 54]\n",
      "  [55 56 57 58 59]]]\n"
     ]
    }
   ],
   "source": [
    "a = np.arange(60).reshape(3,4,5)\n",
    "print(a)"
   ]
  },
  {
   "cell_type": "code",
   "execution_count": 18,
   "metadata": {},
   "outputs": [
    {
     "name": "stdout",
     "output_type": "stream",
     "text": [
      "[[ 3  8 13 18]\n",
      " [23 28 33 38]\n",
      " [43 48 53 58]]\n",
      "(3, 4)\n",
      "[[ 3  8 13 18]\n",
      " [23 28 33 38]\n",
      " [43 48 53 58]]\n",
      "(3, 4)\n"
     ]
    }
   ],
   "source": [
    "print(a[...,3])\n",
    "print(a[...,3].shape)\n",
    "print(a[:,:,3])\n",
    "print(a[:,:,3].shape)"
   ]
  },
  {
   "cell_type": "code",
   "execution_count": 13,
   "metadata": {},
   "outputs": [
    {
     "name": "stdout",
     "output_type": "stream",
     "text": [
      "[23 28 33 38]\n"
     ]
    }
   ],
   "source": [
    "print(a[1,...,3])"
   ]
  },
  {
   "cell_type": "code",
   "execution_count": 14,
   "metadata": {},
   "outputs": [
    {
     "name": "stdout",
     "output_type": "stream",
     "text": [
      "[[ 2  7 12 17]\n",
      " [22 27 32 37]\n",
      " [42 47 52 57]]\n"
     ]
    }
   ],
   "source": [
    "print(a[:,:,2])"
   ]
  },
  {
   "cell_type": "code",
   "execution_count": 15,
   "metadata": {},
   "outputs": [
    {
     "name": "stdout",
     "output_type": "stream",
     "text": [
      "[[ 0  2  4]\n",
      " [10 12 14]]\n"
     ]
    }
   ],
   "source": [
    "print(a[0,::2,::2])"
   ]
  },
  {
   "cell_type": "code",
   "execution_count": 31,
   "metadata": {},
   "outputs": [
    {
     "name": "stdout",
     "output_type": "stream",
     "text": [
      "[[ 72  78  84  90]\n",
      " [ 84  91  98 105]\n",
      " [ 96 104 112 120]\n",
      " [108 117 126 135]]\n"
     ]
    }
   ],
   "source": [
    "bbbb = np.vstack((b,b,b,b))\n",
    "tableb = a[:,np.newaxis] * bbbb\n",
    "print(tableb)"
   ]
  },
  {
   "cell_type": "code",
   "execution_count": 28,
   "metadata": {},
   "outputs": [
    {
     "name": "stdout",
     "output_type": "stream",
     "text": [
      "Help on function vstack in module numpy.core.shape_base:\n",
      "\n",
      "vstack(tup)\n",
      "    Stack arrays in sequence vertically (row wise).\n",
      "    \n",
      "    Take a sequence of arrays and stack them vertically to make a single\n",
      "    array. Rebuild arrays divided by `vsplit`.\n",
      "    \n",
      "    This function continues to be supported for backward compatibility, but\n",
      "    you should prefer ``np.concatenate`` or ``np.stack``. The ``np.stack``\n",
      "    function was added in NumPy 1.10.\n",
      "    \n",
      "    Parameters\n",
      "    ----------\n",
      "    tup : sequence of ndarrays\n",
      "        Tuple containing arrays to be stacked. The arrays must have the same\n",
      "        shape along all but the first axis.\n",
      "    \n",
      "    Returns\n",
      "    -------\n",
      "    stacked : ndarray\n",
      "        The array formed by stacking the given arrays.\n",
      "    \n",
      "    See Also\n",
      "    --------\n",
      "    stack : Join a sequence of arrays along a new axis.\n",
      "    hstack : Stack arrays in sequence horizontally (column wise).\n",
      "    dstack : Stack arrays in sequence depth wise (along third dimension).\n",
      "    concatenate : Join a sequence of arrays along an existing axis.\n",
      "    vsplit : Split array into a list of multiple sub-arrays vertically.\n",
      "    \n",
      "    Notes\n",
      "    -----\n",
      "    Equivalent to ``np.concatenate(tup, axis=0)`` if `tup` contains arrays that\n",
      "    are at least 2-dimensional.\n",
      "    \n",
      "    Examples\n",
      "    --------\n",
      "    >>> a = np.array([1, 2, 3])\n",
      "    >>> b = np.array([2, 3, 4])\n",
      "    >>> np.vstack((a,b))\n",
      "    array([[1, 2, 3],\n",
      "           [2, 3, 4]])\n",
      "    \n",
      "    >>> a = np.array([[1], [2], [3]])\n",
      "    >>> b = np.array([[2], [3], [4]])\n",
      "    >>> np.vstack((a,b))\n",
      "    array([[1],\n",
      "           [2],\n",
      "           [3],\n",
      "           [2],\n",
      "           [3],\n",
      "           [4]])\n",
      "\n"
     ]
    }
   ],
   "source": [
    "help(np.vstack)"
   ]
  },
  {
   "cell_type": "code",
   "execution_count": 23,
   "metadata": {},
   "outputs": [
    {
     "name": "stdout",
     "output_type": "stream",
     "text": [
      "[6 7 8 9]\n",
      "[12 13 14 15]\n",
      "[ 72  91 112 135]\n"
     ]
    }
   ],
   "source": [
    "a = np.arange(6, 10)\n",
    "print(a)\n",
    "b = np.arange(12, 16)\n",
    "print(b)\n",
    "print(a*b)"
   ]
  },
  {
   "cell_type": "code",
   "execution_count": 54,
   "metadata": {},
   "outputs": [
    {
     "name": "stdout",
     "output_type": "stream",
     "text": [
      "[ 0  1  2  3  4  5  6  7  8  9 10 11 12 13 14 15]\n",
      "[[ 0  1  2  3]\n",
      " [ 4  5  6  7]\n",
      " [ 8  9 10 11]\n",
      " [12 13 14 15]]\n",
      "False\n",
      "[ 0 99  2  3  4  5  6  7  8  9 10 11 12 13 14 15]\n",
      "[[ 0 99  2  3]\n",
      " [ 4  5  6  7]\n",
      " [ 8  9 10 11]\n",
      " [12 13 14 15]]\n"
     ]
    }
   ],
   "source": [
    "import numpy as np\n",
    "arr = np.arange(16)\n",
    "print(arr)\n",
    "\n",
    "arr2 = np.reshape(arr,(4,4))\n",
    "print(arr2)\n",
    "\n",
    "arr2[0,1] = 99\n",
    "print(arr)\n",
    "print(arr2)"
   ]
  },
  {
   "cell_type": "code",
   "execution_count": 55,
   "metadata": {},
   "outputs": [
    {
     "name": "stdout",
     "output_type": "stream",
     "text": [
      "[ 0  1  2  3  4  5  6  7  8  9 10 11 12 13 14 15]\n",
      "[[ 0  1  2  3]\n",
      " [ 4  5  6  7]\n",
      " [ 8  9 10 11]\n",
      " [12 13 14 15]]\n"
     ]
    }
   ],
   "source": [
    "import numpy as np\n",
    "arr = np.arange(16)\n",
    "print(arr)\n",
    "\n",
    "arr2 = np.reshape(arr,(4,-1))\n",
    "print(arr2)\n"
   ]
  },
  {
   "cell_type": "code",
   "execution_count": 65,
   "metadata": {},
   "outputs": [
    {
     "name": "stdout",
     "output_type": "stream",
     "text": [
      "[[ 1  2  3]\n",
      " [ 4  5  6]\n",
      " [ 7  8  9]\n",
      " [10 11 12]]\n",
      "[[1 2 3]]\n",
      "[[4 5 6]\n",
      " [7 8 9]]\n",
      "[[10 11 12]]\n"
     ]
    }
   ],
   "source": [
    "import numpy as np\n",
    "\n",
    "ar1 = np.array([[1,2,3],[4,5,6]])\n",
    "ar2 = np.array([[7,8,9],[10,11,12]])\n",
    "\n",
    "ar120 = np.vstack([ar1,ar2])\n",
    "print(ar120)\n",
    "a1, a2, a3 = np.split(ar120,[1,3])\n",
    "print(a1)\n",
    "print(a2)\n",
    "print(a3)"
   ]
  },
  {
   "cell_type": "code",
   "execution_count": 66,
   "metadata": {},
   "outputs": [
    {
     "name": "stdout",
     "output_type": "stream",
     "text": [
      "[[ 1  2  3]\n",
      " [ 4  5  6]\n",
      " [ 7  8  9]\n",
      " [10 11 12]]\n",
      "[[1 2 3]]\n",
      "[[4 5 6]\n",
      " [7 8 9]]\n",
      "[[10 11 12]]\n"
     ]
    }
   ],
   "source": [
    "import numpy as np\n",
    "\n",
    "ar1 = np.array([[1,2,3],[4,5,6]])\n",
    "ar2 = np.array([[7,8,9],[10,11,12]])\n",
    "\n",
    "ar120 = np.vstack([ar1,ar2])\n",
    "print(ar120)\n",
    "a1, a2, a3 = np.vsplit(ar120,[1,3])\n",
    "print(a1)\n",
    "print(a2)\n",
    "print(a3)"
   ]
  },
  {
   "cell_type": "code",
   "execution_count": 67,
   "metadata": {},
   "outputs": [
    {
     "name": "stdout",
     "output_type": "stream",
     "text": [
      "[[ 1  2  3  7  8  9]\n",
      " [ 4  5  6 10 11 12]]\n",
      "[[1]\n",
      " [4]]\n",
      "[[2 3]\n",
      " [5 6]]\n",
      "[[ 7  8  9]\n",
      " [10 11 12]]\n"
     ]
    }
   ],
   "source": [
    "import numpy as np\n",
    "\n",
    "ar1 = np.array([[1,2,3],[4,5,6]])\n",
    "ar2 = np.array([[7,8,9],[10,11,12]])\n",
    "\n",
    "ar120 = np.hstack([ar1,ar2])\n",
    "print(ar120)\n",
    "a1, a2, a3 = np.hsplit(ar120,[1,3])\n",
    "print(a1)\n",
    "print(a2)\n",
    "print(a3)"
   ]
  },
  {
   "cell_type": "code",
   "execution_count": 76,
   "metadata": {},
   "outputs": [
    {
     "name": "stdout",
     "output_type": "stream",
     "text": [
      "[1 2 3 4 5]\n",
      "[1 1 2 2 3 3 4 4 5 5]\n",
      "[1 1 2 2 3 3 4 4 5 5]\n"
     ]
    }
   ],
   "source": [
    "import numpy as np\n",
    "\n",
    "ar = np.linspace(1,5,5,dtype=np.int32)\n",
    "print(ar)\n",
    "\n",
    "print(ar.repeat(2))\n",
    "\n",
    "print(ar.repeat([2,2,2,2,2]))"
   ]
  },
  {
   "cell_type": "code",
   "execution_count": 80,
   "metadata": {},
   "outputs": [
    {
     "name": "stdout",
     "output_type": "stream",
     "text": [
      "[[1 2]\n",
      " [3 4]]\n",
      "[[1 2]\n",
      " [1 2]\n",
      " [3 4]\n",
      " [3 4]]\n",
      "[[1 1 2 2]\n",
      " [3 3 4 4]]\n"
     ]
    }
   ],
   "source": [
    "import numpy as np\n",
    "\n",
    "ar = np.linspace(1,4,4,dtype=np.int32).reshape((2,2))\n",
    "print(ar)\n",
    "\n",
    "print(ar.repeat(2, axis=0))\n",
    "print(ar.repeat(2, axis=1))\n"
   ]
  },
  {
   "cell_type": "code",
   "execution_count": 81,
   "metadata": {},
   "outputs": [
    {
     "name": "stdout",
     "output_type": "stream",
     "text": [
      "[[1 2]\n",
      " [3 4]]\n",
      "[[1 2]\n",
      " [1 2]\n",
      " [3 4]\n",
      " [3 4]\n",
      " [3 4]]\n",
      "[[1 1 2 2 2]\n",
      " [3 3 4 4 4]]\n"
     ]
    }
   ],
   "source": [
    "import numpy as np\n",
    "\n",
    "ar = np.linspace(1,4,4,dtype=np.int32).reshape((2,2))\n",
    "print(ar)\n",
    "\n",
    "print(ar.repeat([2,3], axis=0))\n",
    "print(ar.repeat([2,3], axis=1))\n"
   ]
  },
  {
   "cell_type": "code",
   "execution_count": 84,
   "metadata": {},
   "outputs": [
    {
     "name": "stdout",
     "output_type": "stream",
     "text": [
      "[[1 2]\n",
      " [3 4]]\n",
      "[[1 2 1 2]\n",
      " [3 4 3 4]]\n"
     ]
    }
   ],
   "source": [
    "import numpy as np\n",
    "\n",
    "ar = np.linspace(1,4,4,dtype=np.int32).reshape((2,2))\n",
    "print(ar)\n",
    "\n",
    "print(np.tile(ar,2))"
   ]
  },
  {
   "cell_type": "code",
   "execution_count": 85,
   "metadata": {},
   "outputs": [
    {
     "name": "stdout",
     "output_type": "stream",
     "text": [
      "[[1 2]\n",
      " [3 4]]\n",
      "[[1 2 1 2]\n",
      " [3 4 3 4]\n",
      " [1 2 1 2]\n",
      " [3 4 3 4]]\n"
     ]
    }
   ],
   "source": [
    "import numpy as np\n",
    "\n",
    "ar = np.linspace(1,4,4,dtype=np.int32).reshape((2,2))\n",
    "print(ar)\n",
    "\n",
    "print(np.tile(ar,[2,2]))"
   ]
  },
  {
   "cell_type": "code",
   "execution_count": 86,
   "metadata": {},
   "outputs": [
    {
     "name": "stdout",
     "output_type": "stream",
     "text": [
      "[[1 2]\n",
      " [3 4]]\n",
      "[2 3]\n"
     ]
    }
   ],
   "source": [
    "import numpy as np\n",
    "\n",
    "ar = np.linspace(1,4,4,dtype=np.int32).reshape((2,2))\n",
    "print(ar)\n",
    "\n",
    "indx = [1,2]\n",
    "fn = ar.take(indx)\n",
    "print(fn)"
   ]
  },
  {
   "cell_type": "code",
   "execution_count": 92,
   "metadata": {},
   "outputs": [
    {
     "name": "stdout",
     "output_type": "stream",
     "text": [
      "[[1 2]\n",
      " [3 4]]\n",
      "[99 99]\n",
      "[100  99]\n",
      "[[ 1 99]\n",
      " [99  4]]\n"
     ]
    }
   ],
   "source": [
    "import numpy as np\n",
    "\n",
    "ar = np.linspace(1,4,4,dtype=np.int32).reshape((2,2))\n",
    "print(ar)\n",
    "\n",
    "indx = [1,2]\n",
    "ar.put(indx,99)\n",
    "fn = ar.take(indx)\n",
    "print(fn)\n",
    "fn[0] = 100\n",
    "print(fn)\n",
    "print(ar)"
   ]
  },
  {
   "cell_type": "code",
   "execution_count": 94,
   "metadata": {},
   "outputs": [
    {
     "name": "stdout",
     "output_type": "stream",
     "text": [
      "[[1 2]\n",
      " [3 4]]\n",
      "[[11 12]\n",
      " [13 14]]\n",
      "[[11 12]\n",
      " [13 14]]\n"
     ]
    }
   ],
   "source": [
    "import numpy as np\n",
    "\n",
    "ar = np.linspace(1,4,4,dtype=np.int32).reshape((2,2))\n",
    "print(ar)\n",
    "\n",
    "ar2 = ar + 10\n",
    "print(ar2)\n",
    "\n",
    "ar10 = np.array([[10,10],[10,10]])\n",
    "ar20 = ar + ar10\n",
    "print(ar20)"
   ]
  },
  {
   "cell_type": "code",
   "execution_count": 99,
   "metadata": {},
   "outputs": [
    {
     "name": "stdout",
     "output_type": "stream",
     "text": [
      "[[1 2]\n",
      " [3 4]]\n",
      "[[11 12]\n",
      " [13 14]]\n",
      "[[10 10]\n",
      " [10 10]]\n",
      "[[11 12]\n",
      " [13 14]]\n"
     ]
    }
   ],
   "source": [
    "import numpy as np\n",
    "\n",
    "ar = np.linspace(1,4,4,dtype=np.int32).reshape((2,2))\n",
    "print(ar)\n",
    "\n",
    "ar1 = np.array([10,10]).reshape((2,1))\n",
    "ar2 = ar + ar1\n",
    "print(ar2)\n",
    "\n",
    "ar10 = np.vstack([ar1,ar1])\n",
    "print(ar10)\n",
    "ar20 = ar + ar10\n",
    "print(ar20)"
   ]
  },
  {
   "cell_type": "code",
   "execution_count": 100,
   "metadata": {},
   "outputs": [
    {
     "name": "stdout",
     "output_type": "stream",
     "text": [
      "[[1 2]\n",
      " [3 4]]\n",
      "[[11 12]\n",
      " [13 14]]\n",
      "[[10 10]\n",
      " [10 10]]\n",
      "[[11 12]\n",
      " [13 14]]\n"
     ]
    }
   ],
   "source": [
    "import numpy as np\n",
    "\n",
    "ar = np.linspace(1,4,4,dtype=np.int32).reshape((2,2))\n",
    "print(ar)\n",
    "\n",
    "ar1 = np.array([10,10]).reshape((2,1))\n",
    "ar2 = ar + ar1\n",
    "print(ar2)\n",
    "\n",
    "ar10 = np.hstack([ar1,ar1])\n",
    "print(ar10)\n",
    "ar20 = ar + ar10\n",
    "print(ar20)"
   ]
  },
  {
   "cell_type": "code",
   "execution_count": 109,
   "metadata": {},
   "outputs": [
    {
     "name": "stdout",
     "output_type": "stream",
     "text": [
      "[[[1 2]\n",
      "  [3 4]]\n",
      "\n",
      " [[5 6]\n",
      "  [7 8]]]\n",
      "[[[11 12]\n",
      "  [13 14]]\n",
      "\n",
      " [[15 16]\n",
      "  [17 18]]]\n",
      "[[[11 12]\n",
      "  [13 14]]\n",
      "\n",
      " [[15 16]\n",
      "  [17 18]]]\n"
     ]
    }
   ],
   "source": [
    "import numpy as np\n",
    "\n",
    "ar = np.linspace(1,8,8,dtype=np.int32).reshape((2,2,2))\n",
    "print(ar)\n",
    "\n",
    "ar1 = np.array([10,10,10,10]).reshape((2,2))\n",
    "ar2 = ar + ar1\n",
    "print(ar2)\n",
    "\n",
    "ar30 = np.tile(ar1,[2,1,1])\n",
    "ar3 = ar + ar30\n",
    "print(ar3)"
   ]
  },
  {
   "cell_type": "code",
   "execution_count": 108,
   "metadata": {},
   "outputs": [
    {
     "name": "stdout",
     "output_type": "stream",
     "text": [
      "[[[10 10]\n",
      "  [10 10]]\n",
      "\n",
      " [[10 10]\n",
      "  [10 10]]]\n"
     ]
    }
   ],
   "source": [
    "print(np.tile(ar1,[2,1,1]))"
   ]
  },
  {
   "cell_type": "code",
   "execution_count": 112,
   "metadata": {},
   "outputs": [
    {
     "name": "stdout",
     "output_type": "stream",
     "text": [
      "45\n",
      "45\n"
     ]
    }
   ],
   "source": [
    "import numpy as np\n",
    "\n",
    "ar = np.arange(10)\n",
    "print(np.add.reduce(ar))\n",
    "\n",
    "print(ar.sum())"
   ]
  },
  {
   "cell_type": "code",
   "execution_count": 115,
   "metadata": {},
   "outputs": [
    {
     "name": "stdout",
     "output_type": "stream",
     "text": [
      "accumulate\n",
      "at\n",
      "identity\n",
      "nargs\n",
      "nin\n",
      "nout\n",
      "ntypes\n",
      "outer\n",
      "reduce\n",
      "reduceat\n",
      "signature\n",
      "types\n"
     ]
    }
   ],
   "source": [
    "import numpy as np\n",
    "\n",
    "a = dir(np.add)\n",
    "for i in a :\n",
    "    if i.startswith(\"_\") :\n",
    "        pass\n",
    "    else :\n",
    "        print(i)"
   ]
  },
  {
   "cell_type": "code",
   "execution_count": 145,
   "metadata": {},
   "outputs": [
    {
     "name": "stdout",
     "output_type": "stream",
     "text": [
      "(3, 4, 5)\n",
      "(5, 3, 4)\n"
     ]
    }
   ],
   "source": [
    "a = np.ones((3,4,5))\n",
    "\n",
    "print(a.shape)\n",
    "print(np.rollaxis(a, 2).shape)\n",
    "\n"
   ]
  },
  {
   "cell_type": "code",
   "execution_count": 142,
   "metadata": {},
   "outputs": [
    {
     "name": "stdout",
     "output_type": "stream",
     "text": [
      "Help on function rollaxis in module numpy.core.numeric:\n",
      "\n",
      "rollaxis(a, axis, start=0)\n",
      "    Roll the specified axis backwards, until it lies in a given position.\n",
      "    \n",
      "    Parameters\n",
      "    ----------\n",
      "    a : ndarray\n",
      "        Input array.\n",
      "    axis : int\n",
      "        The axis to roll backwards.  The positions of the other axes do not\n",
      "        change relative to one another.\n",
      "    start : int, optional\n",
      "        The axis is rolled until it lies before this position.  The default,\n",
      "        0, results in a \"complete\" roll.\n",
      "    \n",
      "    Returns\n",
      "    -------\n",
      "    res : ndarray\n",
      "        For NumPy >= 1.10.0 a view of `a` is always returned. For earlier\n",
      "        NumPy versions a view of `a` is returned only if the order of the\n",
      "        axes is changed, otherwise the input array is returned.\n",
      "    \n",
      "    See Also\n",
      "    --------\n",
      "    moveaxis : Move array axes to new positions.\n",
      "    roll : Roll the elements of an array by a number of positions along a\n",
      "        given axis.\n",
      "    \n",
      "    Examples\n",
      "    --------\n",
      "    >>> a = np.ones((3,4,5,6))\n",
      "    >>> np.rollaxis(a, 3, 1).shape\n",
      "    (3, 6, 4, 5)\n",
      "    >>> np.rollaxis(a, 2).shape\n",
      "    (5, 3, 4, 6)\n",
      "    >>> np.rollaxis(a, 1, 4).shape\n",
      "    (3, 5, 6, 4)\n",
      "\n"
     ]
    }
   ],
   "source": [
    "help(np.rollaxis)"
   ]
  },
  {
   "cell_type": "code",
   "execution_count": 148,
   "metadata": {},
   "outputs": [
    {
     "name": "stdout",
     "output_type": "stream",
     "text": [
      "[[3 4]\n",
      " [7 8]]\n",
      "[10 12]\n"
     ]
    }
   ],
   "source": [
    "k = np.array([[3,4],[7,8]])\n",
    "print(k)\n",
    "print(np.sum(k,axis=0))"
   ]
  },
  {
   "cell_type": "code",
   "execution_count": 147,
   "metadata": {},
   "outputs": [
    {
     "name": "stdout",
     "output_type": "stream",
     "text": [
      "[[3 4]\n",
      " [7 8]]\n",
      "[ 7 15]\n"
     ]
    }
   ],
   "source": [
    "k = np.array([[3,4],[7,8]])\n",
    "print(k)\n",
    "print(np.sum(k,axis=1))"
   ]
  },
  {
   "cell_type": "code",
   "execution_count": 150,
   "metadata": {},
   "outputs": [
    {
     "name": "stdout",
     "output_type": "stream",
     "text": [
      "[[[3 4]\n",
      "  [7 8]]\n",
      "\n",
      " [[5 6]\n",
      "  [1 2]]]\n",
      "[[ 8 10]\n",
      " [ 8 10]]\n",
      "[[ 8 10]\n",
      " [ 8 10]]\n"
     ]
    }
   ],
   "source": [
    "k = np.array([[[3,4],[7,8]],[[5,6],[1,2]] ])\n",
    "print(k)\n",
    "print(np.sum(k,axis=0))\n",
    "print(k[0]+k[1])"
   ]
  },
  {
   "cell_type": "code",
   "execution_count": 153,
   "metadata": {},
   "outputs": [
    {
     "name": "stdout",
     "output_type": "stream",
     "text": [
      "[[[3 4]\n",
      "  [7 8]]\n",
      "\n",
      " [[5 6]\n",
      "  [1 2]]]\n",
      "[[10 12]\n",
      " [ 6  8]]\n",
      "[10 12]\n",
      "[6 8]\n"
     ]
    }
   ],
   "source": [
    "k = np.array([[[3,4],[7,8]],[[5,6],[1,2]] ])\n",
    "print(k)\n",
    "\n",
    "print(np.sum(k,axis=1))\n",
    "print(k[0,0]+k[0,1])\n",
    "print(k[1,0]+k[1,1])"
   ]
  },
  {
   "cell_type": "code",
   "execution_count": 158,
   "metadata": {},
   "outputs": [
    {
     "name": "stdout",
     "output_type": "stream",
     "text": [
      "[[[3 4]\n",
      "  [7 8]]\n",
      "\n",
      " [[5 6]\n",
      "  [1 2]]]\n",
      "[[ 7 15]\n",
      " [11  3]]\n",
      "7\n",
      "15\n",
      "11\n",
      "3\n"
     ]
    }
   ],
   "source": [
    "k = np.array([[[3,4],[7,8]],[[5,6],[1,2]] ])\n",
    "print(k)\n",
    "\n",
    "print(np.sum(k,axis=2))\n",
    "print(k[0,0,0] + k[0,0,1])\n",
    "print(k[0,1,0] + k[0,1,1])\n",
    "print(k[1,0,0] + k[1,0,1])\n",
    "print(k[1,1,0] + k[1,1,1])"
   ]
  },
  {
   "cell_type": "code",
   "execution_count": 163,
   "metadata": {},
   "outputs": [
    {
     "name": "stdout",
     "output_type": "stream",
     "text": [
      "(4, 2, 3)\n"
     ]
    }
   ],
   "source": [
    "import numpy as np\n",
    "a = np.array([[[1,2,3],[2,2,3]],\n",
    "              [[2,4,5],[1,3,6]],\n",
    "              [[3,2,4],[2,3,4]],\n",
    "              [[4,2,4],[1,2,6]]])\n",
    "\n",
    "print(a.shape)"
   ]
  },
  {
   "cell_type": "code",
   "execution_count": 161,
   "metadata": {},
   "outputs": [
    {
     "name": "stdout",
     "output_type": "stream",
     "text": [
      "[[1 2 3]\n",
      " [2 2 3]]\n",
      "(2, 3)\n"
     ]
    }
   ],
   "source": [
    "print(a[0])\n",
    "print(a[0].shape)"
   ]
  },
  {
   "cell_type": "code",
   "execution_count": 162,
   "metadata": {},
   "outputs": [
    {
     "name": "stdout",
     "output_type": "stream",
     "text": [
      "[2 2 3]\n",
      "(3,)\n"
     ]
    }
   ],
   "source": [
    "print(a[0,1])\n",
    "print(a[0,1].shape)"
   ]
  },
  {
   "cell_type": "code",
   "execution_count": 169,
   "metadata": {},
   "outputs": [
    {
     "name": "stdout",
     "output_type": "stream",
     "text": [
      "(2,)\n",
      "[[1 2]]\n",
      "(1, 2)\n",
      "[[1 2]]\n"
     ]
    }
   ],
   "source": [
    "import numpy as np\n",
    "\n",
    "x = np.array([1,2])\n",
    "print(x.shape)\n",
    "y = np.expand_dims(x, axis=0)\n",
    "print(y)\n",
    "print(y.shape)\n",
    "\n",
    "print(x[np.newaxis,:])"
   ]
  },
  {
   "cell_type": "code",
   "execution_count": 170,
   "metadata": {},
   "outputs": [
    {
     "name": "stdout",
     "output_type": "stream",
     "text": [
      "(2,)\n",
      "[[1]\n",
      " [2]]\n",
      "(2, 1)\n",
      "[[1]\n",
      " [2]]\n"
     ]
    }
   ],
   "source": [
    "import numpy as np\n",
    "\n",
    "x = np.array([1,2])\n",
    "print(x.shape)\n",
    "y = np.expand_dims(x, axis=1)\n",
    "print(y)\n",
    "print(y.shape)\n",
    "\n",
    "print(x[:,np.newaxis])"
   ]
  },
  {
   "cell_type": "code",
   "execution_count": 172,
   "metadata": {},
   "outputs": [
    {
     "name": "stdout",
     "output_type": "stream",
     "text": [
      "[ 1.+1.j  1.-1.j]\n",
      "[[ 0.70710678+0.j          0.70710678-0.j        ]\n",
      " [ 0.00000000-0.70710678j  0.00000000+0.70710678j]]\n"
     ]
    }
   ],
   "source": [
    "from numpy import linalg as LA\n",
    "\n",
    "w, v = LA.eig(np.array([[1, -1], [1, 1]]))\n",
    "\n",
    "print(w)\n",
    "print(v)"
   ]
  },
  {
   "cell_type": "code",
   "execution_count": 174,
   "metadata": {},
   "outputs": [
    {
     "data": {
      "text/plain": [
       "array([[ 0.70710678+0.70710678j,  0.70710678-0.70710678j],\n",
       "       [ 0.70710678-0.70710678j,  0.70710678+0.70710678j]])"
      ]
     },
     "execution_count": 174,
     "metadata": {},
     "output_type": "execute_result"
    }
   ],
   "source": [
    "w* v"
   ]
  },
  {
   "cell_type": "code",
   "execution_count": 175,
   "metadata": {},
   "outputs": [
    {
     "name": "stdout",
     "output_type": "stream",
     "text": [
      "[[-0.85714286  0.39428571  0.33142857]\n",
      " [-0.42857143 -0.90285714 -0.03428571]\n",
      " [ 0.28571429 -0.17142857  0.94285714]]\n",
      "[[ -14.  -21.   14.]\n",
      " [   0. -175.   70.]\n",
      " [   0.    0.  -35.]]\n"
     ]
    }
   ],
   "source": [
    "import numpy as np\n",
    "from numpy import linalg as LA\n",
    "\n",
    "A = np.array([[12, -51, 4], [6, 167, -68], [-4, 24, -41]]) \n",
    "\n",
    "Q, R = LA.linalg.qr(A)\n",
    "\n",
    "print(Q)\n",
    "print(R)"
   ]
  },
  {
   "cell_type": "code",
   "execution_count": 178,
   "metadata": {},
   "outputs": [],
   "source": [
    "%matplotlib inline"
   ]
  },
  {
   "cell_type": "code",
   "execution_count": 278,
   "metadata": {},
   "outputs": [
    {
     "name": "stdout",
     "output_type": "stream",
     "text": [
      "2\n",
      "3\n",
      "[[ 0.87906816 -1.02314973  0.01904685 -0.16178389]\n",
      " [ 0.88825799 -0.05362091 -0.68102729 -0.05912072]\n",
      " [-1.16329473  1.43309034 -0.46282451 -1.26346215]]\n",
      "[1 2 0 1]\n",
      "[2 0 1 2]\n"
     ]
    }
   ],
   "source": [
    "import numpy as np\n",
    "\n",
    "a = np.array([1,3,7,0])\n",
    "print(np.argmax(a))\n",
    "print(np.argmin(a))\n",
    "\n",
    "b = np.random.randn(3,4)\n",
    "print(b)\n",
    "print(np.argmax(b, axis=0))\n",
    "print(np.argmin(b, axis=0))"
   ]
  },
  {
   "cell_type": "code",
   "execution_count": 279,
   "metadata": {},
   "outputs": [
    {
     "name": "stdout",
     "output_type": "stream",
     "text": [
      "[0 1 3 7]\n",
      "[3 0 1 2]\n",
      "[[-0.57764647  1.21445662  0.625727   -0.38781115]\n",
      " [-0.59549181  0.11292657 -0.17467122  1.14315302]\n",
      " [-1.31453909  1.52031455  1.09637448  1.43016153]]\n",
      "[[-1.31453909  0.11292657 -0.17467122 -0.38781115]\n",
      " [-0.59549181  1.21445662  0.625727    1.14315302]\n",
      " [-0.57764647  1.52031455  1.09637448  1.43016153]]\n",
      "[[2 1 1 0]\n",
      " [1 0 0 1]\n",
      " [0 2 2 2]]\n"
     ]
    }
   ],
   "source": [
    "import numpy as np\n",
    "\n",
    "a = np.array([1,3,7,0])\n",
    "print(np.sort(a))\n",
    "print(np.argsort(a))\n",
    "\n",
    "b = np.random.randn(3,4)\n",
    "print(b)\n",
    "print(np.sort(b, axis=0))\n",
    "print(np.argsort(b, axis=0))"
   ]
  },
  {
   "cell_type": "code",
   "execution_count": 281,
   "metadata": {},
   "outputs": [
    {
     "name": "stdout",
     "output_type": "stream",
     "text": [
      "True\n",
      "True\n",
      "True\n",
      "False\n"
     ]
    }
   ],
   "source": [
    "import numpy as np\n",
    "\n",
    "a = np.array([1,3,7,np.nan])\n",
    "print(np.any(a))\n",
    "print(np.all(a))\n",
    "\n",
    "x = np.arange(0,2,0.5)\n",
    "valeur = 2*x\n",
    "print(np.any(valeur < 0.6))\n",
    "print(np.all(valeur < 0.6))"
   ]
  },
  {
   "cell_type": "code",
   "execution_count": 296,
   "metadata": {},
   "outputs": [
    {
     "name": "stdout",
     "output_type": "stream",
     "text": [
      "[[ 0.  0.  0.  0.]\n",
      " [ 0.  0.  0.  0.]\n",
      " [ 0.  0.  0.  0.]]\n",
      "(array([], dtype=int64), array([], dtype=int64))\n",
      "(array([1, 2], dtype=int64), array([1, 2], dtype=int64))\n",
      "100.0\n",
      "[ 100.  200.]\n"
     ]
    }
   ],
   "source": [
    "import numpy as np\n",
    "\n",
    "a = np.zeros((3,4))\n",
    "print(a)\n",
    "print(np.nonzero(a))\n",
    "\n",
    "a[1,1] = 100\n",
    "a[2,2] = 200\n",
    "x = np.nonzero(a)\n",
    "print(x)\n",
    "print(a[x[0][0],x[1][0]])\n",
    "print(a[x])"
   ]
  },
  {
   "cell_type": "code",
   "execution_count": 299,
   "metadata": {},
   "outputs": [
    {
     "name": "stdout",
     "output_type": "stream",
     "text": [
      "(array([2, 2, 2], dtype=int64), array([0, 1, 2], dtype=int64))\n",
      "[ 4.  5.  6.  7.  8.]\n",
      "[[ 0.  1.  2.]\n",
      " [ 3.  4. -1.]\n",
      " [-1. -1. -1.]]\n"
     ]
    }
   ],
   "source": [
    "import numpy as np\n",
    "\n",
    "x = np.arange(9.).reshape(3, 3)\n",
    "\n",
    "print(np.where( x > 5 ))\n",
    "\n",
    "print(x[np.where( x > 3.0 )]  )             \n",
    "\n",
    "print(np.where(x < 5, x, -1))            "
   ]
  },
  {
   "cell_type": "code",
   "execution_count": 302,
   "metadata": {},
   "outputs": [
    {
     "name": "stdout",
     "output_type": "stream",
     "text": [
      "[ 1.   2.   2.5]\n",
      "[1 2 2]\n",
      "False\n",
      "[ 1.   2.   2.5]\n",
      "[100   2   2]\n"
     ]
    }
   ],
   "source": [
    "import numpy as np\n",
    "\n",
    "x = np.array([1, 2, 2.5])\n",
    "print(x)\n",
    "\n",
    "y = x.astype(int)\n",
    "print(y)\n",
    "print(y is x)\n",
    "y[0] = 100\n",
    "\n",
    "print(x)\n",
    "print(y)"
   ]
  },
  {
   "cell_type": "code",
   "execution_count": 305,
   "metadata": {},
   "outputs": [
    {
     "name": "stdout",
     "output_type": "stream",
     "text": [
      " x  <class 'numpy.ndarray'>\n",
      "[[1 2]\n",
      " [3 4]]\n",
      " m  <class 'numpy.matrixlib.defmatrix.matrix'>\n",
      "[[ 1 99]\n",
      " [ 3  4]]\n",
      "[[ 1 99]\n",
      " [ 3  4]]\n"
     ]
    }
   ],
   "source": [
    "import numpy as np\n",
    "\n",
    "x = np.array([[1, 2], [3, 4]])\n",
    "print(\" x \", type(x))\n",
    "m = np.asmatrix(x)\n",
    "print(m)\n",
    "print(\" m \", type(m))\n",
    "m[0,1] = 99\n",
    "print(x)\n",
    "print(m)"
   ]
  },
  {
   "cell_type": "code",
   "execution_count": 308,
   "metadata": {},
   "outputs": [
    {
     "name": "stdout",
     "output_type": "stream",
     "text": [
      "128\n",
      "1\n",
      "[  1   2   3   4   5   6   7   8   9  10  11  12  13  14  15  16  17  18\n",
      "  19  20  21  22  23  24  25  26  27  28  29  30  31  32  33  34  35  36\n",
      "  37  38  39  40  41  42  43  44  45  46  47  48  49  50  51  52  53  54\n",
      "  55  56  57  58  59  60  61  62  63  64  65  66  67  68  69  70  71  72\n",
      "  73  74  75  76  77  78  79  80  81  82  83  84  85  86  87  88  89  90\n",
      "  91  92  93  94  95  96  97  98  99 100 101 102 103 104 105 106 107 108\n",
      " 109 110 111 112 113 114 115 116 117 118 119 120 121 122 123 124 125 126\n",
      " 127 128]\n",
      "[1 1 1 1 1 1 1 1 1 1 1 1 1 1 1 1 1 1 1 1 1 1 1 1 1 1 1 1 1 1 1 1 1 1 1 1 1\n",
      " 1 1 1 1 1 1 1 1 1 1 1 1 1 1 1 1 1 1 1 1 1 1 1 1 1 1 1 1 1 1 1 1 1 1 1 1 1\n",
      " 1 1 1 1 1 1 1 1 1 1 1 1 1 1 1 1 1 1 1 1 1 1 1 1 1 1 1 1 1 1 1 1 1 1 1 1 1\n",
      " 1 1 1 1 1 1 1 1 1 1 1 1 1 1 1 1 1]\n"
     ]
    }
   ],
   "source": [
    "import numpy as np\n",
    "\n",
    "print(np.ones(128, dtype=np.int16).sum(dtype=np.int16))\n",
    "print(np.ones(128, dtype=np.int16).prod(dtype=np.int16))\n",
    "\n",
    "print(np.ones(128, dtype=np.int16).cumsum(dtype=np.int16))\n",
    "print(np.ones(128, dtype=np.int16).cumprod(dtype=np.int16))"
   ]
  },
  {
   "cell_type": "code",
   "execution_count": 311,
   "metadata": {},
   "outputs": [
    {
     "name": "stdout",
     "output_type": "stream",
     "text": [
      "[1 1 1 1 1 1 1 1 1 1 1 1 1 1 1 1 1 1 1 1 1 1 1 1 1 1 1 1 1 1 1 1 1 1 1 1 1\n",
      " 1 1 1 1 1 1 1 1 1 1 1 1 1 1 1 1 1 1 1 1 1 1 1 1 1 1 1 1 1 1 1 1 1 1 1 1 1\n",
      " 1 1 1 1 1 1 1 1 1 1 1 1 1 1 1 1 1 1 1 1 1 1 1 1 1 1 1 1 1 1 1 1 1 1 1 1 1\n",
      " 1 1 1 1 1 1 1 1 1 1 1 1 1 1 1 1 1]\n",
      "[100 100 100 100 100 100 100 100 100 100 100 100 100 100 100 100 100 100\n",
      " 100 100 100 100 100 100 100 100 100 100 100 100 100 100 100 100 100 100\n",
      " 100 100 100 100 100 100 100 100 100 100 100 100 100 100 100 100 100 100\n",
      " 100 100 100 100 100 100 100 100 100 100 100 100 100 100 100 100 100 100\n",
      " 100 100 100 100 100 100 100 100 100 100 100 100 100 100 100 100 100 100\n",
      " 100 100 100 100 100 100 100 100 100 100 100 100 100 100 100 100 100 100\n",
      " 100 100 100 100 100 100 100 100 100 100 100 100 100 100 100 100 100 100\n",
      " 100 100]\n"
     ]
    }
   ],
   "source": [
    "import numpy as np\n",
    "\n",
    "a = np.ones(128, dtype=np.int16)\n",
    "print(a)\n",
    "a.fill(100)\n",
    "print(a)"
   ]
  },
  {
   "cell_type": "code",
   "execution_count": 316,
   "metadata": {},
   "outputs": [
    {
     "name": "stdout",
     "output_type": "stream",
     "text": [
      "[array([ True,  True,  True, False, False, False, False, False, False, False], dtype=bool)]\n",
      "[array([0, 1, 2, 3, 4, 5, 6, 7, 8, 9])]\n",
      "[0 1 2 0 0 0 0 0 0 0]\n"
     ]
    }
   ],
   "source": [
    "\n",
    "import numpy as np\n",
    "\n",
    "x = np.arange(10)\n",
    "condlist = [x<3]\n",
    "print(condlist)\n",
    "\n",
    "choicelist = [x]\n",
    "print(choicelist)\n",
    "\n",
    "print(np.select(condlist, choicelist))\n"
   ]
  },
  {
   "cell_type": "code",
   "execution_count": 323,
   "metadata": {},
   "outputs": [
    {
     "name": "stdout",
     "output_type": "stream",
     "text": [
      "3.16227766017\n",
      "3.16227766017\n",
      "12.0830459736\n"
     ]
    }
   ],
   "source": [
    "import numpy as np\n",
    "from numpy import linalg as LA\n",
    "\n",
    "a = np.array([1,3],dtype=np.int64)\n",
    "b = np.array([4,8],dtype=np.int64)\n",
    "\n",
    "print(LA.norm(a))\n",
    "print(np.sqrt(a[0]**2 + a[1]**2))\n",
    "print(LA.norm(a+b))"
   ]
  },
  {
   "cell_type": "code",
   "execution_count": 325,
   "metadata": {},
   "outputs": [
    {
     "name": "stdout",
     "output_type": "stream",
     "text": [
      "28\n",
      "28\n"
     ]
    }
   ],
   "source": [
    "import numpy as np\n",
    "\n",
    "a = np.array([1,3],dtype=np.int64)\n",
    "b = np.array([4,8],dtype=np.int64)\n",
    "\n",
    "print(np.inner(a,b))\n",
    "print(np.dot(a,b))"
   ]
  },
  {
   "cell_type": "code",
   "execution_count": 333,
   "metadata": {},
   "outputs": [
    {
     "name": "stdout",
     "output_type": "stream",
     "text": [
      "-4\n",
      "-4\n",
      "[-17  11  -4]\n",
      "[-17  11  -4]\n"
     ]
    }
   ],
   "source": [
    "import numpy as np\n",
    "\n",
    "a = np.array([1,3],dtype=np.int64)\n",
    "b = np.array([4,8],dtype=np.int64)\n",
    "\n",
    "print(np.cross(a,b))\n",
    "print(a[0]*b[1] - a[1]*b[0])\n",
    "\n",
    "c = np.array([1,3,4],dtype=np.int64)\n",
    "d = np.array([4,8,5],dtype=np.int64)\n",
    "print(np.cross(c,d))\n",
    "print(np.array([ c[1]*d[2]-c[2]*d[1], \n",
    "                c[2]*d[0]-c[0]*d[2], \n",
    "                c[0]*d[1]-c[1]*d[0] ]))"
   ]
  },
  {
   "cell_type": "code",
   "execution_count": 334,
   "metadata": {},
   "outputs": [
    {
     "name": "stdout",
     "output_type": "stream",
     "text": [
      "[[1 3]\n",
      " [4 5]]\n",
      "2\n",
      "(2, 2)\n"
     ]
    }
   ],
   "source": [
    "import numpy as np\n",
    "\n",
    "a = np.array([[1,3],[4,5]],dtype=np.int64)\n",
    "\n",
    "print(a)\n",
    "print(a.ndim)\n",
    "print(a.shape)"
   ]
  },
  {
   "cell_type": "code",
   "execution_count": 335,
   "metadata": {},
   "outputs": [
    {
     "name": "stdout",
     "output_type": "stream",
     "text": [
      "[[12 16]\n",
      " [18 20]]\n",
      "[[10 10]\n",
      " [10 10]]\n",
      "[[11 39]\n",
      " [56 75]]\n",
      "[[ 0.09090909  0.23076923]\n",
      " [ 0.28571429  0.33333333]]\n"
     ]
    }
   ],
   "source": [
    "import numpy as np\n",
    "\n",
    "a = np.array([[1,3],[4,5]],dtype=np.int64)\n",
    "b = np.array([[11,13],[14,15]],dtype=np.int64)\n",
    "\n",
    "print(np.add(a,b))\n",
    "print(np.subtract(b,a))\n",
    "print(np.multiply(a,b))\n",
    "print(np.divide(a,b))"
   ]
  },
  {
   "cell_type": "code",
   "execution_count": 336,
   "metadata": {},
   "outputs": [
    {
     "name": "stdout",
     "output_type": "stream",
     "text": [
      "[[ 53  58]\n",
      " [114 127]]\n"
     ]
    }
   ],
   "source": [
    "import numpy as np\n",
    "\n",
    "a = np.array([[1,3],[4,5]],dtype=np.int64)\n",
    "b = np.array([[11,13],[14,15]],dtype=np.int64)\n",
    "\n",
    "print(np.dot(a,b))"
   ]
  },
  {
   "cell_type": "code",
   "execution_count": 350,
   "metadata": {},
   "outputs": [
    {
     "name": "stdout",
     "output_type": "stream",
     "text": [
      "[[-40  40 -20]\n",
      " [-40  40 -10]]\n",
      "[-40  40 -20]\n",
      "[-40  40 -10]\n"
     ]
    }
   ],
   "source": [
    "import numpy as np\n",
    "\n",
    "a = np.array([[1,3,4],[4,5,4]],dtype=np.int64)\n",
    "b = np.array([[11,13,4],[14,15,4]],dtype=np.int64)\n",
    "\n",
    "print(np.cross(a,b))\n",
    "\n",
    "print(np.cross(a[0],b[0]))\n",
    "print(np.cross(a[1],b[1]))"
   ]
  },
  {
   "cell_type": "code",
   "execution_count": 346,
   "metadata": {},
   "outputs": [
    {
     "name": "stdout",
     "output_type": "stream",
     "text": [
      "[[ 50  59]\n",
      " [109 131]]\n",
      "50\n",
      "59\n",
      "109\n",
      "131\n",
      "(2, 2)\n"
     ]
    }
   ],
   "source": [
    "import numpy as np\n",
    "\n",
    "a = np.array([[1,3],[4,5]],dtype=np.int64)\n",
    "b = np.array([[11,13],[14,15]],dtype=np.int64)\n",
    "\n",
    "print(np.inner(a,b))\n",
    "print(np.dot(a[0],b[0]))\n",
    "print(np.dot(a[0],b[1]))\n",
    "print(np.dot(a[1],b[0]))\n",
    "print(np.dot(a[1],b[1]))\n",
    "print(a.shape[:-1] + b.shape[:-1])\n"
   ]
  },
  {
   "cell_type": "code",
   "execution_count": 353,
   "metadata": {},
   "outputs": [
    {
     "name": "stdout",
     "output_type": "stream",
     "text": [
      "Help on function tensordot in module numpy.core.numeric:\n",
      "\n",
      "tensordot(a, b, axes=2)\n",
      "    Compute tensor dot product along specified axes for arrays >= 1-D.\n",
      "    \n",
      "    Given two tensors (arrays of dimension greater than or equal to one),\n",
      "    `a` and `b`, and an array_like object containing two array_like\n",
      "    objects, ``(a_axes, b_axes)``, sum the products of `a`'s and `b`'s\n",
      "    elements (components) over the axes specified by ``a_axes`` and\n",
      "    ``b_axes``. The third argument can be a single non-negative\n",
      "    integer_like scalar, ``N``; if it is such, then the last ``N``\n",
      "    dimensions of `a` and the first ``N`` dimensions of `b` are summed\n",
      "    over.\n",
      "    \n",
      "    Parameters\n",
      "    ----------\n",
      "    a, b : array_like, len(shape) >= 1\n",
      "        Tensors to \"dot\".\n",
      "    \n",
      "    axes : int or (2,) array_like\n",
      "        * integer_like\n",
      "          If an int N, sum over the last N axes of `a` and the first N axes\n",
      "          of `b` in order. The sizes of the corresponding axes must match.\n",
      "        * (2,) array_like\n",
      "          Or, a list of axes to be summed over, first sequence applying to `a`,\n",
      "          second to `b`. Both elements array_like must be of the same length.\n",
      "    \n",
      "    See Also\n",
      "    --------\n",
      "    dot, einsum\n",
      "    \n",
      "    Notes\n",
      "    -----\n",
      "    Three common use cases are:\n",
      "        * ``axes = 0`` : tensor product :math:`a\\otimes b`\n",
      "        * ``axes = 1`` : tensor dot product :math:`a\\cdot b`\n",
      "        * ``axes = 2`` : (default) tensor double contraction :math:`a:b`\n",
      "    \n",
      "    When `axes` is integer_like, the sequence for evaluation will be: first\n",
      "    the -Nth axis in `a` and 0th axis in `b`, and the -1th axis in `a` and\n",
      "    Nth axis in `b` last.\n",
      "    \n",
      "    When there is more than one axis to sum over - and they are not the last\n",
      "    (first) axes of `a` (`b`) - the argument `axes` should consist of\n",
      "    two sequences of the same length, with the first axis to sum over given\n",
      "    first in both sequences, the second axis second, and so forth.\n",
      "    \n",
      "    Examples\n",
      "    --------\n",
      "    A \"traditional\" example:\n",
      "    \n",
      "    >>> a = np.arange(60.).reshape(3,4,5)\n",
      "    >>> b = np.arange(24.).reshape(4,3,2)\n",
      "    >>> c = np.tensordot(a,b, axes=([1,0],[0,1]))\n",
      "    >>> c.shape\n",
      "    (5, 2)\n",
      "    >>> c\n",
      "    array([[ 4400.,  4730.],\n",
      "           [ 4532.,  4874.],\n",
      "           [ 4664.,  5018.],\n",
      "           [ 4796.,  5162.],\n",
      "           [ 4928.,  5306.]])\n",
      "    >>> # A slower but equivalent way of computing the same...\n",
      "    >>> d = np.zeros((5,2))\n",
      "    >>> for i in range(5):\n",
      "    ...   for j in range(2):\n",
      "    ...     for k in range(3):\n",
      "    ...       for n in range(4):\n",
      "    ...         d[i,j] += a[k,n,i] * b[n,k,j]\n",
      "    >>> c == d\n",
      "    array([[ True,  True],\n",
      "           [ True,  True],\n",
      "           [ True,  True],\n",
      "           [ True,  True],\n",
      "           [ True,  True]], dtype=bool)\n",
      "    \n",
      "    An extended example taking advantage of the overloading of + and \\*:\n",
      "    \n",
      "    >>> a = np.array(range(1, 9))\n",
      "    >>> a.shape = (2, 2, 2)\n",
      "    >>> A = np.array(('a', 'b', 'c', 'd'), dtype=object)\n",
      "    >>> A.shape = (2, 2)\n",
      "    >>> a; A\n",
      "    array([[[1, 2],\n",
      "            [3, 4]],\n",
      "           [[5, 6],\n",
      "            [7, 8]]])\n",
      "    array([[a, b],\n",
      "           [c, d]], dtype=object)\n",
      "    \n",
      "    >>> np.tensordot(a, A) # third argument default is 2 for double-contraction\n",
      "    array([abbcccdddd, aaaaabbbbbbcccccccdddddddd], dtype=object)\n",
      "    \n",
      "    >>> np.tensordot(a, A, 1)\n",
      "    array([[[acc, bdd],\n",
      "            [aaacccc, bbbdddd]],\n",
      "           [[aaaaacccccc, bbbbbdddddd],\n",
      "            [aaaaaaacccccccc, bbbbbbbdddddddd]]], dtype=object)\n",
      "    \n",
      "    >>> np.tensordot(a, A, 0) # tensor product (result too long to incl.)\n",
      "    array([[[[[a, b],\n",
      "              [c, d]],\n",
      "              ...\n",
      "    \n",
      "    >>> np.tensordot(a, A, (0, 1))\n",
      "    array([[[abbbbb, cddddd],\n",
      "            [aabbbbbb, ccdddddd]],\n",
      "           [[aaabbbbbbb, cccddddddd],\n",
      "            [aaaabbbbbbbb, ccccdddddddd]]], dtype=object)\n",
      "    \n",
      "    >>> np.tensordot(a, A, (2, 1))\n",
      "    array([[[abb, cdd],\n",
      "            [aaabbbb, cccdddd]],\n",
      "           [[aaaaabbbbbb, cccccdddddd],\n",
      "            [aaaaaaabbbbbbbb, cccccccdddddddd]]], dtype=object)\n",
      "    \n",
      "    >>> np.tensordot(a, A, ((0, 1), (0, 1)))\n",
      "    array([abbbcccccddddddd, aabbbbccccccdddddddd], dtype=object)\n",
      "    \n",
      "    >>> np.tensordot(a, A, ((2, 1), (1, 0)))\n",
      "    array([acccbbdddd, aaaaacccccccbbbbbbdddddddd], dtype=object)\n",
      "\n"
     ]
    }
   ],
   "source": [
    "help(np.tensordot)"
   ]
  },
  {
   "cell_type": "code",
   "execution_count": 355,
   "metadata": {},
   "outputs": [
    {
     "name": "stdout",
     "output_type": "stream",
     "text": [
      "[[ 53  58]\n",
      " [114 127]]\n",
      "[[ 53  58]\n",
      " [114 127]]\n"
     ]
    }
   ],
   "source": [
    "import numpy as np\n",
    "\n",
    "a = np.array([[1,3],[4,5]],dtype=np.int64)\n",
    "b = np.array([[11,13],[14,15]],dtype=np.int64)\n",
    "\n",
    "print(np.dot(a,b))\n",
    "print(np.tensordot(a,b,axes=1))"
   ]
  },
  {
   "cell_type": "code",
   "execution_count": 359,
   "metadata": {},
   "outputs": [
    {
     "name": "stdout",
     "output_type": "stream",
     "text": [
      "(2, 2, 2, 2)\n",
      "[[[[11 13]\n",
      "   [14 15]]\n",
      "\n",
      "  [[33 39]\n",
      "   [42 45]]]\n",
      "\n",
      "\n",
      " [[[44 52]\n",
      "   [56 60]]\n",
      "\n",
      "  [[55 65]\n",
      "   [70 75]]]]\n"
     ]
    }
   ],
   "source": [
    "import numpy as np\n",
    "\n",
    "a = np.array([[1,3],[4,5]],dtype=np.int64)\n",
    "b = np.array([[11,13],[14,15]],dtype=np.int64)\n",
    "\n",
    "c = np.tensordot(a,b,axes=0)\n",
    "print(c.shape)\n",
    "print(c)"
   ]
  },
  {
   "cell_type": "code",
   "execution_count": 363,
   "metadata": {},
   "outputs": [
    {
     "name": "stdout",
     "output_type": "stream",
     "text": [
      "[[150 160]\n",
      " [374 400]]\n",
      "[[150 160]\n",
      " [374 400]]\n"
     ]
    }
   ],
   "source": [
    "import numpy as np\n",
    "\n",
    "a = np.arange(1,9).reshape(2,2,2) \n",
    "b = np.arange(11,19).reshape(2,2,2)\n",
    "\n",
    "print(np.dot(a.reshape(2,4),b.reshape(4,2)))\n",
    "print(np.tensordot(a,b,axes=2))"
   ]
  },
  {
   "cell_type": "code",
   "execution_count": 366,
   "metadata": {},
   "outputs": [
    {
     "name": "stdout",
     "output_type": "stream",
     "text": [
      "{'A',\n",
      " 'A1',\n",
      " 'H',\n",
      " 'I',\n",
      " '__dict__',\n",
      " '__module__',\n",
      " '_align',\n",
      " '_collapse',\n",
      " 'getA',\n",
      " 'getA1',\n",
      " 'getH',\n",
      " 'getI',\n",
      " 'getT'}\n"
     ]
    }
   ],
   "source": [
    "import pprint\n",
    "import numpy as np\n",
    "\n",
    "m = set(dir(np.matrix))\n",
    "n = set(dir(np.ndarray))\n",
    "pprint.pprint(m -n)"
   ]
  },
  {
   "cell_type": "code",
   "execution_count": 368,
   "metadata": {},
   "outputs": [
    {
     "name": "stdout",
     "output_type": "stream",
     "text": [
      "[[ 4  5  6]\n",
      " [ 8 10 12]\n",
      " [12 15 18]]\n",
      "[[ 4  5  6]\n",
      " [ 8 10 12]\n",
      " [12 15 18]]\n"
     ]
    }
   ],
   "source": [
    "import numpy as np\n",
    "\n",
    "print(np.multiply.outer([1, 2, 3], [4, 5, 6]))\n",
    "\n",
    "a = np.array([[1],[2],[3]])\n",
    "b = np.array([[4,5,6]])\n",
    "\n",
    "print(np.dot(a,b))"
   ]
  },
  {
   "cell_type": "code",
   "execution_count": 373,
   "metadata": {},
   "outputs": [
    {
     "name": "stdout",
     "output_type": "stream",
     "text": [
      "[[ 1  0  0]\n",
      " [ 4  5  0]\n",
      " [ 7  8  9]\n",
      " [10 11 12]]\n",
      "[[ 0  0  0]\n",
      " [ 4  0  0]\n",
      " [ 7  8  0]\n",
      " [10 11 12]]\n"
     ]
    }
   ],
   "source": [
    "import numpy as np\n",
    "\n",
    "print(np.tril([[1,2,3],[4,5,6],[7,8,9],[10,11,12]]))\n",
    "\n",
    "print(np.tril([[1,2,3],[4,5,6],[7,8,9],[10,11,12]],-1))\n"
   ]
  },
  {
   "cell_type": "code",
   "execution_count": 374,
   "metadata": {},
   "outputs": [
    {
     "name": "stdout",
     "output_type": "stream",
     "text": [
      "[[1 2 3]\n",
      " [0 5 6]\n",
      " [0 0 9]\n",
      " [0 0 0]]\n",
      "[[0 2 3]\n",
      " [0 0 6]\n",
      " [0 0 0]\n",
      " [0 0 0]]\n"
     ]
    }
   ],
   "source": [
    "import numpy as np\n",
    "\n",
    "print(np.triu([[1,2,3],[4,5,6],[7,8,9],[10,11,12]]))\n",
    "\n",
    "print(np.triu([[1,2,3],[4,5,6],[7,8,9],[10,11,12]],1))"
   ]
  },
  {
   "cell_type": "code",
   "execution_count": 380,
   "metadata": {},
   "outputs": [
    {
     "name": "stdout",
     "output_type": "stream",
     "text": [
      "[(1,  2., b'Hello') (4,  5., b'World')]\n",
      "[1 4]\n",
      "(1,  2., b'Hello')\n"
     ]
    }
   ],
   "source": [
    "import numpy as np\n",
    "\n",
    "x = np.array([(1,2.,'Hello'), (4,5.,\"World\")],\n",
    "             dtype=[('foo', 'i4'),('bar', 'f4'), ('baz', 'S10')])\n",
    "\n",
    "print(x)\n",
    "print(x[\"foo\"])\n",
    "print(x[0])"
   ]
  },
  {
   "cell_type": "code",
   "execution_count": 384,
   "metadata": {},
   "outputs": [
    {
     "name": "stdout",
     "output_type": "stream",
     "text": [
      "[([0, 0, 0],  0., [[ 0.,  0.,  0.], [ 0.,  0.,  0.]])\n",
      " ([0, 0, 0],  0., [[ 0.,  0.,  0.], [ 0.,  0.,  0.]])\n",
      " ([0, 0, 0],  0., [[ 0.,  0.,  0.], [ 0.,  0.,  0.]])]\n"
     ]
    }
   ],
   "source": [
    "import numpy as np\n",
    "\n",
    "x = np.zeros(3, dtype='3int8, float32, (2,3)float64')\n",
    "print(x)"
   ]
  },
  {
   "cell_type": "code",
   "execution_count": 382,
   "metadata": {},
   "outputs": [
    {
     "name": "stdout",
     "output_type": "stream",
     "text": [
      "[([0, 0, 0],  0., [[ 0.,  0.,  0.], [ 0.,  0.,  0.]])\n",
      " ([0, 0, 0],  0., [[ 0.,  0.,  0.], [ 0.,  0.,  0.]])\n",
      " ([0, 0, 0],  0., [[ 0.,  0.,  0.], [ 0.,  0.,  0.]])]\n"
     ]
    }
   ],
   "source": [
    "print(x)"
   ]
  },
  {
   "cell_type": "code",
   "execution_count": 385,
   "metadata": {},
   "outputs": [
    {
     "name": "stdout",
     "output_type": "stream",
     "text": [
      "[( 0.,  0., [[ 0.,  0.], [ 0.,  0.]]) ( 0.,  0., [[ 0.,  0.], [ 0.,  0.]])\n",
      " ( 0.,  0., [[ 0.,  0.], [ 0.,  0.]])]\n"
     ]
    }
   ],
   "source": [
    "import numpy as np\n",
    "\n",
    "x = np.zeros(3, dtype=[('x','f4'),('y',np.float32),('value','f4',(2,2))])\n",
    "\n",
    "print(x)"
   ]
  },
  {
   "cell_type": "code",
   "execution_count": 409,
   "metadata": {},
   "outputs": [
    {
     "name": "stdout",
     "output_type": "stream",
     "text": [
      "[(0,  0.) (0,  0.) (0,  0.)]\n",
      "<class 'numpy.ndarray'>\n",
      "[('col1', '<i4'), ('col2', '<f4')]\n",
      "('col1', 'col2')\n",
      "{'col1': (dtype('int32'), 0), 'col2': (dtype('float32'), 4)}\n"
     ]
    }
   ],
   "source": [
    "import numpy as np\n",
    "\n",
    "x = np.zeros(3, dtype={'names':['col1', 'col2'], 'formats':['i4','f4']})\n",
    "\n",
    "print(x)\n",
    "print(type(x))\n",
    "print(x.dtype)\n",
    "print(x.dtype.names)\n",
    "print(x.dtype.fields)"
   ]
  },
  {
   "cell_type": "code",
   "execution_count": 391,
   "metadata": {},
   "outputs": [
    {
     "data": {
      "text/plain": [
       "['__class__',\n",
       " '__delattr__',\n",
       " '__dir__',\n",
       " '__doc__',\n",
       " '__eq__',\n",
       " '__format__',\n",
       " '__ge__',\n",
       " '__getattribute__',\n",
       " '__getitem__',\n",
       " '__gt__',\n",
       " '__hash__',\n",
       " '__init__',\n",
       " '__le__',\n",
       " '__len__',\n",
       " '__lt__',\n",
       " '__mul__',\n",
       " '__ne__',\n",
       " '__new__',\n",
       " '__reduce__',\n",
       " '__reduce_ex__',\n",
       " '__repr__',\n",
       " '__rmul__',\n",
       " '__setattr__',\n",
       " '__setstate__',\n",
       " '__sizeof__',\n",
       " '__str__',\n",
       " '__subclasshook__',\n",
       " 'alignment',\n",
       " 'base',\n",
       " 'byteorder',\n",
       " 'char',\n",
       " 'descr',\n",
       " 'fields',\n",
       " 'flags',\n",
       " 'hasobject',\n",
       " 'isalignedstruct',\n",
       " 'isbuiltin',\n",
       " 'isnative',\n",
       " 'itemsize',\n",
       " 'kind',\n",
       " 'metadata',\n",
       " 'name',\n",
       " 'names',\n",
       " 'newbyteorder',\n",
       " 'num',\n",
       " 'shape',\n",
       " 'str',\n",
       " 'subdtype',\n",
       " 'type']"
      ]
     },
     "execution_count": 391,
     "metadata": {},
     "output_type": "execute_result"
    }
   ],
   "source": [
    "dir(x.dtype)"
   ]
  },
  {
   "cell_type": "code",
   "execution_count": 400,
   "metadata": {},
   "outputs": [
    {
     "name": "stdout",
     "output_type": "stream",
     "text": [
      "(3, 2, 2)\n",
      "[[[ 1.  2.]\n",
      "  [ 1.  2.]]\n",
      "\n",
      " [[ 4.  5.]\n",
      "  [ 4.  5.]]\n",
      "\n",
      " [[ 2.  6.]\n",
      "  [ 2.  6.]]]\n"
     ]
    }
   ],
   "source": [
    "import numpy as np\n",
    "\n",
    "x = np.array([(1.5,2.5,(1.0,2.0)),(3.,4.,(4.,5.)),(1.,3.,(2.,6.))],\n",
    "        dtype=[('x','f4'),('y',np.float32),('value','f4',(2,2))])\n",
    "\n",
    "print(x[\"value\"].shape)\n",
    "print(x[\"value\"])"
   ]
  },
  {
   "cell_type": "code",
   "execution_count": 401,
   "metadata": {},
   "outputs": [
    {
     "name": "stdout",
     "output_type": "stream",
     "text": [
      "[( 1.5,  2.5) ( 3. ,  4. ) ( 1. ,  3. )]\n",
      "[( 1.5,  2.5, [[ 1.,  2.], [ 1.,  2.]])\n",
      " ( 3. ,  4. , [[ 4.,  5.], [ 4.,  5.]])\n",
      " ( 1. ,  3. , [[ 2.,  6.], [ 2.,  6.]])]\n"
     ]
    }
   ],
   "source": [
    "import numpy as np\n",
    "\n",
    "x = np.array([(1.5,2.5,(1.0,2.0)),(3.,4.,(4.,5.)),(1.,3.,(2.,6.))],\n",
    "        dtype=[('x','f4'),('y',np.float32),('value','f4',(2,2))])\n",
    "\n",
    "print(x[['x','y']])\n",
    "print(x[['x','y','value']])\n"
   ]
  },
  {
   "cell_type": "code",
   "execution_count": 403,
   "metadata": {},
   "outputs": [
    {
     "name": "stdout",
     "output_type": "stream",
     "text": [
      "[( 0.,  0.) ( 1.,  0.) ( 2.,  0.) ( 3.,  0.) ( 4.,  0.)]\n"
     ]
    }
   ],
   "source": [
    "import numpy as np\n",
    "\n",
    "arr = np.zeros((5,), dtype=[('var1','f8'),('var2','f8')])\n",
    "arr['var1'] = np.arange(5)\n",
    "\n",
    "print(arr)"
   ]
  },
  {
   "cell_type": "code",
   "execution_count": 408,
   "metadata": {},
   "outputs": [
    {
     "name": "stdout",
     "output_type": "stream",
     "text": [
      "<class 'numpy.recarray'>\n",
      "[ 2.  3.]\n"
     ]
    }
   ],
   "source": [
    "import numpy as np\n",
    "\n",
    "recordarr = np.rec.array([(1,2.,'Hello'),(2,3.,\"World\")], \n",
    "                         dtype=[('foo', 'i4'),('bar', 'f4'), ('baz', 'S10')])\n",
    "\n",
    "print(type(recordarr))\n",
    "\n",
    "print(recordarr.bar)"
   ]
  },
  {
   "cell_type": "code",
   "execution_count": 416,
   "metadata": {},
   "outputs": [
    {
     "name": "stdout",
     "output_type": "stream",
     "text": [
      "<class 'numpy.ndarray'>\n",
      "<class 'numpy.recarray'>\n",
      "[99 99]\n",
      "[1 2]\n"
     ]
    }
   ],
   "source": [
    "import numpy as np\n",
    "\n",
    "arr = np.array([(1,2.,'Hello'),(2,3.,\"World\")], \n",
    "             dtype=[('foo', 'i4'), ('bar', 'f4'), ('baz', 'S10')])\n",
    "    \n",
    "print(type(arr))\n",
    "\n",
    "recordarr = np.rec.array(arr)\n",
    "recordarr.foo = (99,99)\n",
    "print(type(recordarr))\n",
    "print(recordarr.foo)\n",
    "print(arr['foo'])"
   ]
  },
  {
   "cell_type": "code",
   "execution_count": 421,
   "metadata": {},
   "outputs": [
    {
     "name": "stdout",
     "output_type": "stream",
     "text": [
      "<class 'numpy.matrixlib.defmatrix.matrix'>\n",
      "[[1 2]\n",
      " [3 9]]\n",
      "[[ 3.         -0.66666667]\n",
      " [-1.          0.33333333]]\n",
      "[[ 3.         -0.66666667]\n",
      " [-1.          0.33333333]]\n",
      "[[ 3.         -0.66666667]\n",
      " [-1.          0.33333333]]\n"
     ]
    }
   ],
   "source": [
    "import numpy as np\n",
    "from numpy import linalg as LA\n",
    "M = np.mat('1 2; 3 9')\n",
    "print(type(M))\n",
    "print(M)\n",
    "print(M.I)\n",
    "print(M.getI())\n",
    "print(LA.inv(M))"
   ]
  },
  {
   "cell_type": "code",
   "execution_count": 423,
   "metadata": {},
   "outputs": [
    {
     "name": "stdout",
     "output_type": "stream",
     "text": [
      "<class 'numpy.matrixlib.defmatrix.matrix'>\n",
      "[[1 2]\n",
      " [3 9]]\n",
      "[[1 3]\n",
      " [2 9]]\n",
      "[[1 3]\n",
      " [2 9]]\n"
     ]
    }
   ],
   "source": [
    "import numpy as np\n",
    "from numpy import linalg as LA\n",
    "M = np.mat('1 2; 3 9')\n",
    "print(type(M))\n",
    "print(M)\n",
    "print(M.H)\n",
    "print(M.getH())\n"
   ]
  },
  {
   "cell_type": "code",
   "execution_count": 425,
   "metadata": {},
   "outputs": [
    {
     "name": "stdout",
     "output_type": "stream",
     "text": [
      "<class 'numpy.matrixlib.defmatrix.matrix'>\n",
      "[[1 2]\n",
      " [3 9]]\n",
      "<class 'numpy.ndarray'>\n",
      "[[1 2]\n",
      " [3 9]]\n",
      "[[1 2]\n",
      " [3 9]]\n"
     ]
    }
   ],
   "source": [
    "import numpy as np\n",
    "from numpy import linalg as LA\n",
    "M = np.mat('1 2; 3 9')\n",
    "print(type(M))\n",
    "print(M)\n",
    "print(type(M.A))\n",
    "print(M.A)\n",
    "print(M.getA())"
   ]
  },
  {
   "cell_type": "code",
   "execution_count": 485,
   "metadata": {},
   "outputs": [
    {
     "name": "stdout",
     "output_type": "stream",
     "text": [
      "<class 'numpy.matrixlib.defmatrix.matrix'>\n",
      "[[1 2 3]\n",
      " [4 5 6]\n",
      " [7 8 9]]\n",
      "[[ -3.  -6.  -3.]\n",
      " [ -6. -12.  -6.]\n",
      " [ -3.  -6.  -3.]]\n"
     ]
    }
   ],
   "source": [
    "import numpy as np\n",
    "from numpy import linalg as LA\n",
    "\n",
    "M = np.mat('1 2 3; 4 5 6; 7 8 9')\n",
    "print(type(M))\n",
    "print(M)\n",
    "\n",
    "a = []\n",
    "for i in range(0,3) : \n",
    "    for j in range(0,3) :\n",
    "        if (i == 0)  : \n",
    "            if j == 0 : \n",
    "                c00 = M[i+1: ,j+1:]\n",
    "            if j == 1  :\n",
    "                c00 = M[i+1: ,[j-1,j+1]]\n",
    "            if j == 2  :\n",
    "                c00 = M[i+1: ,[j-2,j-1]]\n",
    "        if (i == 1)  : \n",
    "            if j == 0 : \n",
    "                c00 = M[[i-1,i+1] ,j+1:]\n",
    "            if j == 1  :\n",
    "                c00 = M[[i-1,i+1] ,[[j-1],[j+1]]].T\n",
    "            if j == 2  :\n",
    "                c00 = M[[i-1,i+1] ,[[j-2],[j-1]]].T         \n",
    "        if (i == 2)  : \n",
    "            if j == 0 : \n",
    "                c00 = M[[i-2,i-1] ,j+1:]\n",
    "            if j == 1  :\n",
    "                c00 = M[[i-2,i-1] ,[[j-1],[j+1]]].T\n",
    "            if j == 2  :\n",
    "                c00 = M[[i-2,i-1] ,[[j-2],[j-1]]].T\n",
    "        a.append(LA.det(c00))\n",
    "        \n",
    "\n",
    "c = np.array(a).reshape(3,3)\n",
    "print(c)"
   ]
  },
  {
   "cell_type": "code",
   "execution_count": null,
   "metadata": {
    "collapsed": true
   },
   "outputs": [],
   "source": [
    "[[ -3.   6.  -3.]\n",
    " [  6. -12.   6.]\n",
    " [ -3.   6.  -3.]]"
   ]
  },
  {
   "cell_type": "code",
   "execution_count": 484,
   "metadata": {},
   "outputs": [
    {
     "name": "stdout",
     "output_type": "stream",
     "text": [
      "[[9 5]\n",
      " [6 7]]\n",
      "[[3 5]\n",
      " [8 7]]\n",
      "[[3 9]\n",
      " [8 6]]\n",
      "[[2 3]\n",
      " [6 7]]\n",
      "[[1 3]\n",
      " [8 7]]\n",
      "[[1 2]\n",
      " [8 6]]\n",
      "[[2 3]\n",
      " [9 5]]\n",
      "[[1 3]\n",
      " [3 5]]\n",
      "[[1 2]\n",
      " [3 9]]\n"
     ]
    }
   ],
   "source": [
    "import numpy as np\n",
    "from numpy import linalg as LA\n",
    "\n",
    "M = np.mat('1 2 3; 3 9 5; 8 6 7')\n",
    "\n",
    "for i in range(0,3) : \n",
    "    for j in range(0,3) :\n",
    "        if (i == 0)  : \n",
    "            if j == 0 : \n",
    "                c00 = M[i+1: ,j+1:]\n",
    "            if j == 1  :\n",
    "                c00 = M[i+1: ,[j-1,j+1]]\n",
    "            if j == 2  :\n",
    "                c00 = M[i+1: ,[j-2,j-1]]\n",
    "        if (i == 1)  : \n",
    "            if j == 0 : \n",
    "                c00 = M[[i-1,i+1] ,j+1:]\n",
    "            if j == 1  :\n",
    "                c00 = M[[i-1,i+1] ,[[j-1],[j+1]]].T\n",
    "            if j == 2  :\n",
    "                c00 = M[[i-1,i+1] ,[[j-2],[j-1]]].T         \n",
    "        if (i == 2)  : \n",
    "            if j == 0 : \n",
    "                c00 = M[[i-2,i-1] ,j+1:]\n",
    "            if j == 1  :\n",
    "                c00 = M[[i-2,i-1] ,[[j-1],[j+1]]].T\n",
    "            if j == 2  :\n",
    "                c00 = M[[i-2,i-1] ,[[j-2],[j-1]]].T\n",
    "        print(c00)"
   ]
  },
  {
   "cell_type": "code",
   "execution_count": 435,
   "metadata": {},
   "outputs": [
    {
     "name": "stdout",
     "output_type": "stream",
     "text": [
      "9\n",
      "9.0\n"
     ]
    }
   ],
   "source": [
    "def solve(matrix, mul):\n",
    "    width = len(matrix)\n",
    "    if width == 1:\n",
    "        return mul * matrix[0][0]\n",
    "    else:\n",
    "        sign = -1\n",
    "        total = 0\n",
    "        for i in range(width):\n",
    "            m = []\n",
    "            for j in range(1, width):\n",
    "                buff = []\n",
    "                for k in range(width):\n",
    "                    if k != i:\n",
    "                        buff.append(matrix[j][k])\n",
    "                m.append(buff)\n",
    "            sign *= -1\n",
    "            total += mul * solve(m, sign * matrix[0][i])\n",
    "        return total\n",
    "\n",
    "    \n",
    "matrixs = [[1,-2,3],[0,-3,-4],[0,0,-3]]\n",
    "print(solve(matrixs, 1))\n",
    "\n",
    "print(LA.det(matrixs))"
   ]
  },
  {
   "cell_type": "code",
   "execution_count": null,
   "metadata": {
    "collapsed": true
   },
   "outputs": [],
   "source": []
  }
 ],
 "metadata": {
  "anaconda-cloud": {},
  "kernelspec": {
   "display_name": "Python 3",
   "language": "python",
   "name": "python3"
  },
  "language_info": {
   "codemirror_mode": {
    "name": "ipython",
    "version": 3
   },
   "file_extension": ".py",
   "mimetype": "text/x-python",
   "name": "python",
   "nbconvert_exporter": "python",
   "pygments_lexer": "ipython3",
   "version": "3.6.1"
  }
 },
 "nbformat": 4,
 "nbformat_minor": 1
}
