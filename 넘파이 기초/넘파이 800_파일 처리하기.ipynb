{
 "cells": [
  {
   "cell_type": "code",
   "execution_count": 63,
   "metadata": {
    "collapsed": true
   },
   "outputs": [],
   "source": [
    "import numpy as np\n",
    "import matplotlib.pyplot as plt\n",
    "import matplotlib\n"
   ]
  },
  {
   "cell_type": "markdown",
   "metadata": {},
   "source": [
    "## 파일 생성하기\n",
    "\n",
    "%%writefile 파일명\n",
    "데이터\n",
    "\n"
   ]
  },
  {
   "cell_type": "code",
   "execution_count": 13,
   "metadata": {},
   "outputs": [
    {
     "name": "stdout",
     "output_type": "stream",
     "text": [
      "Writing my_data.txt\n"
     ]
    }
   ],
   "source": [
    "%%writefile my_data.txt\n",
    "0  0\n",
    "1  1\n",
    "2  4\n",
    "4 16\n",
    "5 25\n",
    "6 36"
   ]
  },
  {
   "cell_type": "markdown",
   "metadata": {},
   "source": [
    "## 파일을 읽고 변환하기\n",
    "\n",
    "1. 파일로 읽은 데이터는 전부 문자열로 처리\n",
    "2. 숫자로 계산하려면 치환해야 함\n",
    "3. 파일로 읽은 라인을 분리\n",
    "    문자열.split() 메소드로 빈공칸을 구분으로 2개로 분리\n",
    "    리스트 내포 [ float(s) for s in line.split() ] 로 리스트를 만듬\n",
    "    \n",
    "4. x,y 변수에 할당해서 도표를 그림"
   ]
  },
  {
   "cell_type": "code",
   "execution_count": 16,
   "metadata": {},
   "outputs": [
    {
     "name": "stdout",
     "output_type": "stream",
     "text": [
      "('values ', [0.0, 0.0])\n",
      "('values ', [1.0, 1.0])\n",
      "('values ', [2.0, 4.0])\n",
      "('values ', [4.0, 16.0])\n",
      "('values ', [5.0, 25.0])\n",
      "('values ', [6.0, 36.0])\n"
     ]
    },
    {
     "data": {
      "image/png": "[encoded data removed]",
      "text/plain": [
       "<matplotlib.figure.Figure at 0x7f3dd5f0aed0>"
      ]
     },
     "metadata": {},
     "output_type": "display_data"
    }
   ],
   "source": [
    "import matplotlib.pyplot as plt\n",
    "\n",
    "x, y = [], [] \n",
    "for line in open('my_data.txt','r') : \n",
    "    values = [ float(s) for s in line.split()] \n",
    "    print(\"values \", values)\n",
    "    x.append(values[0])\n",
    "    y.append(values[1])\n",
    "    \n",
    "plt.plot(x,y)\n",
    "plt.show()"
   ]
  },
  {
   "cell_type": "markdown",
   "metadata": {},
   "source": [
    "## numpy로 파일 로드하기\n",
    "\n",
    "numpy.loadtxt()로 파일을 로드하면  ndarray 타입으로 전환(2D)\n",
    "  -> 첫번째 인자로는 파일명을 넣어주면 읽는다\n",
    "\n",
    "ndarray는 6행과 2열로 되어있으므로 전체 열을 읽으려면  [행, 열]로 검색 :\n",
    "   -> 2차원일 경우 [ :, 0]는 0번째 열을 전체 가져오기\n",
    "\n"
   ]
  },
  {
   "cell_type": "code",
   "execution_count": 22,
   "metadata": {},
   "outputs": [
    {
     "name": "stdout",
     "output_type": "stream",
     "text": [
      "[[  0.   0.]\n",
      " [  1.   1.]\n",
      " [  2.   4.]\n",
      " [  4.  16.]\n",
      " [  5.  25.]\n",
      " [  6.  36.]]\n",
      "<type 'numpy.ndarray'>\n",
      "(6, 2)\n",
      "[ 0.  1.  2.  4.  5.  6.]\n",
      "[  0.   1.   4.  16.  25.  36.]\n"
     ]
    },
    {
     "data": {
      "image/png": "[encoded data removed]",
      "text/plain": [
       "<matplotlib.figure.Figure at 0x7f3ddc1b8890>"
      ]
     },
     "metadata": {},
     "output_type": "display_data"
    }
   ],
   "source": [
    "data = np.loadtxt('my_data.txt')\n",
    "print(data)\n",
    "print(type(data))\n",
    "print(data.shape)\n",
    "print(data[:,0])\n",
    "print(data[:,1])\n",
    "plt.plot(data[:,0],data[:,1])\n",
    "plt.show()"
   ]
  },
  {
   "cell_type": "markdown",
   "metadata": {},
   "source": [
    "## numpy 파일 저장 및 불러오기\n",
    "\n",
    "  np.save() 함수를 이용해서 ndarray 타입으로 저장\n",
    "  np.load() 함수로 ndarray 타입을 불러와서 로딩\n",
    "  \n",
    "  행별로 분리해서 그래프 그리기"
   ]
  },
  {
   "cell_type": "code",
   "execution_count": 33,
   "metadata": {},
   "outputs": [
    {
     "name": "stdout",
     "output_type": "stream",
     "text": [
      "[[1 2 3]\n",
      " [4 5 6]]\n",
      "[1 2 3]\n",
      "[4 5 6]\n"
     ]
    },
    {
     "data": {
      "image/png": "[encoded data removed]",
      "text/plain": [
       "<matplotlib.figure.Figure at 0x7f3dd5c77290>"
      ]
     },
     "metadata": {},
     "output_type": "display_data"
    }
   ],
   "source": [
    "np.save('123.npy', np.array([[1, 2, 3], [4, 5, 6]]))\n",
    "x = np.load('123.npy')\n",
    "print(x)\n",
    "plt.plot(x[0],x[1])\n",
    "print(x[0])\n",
    "print(x[1])\n",
    "plt.show()"
   ]
  },
  {
   "cell_type": "code",
   "execution_count": null,
   "metadata": {
    "collapsed": true
   },
   "outputs": [],
   "source": []
  }
 ],
 "metadata": {
  "kernelspec": {
   "display_name": "Python 3",
   "language": "python",
   "name": "python3"
  },
  "language_info": {
   "codemirror_mode": {
    "name": "ipython",
    "version": 3
   },
   "file_extension": ".py",
   "mimetype": "text/x-python",
   "name": "python",
   "nbconvert_exporter": "python",
   "pygments_lexer": "ipython3",
   "version": "3.6.1"
  }
 },
 "nbformat": 4,
 "nbformat_minor": 1
}
