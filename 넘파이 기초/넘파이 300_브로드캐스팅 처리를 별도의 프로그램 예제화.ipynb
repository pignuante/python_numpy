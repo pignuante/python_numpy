{
 "cells": [
  {
   "cell_type": "code",
   "execution_count": 1,
   "metadata": {
    "collapsed": true
   },
   "outputs": [],
   "source": [
    "import numpy as np\n",
    "import operator as op\n",
    "import collections.abc as abc\n",
    "import numbers as num\n",
    "\n"
   ]
  },
  {
   "cell_type": "markdown",
   "metadata": {},
   "source": [
    "## 실제 입력된 값이 벡터와 스칼라 여부를 확인"
   ]
  },
  {
   "cell_type": "code",
   "execution_count": 2,
   "metadata": {
    "collapsed": true
   },
   "outputs": [],
   "source": [
    "#벡터와 스칼라 구분\n",
    "def type_check(obj) :\n",
    "    length = 1\n",
    "    if isinstance(obj,num.Number) :\n",
    "        result = 's'\n",
    "    else :\n",
    "        result = 'v'\n",
    "        length = len(obj.flatten())\n",
    "    return result,length"
   ]
  },
  {
   "cell_type": "markdown",
   "metadata": {},
   "source": [
    "## 행으로 확장한다. "
   ]
  },
  {
   "cell_type": "code",
   "execution_count": 3,
   "metadata": {
    "collapsed": true
   },
   "outputs": [],
   "source": [
    "#세로축 확장    \n",
    "def axis_0(v,y, c)  :\n",
    "    for _ in range(c-1) :\n",
    "        v = np.vstack((v,y))\n",
    "    return v\n",
    "\n"
   ]
  },
  {
   "cell_type": "markdown",
   "metadata": {},
   "source": [
    "## 열로 확장한다"
   ]
  },
  {
   "cell_type": "code",
   "execution_count": 4,
   "metadata": {
    "collapsed": true
   },
   "outputs": [],
   "source": [
    "#가로축 확장\n",
    "def axis_1(h,y,c) :\n",
    "    for _ in range(c-1) :\n",
    "        \n",
    "        h = np.hstack((h,y))\n",
    "    return h"
   ]
  },
  {
   "cell_type": "code",
   "execution_count": 6,
   "metadata": {
    "collapsed": true
   },
   "outputs": [],
   "source": [
    "#scalar --> 2d array\n",
    "def scalr_broad(x,y, c) : \n",
    "    result_x = axis_1(x,x,c//y.shape[0])\n",
    "    result_x.shape = (1,result_x.shape[0])\n",
    "    result_x = axis_0(result_x,result_x, y.shape[0])\n",
    "    return result_x"
   ]
  },
  {
   "cell_type": "code",
   "execution_count": 43,
   "metadata": {},
   "outputs": [],
   "source": [
    "\n",
    "    \n",
    "def broadcast(x,y,c=None) : \n",
    "    result_x=x\n",
    "    result_y=y\n",
    "    \n",
    "    ##문자열과 길이\n",
    "    xt,a = type_check(x)\n",
    "    yt,b = type_check(y)\n",
    "    \n",
    "    print(xt,a)\n",
    "    print(yt,b)\n",
    "   \n",
    "    # Broadcasting over axis 1 with a Scalar\n",
    "    # Broadcasting over 2-D array with a Scalar\n",
    "    if xt == 's' :\n",
    "        x = np.array(x)\n",
    "        if y.shape[0] > 1 :\n",
    "            result_x = scalr_broad(x,y, b)\n",
    "        else :\n",
    "            result_x = axis_1(x,x,b)\n",
    "            \n",
    "    if yt == 's' :\n",
    "        y = np.array(y)\n",
    "        if x.shape[0] > 1 :\n",
    "            result_y = scalr_broad(y,x, a)\n",
    "            \n",
    "        else :\n",
    "            result_y = axis_1(x,x,b)\n",
    "\n",
    "    #Broadcasting over axis 0 with a 1-D array or 2-D array\n",
    "   \n",
    "    if (xt == 'v') and (yt == 'v') :\n",
    "        c, d = 0, 0\n",
    "        #first argument > second argument\n",
    "        if a > b:\n",
    "            c, d = divmod(a,b)\n",
    "            ## 첫번째 축이 동일할 경우 두번째 축의 값으로 확장\n",
    "            if (x.shape[0] == y.shape[0]) :\n",
    "                result_y = axis_1(result_y,y,x.shape[1])\n",
    "            else :\n",
    "                ## 두번째 항목으로 행 확장\n",
    "                result_y = axis_0(result_y,y, c)     \n",
    "        elif a < b :\n",
    "            c, d = divmod(b,a)\n",
    "            if (x.shape[0] == y.shape[0]) :\n",
    "                result_x = axis_1(result_x,x,y.shape[1])\n",
    "            else :\n",
    "                result_x = axis_0(result_x,x, c)   \n",
    "        else :\n",
    "            pass\n",
    "                \n",
    "    return result_x,result_y\n",
    "\n"
   ]
  },
  {
   "cell_type": "markdown",
   "metadata": {},
   "source": [
    "## 벡터화 함수로 전환"
   ]
  },
  {
   "cell_type": "code",
   "execution_count": 21,
   "metadata": {
    "collapsed": true
   },
   "outputs": [],
   "source": [
    "b = np.vectorize(op.add)\n",
    "\n"
   ]
  },
  {
   "cell_type": "markdown",
   "metadata": {},
   "source": [
    "## 두개의 배열 정의"
   ]
  },
  {
   "cell_type": "code",
   "execution_count": 44,
   "metadata": {
    "collapsed": true
   },
   "outputs": [],
   "source": [
    "x = np.array([[1,2,3],[4,5,6]])\n",
    "y = np.array([[11],[22]])"
   ]
  },
  {
   "cell_type": "code",
   "execution_count": 45,
   "metadata": {},
   "outputs": [
    {
     "data": {
      "text/plain": [
       "(2, 3)"
      ]
     },
     "execution_count": 45,
     "metadata": {},
     "output_type": "execute_result"
    }
   ],
   "source": [
    "x.shape"
   ]
  },
  {
   "cell_type": "code",
   "execution_count": 46,
   "metadata": {},
   "outputs": [
    {
     "data": {
      "text/plain": [
       "(2, 1)"
      ]
     },
     "execution_count": 46,
     "metadata": {},
     "output_type": "execute_result"
    }
   ],
   "source": [
    "y.shape"
   ]
  },
  {
   "cell_type": "code",
   "execution_count": 47,
   "metadata": {},
   "outputs": [
    {
     "name": "stdout",
     "output_type": "stream",
     "text": [
      "v 6\n",
      "v 2\n",
      "[[1 2 3]\n",
      " [4 5 6]]\n",
      "[[11 11 11]\n",
      " [22 22 22]]\n"
     ]
    }
   ],
   "source": [
    "x1,y1 = broadcast(x,y)\n",
    "print(x1)\n",
    "print(y1)"
   ]
  },
  {
   "cell_type": "code",
   "execution_count": 48,
   "metadata": {},
   "outputs": [
    {
     "data": {
      "text/plain": [
       "((2, 3), (2, 3))"
      ]
     },
     "execution_count": 48,
     "metadata": {},
     "output_type": "execute_result"
    }
   ],
   "source": [
    "x1.shape, y1.shape"
   ]
  },
  {
   "cell_type": "markdown",
   "metadata": {},
   "source": [
    "## 벡터화된 함수를 이용해서 두 배열을 더한다"
   ]
  },
  {
   "cell_type": "code",
   "execution_count": 50,
   "metadata": {},
   "outputs": [
    {
     "data": {
      "text/plain": [
       "array([[12, 13, 14],\n",
       "       [26, 27, 28]])"
      ]
     },
     "execution_count": 50,
     "metadata": {},
     "output_type": "execute_result"
    }
   ],
   "source": [
    "b(x1,y1)"
   ]
  },
  {
   "cell_type": "markdown",
   "metadata": {},
   "source": [
    "## 스칼라와 배열간의 처리"
   ]
  },
  {
   "cell_type": "code",
   "execution_count": 52,
   "metadata": {},
   "outputs": [
    {
     "name": "stdout",
     "output_type": "stream",
     "text": [
      "v 6\n",
      "s 1\n",
      "[[1 2 3]\n",
      " [4 5 6]]\n",
      "[[4 4 4]\n",
      " [4 4 4]]\n"
     ]
    }
   ],
   "source": [
    "\n",
    "\n",
    "y = 4\n",
    "x = np.array([[1,2,3],[4,5,6]])\n",
    "\n",
    "\n",
    "x,y = broadcast(x,y)\n",
    "print(x)\n",
    "print(y)\n"
   ]
  },
  {
   "cell_type": "code",
   "execution_count": 53,
   "metadata": {},
   "outputs": [
    {
     "data": {
      "text/plain": [
       "array([[ 5,  6,  7],\n",
       "       [ 8,  9, 10]])"
      ]
     },
     "execution_count": 53,
     "metadata": {},
     "output_type": "execute_result"
    }
   ],
   "source": [
    "b(x,y)"
   ]
  },
  {
   "cell_type": "markdown",
   "metadata": {},
   "source": [
    "## 2차원과 3차원 처리 분이 안되어서 밑에 추가적으로 변경함"
   ]
  },
  {
   "cell_type": "code",
   "execution_count": 14,
   "metadata": {},
   "outputs": [
    {
     "name": "stdout",
     "output_type": "stream",
     "text": [
      "(2, 3) (1, 2, 3)\n",
      "[[1 2 3]\n",
      " [4 5 6]]\n",
      "[[[1 2 3]\n",
      "  [4 5 6]]]\n"
     ]
    }
   ],
   "source": [
    "x = np.array([[1,2,3],[4,5,6]])\n",
    "y = np.array([[[1,2,3],[4,5,6]]])\n",
    "print(x.shape, y.shape)\n",
    "x,y = broadcast(x,y, 3)\n",
    "print(x)\n",
    "print(y)"
   ]
  },
  {
   "cell_type": "markdown",
   "metadata": {},
   "source": [
    "## 3차원 처리 추가\n",
    "\n",
    "Broadcasting over axis 0 with a 3-D array\n"
   ]
  },
  {
   "cell_type": "code",
   "execution_count": 56,
   "metadata": {},
   "outputs": [
    {
     "name": "stdout",
     "output_type": "stream",
     "text": [
      "(2, 3) (2, 2, 3)\n",
      "[[[1 2 3]\n",
      "  [4 5 6]]\n",
      "\n",
      " [[1 2 3]\n",
      "  [4 5 6]]]\n",
      "[[[ 1  2  3]\n",
      "  [ 4  5  6]]\n",
      "\n",
      " [[11 12 13]\n",
      "  [14 15 16]]]\n",
      "3 (2, 2, 3)\n",
      "3 (2, 2, 3)\n"
     ]
    }
   ],
   "source": [
    "import numpy as np\n",
    "import operator as op\n",
    "import collections.abc as abc\n",
    "import numbers as num\n",
    "\n",
    "#벡터와 스칼라 구분\n",
    "def type_check(obj) :\n",
    "    length = 1\n",
    "    if isinstance(obj,num.Number) :\n",
    "        result = 's'\n",
    "    else :\n",
    "        result = 'v'\n",
    "        length = len(obj.flatten())\n",
    "    return result,length\n",
    "\n",
    "#세로축 확장    \n",
    "def axis_0(v,y, c)  :\n",
    "    for _ in range(c-1) :\n",
    "        v = np.vstack((v,y))\n",
    "    return v\n",
    "\n",
    "#가로축 확장\n",
    "def axis_1(h,y,c) :\n",
    "    for _ in range(c-1) :\n",
    "        \n",
    "        h = np.hstack((h,y))\n",
    "    return h\n",
    "#scalar --> 2d array\n",
    "def scalr_broad(x,y, c) : \n",
    "    result_x = axis_1(x,x,c//y.shape[0])\n",
    "    result_x.shape = (1,result_x.shape[0])\n",
    "    result_x = axis_0(result_x,result_x, y.shape[0])\n",
    "    return result_x\n",
    "    \n",
    "def broadcast(x,y,c=None) : \n",
    "    result_x=x\n",
    "    result_y=y\n",
    "    xt,a = type_check(x)\n",
    "    yt,b = type_check(y)\n",
    "    \n",
    "    if xt == 's' or yt == 's' :\n",
    "        # Broadcasting over axis 1 with a Scalar\n",
    "         # Broadcasting over 2-D array with a Scalar\n",
    "        if xt == 's' :\n",
    "            x = np.array(x)\n",
    "            if y.shape[0] > 1 :\n",
    "                result_x = scalr_broad(x,y, b)\n",
    "            else :\n",
    "                result_x = axis_1(x,x,b)\n",
    "            \n",
    "        if yt == 's' :\n",
    "            y = np.array(y)\n",
    "            if x.shape[0] > 1 :\n",
    "                result_y = scalr_broad(y,x, a) \n",
    "            else :\n",
    "                result_y = axis_1(x,x,b)\n",
    "   \n",
    "    #Broadcasting over axis 0 with a 1-D array or 2-D array\n",
    "   \n",
    "    if (xt == 'v') and (yt == 'v') :\n",
    "        c, d = 0, 0\n",
    "        \n",
    "        ## 3차원 부분을 추가\n",
    "        if (x.ndim == 3) or (y.ndim == 3) :\n",
    "            if x.ndim > y.ndim :\n",
    "                c, d = divmod(a,b)\n",
    "                #차원을 추가\n",
    "                result_y.shape = (1,result_y.shape[0],result_y.shape[1])\n",
    "                result_y = axis_0(result_y,y, c)\n",
    "            else :\n",
    "                c, d = divmod(b,a)\n",
    "                #차원을 추가\n",
    "                result_x.shape = (1,result_x.shape[0],result_x.shape[1])\n",
    "                result_x = axis_0(result_x,x, c)\n",
    "        else :\n",
    "            \n",
    "            c, d = 0, 0\n",
    "            #first argument > second argument\n",
    "            if a > b:\n",
    "                c, d = divmod(a,b)\n",
    "                if (x.shape[0] == y.shape[0]) :\n",
    "                    result_y = axis_1(result_y,y,x.shape[1])\n",
    "                else :\n",
    "                    result_y = axis_0(result_y,y, c)     \n",
    "            elif a < b :\n",
    "                c, d = divmod(b,a)\n",
    "                if (x.shape[0] == y.shape[0]) :\n",
    "                    result_x = axis_1(result_x,x,y.shape[1])\n",
    "                else :\n",
    "                    result_x = axis_0(result_x,x, c)   \n",
    "            else :\n",
    "                pass\n",
    "        \n",
    "    \n",
    "                \n",
    "    return result_x,result_y\n",
    "\n",
    "x = np.array([[1,2,3],[4,5,6]])\n",
    "y = np.array([[[1,2,3],[4,5,6]],[[11,12,13],[14,15,16]]])\n",
    "print(x.shape, y.shape)\n",
    "x,y = broadcast(x,y, 3)\n",
    "print(x)\n",
    "print(y)\n",
    "print(x.ndim, x.shape)\n",
    "print(y.ndim, y.shape)"
   ]
  },
  {
   "cell_type": "markdown",
   "metadata": {},
   "source": [
    "## 3차원처리"
   ]
  },
  {
   "cell_type": "code",
   "execution_count": 57,
   "metadata": {},
   "outputs": [
    {
     "data": {
      "text/plain": [
       "array([[[ 2,  4,  6],\n",
       "        [ 8, 10, 12]],\n",
       "\n",
       "       [[12, 14, 16],\n",
       "        [18, 20, 22]]])"
      ]
     },
     "execution_count": 57,
     "metadata": {},
     "output_type": "execute_result"
    }
   ],
   "source": [
    "b(x,y)"
   ]
  },
  {
   "cell_type": "code",
   "execution_count": 58,
   "metadata": {},
   "outputs": [
    {
     "name": "stdout",
     "output_type": "stream",
     "text": [
      "3\n"
     ]
    }
   ],
   "source": [
    "a = np.array([[[1,2,3],[4,5,6]]])\n",
    "print(np.ndim(a))"
   ]
  },
  {
   "cell_type": "code",
   "execution_count": null,
   "metadata": {
    "collapsed": true
   },
   "outputs": [],
   "source": []
  }
 ],
 "metadata": {
  "kernelspec": {
   "display_name": "Python 3",
   "language": "python",
   "name": "python3"
  },
  "language_info": {
   "codemirror_mode": {
    "name": "ipython",
    "version": 3
   },
   "file_extension": ".py",
   "mimetype": "text/x-python",
   "name": "python",
   "nbconvert_exporter": "python",
   "pygments_lexer": "ipython3",
   "version": "3.6.1"
  }
 },
 "nbformat": 4,
 "nbformat_minor": 1
}
