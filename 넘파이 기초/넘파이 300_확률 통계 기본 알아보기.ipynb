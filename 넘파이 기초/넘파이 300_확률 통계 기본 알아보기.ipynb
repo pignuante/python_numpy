{
 "cells": [
  {
   "cell_type": "code",
   "execution_count": 1,
   "metadata": {
    "collapsed": true
   },
   "outputs": [],
   "source": [
    "%matplotlib inline\n",
    "import numpy as np"
   ]
  },
  {
   "cell_type": "markdown",
   "metadata": {},
   "source": [
    "## 대표값 구하기 "
   ]
  },
  {
   "cell_type": "markdown",
   "metadata": {},
   "source": [
    "###  평균 "
   ]
  },
  {
   "cell_type": "code",
   "execution_count": 2,
   "metadata": {},
   "outputs": [
    {
     "name": "stdout",
     "output_type": "stream",
     "text": [
      "<function mean at 0x10cf83f28>\n",
      "[ 1  2  3  4  5  6  7  8  9 10]\n",
      "5.5\n"
     ]
    }
   ],
   "source": [
    "import numpy as np\n",
    "\n",
    "print(np.mean) \n",
    "\n",
    "ar = np.arange(1,11) \n",
    "print(ar)\n",
    "print(np.mean(ar))"
   ]
  },
  {
   "cell_type": "code",
   "execution_count": 3,
   "metadata": {},
   "outputs": [
    {
     "name": "stdout",
     "output_type": "stream",
     "text": [
      "<function average at 0x10d072730>\n",
      "[ 1  2  3  4  5  6  7  8  9 10]\n",
      "5.5\n"
     ]
    }
   ],
   "source": [
    "import numpy as np\n",
    "\n",
    "print(np.average) \n",
    "\n",
    "ar = np.arange(1,11) \n",
    "print(ar)\n",
    "print(np.average(ar))"
   ]
  },
  {
   "cell_type": "markdown",
   "metadata": {},
   "source": [
    "#### axis 단위로 평균 구하기 \n",
    "\n",
    "    axis = 0 : 열단위로 계산\n",
    "    \n",
    "    axis = 1 : 행단위로 계산 \n"
   ]
  },
  {
   "cell_type": "code",
   "execution_count": 4,
   "metadata": {},
   "outputs": [
    {
     "name": "stdout",
     "output_type": "stream",
     "text": [
      "[[ 1  2  3  4]\n",
      " [ 5  6  7  8]\n",
      " [ 9 10 11 12]]\n",
      "[ 5.  6.  7.  8.]\n",
      "[  2.5   6.5  10.5]\n",
      "[ 5.  6.  7.  8.]\n",
      "[  2.5   6.5  10.5]\n"
     ]
    }
   ],
   "source": [
    "import numpy as np\n",
    "\n",
    "ar = np.arange(1,13).reshape(3,4) \n",
    "print(ar)\n",
    "print(np.mean(ar,axis=0))\n",
    "print(np.mean(ar,axis=1))\n",
    "\n",
    "print(np.average(ar,axis=0))\n",
    "print(np.average(ar,axis=1))"
   ]
  },
  {
   "cell_type": "markdown",
   "metadata": {},
   "source": [
    "#### 가중 평균 구하기 \n",
    "\n",
    "    원소와 가중치를 곱한 후에 합하고 이를 가중치의 합으로 나누어서 구함 \n",
    "    "
   ]
  },
  {
   "cell_type": "code",
   "execution_count": 136,
   "metadata": {},
   "outputs": [
    {
     "name": "stdout",
     "output_type": "stream",
     "text": [
      "[[0 1]\n",
      " [2 3]\n",
      " [4 5]]\n",
      "[ 0.5  2.5  4.5]\n",
      "0.75\n",
      "2.75\n",
      "4.75\n",
      "[ 0.75  2.75  4.75]\n"
     ]
    }
   ],
   "source": [
    "data = np.arange(6).reshape((3,2))\n",
    "\n",
    "print(data)\n",
    "print(np.average(data, axis=1))\n",
    "\n",
    "for i,j in data :\n",
    "    result = (i * (1/4)) + (j * (3/4))\n",
    "    avr = result/((1/4) + (3/4))\n",
    "    print(avr)\n",
    "    \n",
    "print(np.average(data, axis=1, weights=[1/4, 3/4]))\n"
   ]
  },
  {
   "cell_type": "markdown",
   "metadata": {},
   "source": [
    "### 중앙값 \n"
   ]
  },
  {
   "cell_type": "code",
   "execution_count": 113,
   "metadata": {},
   "outputs": [
    {
     "name": "stdout",
     "output_type": "stream",
     "text": [
      "<function median at 0x000000000547F510>\n",
      "[ 1  2  3  4  5  6  7  8  9 10]\n",
      "5.5\n",
      "[ 1  2  3  4  5  6  7  8  9 10 11]\n",
      "6.0\n"
     ]
    }
   ],
   "source": [
    "import numpy as np\n",
    "\n",
    "print(np.median) \n",
    "\n",
    "# 짝수 갯수\n",
    "ar = np.arange(1,11) \n",
    "print(ar)\n",
    "print(np.median(ar))\n",
    "\n",
    "# 홀수 갯수\n",
    "ar = np.arange(1,12) \n",
    "print(ar)\n",
    "print(np.median(ar))"
   ]
  },
  {
   "cell_type": "markdown",
   "metadata": {},
   "source": [
    "### 빈도값 \n"
   ]
  },
  {
   "cell_type": "code",
   "execution_count": 124,
   "metadata": {},
   "outputs": [
    {
     "name": "stdout",
     "output_type": "stream",
     "text": [
      "<function mode at 0x00000000097A1D08>\n",
      "[1 2 3 3 3 4 5 6 7]\n",
      "ModeResult(mode=array([3]), count=array([3]))\n",
      "[3]\n"
     ]
    }
   ],
   "source": [
    "import numpy as np\n",
    "\n",
    "from scipy import stats\n",
    "\n",
    "print(stats.mode) \n",
    "\n",
    "ar = np.array([1,2,3,3,3,4,5,6,7])\n",
    "print(ar)\n",
    "print(stats.mode(ar))\n",
    "print((stats.mode(ar).mode))"
   ]
  },
  {
   "cell_type": "code",
   "execution_count": 120,
   "metadata": {},
   "outputs": [
    {
     "name": "stdout",
     "output_type": "stream",
     "text": [
      "[3]\n"
     ]
    }
   ],
   "source": [
    "print((stats.mode(ar).mode))"
   ]
  },
  {
   "cell_type": "markdown",
   "metadata": {},
   "source": [
    "#### 빈도수에 대해 계산하기 "
   ]
  },
  {
   "cell_type": "code",
   "execution_count": 24,
   "metadata": {},
   "outputs": [
    {
     "name": "stdout",
     "output_type": "stream",
     "text": [
      "(array([1, 1, 0, 3, 0, 1, 1, 0, 1, 1], dtype=int64), array([ 1. ,  1.6,  2.2,  2.8,  3.4,  4. ,  4.6,  5.2,  5.8,  6.4,  7. ]))\n"
     ]
    }
   ],
   "source": [
    "import matplotlib.pyplot as plt\n",
    "\n",
    "ar = np.array([1,2,3,3,3,4,5,6,7])\n",
    "\n",
    "print(np.histogram(ar))"
   ]
  },
  {
   "cell_type": "markdown",
   "metadata": {},
   "source": [
    "####  histogram 그래프 그리기\n",
    "\n",
    "    빈도수를 기준으로 histogram 그래프 그리기"
   ]
  },
  {
   "cell_type": "code",
   "execution_count": 128,
   "metadata": {},
   "outputs": [
    {
     "data": {
      "image/png": "[encoded data removed]",
      "text/plain": [
       "<matplotlib.figure.Figure at 0x938d828>"
      ]
     },
     "metadata": {},
     "output_type": "display_data"
    }
   ],
   "source": [
    "import matplotlib.pyplot as plt\n",
    "\n",
    "ar = np.array([1,2,3,3,3,4,5,6,7])\n",
    "\n",
    "xbins=range(1,len(ar)+1)\n",
    "plt.hist(ar, bins=xbins, normed=1, histtype='bar',\n",
    "                            color=['crimson'],\n",
    "                            label=['Crimson'],alpha=0.8, width = 1/1.2)\n",
    "plt.legend()\n",
    "plt.title(\" Mode Histogram\")\n",
    "\n",
    "plt.xlabel(\"Value\")\n",
    "plt.ylabel(\"Frequency\")\n",
    "plt.show()\n",
    "\n"
   ]
  },
  {
   "cell_type": "markdown",
   "metadata": {},
   "source": [
    "#### 막대그래프\n",
    "\n",
    "    실제 위치별로 크기를 표시해서 그리기 \n"
   ]
  },
  {
   "cell_type": "code",
   "execution_count": 145,
   "metadata": {},
   "outputs": [
    {
     "data": {
      "image/png": "[encoded data removed]",
      "text/plain": [
       "<matplotlib.figure.Figure at 0xa5579b0>"
      ]
     },
     "metadata": {},
     "output_type": "display_data"
    }
   ],
   "source": [
    "import matplotlib.pyplot as plt\n",
    "\n",
    "ar = np.array([1,2,3,4,5,6,7])\n",
    "\n",
    "N = len(ar)\n",
    "x = range(N)\n",
    "plt.bar(x,ar, width=0.8, color=['crimson'],label=['Crimson'],alpha=0.8)\n",
    "plt.legend()\n",
    "plt.title(\" var chart\")\n",
    "plt.xlabel(\"Index\")\n",
    "plt.ylabel(\"Value\")\n",
    "plt.show()\n"
   ]
  },
  {
   "cell_type": "markdown",
   "metadata": {},
   "source": [
    "### 분산 구하기 "
   ]
  },
  {
   "cell_type": "code",
   "execution_count": 63,
   "metadata": {},
   "outputs": [
    {
     "name": "stdout",
     "output_type": "stream",
     "text": [
      "<function var at 0x0000000004FB0950>\n",
      "[1 2 3 3 3 4 5 6 7]\n",
      "3.28395061728\n",
      "3.28395061728\n",
      "3.69444444444\n",
      "3.69444444444\n"
     ]
    }
   ],
   "source": [
    "import numpy as np\n",
    "\n",
    "\n",
    "print(np.var) \n",
    "\n",
    "ar = np.array([1,2,3,3,3,4,5,6,7])\n",
    "print(ar)\n",
    "print(np.var(ar))\n",
    "\n",
    "# 모분산을 구하는 함수\n",
    "def var_(ar) :\n",
    "    avr = np.mean(ar) \n",
    "    x_xx = [pow(x-avr,2) for x in ar]\n",
    "    return sum(x_xx)/len(ar)\n",
    "\n",
    "print(var_(ar))\n",
    "\n",
    "\n",
    "print(np.var(ar, ddof=1))\n",
    "\n",
    "# 샘플분산을 구하는 함수\n",
    "def var_s(ar) :\n",
    "    avr = np.mean(ar) \n",
    "    x_xx = [pow(x-avr,2) for x in ar]\n",
    "    return sum(x_xx)/(len(ar)-1)\n",
    "\n",
    "print(var_s(ar))"
   ]
  },
  {
   "cell_type": "markdown",
   "metadata": {},
   "source": [
    "### 표준편차 구하기 \n",
    "\n",
    "    ddof=1로 세팅하면 샘플리 표준편차 ( n-1)"
   ]
  },
  {
   "cell_type": "code",
   "execution_count": 62,
   "metadata": {},
   "outputs": [
    {
     "name": "stdout",
     "output_type": "stream",
     "text": [
      "<function std at 0x0000000004FB08C8>\n",
      "[1 2 3 3 3 4 5 6 7]\n",
      "1.81216738114\n",
      "1.81216738114\n",
      "1.92209376578\n",
      "1.92209376578\n"
     ]
    }
   ],
   "source": [
    "import numpy as np\n",
    "\n",
    "\n",
    "print(np.std) \n",
    "\n",
    "ar = np.array([1,2,3,3,3,4,5,6,7])\n",
    "print(ar)\n",
    "print(np.std(ar))\n",
    "\n",
    "# 모표준편차을 구하는 함수\n",
    "def std_(ar) :\n",
    "    avr = np.mean(ar) \n",
    "    x_xx = [pow(x-avr,2) for x in ar]\n",
    "    return np.sqrt(sum(x_xx)/len(ar))\n",
    "\n",
    "print(std_(ar))\n",
    "\n",
    "\n",
    "print(np.std(ar, ddof=1))\n",
    "\n",
    "# 샘플 표준편차를 구하는 함수\n",
    "def std_s(ar) :\n",
    "    avr = np.mean(ar) \n",
    "    x_xx = [pow(x-avr,2) for x in ar]\n",
    "    return np.sqrt(sum(x_xx)/(len(ar)-1))\n",
    "print(std_s(ar))\n"
   ]
  },
  {
   "cell_type": "markdown",
   "metadata": {
    "collapsed": true
   },
   "source": [
    "#  공분산 \n",
    "\n",
    "    Subject           1 2 3  4  5   Mean    S\n",
    "    Adverts Watched   5 4 4  6  8    5.4   1.67\n",
    "    Packets Bought    8 9 10 14 15   11.2  3.11\n",
    "    \n",
    "   "
   ]
  },
  {
   "cell_type": "code",
   "execution_count": 48,
   "metadata": {},
   "outputs": [
    {
     "data": {
      "image/png": "[encoded data removed]",
      "text/plain": [
       "<matplotlib.figure.Figure at 0x651c550>"
      ]
     },
     "metadata": {},
     "output_type": "display_data"
    }
   ],
   "source": [
    "import matplotlib.pyplot as plt\n",
    "\n",
    "aw = np.array([5,4,4,6,8])\n",
    "pb = np.array([8,9,10,14,15])\n",
    "\n",
    "plt.plot(aw,pb)\n",
    "\n",
    "plt.title(\" Mode Histogram\")\n",
    "\n",
    "plt.xlabel(\"Adverts Watched \")\n",
    "plt.ylabel(\"Packets Bought\")\n",
    "plt.show()"
   ]
  },
  {
   "cell_type": "code",
   "execution_count": 116,
   "metadata": {},
   "outputs": [
    {
     "name": "stdout",
     "output_type": "stream",
     "text": [
      "aw mean : 5.4\n",
      "aw std : 1.67332005307\n",
      "pb mean : 11.2\n",
      "pb std : 3.11448230048\n",
      " aa sum :  -1.7763568394e-15\n",
      " pp sum:  3.5527136788e-15\n",
      " cov  :  -1.57772181044e-30\n"
     ]
    }
   ],
   "source": [
    "aw = np.array([5,4,4,6,8])\n",
    "pb = np.array([8,9,10,14,15])\n",
    "\n",
    "print(\"aw mean :\", np.mean(aw))\n",
    "print(\"aw std :\", np.std(aw, ddof=1))\n",
    "\n",
    "print(\"pb mean :\", np.mean(pb))\n",
    "print(\"pb std :\", np.std(pb, ddof=1))\n",
    "\n",
    "aa = (aw - np.mean(aw))\n",
    "pp = (pb - np.mean(pb))\n",
    "\n",
    "print(\" aa sum : \", sum(aa))\n",
    "print(\" pp sum: \", sum(pp))\n",
    "\n",
    "coo = sum(aw-np.mean(aw))* sum(pb-np.mean(pb))/(5-1)\n",
    "print(\" cov  : \", coo)\n"
   ]
  },
  {
   "cell_type": "markdown",
   "metadata": {},
   "source": [
    "### 상관계수 "
   ]
  },
  {
   "cell_type": "code",
   "execution_count": 118,
   "metadata": {},
   "outputs": [
    {
     "name": "stdout",
     "output_type": "stream",
     "text": [
      "corr\n",
      "-3.02737030344e-31\n"
     ]
    }
   ],
   "source": [
    "cov = np.sum(aw-np.mean(aw))* np.sum(pb-np.mean(pb))/(5-1)\n",
    "\n",
    "corr = cov  /(np.std(aw, ddof=1) * np.std(pb, ddof=1))\n",
    "\n",
    "if -1<= corr <= 1 :\n",
    "    print('corr')\n",
    "    \n",
    "print(corr)\n"
   ]
  },
  {
   "cell_type": "markdown",
   "metadata": {},
   "source": [
    "# 확률\n"
   ]
  },
  {
   "cell_type": "markdown",
   "metadata": {},
   "source": [
    "### 시행(trial) \n",
    "\n",
    "    모든 결과가 우연에 의해서 지배가 되고 반복가능하며 모든 결과가 예측이 가능한 실험이나 관찰\n",
    "    \n",
    "    확률실험(random experiment)즉 시행은 결과가 우연에 좌우되는 현상을 실현시키는 행위는 실험, \n",
    "    관찰, 조사 등으로써 몇 가지 특징을 가지는 것을 시행 또는 확률실험이라고 한다.\n"
   ]
  },
  {
   "cell_type": "markdown",
   "metadata": {},
   "source": [
    "### 표본공간(sample space) \n",
    "\n",
    "    표본공간 또는 전체 표본공간은 종종 S, Ω 또는 U로 표기되며, 실험 또는 임의 시도의 모든 가능한 산출들의 집합이다\n",
    "    "
   ]
  },
  {
   "cell_type": "markdown",
   "metadata": {},
   "source": [
    "### 사건(event) \n",
    "\n",
    "    확률에서는 실험에서 발생할 수 있는 결과들이 기본 사건(elementary event) 이라고 불리는데\n",
    "    이것의 모음은 그냥 사건이라고 일컫는다.\n",
    "    \n",
    "    어떤 실험의 표본공간 S에 관한 사건(event)이란 S의 부분 집 합을 뜻함. 즉, 실험의 가능한 결과로 이루어진 집합을 사건 (event)이라 함\n"
   ]
  },
  {
   "cell_type": "markdown",
   "metadata": {},
   "source": [
    "### 주사위를 한 번 던질 경우 발생할 수 있는 확률을 구하는 함수 정의\n",
    "\n",
    "    fractions.Fraction을 이용해서 유리수 처리"
   ]
  },
  {
   "cell_type": "code",
   "execution_count": 169,
   "metadata": {
    "collapsed": true
   },
   "outputs": [],
   "source": [
    "import fractions\n",
    "# 주사위를 한번 던질때 나오는 경우\n",
    "\n",
    "def p(x) :\n",
    "    # 표본공간\n",
    "    samplespace = {1,2,3,4,5,6}\n",
    "    if x | samplespace :\n",
    "        return fractions.Fraction(len(x),len(samplespace))\n",
    "    else :\n",
    "        raise Exception(\" No event \")"
   ]
  },
  {
   "cell_type": "markdown",
   "metadata": {},
   "source": [
    "#### 이산확률 분포 그래프 그리기\n",
    "\n",
    "    주사의를 던질 경우 동등한 비중이므로 이를 이산확률분포로 그리려면 stem 그래프로 처리\n",
    "    "
   ]
  },
  {
   "cell_type": "code",
   "execution_count": 198,
   "metadata": {},
   "outputs": [
    {
     "data": {
      "image/png": "[encoded data removed]",
      "text/plain": [
       "<matplotlib.figure.Figure at 0x9362fd0>"
      ]
     },
     "metadata": {},
     "output_type": "display_data"
    }
   ],
   "source": [
    "import matplotlib.pyplot as plt\n",
    "\n",
    "x = np.arange(1,7)\n",
    "y = np.array([1,1,1,1,1,1])\n",
    "plt.xlim(0, 7)\n",
    "plt.ylim(0, 2)\n",
    "plt.stem(x,y)\n",
    "plt.show()"
   ]
  },
  {
   "cell_type": "markdown",
   "metadata": {},
   "source": [
    "#### 주사위를 한번 던질 경우 발생하는 사건과 확률 "
   ]
  },
  {
   "cell_type": "code",
   "execution_count": 171,
   "metadata": {},
   "outputs": [
    {
     "name": "stdout",
     "output_type": "stream",
     "text": [
      "event 1 1/6\n",
      "event odd  1/2\n"
     ]
    }
   ],
   "source": [
    "\n",
    "# 주사위가 1이 나올 사건\n",
    "event_1 = {1}\n",
    "print(\"event 1\",p(event_1))\n",
    "\n",
    "# 주사위가 홀수일 사건\n",
    "event_odd = {1,3,5}\n",
    "print(\"event odd \",p(event_odd))\n"
   ]
  },
  {
   "cell_type": "markdown",
   "metadata": {},
   "source": [
    "#### 두개의 사건의 결합해서 발생할 확률 ( & 조건)"
   ]
  },
  {
   "cell_type": "code",
   "execution_count": 173,
   "metadata": {},
   "outputs": [
    {
     "name": "stdout",
     "output_type": "stream",
     "text": [
      "1/6\n"
     ]
    }
   ],
   "source": [
    "# 홀수이면서 하나인 경우 확률\n",
    "\n",
    "print( p(event_1 & event_odd))"
   ]
  },
  {
   "cell_type": "markdown",
   "metadata": {},
   "source": [
    "####  독립사건일 경우 결합확률"
   ]
  },
  {
   "cell_type": "code",
   "execution_count": 175,
   "metadata": {},
   "outputs": [
    {
     "name": "stdout",
     "output_type": "stream",
     "text": [
      "event even  1/2\n",
      "1/12\n"
     ]
    }
   ],
   "source": [
    "# 주사위가 홀수일 사건\n",
    "event_even = {2,4,6}\n",
    "print(\"event even \",p(event_even))\n",
    "\n",
    "a = event_1 & event_even\n",
    "if a :\n",
    "    pass\n",
    "else :\n",
    "    print( p(event_1) * p(event_even))"
   ]
  },
  {
   "cell_type": "markdown",
   "metadata": {},
   "source": [
    "####  조건부 확률 :\n",
    "\n",
    "    특정 사건이 발생한 후에 다른 사건이 발생활 확률\n",
    "    \n",
    "    p(b/a) =  p(a & b)/p(b)"
   ]
  },
  {
   "cell_type": "code",
   "execution_count": 170,
   "metadata": {},
   "outputs": [
    {
     "name": "stdout",
     "output_type": "stream",
     "text": [
      "1/6\n",
      "1/3\n"
     ]
    }
   ],
   "source": [
    "# 주사위를 던질 때 odd and 1 나올 결합확률\n",
    "# p(b | a)= p(b&a)/p(a)\n",
    "print( p(event_1 & event_odd))\n",
    "print( p(event_1 & event_odd)/p(event_odd))\n"
   ]
  },
  {
   "cell_type": "markdown",
   "metadata": {},
   "source": [
    "## 빈도를 기준으로 확률을 처리 \n",
    "\n",
    "    총 실험에 대한 기준으로 빈도를 확정함\n",
    "    "
   ]
  },
  {
   "cell_type": "markdown",
   "metadata": {},
   "source": [
    "### 발생할 수 있는 빈수를 정리"
   ]
  },
  {
   "cell_type": "code",
   "execution_count": 177,
   "metadata": {},
   "outputs": [
    {
     "name": "stdout",
     "output_type": "stream",
     "text": [
      "Counter({7: 20, 6: 15, 8: 14, 9: 12, 4: 10, 5: 9, 10: 8, 3: 5, 12: 5, 2: 1, 11: 1})\n",
      "100\n"
     ]
    }
   ],
   "source": [
    "import random\n",
    "import collections as cols\n",
    "\n",
    "aCount = cols.Counter()\n",
    "for i in range(1,101):\n",
    "    a=random.randint(1, 6)+random.randint(1, 6)\n",
    "    aCount[a] += 1\n",
    "    \n",
    "print(aCount)\n",
    "total = 0\n",
    "for _,x in aCount.items() :\n",
    "    total += x\n",
    "    \n",
    "print(total)\n"
   ]
  },
  {
   "cell_type": "code",
   "execution_count": 176,
   "metadata": {},
   "outputs": [
    {
     "name": "stdout",
     "output_type": "stream",
     "text": [
      "2 :1.00% \n",
      "3 :3.00% \n",
      "4 :10.00% \n",
      "5 :9.00% \n",
      "6 :13.00% \n",
      "7 :9.00% \n",
      "8 :13.00% \n",
      "9 :17.00% \n",
      "10 :11.00% \n",
      "11 :7.00% \n",
      "12 :7.00% \n"
     ]
    }
   ],
   "source": [
    "for x in range(2,13):\n",
    "    print(x,\":{0:.2%} \".format(aCount[x]/total,sep=','))"
   ]
  },
  {
   "cell_type": "markdown",
   "metadata": {},
   "source": [
    "####  주사위를 두번 던졌을 때 합의 값에 대한 확률은?\n"
   ]
  },
  {
   "cell_type": "code",
   "execution_count": 183,
   "metadata": {},
   "outputs": [
    {
     "name": "stdout",
     "output_type": "stream",
     "text": [
      "4\n",
      "10\n",
      "0.1\n"
     ]
    }
   ],
   "source": [
    "a=random.randint(1, 6)+random.randint(1, 6)\n",
    "print(a)\n",
    "print(aCount[a]) \n",
    "print(aCount[a]/total)"
   ]
  },
  {
   "cell_type": "code",
   "execution_count": null,
   "metadata": {
    "collapsed": true
   },
   "outputs": [],
   "source": []
  }
 ],
 "metadata": {
  "anaconda-cloud": {},
  "kernelspec": {
   "display_name": "Python 3",
   "language": "python",
   "name": "python3"
  },
  "language_info": {
   "codemirror_mode": {
    "name": "ipython",
    "version": 3
   },
   "file_extension": ".py",
   "mimetype": "text/x-python",
   "name": "python",
   "nbconvert_exporter": "python",
   "pygments_lexer": "ipython3",
   "version": "3.6.1"
  }
 },
 "nbformat": 4,
 "nbformat_minor": 1
}
