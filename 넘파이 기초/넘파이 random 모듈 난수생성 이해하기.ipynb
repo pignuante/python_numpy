{
 "cells": [
  {
   "cell_type": "code",
   "execution_count": 1,
   "metadata": {
    "collapsed": true
   },
   "outputs": [],
   "source": [
    "import numpy as np"
   ]
  },
  {
   "cell_type": "markdown",
   "metadata": {},
   "source": [
    "# 표준 정규분포 \n",
    "\n",
    "    정규분포(가우시안)에서 표본을 추출한다. \n",
    "    \n",
    "    Parameters\n",
    "    ----------\n",
    "    loc : float or array_like of floats\n",
    "        Mean (\"centre\") of the distribution.\n",
    "    scale : float or array_like of floats\n",
    "        Standard deviation (spread or \"width\") of the distribution.\n",
    "    size : int or tuple of ints, optional\n",
    "        Output shape.  If the given shape is, e.g., ``(m, n, k)``, then\n",
    "        ``m * n * k`` samples are drawn.  If size is ``None`` (default),\n",
    "        a single value is returned if ``loc`` and ``scale`` are both scalars.\n",
    "        Otherwise, ``np.broadcast(loc, scale).size`` samples are drawn.\n"
   ]
  },
  {
   "cell_type": "code",
   "execution_count": 4,
   "metadata": {},
   "outputs": [
    {
     "name": "stdout",
     "output_type": "stream",
     "text": [
      "[[-0.60923612 -0.24224254  0.91158131  0.22202424]\n",
      " [-0.08738184  0.88933388  0.31785462 -0.1540095 ]\n",
      " [ 0.81012343 -1.00591839 -1.30019905 -0.68841953]\n",
      " [ 0.81121804  0.68597441 -1.53385147 -0.86388957]]\n"
     ]
    }
   ],
   "source": [
    "samples = np.random.normal(size=(4,4))\n",
    "\n",
    "print(samples)"
   ]
  },
  {
   "cell_type": "code",
   "execution_count": 9,
   "metadata": {},
   "outputs": [
    {
     "name": "stdout",
     "output_type": "stream",
     "text": [
      "[[-1.05056778  0.24222055 -0.20327758 -0.75245812]\n",
      " [-0.85194273  1.10645181  0.48551213  0.5964429 ]\n",
      " [-0.60009263  1.92967868 -0.39613296  1.64238384]\n",
      " [ 1.31946352  1.90031138  2.40602049 -0.10127947]]\n"
     ]
    }
   ],
   "source": [
    "samples = np.random.normal(0.0,1.0,size=(4,4))\n",
    "\n",
    "print(samples)"
   ]
  },
  {
   "cell_type": "code",
   "execution_count": 14,
   "metadata": {},
   "outputs": [
    {
     "name": "stdout",
     "output_type": "stream",
     "text": [
      "[-1.04655055 -0.76794417  0.38260731 -1.34033073  0.52824384 -0.72896428\n",
      "  0.07705549  0.3753501  -0.57211786 -0.02445557]\n"
     ]
    }
   ],
   "source": [
    "samples = np.random.normal(0.0,1.0,size=10)\n",
    "\n",
    "print(samples)"
   ]
  },
  {
   "cell_type": "markdown",
   "metadata": {},
   "source": [
    "## randn(d0, d1, ..., dn)\n",
    "    \n",
    "    \n",
    "    인자로 주어진 것을 shape로 처리해서 표준정규분포를 만든다.\n",
    "    \n",
    "    평균은 0이고 분산이 1인 것을 기준으로 처리한다.\n",
    "    \n",
    "    `numpy.random.standard_normal`을 대신해서 사용이 가능\n",
    "    \n",
    "    Parameters\n",
    "    ----------\n",
    "    d0, d1, ..., dn : int, optional\n",
    "       "
   ]
  },
  {
   "cell_type": "code",
   "execution_count": 34,
   "metadata": {},
   "outputs": [
    {
     "data": {
      "text/plain": [
       "array([[-1.57650044, -0.65402104,  0.32315247],\n",
       "       [-0.12508788, -0.20055692, -0.42047033]])"
      ]
     },
     "execution_count": 34,
     "metadata": {},
     "output_type": "execute_result"
    }
   ],
   "source": [
    "np.random.randn(2,3)"
   ]
  },
  {
   "cell_type": "code",
   "execution_count": 36,
   "metadata": {},
   "outputs": [
    {
     "data": {
      "text/plain": [
       "array([-0.24535241,  0.562157  ])"
      ]
     },
     "execution_count": 36,
     "metadata": {},
     "output_type": "execute_result"
    }
   ],
   "source": [
    "np.random.randn(2)"
   ]
  },
  {
   "cell_type": "code",
   "execution_count": 35,
   "metadata": {},
   "outputs": [
    {
     "data": {
      "text/plain": [
       "-2.3142602685130993"
      ]
     },
     "execution_count": 35,
     "metadata": {},
     "output_type": "execute_result"
    }
   ],
   "source": [
    "np.random.randn()"
   ]
  },
  {
   "cell_type": "markdown",
   "metadata": {},
   "source": [
    "## standard_normal(size=None)\n",
    "    \n",
    "    평균이 0이고 표준편차가 1인 표준 정규 분포\n",
    "    n*m 일 경우는 두 수의 곱해서 1차원으로 원소를 추출한다.\n",
    "    \n",
    "    Parameters\n",
    "    ----------\n",
    "    size : int or tuple of ints, optional\n",
    "        Output shape.  "
   ]
  },
  {
   "cell_type": "code",
   "execution_count": 41,
   "metadata": {},
   "outputs": [
    {
     "data": {
      "text/plain": [
       "array([[-0.3257358 , -0.54412955,  0.67793886],\n",
       "       [-1.36313463,  1.56413152,  0.82263704]])"
      ]
     },
     "execution_count": 41,
     "metadata": {},
     "output_type": "execute_result"
    }
   ],
   "source": [
    "np.random.standard_normal((2,3))"
   ]
  },
  {
   "cell_type": "code",
   "execution_count": 43,
   "metadata": {},
   "outputs": [
    {
     "data": {
      "text/plain": [
       "array([-0.15273094,  0.35696455, -0.16595837, -0.13803095, -0.12825827,\n",
       "        0.28074459])"
      ]
     },
     "execution_count": 43,
     "metadata": {},
     "output_type": "execute_result"
    }
   ],
   "source": [
    "np.random.standard_normal(2*3)"
   ]
  },
  {
   "cell_type": "markdown",
   "metadata": {},
   "source": [
    "# 균등분포"
   ]
  },
  {
   "cell_type": "markdown",
   "metadata": {},
   "source": [
    "##  np.random.uniform\n",
    "\n",
    "\n",
    "   최소값과 최대값 사이의 균등분포 표시한다. shape 은 size에 맞춰 정함다 . \n",
    "   uniform(low=0.0, high=1.0, size=None) ``[low, high)`` (includes low, but excludes high)\n",
    "\n",
    "\n",
    " Parameters\n",
    "    ----------\n",
    "    low : float or array_like of floats, optional\n",
    "        Lower boundary of the output interval.  All values generated will be\n",
    "        greater than or equal to low.  The default value is 0.\n",
    "    high : float or array_like of floats\n",
    "        Upper boundary of the output interval.  All values generated will be\n",
    "        less than high.  The default value is 1.0.\n",
    "    size : int or tuple of ints, optional\n",
    "        Output shape.  If the given shape is, e.g., ``(m, n, k)``, then\n",
    "        ``m * n * k`` samples are drawn.  If size is ``None`` (default),\n",
    "        a single value is returned if ``low`` and ``high`` are both scalars.\n",
    "        Otherwise, ``np.broadcast(low, high).size`` samples are drawn."
   ]
  },
  {
   "cell_type": "code",
   "execution_count": 10,
   "metadata": {},
   "outputs": [
    {
     "name": "stdout",
     "output_type": "stream",
     "text": [
      "[[ 0.9919285   0.03951928  0.72997421  0.24208018]\n",
      " [ 0.9069054   0.42807391  0.58708013  0.57870981]\n",
      " [ 0.31323126  0.41758235  0.54982941  0.81868102]\n",
      " [ 0.45119987  0.39070528  0.01305889  0.77904801]]\n"
     ]
    }
   ],
   "source": [
    "samples = np.random.uniform(0.0,1.0,size=(4,4))\n",
    "\n",
    "print(samples)"
   ]
  },
  {
   "cell_type": "code",
   "execution_count": 17,
   "metadata": {},
   "outputs": [
    {
     "name": "stdout",
     "output_type": "stream",
     "text": [
      "[[ 0.8811626   0.19719908  0.02954854  0.66854786]\n",
      " [ 1.42553517  0.46445449  1.9058745   1.85088313]\n",
      " [ 1.48130383  0.62491288  0.63358067  0.31628778]\n",
      " [ 1.60405302  0.76311168  1.97370553  1.51038115]]\n"
     ]
    }
   ],
   "source": [
    "samples = np.random.uniform(0.0,2.0,size=(4,4))\n",
    "\n",
    "print(samples)"
   ]
  },
  {
   "cell_type": "code",
   "execution_count": 16,
   "metadata": {},
   "outputs": [
    {
     "name": "stdout",
     "output_type": "stream",
     "text": [
      "[ 0.72971192  0.76093203  0.2016119   0.75221288  0.68565813  0.94553286\n",
      "  0.54349601  0.48164982  0.90487504  0.02751407]\n"
     ]
    }
   ],
   "source": [
    "samples = np.random.uniform(0.0,1.0,size=10)\n",
    "\n",
    "print(samples)"
   ]
  },
  {
   "cell_type": "markdown",
   "metadata": {},
   "source": [
    "## rand(d0, d1, ..., dn)\n",
    "    \n",
    "    인자로 받은 숫자를 shape로 한 균등 분포 값을 표시한다.  \n",
    "    각 원소의 값은 0이상이지만 1미만으로 구성된 균등분포이다. \n",
    "    \n",
    "    Parameters\n",
    "    ----------\n",
    "    d0, d1, ..., dn : int, optional\n",
    "        The dimensions of the returned array, should all be positive.\n",
    "        If no argument is given a single Python float is returned."
   ]
  },
  {
   "cell_type": "code",
   "execution_count": 20,
   "metadata": {},
   "outputs": [
    {
     "data": {
      "text/plain": [
       "array([[ 0.32061231,  0.45799465],\n",
       "       [ 0.14692591,  0.62723439],\n",
       "       [ 0.24081249,  0.4595688 ]])"
      ]
     },
     "execution_count": 20,
     "metadata": {},
     "output_type": "execute_result"
    }
   ],
   "source": [
    "np.random.rand(3,2)"
   ]
  },
  {
   "cell_type": "code",
   "execution_count": 21,
   "metadata": {},
   "outputs": [
    {
     "data": {
      "text/plain": [
       "array([[[ 0.74814302,  0.93858293],\n",
       "        [ 0.06218423,  0.3163393 ]],\n",
       "\n",
       "       [[ 0.12155936,  0.3130679 ],\n",
       "        [ 0.65608175,  0.4996886 ]],\n",
       "\n",
       "       [[ 0.33964726,  0.52260097],\n",
       "        [ 0.30524638,  0.17526967]]])"
      ]
     },
     "execution_count": 21,
     "metadata": {},
     "output_type": "execute_result"
    }
   ],
   "source": [
    "np.random.rand(3,2,2)"
   ]
  },
  {
   "cell_type": "markdown",
   "metadata": {},
   "source": [
    "# 이산 균등 분포 "
   ]
  },
  {
   "cell_type": "markdown",
   "metadata": {},
   "source": [
    "## randint(low, high=None, size=None, dtype='l')\n",
    "    \n",
    "    주어진 최대값과 최소값 사이에 있는 정수를 추출해서 처리한다.\n",
    "    \n",
    "    최소값은 포함하지만 최대값은 포함하지 않는다. \n",
    "    \n",
    "    \n",
    "    Parameters\n",
    "    ----------\n",
    "    low : int\n",
    "        Lowest (signed) integer to be drawn from the distribution (unless\n",
    "        ``high=None``, in which case this parameter is one above the\n",
    "        *highest* such integer).\n",
    "    high : int, optional\n",
    "        If provided, one above the largest (signed) integer to be drawn\n",
    "        from the distribution (see above for behavior if ``high=None``).\n",
    "    size : int or tuple of ints, optional\n",
    "        Output shape.  If the given shape is, e.g., ``(m, n, k)``, then\n",
    "        ``m * n * k`` samples are drawn.  Default is None, in which case a\n",
    "        single value is returned.\n",
    "    dtype : dtype, optional\n",
    "        Desired dtype of the result. All dtypes are determined by their\n",
    "        name, i.e., 'int64', 'int', etc, so byteorder is not available\n",
    "        and a specific precision may have different C types depending\n",
    "        on the platform. The default value is 'np.int'.\n",
    "    \n",
    "        .. versionadded:: 1.11.0"
   ]
  },
  {
   "cell_type": "code",
   "execution_count": 27,
   "metadata": {},
   "outputs": [
    {
     "data": {
      "text/plain": [
       "array([1, 1, 1, 1, 1, 1, 1, 1, 1, 1])"
      ]
     },
     "execution_count": 27,
     "metadata": {},
     "output_type": "execute_result"
    }
   ],
   "source": [
    "np.random.randint(1,2,10)"
   ]
  },
  {
   "cell_type": "code",
   "execution_count": 28,
   "metadata": {},
   "outputs": [
    {
     "data": {
      "text/plain": [
       "array([[2, 8, 4, 8],\n",
       "       [7, 5, 3, 7],\n",
       "       [1, 8, 5, 4]])"
      ]
     },
     "execution_count": 28,
     "metadata": {},
     "output_type": "execute_result"
    }
   ],
   "source": [
    "np.random.randint(1,10,(3,4))"
   ]
  },
  {
   "cell_type": "markdown",
   "metadata": {},
   "source": [
    "## low값만 들어올 경우는 0과 low를 기준으로 처리하므로 정수만 나타내므로 0으로 초기 처리\n",
    "\n"
   ]
  },
  {
   "cell_type": "code",
   "execution_count": 30,
   "metadata": {},
   "outputs": [
    {
     "data": {
      "text/plain": [
       "array([[0, 0, 0, 0],\n",
       "       [0, 0, 0, 0],\n",
       "       [0, 0, 0, 0]])"
      ]
     },
     "execution_count": 30,
     "metadata": {},
     "output_type": "execute_result"
    }
   ],
   "source": [
    "np.random.randint(1,size=(3,4))"
   ]
  },
  {
   "cell_type": "code",
   "execution_count": 32,
   "metadata": {},
   "outputs": [
    {
     "data": {
      "text/plain": [
       "array([[0, 0, 0, 0],\n",
       "       [0, 0, 0, 0],\n",
       "       [0, 0, 0, 0]])"
      ]
     },
     "execution_count": 32,
     "metadata": {},
     "output_type": "execute_result"
    }
   ],
   "source": [
    "np.zeros((3,4),dtype=int)"
   ]
  },
  {
   "cell_type": "markdown",
   "metadata": {},
   "source": [
    "# 이항분포"
   ]
  },
  {
   "cell_type": "markdown",
   "metadata": {},
   "source": [
    "##  binomial(n, p, size=None)\n",
    "    \n",
    "    Draw samples from a binomial distribution.\n",
    "    \n",
    "    Parameters\n",
    "    ----------\n",
    "    n : int or array_like of ints\n",
    "        Parameter of the distribution, >= 0. Floats are also accepted,\n",
    "        but they will be truncated to integers.\n",
    "    p : float or array_like of floats\n",
    "        Parameter of the distribution, >= 0 and <=1.\n",
    "    size : int or tuple of ints, optional\n",
    "        Output shape.  If the given shape is, e.g., ``(m, n, k)``, then\n",
    "        ``m * n * k`` samples are drawn.  If size is ``None`` (default),\n",
    "        a single value is returned if ``n`` and ``p`` are both scalars.\n",
    "        Otherwise, ``np.broadcast(n, p).size`` samples are drawn."
   ]
  },
  {
   "cell_type": "code",
   "execution_count": 49,
   "metadata": {},
   "outputs": [
    {
     "name": "stdout",
     "output_type": "stream",
     "text": [
      "[ 8  8  8  8  7  5  9  6  8 10  7  6  8  9  9  9  6  6  7  7  7  7  9  7  8\n",
      "  8  8  6  8  9  6  7  7  6  7  6  6 10  7  7  7 10  8  6  5  6  7  8  7  6\n",
      "  9  7  6  9  6  7  8  5  7  5  8  6  8  7  5  7  8  7  8  9  8  7  8  9  6\n",
      "  8  8  8  7  9  8  4  7  8  9  8  7  7  7  8  6  7  7  8  6  9  8  3  6  7]\n",
      "(100,)\n"
     ]
    }
   ],
   "source": [
    "n, p = 10, .7  # number of trials, probability of each trial\n",
    "s = np.random.binomial(n, p, 100)\n",
    "print(s)\n",
    "print(s.shape)"
   ]
  },
  {
   "cell_type": "code",
   "execution_count": 50,
   "metadata": {},
   "outputs": [
    {
     "name": "stdout",
     "output_type": "stream",
     "text": [
      "[[7 9 5 7]\n",
      " [6 5 9 8]\n",
      " [7 9 4 7]]\n"
     ]
    }
   ],
   "source": [
    "s = np.random.binomial(n, p, (3,4))\n",
    "print(s)"
   ]
  },
  {
   "cell_type": "code",
   "execution_count": 52,
   "metadata": {},
   "outputs": [
    {
     "name": "stdout",
     "output_type": "stream",
     "text": [
      "[ 8  6  7 10  9  8  8  6  5  4  8  6]\n"
     ]
    }
   ],
   "source": [
    "s = np.random.binomial(n, p, 3*4)\n",
    "print(s)"
   ]
  },
  {
   "cell_type": "markdown",
   "metadata": {},
   "source": [
    "# 난수 발생기의 시드를 처리 : random seed "
   ]
  },
  {
   "cell_type": "code",
   "execution_count": 55,
   "metadata": {},
   "outputs": [
    {
     "name": "stdout",
     "output_type": "stream",
     "text": [
      "Help on built-in function seed:\n",
      "\n",
      "seed(...) method of mtrand.RandomState instance\n",
      "    seed(seed=None)\n",
      "    \n",
      "    Seed the generator.\n",
      "    \n",
      "    This method is called when `RandomState` is initialized. It can be\n",
      "    called again to re-seed the generator. For details, see `RandomState`.\n",
      "    \n",
      "    Parameters\n",
      "    ----------\n",
      "    seed : int or array_like, optional\n",
      "        Seed for `RandomState`.\n",
      "        Must be convertible to 32 bit unsigned integers.\n",
      "    \n",
      "    See Also\n",
      "    --------\n",
      "    RandomState\n",
      "\n"
     ]
    }
   ],
   "source": [
    "help(np.random.seed)"
   ]
  },
  {
   "cell_type": "markdown",
   "metadata": {},
   "source": [
    "###  RandomState 인스턴스를 이용해서 seed 처리"
   ]
  },
  {
   "cell_type": "code",
   "execution_count": 61,
   "metadata": {},
   "outputs": [
    {
     "name": "stdout",
     "output_type": "stream",
     "text": [
      "[[ 0.77132064  0.02075195  0.63364823  0.74880388]\n",
      " [ 0.49850701  0.22479665  0.19806286  0.76053071]\n",
      " [ 0.16911084  0.08833981  0.68535982  0.95339335]]\n"
     ]
    }
   ],
   "source": [
    "a = np.random.RandomState()\n",
    "a.seed(10)\n",
    "print(a.rand(3,4))\n"
   ]
  },
  {
   "cell_type": "code",
   "execution_count": 63,
   "metadata": {},
   "outputs": [
    {
     "name": "stdout",
     "output_type": "stream",
     "text": [
      "[[ 0.77132064  0.02075195  0.63364823  0.74880388]\n",
      " [ 0.49850701  0.22479665  0.19806286  0.76053071]\n",
      " [ 0.16911084  0.08833981  0.68535982  0.95339335]]\n"
     ]
    }
   ],
   "source": [
    "a.seed(10)\n",
    "print(a.rand(3,4))"
   ]
  },
  {
   "cell_type": "markdown",
   "metadata": {},
   "source": [
    "### seed 함수를 이용해서 처리"
   ]
  },
  {
   "cell_type": "code",
   "execution_count": 66,
   "metadata": {},
   "outputs": [
    {
     "data": {
      "text/plain": [
       "array([[ 0.5881308 ,  0.89771373,  0.89153073,  0.81583748],\n",
       "       [ 0.03588959,  0.69175758,  0.37868094,  0.51851095],\n",
       "       [ 0.65795147,  0.19385022,  0.2723164 ,  0.71860593]])"
      ]
     },
     "execution_count": 66,
     "metadata": {},
     "output_type": "execute_result"
    }
   ],
   "source": [
    "np.random.seed(20)\n",
    "np.random.random((3,4))\n"
   ]
  },
  {
   "cell_type": "code",
   "execution_count": 67,
   "metadata": {},
   "outputs": [
    {
     "data": {
      "text/plain": [
       "array([[ 0.5881308 ,  0.89771373,  0.89153073,  0.81583748],\n",
       "       [ 0.03588959,  0.69175758,  0.37868094,  0.51851095],\n",
       "       [ 0.65795147,  0.19385022,  0.2723164 ,  0.71860593]])"
      ]
     },
     "execution_count": 67,
     "metadata": {},
     "output_type": "execute_result"
    }
   ],
   "source": [
    "np.random.seed(20)\n",
    "np.random.random((3,4))"
   ]
  },
  {
   "cell_type": "markdown",
   "metadata": {},
   "source": [
    "## 특정 값을 주어질 경우 이를 기준으로 선택해서 처리\n",
    "\n",
    "\n",
    "choice(a, size=None, replace=True, p=None)\n",
    "    \n",
    "   size로 주는 조건에 따라 shape로 처리한다.\n",
    "    \n",
    "    Parameters\n",
    "    -----------\n",
    "    a : 1-D array-like or int\n",
    "        If an ndarray, a random sample is generated from its elements.\n",
    "        If an int, the random sample is generated as if a were np.arange(a)\n",
    "    size : int or tuple of ints, optional\n",
    "        Output shape.  If the given shape is, e.g., ``(m, n, k)``, then\n",
    "        ``m * n * k`` samples are drawn.  Default is None, in which case a\n",
    "        single value is returned.\n",
    "    replace : boolean, optional\n",
    "        Whether the sample is with or without replacement\n",
    "    p : 1-D array-like, optional\n",
    "        The probabilities associated with each entry in a.\n",
    "        If not given the sample assumes a uniform distribution over all\n",
    "        entries in a."
   ]
  },
  {
   "cell_type": "code",
   "execution_count": 71,
   "metadata": {},
   "outputs": [
    {
     "data": {
      "text/plain": [
       "array([[2, 3, 2],\n",
       "       [1, 3, 2],\n",
       "       [3, 3, 1]])"
      ]
     },
     "execution_count": 71,
     "metadata": {},
     "output_type": "execute_result"
    }
   ],
   "source": [
    "np.random.choice(5, (3,3))"
   ]
  },
  {
   "cell_type": "markdown",
   "metadata": {},
   "source": [
    "### p 값을 주면 이 값에 따라 확률에 따라 더 많이 선택되어 처리된다."
   ]
  },
  {
   "cell_type": "code",
   "execution_count": 72,
   "metadata": {},
   "outputs": [
    {
     "data": {
      "text/plain": [
       "array(['Christopher', 'pooh', 'pooh', 'pooh', 'pooh'],\n",
       "      dtype='<U11')"
      ]
     },
     "execution_count": 72,
     "metadata": {},
     "output_type": "execute_result"
    }
   ],
   "source": [
    "aa_milne_arr = ['pooh', 'rabbit', 'piglet', 'Christopher']\n",
    "\n",
    "np.random.choice(aa_milne_arr, 5, p=[0.5, 0.1, 0.1, 0.3])"
   ]
  },
  {
   "cell_type": "markdown",
   "metadata": {},
   "source": [
    "## 특정 배열을 임의적으로 섞어서 처리\n",
    "\n",
    "\n",
    "   shuffle(x)\n",
    "    \n",
    "    Modify a sequence in-place by shuffling its contents.\n",
    "    \n",
    "    This function only shuffles the array along the first axis of a\n",
    "    multi-dimensional array. The order of sub-arrays is changed but\n",
    "    their contents remains the same.\n",
    "    \n",
    "    Parameters\n",
    "    ----------\n",
    "    x : array_like\n",
    "        The array or list to be shuffled."
   ]
  },
  {
   "cell_type": "code",
   "execution_count": 73,
   "metadata": {},
   "outputs": [
    {
     "name": "stdout",
     "output_type": "stream",
     "text": [
      "[3, 1, 4, 2]\n"
     ]
    }
   ],
   "source": [
    "l= [1,2,3,4]\n",
    "\n",
    "np.random.shuffle(l)\n",
    "\n",
    "print(l)"
   ]
  },
  {
   "cell_type": "code",
   "execution_count": 83,
   "metadata": {},
   "outputs": [
    {
     "name": "stdout",
     "output_type": "stream",
     "text": [
      "[[ 0.  1.  2.]\n",
      " [ 3.  4.  5.]\n",
      " [ 6.  7.  8.]]\n",
      "[[ 0.  1.  2.]\n",
      " [ 3.  4.  5.]\n",
      " [ 6.  7.  8.]]\n"
     ]
    }
   ],
   "source": [
    "arr = np.arange(9.).reshape((3, 3))\n",
    "print(arr)\n",
    "\n",
    "np.random.shuffle(arr)\n",
    "\n",
    "print(arr)"
   ]
  },
  {
   "cell_type": "code",
   "execution_count": null,
   "metadata": {
    "collapsed": true
   },
   "outputs": [],
   "source": []
  }
 ],
 "metadata": {
  "kernelspec": {
   "display_name": "Python 3",
   "language": "python",
   "name": "python3"
  },
  "language_info": {
   "codemirror_mode": {
    "name": "ipython",
    "version": 3
   },
   "file_extension": ".py",
   "mimetype": "text/x-python",
   "name": "python",
   "nbconvert_exporter": "python",
   "pygments_lexer": "ipython3",
   "version": "3.6.1"
  }
 },
 "nbformat": 4,
 "nbformat_minor": 2
}
