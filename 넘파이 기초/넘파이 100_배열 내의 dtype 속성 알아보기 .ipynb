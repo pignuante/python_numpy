{
 "cells": [
  {
   "cell_type": "markdown",
   "metadata": {},
   "source": [
    "## dtype 도 하나의 객체이므로 그 내부 속성을 알아보기"
   ]
  },
  {
   "cell_type": "code",
   "execution_count": 1,
   "metadata": {},
   "outputs": [
    {
     "name": "stdout",
     "output_type": "stream",
     "text": [
      "<class 'numpy.ndarray'>\n",
      "[ 1.  2.  3.] 8\n",
      "d\n",
      "None\n",
      "float64\n",
      "()\n",
      "12\n"
     ]
    }
   ],
   "source": [
    "import numpy as np\n",
    "\n",
    "f_ = np.array([1.0,2.0,3.0])\n",
    "print(type(f_))\n",
    "print(f_, f_.itemsize)\n",
    "print(f_.dtype.char)\n",
    "print(f_.dtype.names)\n",
    "print(f_.dtype.name)\n",
    "print( f_.dtype.shape)\n",
    "print(f_.dtype.num)\n"
   ]
  },
  {
   "cell_type": "code",
   "execution_count": 2,
   "metadata": {},
   "outputs": [
    {
     "name": "stdout",
     "output_type": "stream",
     "text": [
      "<class 'numpy.float64'>\n",
      "<f8\n",
      "1\n",
      "=\n",
      "8\n",
      "False\n"
     ]
    }
   ],
   "source": [
    "import numpy as np\n",
    "\n",
    "f_ = np.array([1.0,2.0,3.0])\n",
    "print(f_.dtype.type)\n",
    "print(f_.dtype.str)\n",
    "print(f_.dtype.isbuiltin)\n",
    "print(f_.dtype.byteorder)\n",
    "print(f_.dtype.alignment)\n",
    "print(f_.dtype.isalignedstruct)\n"
   ]
  },
  {
   "cell_type": "code",
   "execution_count": 3,
   "metadata": {},
   "outputs": [
    {
     "name": "stdout",
     "output_type": "stream",
     "text": [
      "[('', '<f8')]\n",
      "False\n",
      "None\n",
      "float64\n",
      "f\n",
      "True\n"
     ]
    }
   ],
   "source": [
    "import numpy as np\n",
    "\n",
    "f_ = np.array([1.0,2.0,3.0])\n",
    "print(f_.dtype.descr)\n",
    "print(f_.dtype.hasobject)\n",
    "print(f_.dtype.subdtype)\n",
    "print(f_.dtype.base)\n",
    "print(f_.dtype.kind)\n",
    "print(f_.dtype.isnative)\n"
   ]
  },
  {
   "cell_type": "code",
   "execution_count": 4,
   "metadata": {},
   "outputs": [
    {
     "name": "stdout",
     "output_type": "stream",
     "text": [
      "0\n",
      "None\n",
      "None\n"
     ]
    }
   ],
   "source": [
    "import numpy as np\n",
    "\n",
    "f_ = np.array([1.0,2.0,3.0])\n",
    "print(f_.dtype.flags)\n",
    "print(f_.dtype.fields)\n",
    "print(f_.dtype.metadata)\n"
   ]
  },
  {
   "cell_type": "code",
   "execution_count": 173,
   "metadata": {},
   "outputs": [
    {
     "name": "stdout",
     "output_type": "stream",
     "text": [
      "[(0, 0.0, 0.0) (0, 0.0, 0.0) (0, 0.0, 0.0)]\n",
      "[('col1', '<i4'), ('col2', '<f8'), ('col3', '<f8')]\n",
      "[(10, 0.0, 0.0) (22, 0.0, 0.0) (44, 0.0, 0.0)]\n",
      "[(b'dahl', 20) (b'park', 30)]\n",
      "[b'dahl' b'park']\n"
     ]
    }
   ],
   "source": [
    "import numpy as np\n",
    "\n",
    "dict_type = {'names' : ['col1','col2','col3'], 'formats' : [ np.int_, np.float_,np.float_]}\n",
    "\n",
    "a = np.zeros(3,dtype=dict_type)\n",
    "print(a)\n",
    "print(a.dtype)\n",
    "a['col1'] = (10,22.3,44.5)\n",
    "print(a)\n",
    "\n",
    "dict_type1 = {'surname':('S25',0),'age':(np.uint8,25)}\n",
    "\n",
    "b = np.array([(\"dahl\",20),(\"park\",30)],dtype=dict_type1)\n",
    "print(b)\n",
    "print(b[\"surname\"])"
   ]
  },
  {
   "cell_type": "code",
   "execution_count": null,
   "metadata": {
    "collapsed": true
   },
   "outputs": [],
   "source": []
  }
 ],
 "metadata": {
  "anaconda-cloud": {},
  "kernelspec": {
   "display_name": "Python 3",
   "language": "python",
   "name": "python3"
  },
  "language_info": {
   "codemirror_mode": {
    "name": "ipython",
    "version": 3
   },
   "file_extension": ".py",
   "mimetype": "text/x-python",
   "name": "python",
   "nbconvert_exporter": "python",
   "pygments_lexer": "ipython3",
   "version": "3.6.1"
  }
 },
 "nbformat": 4,
 "nbformat_minor": 1
}
