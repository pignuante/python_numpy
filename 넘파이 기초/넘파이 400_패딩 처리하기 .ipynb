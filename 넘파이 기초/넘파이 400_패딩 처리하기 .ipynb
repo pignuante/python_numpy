{
 "cells": [
  {
   "cell_type": "code",
   "execution_count": 1,
   "metadata": {
    "collapsed": true
   },
   "outputs": [],
   "source": [
    "import numpy as np"
   ]
  },
  {
   "cell_type": "code",
   "execution_count": 2,
   "metadata": {},
   "outputs": [
    {
     "name": "stdout",
     "output_type": "stream",
     "text": [
      "(1, 3)\n",
      "[2 0 1 2 0]\n"
     ]
    }
   ],
   "source": [
    "import numpy as np\n",
    "\n",
    "M = np.ones((2, 3))\n",
    "A = np.arange(3)\n",
    "\n",
    "# rule 1 \n",
    "B = A[np.newaxis,:]\n",
    "print(B.shape)\n",
    "\n",
    "C =  np.pad(A,(1,),'wrap')\n",
    "print(C)"
   ]
  },
  {
   "cell_type": "code",
   "execution_count": 3,
   "metadata": {},
   "outputs": [
    {
     "name": "stdout",
     "output_type": "stream",
     "text": [
      "[[ 11.  12.   0.]\n",
      " [ 21.  22.   0.]\n",
      " [  0.   0.   0.]]\n"
     ]
    }
   ],
   "source": [
    "inser = np.array([[11, 12], [21, 22]])\n",
    "zeros = np.zeros(9).reshape( (3,3) )\n",
    "\n",
    "\n",
    "zeros[:inser.shape[0], :inser.shape[1]] = inser\n",
    "print(zeros)\n"
   ]
  },
  {
   "cell_type": "code",
   "execution_count": 4,
   "metadata": {},
   "outputs": [
    {
     "data": {
      "text/plain": [
       "array([[ 0,  0,  0,  0,  0,  0,  0,  0],\n",
       "       [ 0,  0,  0,  0,  0,  0,  0,  0],\n",
       "       [ 0,  0,  0,  0,  0,  0,  0,  0],\n",
       "       [ 0,  0,  0, 11, 12,  0,  0,  0],\n",
       "       [ 0,  0,  0, 21, 22,  0,  0,  0],\n",
       "       [ 0,  0,  0,  0,  0,  0,  0,  0],\n",
       "       [ 0,  0,  0,  0,  0,  0,  0,  0],\n",
       "       [ 0,  0,  0,  0,  0,  0,  0,  0]])"
      ]
     },
     "execution_count": 4,
     "metadata": {},
     "output_type": "execute_result"
    }
   ],
   "source": [
    "np.pad(inser,(3,3),\"constant\")"
   ]
  },
  {
   "cell_type": "code",
   "execution_count": 5,
   "metadata": {},
   "outputs": [
    {
     "data": {
      "text/plain": [
       "array([[11, 12,  0],\n",
       "       [21, 22,  0],\n",
       "       [ 0,  0,  0]])"
      ]
     },
     "execution_count": 5,
     "metadata": {},
     "output_type": "execute_result"
    }
   ],
   "source": [
    "np.pad(inser,(0,1),\"constant\")"
   ]
  },
  {
   "cell_type": "code",
   "execution_count": 6,
   "metadata": {},
   "outputs": [
    {
     "name": "stdout",
     "output_type": "stream",
     "text": [
      "[[ 11.  12.   0.]\n",
      " [ 21.  22.   0.]\n",
      " [  0.   0.   0.]]\n",
      "[[11 12  0]\n",
      " [21 22  0]\n",
      " [ 0  0  0]]\n"
     ]
    }
   ],
   "source": [
    "import numpy as np\n",
    "\n",
    "inser = np.array([[11, 12], [21, 22]])\n",
    "zeros = np.zeros(9).reshape( (3,3) )\n",
    "\n",
    "zeros[:inser.shape[0], :inser.shape[1]] = inser\n",
    "print(zeros)\n",
    "\n",
    "print(np.pad(inser,(0,1),\"constant\"))"
   ]
  },
  {
   "cell_type": "code",
   "execution_count": 7,
   "metadata": {},
   "outputs": [
    {
     "name": "stdout",
     "output_type": "stream",
     "text": [
      "[[ 0  0  0]\n",
      " [ 0 11 12]\n",
      " [ 0 21 22]]\n",
      "[[11 12  0]\n",
      " [21 22  0]\n",
      " [ 0  0  0]]\n",
      "[[ 0  0  0  0  0  0  0  0]\n",
      " [ 0  0  0  0  0  0  0  0]\n",
      " [ 0  0  0  0  0  0  0  0]\n",
      " [ 0  0  0 11 12  0  0  0]\n",
      " [ 0  0  0 21 22  0  0  0]\n",
      " [ 0  0  0  0  0  0  0  0]\n",
      " [ 0  0  0  0  0  0  0  0]\n",
      " [ 0  0  0  0  0  0  0  0]]\n"
     ]
    }
   ],
   "source": [
    "import numpy as np\n",
    "\n",
    "inser = np.array([[11, 12], [21, 22]])\n",
    "\n",
    "print(np.pad(inser,(1,0),\"constant\"))\n",
    "print(np.pad(inser,(0,1),\"constant\"))\n",
    "print(np.pad(inser,(3,3),\"constant\"))"
   ]
  },
  {
   "cell_type": "code",
   "execution_count": 8,
   "metadata": {},
   "outputs": [
    {
     "name": "stdout",
     "output_type": "stream",
     "text": [
      "[[22 21 22]\n",
      " [12 11 12]\n",
      " [22 21 22]]\n",
      "[[11 12 12]\n",
      " [21 22 22]\n",
      " [21 22 22]]\n",
      "[[22 22 22 21 22 22 22 22]\n",
      " [22 22 22 21 22 22 22 22]\n",
      " [22 22 22 21 22 22 22 22]\n",
      " [12 12 12 11 12 12 12 12]\n",
      " [22 22 22 21 22 22 22 22]\n",
      " [22 22 22 21 22 22 22 22]\n",
      " [22 22 22 21 22 22 22 22]\n",
      " [22 22 22 21 22 22 22 22]]\n"
     ]
    }
   ],
   "source": [
    "import numpy as np\n",
    "\n",
    "inser = np.array([[11, 12], [21, 22]])\n",
    "\n",
    "print(np.pad(inser,(1,0),\"maximum\"))\n",
    "print(np.pad(inser,(0,1),\"maximum\"))\n",
    "print(np.pad(inser,(3,3),\"maximum\"))"
   ]
  },
  {
   "cell_type": "code",
   "execution_count": 9,
   "metadata": {},
   "outputs": [
    {
     "name": "stdout",
     "output_type": "stream",
     "text": [
      "[[11 11 12]\n",
      " [11 11 12]\n",
      " [21 21 22]]\n",
      "[[11 12 11]\n",
      " [21 22 21]\n",
      " [11 12 11]]\n",
      "[[11 11 11 11 12 11 11 11]\n",
      " [11 11 11 11 12 11 11 11]\n",
      " [11 11 11 11 12 11 11 11]\n",
      " [11 11 11 11 12 11 11 11]\n",
      " [21 21 21 21 22 21 21 21]\n",
      " [11 11 11 11 12 11 11 11]\n",
      " [11 11 11 11 12 11 11 11]\n",
      " [11 11 11 11 12 11 11 11]]\n"
     ]
    }
   ],
   "source": [
    "import numpy as np\n",
    "\n",
    "inser = np.array([[11, 12], [21, 22]])\n",
    "\n",
    "print(np.pad(inser,(1,0),\"minimum\"))\n",
    "print(np.pad(inser,(0,1),\"minimum\"))\n",
    "print(np.pad(inser,(3,3),\"minimum\"))"
   ]
  },
  {
   "cell_type": "code",
   "execution_count": 10,
   "metadata": {},
   "outputs": [
    {
     "name": "stdout",
     "output_type": "stream",
     "text": [
      "[[16 16 17]\n",
      " [12 11 12]\n",
      " [22 21 22]]\n",
      "[[11 12 12]\n",
      " [21 22 22]\n",
      " [16 17 16]]\n",
      "[[16 16 16 16 17 16 16 16]\n",
      " [16 16 16 16 17 16 16 16]\n",
      " [16 16 16 16 17 16 16 16]\n",
      " [12 12 12 11 12 12 12 12]\n",
      " [22 22 22 21 22 22 22 22]\n",
      " [16 16 16 16 17 16 16 16]\n",
      " [16 16 16 16 17 16 16 16]\n",
      " [16 16 16 16 17 16 16 16]]\n"
     ]
    }
   ],
   "source": [
    "import numpy as np\n",
    "\n",
    "inser = np.array([[11, 12], [21, 22]])\n",
    "\n",
    "print(np.pad(inser,(1,0),\"mean\"))\n",
    "print(np.pad(inser,(0,1),\"mean\"))\n",
    "print(np.pad(inser,(3,3),\"mean\"))"
   ]
  },
  {
   "cell_type": "code",
   "execution_count": 11,
   "metadata": {},
   "outputs": [
    {
     "name": "stdout",
     "output_type": "stream",
     "text": [
      "[[22 21 22]\n",
      " [12 11 12]\n",
      " [22 21 22]]\n",
      "[[11 12 11]\n",
      " [21 22 21]\n",
      " [11 12 11]]\n",
      "[[22 21 22 21 22 21 22 21]\n",
      " [12 11 12 11 12 11 12 11]\n",
      " [22 21 22 21 22 21 22 21]\n",
      " [12 11 12 11 12 11 12 11]\n",
      " [22 21 22 21 22 21 22 21]\n",
      " [12 11 12 11 12 11 12 11]\n",
      " [22 21 22 21 22 21 22 21]\n",
      " [12 11 12 11 12 11 12 11]]\n"
     ]
    }
   ],
   "source": [
    "import numpy as np\n",
    "\n",
    "inser = np.array([[11, 12], [21, 22]])\n",
    "\n",
    "print(np.pad(inser,(1,0),\"reflect\"))\n",
    "print(np.pad(inser,(0,1),\"reflect\"))\n",
    "print(np.pad(inser,(3,3),\"reflect\"))"
   ]
  },
  {
   "cell_type": "code",
   "execution_count": 12,
   "metadata": {},
   "outputs": [
    {
     "name": "stdout",
     "output_type": "stream",
     "text": [
      "[[11 11 12]\n",
      " [11 11 12]\n",
      " [21 21 22]]\n",
      "[[11 12 12]\n",
      " [21 22 22]\n",
      " [21 22 22]]\n",
      "[[22 22 21 21 22 22 21 21]\n",
      " [22 22 21 21 22 22 21 21]\n",
      " [12 12 11 11 12 12 11 11]\n",
      " [12 12 11 11 12 12 11 11]\n",
      " [22 22 21 21 22 22 21 21]\n",
      " [22 22 21 21 22 22 21 21]\n",
      " [12 12 11 11 12 12 11 11]\n",
      " [12 12 11 11 12 12 11 11]]\n"
     ]
    }
   ],
   "source": [
    "import numpy as np\n",
    "\n",
    "inser = np.array([[11, 12], [21, 22]])\n",
    "\n",
    "print(np.pad(inser,(1,0),\"symmetric\"))\n",
    "print(np.pad(inser,(0,1),\"symmetric\"))\n",
    "print(np.pad(inser,(3,3),\"symmetric\"))"
   ]
  },
  {
   "cell_type": "code",
   "execution_count": 13,
   "metadata": {},
   "outputs": [
    {
     "name": "stdout",
     "output_type": "stream",
     "text": [
      "[[22 21 22]\n",
      " [12 11 12]\n",
      " [22 21 22]]\n",
      "[[11 12 11]\n",
      " [21 22 21]\n",
      " [11 12 11]]\n",
      "[[22 21 22 21 22 21 22 21]\n",
      " [12 11 12 11 12 11 12 11]\n",
      " [22 21 22 21 22 21 22 21]\n",
      " [12 11 12 11 12 11 12 11]\n",
      " [22 21 22 21 22 21 22 21]\n",
      " [12 11 12 11 12 11 12 11]\n",
      " [22 21 22 21 22 21 22 21]\n",
      " [12 11 12 11 12 11 12 11]]\n"
     ]
    }
   ],
   "source": [
    "import numpy as np\n",
    "\n",
    "inser = np.array([[11, 12], [21, 22]])\n",
    "\n",
    "print(np.pad(inser,(1,0),\"wrap\"))\n",
    "print(np.pad(inser,(0,1),\"wrap\"))\n",
    "print(np.pad(inser,(3,3),\"wrap\"))"
   ]
  },
  {
   "cell_type": "code",
   "execution_count": 14,
   "metadata": {},
   "outputs": [
    {
     "name": "stdout",
     "output_type": "stream",
     "text": [
      "[[16 16 17]\n",
      " [12 11 12]\n",
      " [22 21 22]]\n",
      "[[11 12 12]\n",
      " [21 22 22]\n",
      " [16 17 16]]\n",
      "[[16 16 16 16 17 16 16 16]\n",
      " [16 16 16 16 17 16 16 16]\n",
      " [16 16 16 16 17 16 16 16]\n",
      " [12 12 12 11 12 12 12 12]\n",
      " [22 22 22 21 22 22 22 22]\n",
      " [16 16 16 16 17 16 16 16]\n",
      " [16 16 16 16 17 16 16 16]\n",
      " [16 16 16 16 17 16 16 16]]\n"
     ]
    }
   ],
   "source": [
    "import numpy as np\n",
    "\n",
    "inser = np.array([[11, 12], [21, 22]])\n",
    "\n",
    "print(np.pad(inser,(1,0),\"median\"))\n",
    "print(np.pad(inser,(0,1),\"median\"))\n",
    "print(np.pad(inser,(3,3),\"median\"))"
   ]
  },
  {
   "cell_type": "code",
   "execution_count": 15,
   "metadata": {},
   "outputs": [
    {
     "name": "stdout",
     "output_type": "stream",
     "text": [
      "[[0 1 2]\n",
      " [1 2 3]\n",
      " [2 3 4]]\n",
      "[[0 0 0]\n",
      " [1 1 1]\n",
      " [2 2 2]]\n",
      "[[0 1 2]\n",
      " [0 1 2]\n",
      " [0 1 2]]\n",
      "[[0 1 2]\n",
      " [1 2 3]\n",
      " [2 3 4]]\n"
     ]
    }
   ],
   "source": [
    "import numpy as np\n",
    "\n",
    "a = np.arange(3).reshape((3, 1))\n",
    "b = np.arange(3).reshape((1,3))\n",
    "print(a+b)\n",
    "\n",
    "A = np.hstack((a,a,a))\n",
    "B = np.vstack((b,b,b))\n",
    "print(A)\n",
    "print(B)\n",
    "print(A+B)"
   ]
  },
  {
   "cell_type": "code",
   "execution_count": null,
   "metadata": {
    "collapsed": true
   },
   "outputs": [],
   "source": []
  }
 ],
 "metadata": {
  "kernelspec": {
   "display_name": "Python 3",
   "language": "python",
   "name": "python3"
  },
  "language_info": {
   "codemirror_mode": {
    "name": "ipython",
    "version": 3
   },
   "file_extension": ".py",
   "mimetype": "text/x-python",
   "name": "python",
   "nbconvert_exporter": "python",
   "pygments_lexer": "ipython3",
   "version": "3.6.1"
  }
 },
 "nbformat": 4,
 "nbformat_minor": 2
}
