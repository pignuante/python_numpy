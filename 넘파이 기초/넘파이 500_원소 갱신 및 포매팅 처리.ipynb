{
 "cells": [
  {
   "cell_type": "code",
   "execution_count": 2,
   "metadata": {
    "collapsed": true
   },
   "outputs": [],
   "source": [
    "import numpy as np"
   ]
  },
  {
   "cell_type": "markdown",
   "metadata": {},
   "source": [
    "## 원소 내부 조회"
   ]
  },
  {
   "cell_type": "code",
   "execution_count": 3,
   "metadata": {},
   "outputs": [
    {
     "name": "stdout",
     "output_type": "stream",
     "text": [
      "<class 'int'>\n",
      "1\n",
      "<class 'numpy.int64'>\n",
      "1\n"
     ]
    }
   ],
   "source": [
    "a = np.array([[1,2,3],[4,5,6]])\n",
    "\n",
    "asc = a[0,0].item()\n",
    "print(type(asc))\n",
    "\n",
    "print(asc)\n",
    "print(type(a[0,0]))\n",
    "print(a[0,0])"
   ]
  },
  {
   "cell_type": "markdown",
   "metadata": {},
   "source": [
    "## 원소 내부 갱신"
   ]
  },
  {
   "cell_type": "code",
   "execution_count": 12,
   "metadata": {},
   "outputs": [
    {
     "name": "stdout",
     "output_type": "stream",
     "text": [
      "[[0 1 2]\n",
      " [3 4 5]]\n",
      "5\n",
      "None\n",
      "[[ 0  1 20]\n",
      " [ 3  4  5]]\n",
      "[[ 0  1 20]\n",
      " [ 3  4  5]]\n"
     ]
    }
   ],
   "source": [
    "import numpy as np\n",
    "\n",
    "x = np.arange(6).reshape(2,3)\n",
    "print(x)\n",
    "print(x.item(1,2))\n",
    "print(x.itemset(2, 20))\n",
    "print(x)\n",
    "print(x.view())"
   ]
  },
  {
   "cell_type": "code",
   "execution_count": 14,
   "metadata": {},
   "outputs": [
    {
     "name": "stdout",
     "output_type": "stream",
     "text": [
      "[[8 2 7]\n",
      " [1 8 7]\n",
      " [7 6 7]]\n",
      "None\n",
      "[[8 2 7]\n",
      " [1 0 7]\n",
      " [7 6 7]]\n",
      "[[8 2 7]\n",
      " [1 0 7]\n",
      " [7 6 9]]\n"
     ]
    }
   ],
   "source": [
    "x = np.random.randint(9, size=(3, 3))\n",
    "print(x)\n",
    "print(x.itemset(4, 0))\n",
    "print(x)\n",
    "x.itemset((2, 2), 9)\n",
    "print(x)"
   ]
  },
  {
   "cell_type": "markdown",
   "metadata": {},
   "source": [
    "## 포매팅 처리"
   ]
  },
  {
   "cell_type": "code",
   "execution_count": 15,
   "metadata": {},
   "outputs": [
    {
     "name": "stdout",
     "output_type": "stream",
     "text": [
      "   0 : 0.000000 1.000000 0.000000  \n",
      "  10 : -0.544021 -0.839072 0.648361  \n",
      "  20 : 0.912945 0.408082 2.237161  \n",
      "  30 : -0.988032 0.154251 -6.405331  \n",
      "  40 : 0.745113 -0.666938 -1.117215  \n",
      "  50 : -0.262375 0.964966 -0.271901  \n",
      "  60 : -0.304811 -0.952413 0.320040  \n",
      "  70 : 0.773891 0.633319 1.221960  \n",
      "  80 : -0.993889 -0.110387 9.003655  \n",
      "  90 : 0.893997 -0.448074 -1.995200  \n",
      " 100 : -0.506366 0.862319 -0.587214  \n",
      " 110 : -0.044243 -0.999021 0.044286  \n",
      " 120 : 0.580611 0.814181 0.713123  \n",
      " 130 : -0.930106 -0.367291 2.532338  \n",
      " 140 : 0.980240 -0.197814 -4.955371  \n",
      " 150 : -0.714876 0.699251 -1.022346  \n",
      " 160 : 0.219425 -0.975629 -0.224906  \n",
      " 170 : 0.346649 0.937995 0.369564  \n",
      " 180 : -0.801153 -0.598460 1.338690  \n"
     ]
    }
   ],
   "source": [
    "import numpy as np\n",
    "\n",
    "fmt = \" {:3d} : {:>-2.6f} {:>2.6f} {:>2.6f}  \"\n",
    "\n",
    "for i in range(0,181,10) :\n",
    "    print(fmt.format(i,np.sin(i), np.cos(i), np.tan(i)))"
   ]
  },
  {
   "cell_type": "code",
   "execution_count": null,
   "metadata": {
    "collapsed": true
   },
   "outputs": [],
   "source": []
  },
  {
   "cell_type": "code",
   "execution_count": null,
   "metadata": {
    "collapsed": true
   },
   "outputs": [],
   "source": []
  }
 ],
 "metadata": {
  "kernelspec": {
   "display_name": "Python 3",
   "language": "python",
   "name": "python3"
  },
  "language_info": {
   "codemirror_mode": {
    "name": "ipython",
    "version": 3
   },
   "file_extension": ".py",
   "mimetype": "text/x-python",
   "name": "python",
   "nbconvert_exporter": "python",
   "pygments_lexer": "ipython3",
   "version": "3.6.1"
  }
 },
 "nbformat": 4,
 "nbformat_minor": 2
}
