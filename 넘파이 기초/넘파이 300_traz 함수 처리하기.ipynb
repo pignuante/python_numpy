{
 "cells": [
  {
   "cell_type": "code",
   "execution_count": 13,
   "metadata": {
    "collapsed": true
   },
   "outputs": [],
   "source": [
    "import numpy as np"
   ]
  },
  {
   "cell_type": "markdown",
   "metadata": {},
   "source": [
    "## trapz 함수 처리\n",
    "\n",
    "     복합 사다리꼴 규칙을 사용하여 주어진 축을 따라 통합합니다."
   ]
  },
  {
   "cell_type": "code",
   "execution_count": 2,
   "metadata": {},
   "outputs": [
    {
     "name": "stdout",
     "output_type": "stream",
     "text": [
      "Help on function trapz in module numpy.lib.function_base:\n",
      "\n",
      "trapz(y, x=None, dx=1.0, axis=-1)\n",
      "    Integrate along the given axis using the composite trapezoidal rule.\n",
      "    \n",
      "    Integrate `y` (`x`) along given axis.\n",
      "    \n",
      "    Parameters\n",
      "    ----------\n",
      "    y : array_like\n",
      "        Input array to integrate.\n",
      "    x : array_like, optional\n",
      "        The sample points corresponding to the `y` values. If `x` is None,\n",
      "        the sample points are assumed to be evenly spaced `dx` apart. The\n",
      "        default is None.\n",
      "    dx : scalar, optional\n",
      "        The spacing between sample points when `x` is None. The default is 1.\n",
      "    axis : int, optional\n",
      "        The axis along which to integrate.\n",
      "    \n",
      "    Returns\n",
      "    -------\n",
      "    trapz : float\n",
      "        Definite integral as approximated by trapezoidal rule.\n",
      "    \n",
      "    See Also\n",
      "    --------\n",
      "    sum, cumsum\n",
      "    \n",
      "    Notes\n",
      "    -----\n",
      "    Image [2]_ illustrates trapezoidal rule -- y-axis locations of points\n",
      "    will be taken from `y` array, by default x-axis distances between\n",
      "    points will be 1.0, alternatively they can be provided with `x` array\n",
      "    or with `dx` scalar.  Return value will be equal to combined area under\n",
      "    the red lines.\n",
      "    \n",
      "    \n",
      "    References\n",
      "    ----------\n",
      "    .. [1] Wikipedia page: http://en.wikipedia.org/wiki/Trapezoidal_rule\n",
      "    \n",
      "    .. [2] Illustration image:\n",
      "           http://en.wikipedia.org/wiki/File:Composite_trapezoidal_rule_illustration.png\n",
      "    \n",
      "    Examples\n",
      "    --------\n",
      "    >>> np.trapz([1,2,3])\n",
      "    4.0\n",
      "    >>> np.trapz([1,2,3], x=[4,6,8])\n",
      "    8.0\n",
      "    >>> np.trapz([1,2,3], dx=2)\n",
      "    8.0\n",
      "    >>> a = np.arange(6).reshape(2, 3)\n",
      "    >>> a\n",
      "    array([[0, 1, 2],\n",
      "           [3, 4, 5]])\n",
      "    >>> np.trapz(a, axis=0)\n",
      "    array([ 1.5,  2.5,  3.5])\n",
      "    >>> np.trapz(a, axis=1)\n",
      "    array([ 2.,  8.])\n",
      "\n"
     ]
    }
   ],
   "source": [
    "help(np.trapz)"
   ]
  },
  {
   "cell_type": "code",
   "execution_count": 5,
   "metadata": {},
   "outputs": [
    {
     "name": "stdout",
     "output_type": "stream",
     "text": [
      "4.0\n"
     ]
    }
   ],
   "source": [
    "a = np.array([1,2,3])\n",
    "x = np.trapz(a)\n",
    "print(x)"
   ]
  },
  {
   "cell_type": "code",
   "execution_count": 3,
   "metadata": {},
   "outputs": [
    {
     "data": {
      "text/plain": [
       "4.0"
      ]
     },
     "execution_count": 3,
     "metadata": {},
     "output_type": "execute_result"
    }
   ],
   "source": [
    "np.trapz([1,2,3])"
   ]
  },
  {
   "cell_type": "code",
   "execution_count": 6,
   "metadata": {},
   "outputs": [
    {
     "name": "stdout",
     "output_type": "stream",
     "text": [
      "4.0\n"
     ]
    }
   ],
   "source": [
    "\n",
    "#(b-a) *(b+a)/2 \n",
    "c = (a[2]-a[0])\n",
    "d = c * ((a[len(a)-1]+ a[0])/2.)\n",
    "print(d)"
   ]
  },
  {
   "cell_type": "code",
   "execution_count": 53,
   "metadata": {},
   "outputs": [
    {
     "name": "stdout",
     "output_type": "stream",
     "text": [
      "7.5\n",
      "7.5\n"
     ]
    }
   ],
   "source": [
    "a = np.array([1,2,3,4])\n",
    "x = np.trapz(a)\n",
    "print(x)\n",
    "\n",
    "#(b-a) *(b+a)/2 \n",
    "c = (a[len(a)-1]-a[0])\n",
    "d = c * ((a[len(a)-1]+ a[0])/2.)\n",
    "print(d)"
   ]
  },
  {
   "cell_type": "code",
   "execution_count": 54,
   "metadata": {},
   "outputs": [
    {
     "name": "stdout",
     "output_type": "stream",
     "text": [
      "8.0\n",
      "2\n",
      "8\n",
      "4\n",
      "8.0\n"
     ]
    }
   ],
   "source": [
    "a = np.array([1,2,3])\n",
    "x_a = np.array([4,6,8])\n",
    "x = np.trapz(a, x=[4,6,8])\n",
    "print(x)\n",
    "\n",
    "\n",
    "#(b-a) *(b+a)/2 \n",
    "c = (a[len(x_a)-1]-a[0])\n",
    "print(c)\n",
    "def y(x) :\n",
    "    return 2*x+2\n",
    "\n",
    "print(y(a[len(a)-1]))\n",
    "print(y(a[0]))\n",
    "xx = y(a[len(a)-1])+ y(a[0])\n",
    "d = c * (xx/len(x_a))\n",
    "print(d)"
   ]
  },
  {
   "cell_type": "code",
   "execution_count": 55,
   "metadata": {},
   "outputs": [
    {
     "name": "stdout",
     "output_type": "stream",
     "text": [
      "[[0 1 2]\n",
      " [3 4 5]]\n",
      "[ 1.5  2.5  3.5]\n",
      "[3 3 3]\n",
      "[6 7 8]\n",
      "[3 4 5]\n",
      "[ 13.5  16.5  19.5]\n"
     ]
    }
   ],
   "source": [
    "a = np.arange(6).reshape(2, 3)\n",
    "print(a)\n",
    "\n",
    "print(np.trapz(a, axis=0))\n",
    "\n",
    "#(b-a) *(b+a)/2 \n",
    "c = (a[len(a)-1]-a[0])\n",
    "print(c)\n",
    "def y(x) :\n",
    "    return x+3\n",
    "\n",
    "print(y(a[len(a)-1]))\n",
    "print(y(a[0]))\n",
    "xx = y(a[len(a)-1])+ y(a[0])\n",
    "d = c * (xx/len(a[:,1]))\n",
    "print(d)\n"
   ]
  },
  {
   "cell_type": "code",
   "execution_count": 56,
   "metadata": {},
   "outputs": [
    {
     "name": "stdout",
     "output_type": "stream",
     "text": [
      "[ 2.  8.]\n",
      "2.0\n",
      "8.0\n"
     ]
    }
   ],
   "source": [
    "print(np.trapz(a, axis=1))\n",
    "#(b-a) *(b+a)/2 \n",
    "c = (a[0,2]-a[0,0])\n",
    "d = c * ((a[0,0]+ a[0,2])/2.)\n",
    "print(d)\n",
    "c = (a[1,2]-a[1,0])\n",
    "d = c * ((a[1,0]+ a[1,2])/2.)\n",
    "print(d)"
   ]
  },
  {
   "cell_type": "code",
   "execution_count": 57,
   "metadata": {},
   "outputs": [
    {
     "name": "stdout",
     "output_type": "stream",
     "text": [
      "[0 1 2 3]\n",
      "[0 1 3 6]\n",
      "4.5\n",
      "Trapezoidal integration:  11.0\n"
     ]
    }
   ],
   "source": [
    "import numpy as np\n",
    "x = np.arange(0,4)\n",
    "print(x)\n",
    "dx = x[1] - x[0]\n",
    "\n",
    "F = np.cumsum(x) * dx\n",
    "print(F)\n",
    "print(np.trapz(x))\n",
    "print(\"Trapezoidal integration: \", np.trapz(x,x=F))\n"
   ]
  },
  {
   "cell_type": "code",
   "execution_count": 58,
   "metadata": {},
   "outputs": [
    {
     "name": "stdout",
     "output_type": "stream",
     "text": [
      "[1 2 3]\n",
      "Trapezoidal integration: x  4.0\n",
      "Trapezoidal integration: x  4.0\n",
      "Trapezoidal integration: 2x+2  12.0\n",
      "Trapezoidal integration: 2x+2  12.0\n"
     ]
    }
   ],
   "source": [
    "import numpy as np\n",
    "x = np.arange(1,4)\n",
    "print(x)\n",
    "\n",
    "print(\"Trapezoidal integration: x \", np.trapz(x, x=x))\n",
    "print(\"Trapezoidal integration: x \", np.trapz(x))\n",
    "\n",
    "y = 2*x+2\n",
    "print(\"Trapezoidal integration: 2x+2 \",np.trapz([4,6,8], x=x))\n",
    "print(\"Trapezoidal integration: 2x+2 \",np.trapz(y, x=x))"
   ]
  },
  {
   "cell_type": "code",
   "execution_count": 59,
   "metadata": {},
   "outputs": [
    {
     "name": "stdout",
     "output_type": "stream",
     "text": [
      "[1 2 3 4]\n",
      "10\n",
      "[ 1  3  6 10]\n"
     ]
    }
   ],
   "source": [
    "import numpy as np\n",
    "x = np.arange(1,5)\n",
    "print(x)\n",
    "print(np.sum(x))\n",
    "print(np.cumsum(x))"
   ]
  },
  {
   "cell_type": "code",
   "execution_count": 60,
   "metadata": {},
   "outputs": [
    {
     "name": "stdout",
     "output_type": "stream",
     "text": [
      "[1 2 3 4]\n",
      "24\n",
      "[ 1  2  6 24]\n"
     ]
    }
   ],
   "source": [
    "import numpy as np\n",
    "x = np.arange(1,5)\n",
    "print(x)\n",
    "print(np.prod(x))\n",
    "print(np.cumprod(x))"
   ]
  },
  {
   "cell_type": "code",
   "execution_count": 61,
   "metadata": {},
   "outputs": [
    {
     "name": "stdout",
     "output_type": "stream",
     "text": [
      "11.000000501\n"
     ]
    }
   ],
   "source": [
    "import numpy as np\n",
    "\n",
    "x = np.linspace(1., 2., 1000)\n",
    "y = 3. * x**2 + 2. * x + 1.\n",
    "\n",
    "print(np.trapz(y, x=x))"
   ]
  },
  {
   "cell_type": "code",
   "execution_count": 62,
   "metadata": {},
   "outputs": [
    {
     "name": "stdout",
     "output_type": "stream",
     "text": [
      "[1 2 3]\n",
      "[ 1.  1.  1.]\n",
      "[ 1.  3.  6.]\n",
      "6.5\n",
      "Trapezoidal integration:  6.5\n"
     ]
    }
   ],
   "source": [
    "x = np.arange(1,4)\n",
    "print(x)\n",
    "dx = np.zeros(3)\n",
    "dx[0] = x[0]\n",
    "dx[1] = x[1] - x[0]\n",
    "dx[2] = x[2] - x[1]\n",
    "print(dx)\n",
    "\n",
    "F = np.cumsum(x) * dx\n",
    "print(F)\n",
    "print(np.trapz(F))\n",
    "print(\"Trapezoidal integration: \", np.trapz(F,x=x))"
   ]
  },
  {
   "cell_type": "code",
   "execution_count": 74,
   "metadata": {},
   "outputs": [
    {
     "name": "stdout",
     "output_type": "stream",
     "text": [
      "[ 1.03   2.534  3.235]\n",
      "[ 1.03   2.534  3.235]\n",
      "[ 1. -1. -1.]\n",
      "[-1.03   2.534  3.235]\n",
      "[ 1.  3.  3.]\n"
     ]
    }
   ],
   "source": [
    "import numpy as np \n",
    "\n",
    "a = np.array([1.03,-2.534,-3.235])\n",
    "\n",
    "b = np.abs(a)\n",
    "print(b)\n",
    "print(np.absolute(a))\n",
    "\n",
    "c = np.sign(a)\n",
    "print(c)\n",
    "\n",
    "d = np.negative(a)\n",
    "print(d)\n",
    "\n",
    "aa = np.array([1.03,-2.534,np.nan])\n",
    "f = np.sign(aa)\n",
    "print(e)\n"
   ]
  },
  {
   "cell_type": "code",
   "execution_count": null,
   "metadata": {
    "collapsed": true
   },
   "outputs": [],
   "source": []
  },
  {
   "cell_type": "code",
   "execution_count": null,
   "metadata": {
    "collapsed": true
   },
   "outputs": [],
   "source": []
  }
 ],
 "metadata": {
  "kernelspec": {
   "display_name": "Python 3",
   "language": "python",
   "name": "python3"
  },
  "language_info": {
   "codemirror_mode": {
    "name": "ipython",
    "version": 3
   },
   "file_extension": ".py",
   "mimetype": "text/x-python",
   "name": "python",
   "nbconvert_exporter": "python",
   "pygments_lexer": "ipython3",
   "version": "3.6.1"
  }
 },
 "nbformat": 4,
 "nbformat_minor": 2
}
