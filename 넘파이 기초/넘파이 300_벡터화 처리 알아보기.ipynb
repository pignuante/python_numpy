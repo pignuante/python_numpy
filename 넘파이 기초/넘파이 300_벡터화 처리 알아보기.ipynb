{
 "cells": [
  {
   "cell_type": "code",
   "execution_count": 1,
   "metadata": {
    "collapsed": true
   },
   "outputs": [],
   "source": [
    "import numpy as np"
   ]
  },
  {
   "cell_type": "markdown",
   "metadata": {},
   "source": [
    "# 벡터화 처리\n",
    "\n",
    "    for 문 등 순환문 없이 계산처리가 가능하다.\n",
    "    \n"
   ]
  },
  {
   "cell_type": "markdown",
   "metadata": {},
   "source": [
    "#### 파이썬 리스트를 이용해서 원소 단위로 계산이 필요할 경우 \n",
    "\n",
    "     벡터화 처리가 안되므로 순환해서 원소별로 더해야 함\n",
    "     "
   ]
  },
  {
   "cell_type": "code",
   "execution_count": 47,
   "metadata": {},
   "outputs": [
    {
     "name": "stdout",
     "output_type": "stream",
     "text": [
      "[1, 2, 3, 4, 5, 6]\n",
      "[5, 7, 9]\n"
     ]
    }
   ],
   "source": [
    "# \n",
    "l = [1,2,3]\n",
    "ll = [4,5,6]\n",
    "\n",
    "# 리스트 끼리 병합\n",
    "print(l+ ll)\n",
    "\n",
    "# 순환문을 이용해서 원소끼리 계산\n",
    "for i in range(len(l)) :\n",
    "    l[i] +=  ll[i]\n",
    "    \n",
    "print(l)"
   ]
  },
  {
   "cell_type": "markdown",
   "metadata": {},
   "source": [
    "###  산술계산 처리\n",
    "\n",
    "    사칙연산에 대한 처리는 ndarray 내부 원소별로 처리 \n",
    "    \n",
    "    Operator    Meaning          Example Algebraic\n",
    "       +        Addition             x + y \n",
    "       -        Subtraction          x-y\n",
    "       *        Multiplication       x * y \n",
    "       /        Division             x/y\n",
    "      **        Exponentiation       x**y \n",
    "      "
   ]
  },
  {
   "cell_type": "code",
   "execution_count": 13,
   "metadata": {},
   "outputs": [
    {
     "name": "stdout",
     "output_type": "stream",
     "text": [
      "[[[ 2  4  6]\n",
      "  [ 8 10 12]]\n",
      "\n",
      " [[ 2  4  6]\n",
      "  [ 8 10 12]]]\n"
     ]
    }
   ],
   "source": [
    "l = np.array([[[1,2,3],[4,5,6]],[[1,2,3],[4,5,6]]])\n",
    "\n",
    "print(l+l)"
   ]
  },
  {
   "cell_type": "code",
   "execution_count": 14,
   "metadata": {},
   "outputs": [
    {
     "name": "stdout",
     "output_type": "stream",
     "text": [
      "[[[0 0 0]\n",
      "  [0 0 0]]\n",
      "\n",
      " [[0 0 0]\n",
      "  [0 0 0]]]\n"
     ]
    }
   ],
   "source": [
    "l = np.array([[[1,2,3],[4,5,6]],[[1,2,3],[4,5,6]]])\n",
    "\n",
    "print(l-l)"
   ]
  },
  {
   "cell_type": "code",
   "execution_count": 15,
   "metadata": {},
   "outputs": [
    {
     "name": "stdout",
     "output_type": "stream",
     "text": [
      "[[[ 1  4  9]\n",
      "  [16 25 36]]\n",
      "\n",
      " [[ 1  4  9]\n",
      "  [16 25 36]]]\n"
     ]
    }
   ],
   "source": [
    "l = np.array([[[1,2,3],[4,5,6]],[[1,2,3],[4,5,6]]])\n",
    "\n",
    "print(l*l)"
   ]
  },
  {
   "cell_type": "code",
   "execution_count": 16,
   "metadata": {},
   "outputs": [
    {
     "name": "stdout",
     "output_type": "stream",
     "text": [
      "[[[ 1.  1.  1.]\n",
      "  [ 1.  1.  1.]]\n",
      "\n",
      " [[ 1.  1.  1.]\n",
      "  [ 1.  1.  1.]]]\n"
     ]
    }
   ],
   "source": [
    "l = np.array([[[1,2,3],[4,5,6]],[[1,2,3],[4,5,6]]])\n",
    "\n",
    "print(l/l)"
   ]
  },
  {
   "cell_type": "code",
   "execution_count": 17,
   "metadata": {},
   "outputs": [
    {
     "name": "stdout",
     "output_type": "stream",
     "text": [
      "[[[1 1 1]\n",
      "  [1 1 1]]\n",
      "\n",
      " [[1 1 1]\n",
      "  [1 1 1]]]\n"
     ]
    }
   ],
   "source": [
    "l = np.array([[[1,2,3],[4,5,6]],[[1,2,3],[4,5,6]]])\n",
    "\n",
    "print(l//l)"
   ]
  },
  {
   "cell_type": "markdown",
   "metadata": {},
   "source": [
    "## 원소의 갯수가 다를 경우 : 브로드캐스팅 처리\n",
    "\n",
    "    브로드캐스팅은 선형대수를 값을 구하기 위해 서로 차원과 원소의 갯수를 맞춰 각 원소별로 계산이 가능하도록 만든 후에 연산이 들어감\n",
    "    \n",
    "    차원이 작은 경우 큰 차원에 맞춘다.\n",
    "    \n",
    "    단,  원소의 갯수가 다른 경우는 에러를 발생시킴 \n",
    "    \n",
    "    \n",
    "   "
   ]
  },
  {
   "cell_type": "markdown",
   "metadata": {},
   "source": [
    "#### scalar 값에 대한 브로드캐스팅 \n"
   ]
  },
  {
   "cell_type": "code",
   "execution_count": 42,
   "metadata": {},
   "outputs": [
    {
     "name": "stdout",
     "output_type": "stream",
     "text": [
      "[101 102 103]\n"
     ]
    }
   ],
   "source": [
    "l = np.array([1,2,3])\n",
    "\n",
    "print( l + 100)"
   ]
  },
  {
   "cell_type": "code",
   "execution_count": 44,
   "metadata": {},
   "outputs": [
    {
     "name": "stdout",
     "output_type": "stream",
     "text": [
      "[100, 100, 100]\n",
      "[101 102 103]\n"
     ]
    }
   ],
   "source": [
    "sl = []\n",
    "l = np.array([1,2,3])\n",
    "for _ in range(len(l)) :\n",
    "    sl.append(100)\n",
    "    \n",
    "print( sl)\n",
    "print( l + sl)"
   ]
  },
  {
   "cell_type": "code",
   "execution_count": 22,
   "metadata": {},
   "outputs": [
    {
     "name": "stdout",
     "output_type": "stream",
     "text": [
      "[[[101 102 103]\n",
      "  [104 105 106]]\n",
      "\n",
      " [[101 102 103]\n",
      "  [104 105 106]]]\n"
     ]
    }
   ],
   "source": [
    "l = np.array([[[1,2,3],[4,5,6]],[[1,2,3],[4,5,6]]])\n",
    "print( l + 100)"
   ]
  },
  {
   "cell_type": "markdown",
   "metadata": {},
   "source": [
    "#### 차원의 높은 경우 일단 원소의 갯수 확인\n",
    "\n",
    "    차원을 확인하고 원소의 갯수가 맞을 경우 브로드캐스팅한 후 계산을 한다.\n",
    "    \n",
    "    "
   ]
  },
  {
   "cell_type": "code",
   "execution_count": 38,
   "metadata": {},
   "outputs": [
    {
     "name": "stdout",
     "output_type": "stream",
     "text": [
      " 원소 불일치 \n"
     ]
    }
   ],
   "source": [
    "l1 = np.array([100,100])\n",
    "l3 = np.array([[[1,2,3],[4,5,6]],[[1,2,3],[4,5,6]]])\n",
    "\n",
    "\n",
    "if l1.ndim == 1 :\n",
    "    s1 = l1.shape[0]\n",
    "    \n",
    "if l3.ndim == 3 :\n",
    "    s3 = l3.shape[2]\n",
    "    \n",
    "if s1 == s3 :\n",
    "    print(l1+l3)\n",
    "else :\n",
    "    print(\" 원소 불일치 \")\n",
    "    "
   ]
  },
  {
   "cell_type": "markdown",
   "metadata": {},
   "source": [
    "### 1차원과 3차원 비교"
   ]
  },
  {
   "cell_type": "code",
   "execution_count": 28,
   "metadata": {},
   "outputs": [
    {
     "name": "stdout",
     "output_type": "stream",
     "text": [
      "(3,) (2, 2, 3)\n",
      "[[[101 102 103]\n",
      "  [104 105 106]]\n",
      "\n",
      " [[101 102 103]\n",
      "  [104 105 106]]]\n"
     ]
    }
   ],
   "source": [
    "l1 = np.array([100,100,100])\n",
    "l3 = np.array([[[1,2,3],[4,5,6]],[[1,2,3],[4,5,6]]])\n",
    "\n",
    "print(l1.shape, l3.shape)\n",
    "print(l1+l3)"
   ]
  },
  {
   "cell_type": "markdown",
   "metadata": {},
   "source": [
    "### 2차원과 3차원 비교\n"
   ]
  },
  {
   "cell_type": "code",
   "execution_count": 29,
   "metadata": {},
   "outputs": [
    {
     "name": "stdout",
     "output_type": "stream",
     "text": [
      "(2, 3) (2, 2, 3)\n",
      "[[[101 102 103]\n",
      "  [204 205 206]]\n",
      "\n",
      " [[101 102 103]\n",
      "  [204 205 206]]]\n"
     ]
    }
   ],
   "source": [
    "l2 = np.array([[100,100,100],[200,200,200]])\n",
    "l3 = np.array([[[1,2,3],[4,5,6]],[[1,2,3],[4,5,6]]])\n",
    "\n",
    "print(l2.shape, l3.shape)\n",
    "print(l2+l3)"
   ]
  },
  {
   "cell_type": "markdown",
   "metadata": {},
   "source": [
    "### 차원은 같고 행과 열의 원소 갯수가 같을 경우 \n",
    "\n"
   ]
  },
  {
   "cell_type": "code",
   "execution_count": 98,
   "metadata": {},
   "outputs": [
    {
     "name": "stdout",
     "output_type": "stream",
     "text": [
      "(1, 3)\n",
      "(3, 1)\n",
      "[[ 1.  2.  3.]\n",
      " [ 1.  2.  3.]\n",
      " [ 1.  2.  3.]] (3, 3)\n"
     ]
    }
   ],
   "source": [
    "x = np.array([[1,2,3.0]])\n",
    "print(x.shape)\n",
    "\n",
    "y = np.array([[0],[0],[0.0]])\n",
    "print(y.shape)\n",
    "\n",
    "print((x+y), (x+y).shape)"
   ]
  }
 ],
 "metadata": {
  "anaconda-cloud": {},
  "kernelspec": {
   "display_name": "Python 3",
   "language": "python",
   "name": "python3"
  },
  "language_info": {
   "codemirror_mode": {
    "name": "ipython",
    "version": 3
   },
   "file_extension": ".py",
   "mimetype": "text/x-python",
   "name": "python",
   "nbconvert_exporter": "python",
   "pygments_lexer": "ipython3",
   "version": "3.6.1"
  }
 },
 "nbformat": 4,
 "nbformat_minor": 1
}
