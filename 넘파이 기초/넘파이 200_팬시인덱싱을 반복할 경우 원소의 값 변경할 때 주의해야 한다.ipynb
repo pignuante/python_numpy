{
 "cells": [
  {
   "cell_type": "code",
   "execution_count": 1,
   "metadata": {
    "collapsed": true
   },
   "outputs": [],
   "source": [
    "import numpy as np"
   ]
  },
  {
   "cell_type": "code",
   "execution_count": 3,
   "metadata": {},
   "outputs": [],
   "source": [
    "a = np.zeros(10)"
   ]
  },
  {
   "cell_type": "code",
   "execution_count": 4,
   "metadata": {},
   "outputs": [
    {
     "data": {
      "text/plain": [
       "array([ 0.,  0.,  0.,  0.,  0.,  0.,  0.,  0.,  0.,  0.])"
      ]
     },
     "execution_count": 4,
     "metadata": {},
     "output_type": "execute_result"
    }
   ],
   "source": [
    "a"
   ]
  },
  {
   "cell_type": "code",
   "execution_count": 5,
   "metadata": {
    "collapsed": true
   },
   "outputs": [],
   "source": [
    "x = [3,5,6]"
   ]
  },
  {
   "cell_type": "code",
   "execution_count": 8,
   "metadata": {
    "collapsed": true
   },
   "outputs": [],
   "source": [
    "a[x] = 99"
   ]
  },
  {
   "cell_type": "code",
   "execution_count": 9,
   "metadata": {},
   "outputs": [
    {
     "data": {
      "text/plain": [
       "array([  0.,   0.,   0.,  99.,   0.,  99.,  99.,   0.,   0.,   0.])"
      ]
     },
     "execution_count": 9,
     "metadata": {},
     "output_type": "execute_result"
    }
   ],
   "source": [
    "a"
   ]
  },
  {
   "cell_type": "code",
   "execution_count": 10,
   "metadata": {
    "collapsed": true
   },
   "outputs": [],
   "source": [
    "a[x] -= 10"
   ]
  },
  {
   "cell_type": "code",
   "execution_count": 11,
   "metadata": {},
   "outputs": [
    {
     "data": {
      "text/plain": [
       "array([  0.,   0.,   0.,  89.,   0.,  89.,  89.,   0.,   0.,   0.])"
      ]
     },
     "execution_count": 11,
     "metadata": {},
     "output_type": "execute_result"
    }
   ],
   "source": [
    "a"
   ]
  },
  {
   "cell_type": "markdown",
   "metadata": {},
   "source": [
    "## 팬시 인덱싱을 사용해서 하나의 원소를 바꾸려면 두개의 값중에 최종값으로 처리된다"
   ]
  },
  {
   "cell_type": "code",
   "execution_count": 13,
   "metadata": {},
   "outputs": [],
   "source": [
    "a[[0,0]] = [99, 100]"
   ]
  },
  {
   "cell_type": "code",
   "execution_count": 14,
   "metadata": {},
   "outputs": [
    {
     "data": {
      "text/plain": [
       "array([ 100.,    0.,    0.,   89.,    0.,   89.,   89.,    0.,    0.,    0.])"
      ]
     },
     "execution_count": 14,
     "metadata": {},
     "output_type": "execute_result"
    }
   ],
   "source": [
    "a"
   ]
  },
  {
   "cell_type": "markdown",
   "metadata": {},
   "source": [
    "### 위의 경우는 두번 반복해서 처리되는 결과와 동일하게 처리된다"
   ]
  },
  {
   "cell_type": "code",
   "execution_count": 20,
   "metadata": {
    "collapsed": true
   },
   "outputs": [],
   "source": [
    "a[[0,0]] = [99]"
   ]
  },
  {
   "cell_type": "code",
   "execution_count": 21,
   "metadata": {},
   "outputs": [
    {
     "data": {
      "text/plain": [
       "array([ 99.,   0.,   0.,  89.,   0.,  89.,  89.,   0.,   0.,   0.])"
      ]
     },
     "execution_count": 21,
     "metadata": {},
     "output_type": "execute_result"
    }
   ],
   "source": [
    "a"
   ]
  },
  {
   "cell_type": "code",
   "execution_count": 22,
   "metadata": {
    "collapsed": true
   },
   "outputs": [],
   "source": [
    "a[[0,0]] = 100"
   ]
  },
  {
   "cell_type": "code",
   "execution_count": 23,
   "metadata": {},
   "outputs": [
    {
     "data": {
      "text/plain": [
       "array([ 100.,    0.,    0.,   89.,    0.,   89.,   89.,    0.,    0.,    0.])"
      ]
     },
     "execution_count": 23,
     "metadata": {},
     "output_type": "execute_result"
    }
   ],
   "source": [
    "a"
   ]
  },
  {
   "cell_type": "markdown",
   "metadata": {},
   "source": [
    "## 3 군데 값을 변경하려면 실제 배열과 인덱스 배열을 넣고 변경된 값을 넣는 np.add.at을 이용"
   ]
  },
  {
   "cell_type": "code",
   "execution_count": 31,
   "metadata": {
    "collapsed": true
   },
   "outputs": [],
   "source": [
    "b = np.zeros(10)"
   ]
  },
  {
   "cell_type": "code",
   "execution_count": 32,
   "metadata": {
    "collapsed": true
   },
   "outputs": [],
   "source": [
    "np.add.at(b,x,1)"
   ]
  },
  {
   "cell_type": "code",
   "execution_count": 33,
   "metadata": {},
   "outputs": [
    {
     "data": {
      "text/plain": [
       "array([ 0.,  0.,  0.,  1.,  0.,  1.,  1.,  0.,  0.,  0.])"
      ]
     },
     "execution_count": 33,
     "metadata": {},
     "output_type": "execute_result"
    }
   ],
   "source": [
    "b"
   ]
  },
  {
   "cell_type": "markdown",
   "metadata": {},
   "source": [
    "## 축소된 값을 가지고 내부의 배열을 변경하기"
   ]
  },
  {
   "cell_type": "code",
   "execution_count": 35,
   "metadata": {},
   "outputs": [
    {
     "name": "stdout",
     "output_type": "stream",
     "text": [
      "Help on built-in function reduceat:\n",
      "\n",
      "reduceat(...) method of numpy.ufunc instance\n",
      "    reduceat(a, indices, axis=0, dtype=None, out=None)\n",
      "    \n",
      "    Performs a (local) reduce with specified slices over a single axis.\n",
      "    \n",
      "    For i in ``range(len(indices))``, `reduceat` computes\n",
      "    ``ufunc.reduce(a[indices[i]:indices[i+1]])``, which becomes the i-th\n",
      "    generalized \"row\" parallel to `axis` in the final result (i.e., in a\n",
      "    2-D array, for example, if `axis = 0`, it becomes the i-th row, but if\n",
      "    `axis = 1`, it becomes the i-th column).  There are three exceptions to this:\n",
      "    \n",
      "    * when ``i = len(indices) - 1`` (so for the last index),\n",
      "      ``indices[i+1] = a.shape[axis]``.\n",
      "    * if ``indices[i] >= indices[i + 1]``, the i-th generalized \"row\" is\n",
      "      simply ``a[indices[i]]``.\n",
      "    * if ``indices[i] >= len(a)`` or ``indices[i] < 0``, an error is raised.\n",
      "    \n",
      "    The shape of the output depends on the size of `indices`, and may be\n",
      "    larger than `a` (this happens if ``len(indices) > a.shape[axis]``).\n",
      "    \n",
      "    Parameters\n",
      "    ----------\n",
      "    a : array_like\n",
      "        The array to act on.\n",
      "    indices : array_like\n",
      "        Paired indices, comma separated (not colon), specifying slices to\n",
      "        reduce.\n",
      "    axis : int, optional\n",
      "        The axis along which to apply the reduceat.\n",
      "    dtype : data-type code, optional\n",
      "        The type used to represent the intermediate results. Defaults\n",
      "        to the data type of the output array if this is provided, or\n",
      "        the data type of the input array if no output array is provided.\n",
      "    out : ndarray, None, or tuple of ndarray and None, optional\n",
      "        A location into which the result is stored. If not provided or `None`,\n",
      "        a freshly-allocated array is returned. For consistency with\n",
      "        :ref:`ufunc.__call__`, if given as a keyword, this may be wrapped in a\n",
      "        1-element tuple.\n",
      "    \n",
      "        .. versionchanged:: 1.13.0\n",
      "           Tuples are allowed for keyword argument.\n",
      "    \n",
      "    Returns\n",
      "    -------\n",
      "    r : ndarray\n",
      "        The reduced values. If `out` was supplied, `r` is a reference to\n",
      "        `out`.\n",
      "    \n",
      "    Notes\n",
      "    -----\n",
      "    A descriptive example:\n",
      "    \n",
      "    If `a` is 1-D, the function `ufunc.accumulate(a)` is the same as\n",
      "    ``ufunc.reduceat(a, indices)[::2]`` where `indices` is\n",
      "    ``range(len(array) - 1)`` with a zero placed\n",
      "    in every other element:\n",
      "    ``indices = zeros(2 * len(a) - 1)``, ``indices[1::2] = range(1, len(a))``.\n",
      "    \n",
      "    Don't be fooled by this attribute's name: `reduceat(a)` is not\n",
      "    necessarily smaller than `a`.\n",
      "    \n",
      "    Examples\n",
      "    --------\n",
      "    To take the running sum of four successive values:\n",
      "    \n",
      "    >>> np.add.reduceat(np.arange(8),[0,4, 1,5, 2,6, 3,7])[::2]\n",
      "    array([ 6, 10, 14, 18])\n",
      "    \n",
      "    A 2-D example:\n",
      "    \n",
      "    >>> x = np.linspace(0, 15, 16).reshape(4,4)\n",
      "    >>> x\n",
      "    array([[  0.,   1.,   2.,   3.],\n",
      "           [  4.,   5.,   6.,   7.],\n",
      "           [  8.,   9.,  10.,  11.],\n",
      "           [ 12.,  13.,  14.,  15.]])\n",
      "    \n",
      "    ::\n",
      "    \n",
      "     # reduce such that the result has the following five rows:\n",
      "     # [row1 + row2 + row3]\n",
      "     # [row4]\n",
      "     # [row2]\n",
      "     # [row3]\n",
      "     # [row1 + row2 + row3 + row4]\n",
      "    \n",
      "    >>> np.add.reduceat(x, [0, 3, 1, 2, 0])\n",
      "    array([[ 12.,  15.,  18.,  21.],\n",
      "           [ 12.,  13.,  14.,  15.],\n",
      "           [  4.,   5.,   6.,   7.],\n",
      "           [  8.,   9.,  10.,  11.],\n",
      "           [ 24.,  28.,  32.,  36.]])\n",
      "    \n",
      "    ::\n",
      "    \n",
      "     # reduce such that result has the following two columns:\n",
      "     # [col1 * col2 * col3, col4]\n",
      "    \n",
      "    >>> np.multiply.reduceat(x, [0, 3], 1)\n",
      "    array([[    0.,     3.],\n",
      "           [  120.,     7.],\n",
      "           [  720.,    11.],\n",
      "           [ 2184.,    15.]])\n",
      "\n"
     ]
    }
   ],
   "source": [
    "help(np.add.reduceat)"
   ]
  },
  {
   "cell_type": "code",
   "execution_count": 37,
   "metadata": {},
   "outputs": [
    {
     "data": {
      "text/plain": [
       "array([0, 1, 2, 3, 4, 5, 6, 7])"
      ]
     },
     "execution_count": 37,
     "metadata": {},
     "output_type": "execute_result"
    }
   ],
   "source": [
    "np.arange(8)"
   ]
  },
  {
   "cell_type": "code",
   "execution_count": 36,
   "metadata": {},
   "outputs": [
    {
     "data": {
      "text/plain": [
       "array([ 6,  4, 10,  5, 14,  6, 18,  7])"
      ]
     },
     "execution_count": 36,
     "metadata": {},
     "output_type": "execute_result"
    }
   ],
   "source": [
    "np.add.reduceat(np.arange(8),[0,4, 1,5, 2,6, 3,7])"
   ]
  },
  {
   "cell_type": "code",
   "execution_count": 38,
   "metadata": {},
   "outputs": [
    {
     "data": {
      "text/plain": [
       "array([ 6, 22])"
      ]
     },
     "execution_count": 38,
     "metadata": {},
     "output_type": "execute_result"
    }
   ],
   "source": [
    "np.add.reduceat(np.arange(8),[0,4])"
   ]
  },
  {
   "cell_type": "markdown",
   "metadata": {},
   "source": [
    "## 실제 값을 빼어서 처리"
   ]
  },
  {
   "cell_type": "code",
   "execution_count": 27,
   "metadata": {
    "collapsed": true
   },
   "outputs": [],
   "source": [
    "np.subtract.at(b,x,100)"
   ]
  },
  {
   "cell_type": "code",
   "execution_count": 28,
   "metadata": {},
   "outputs": [
    {
     "data": {
      "text/plain": [
       "array([  0.,   0.,   0., -99.,   0., -99., -99.,   0.,   0.,   0.])"
      ]
     },
     "execution_count": 28,
     "metadata": {},
     "output_type": "execute_result"
    }
   ],
   "source": [
    "b"
   ]
  },
  {
   "cell_type": "code",
   "execution_count": null,
   "metadata": {
    "collapsed": true
   },
   "outputs": [],
   "source": []
  }
 ],
 "metadata": {
  "kernelspec": {
   "display_name": "Python 3",
   "language": "python",
   "name": "python3"
  },
  "language_info": {
   "codemirror_mode": {
    "name": "ipython",
    "version": 3
   },
   "file_extension": ".py",
   "mimetype": "text/x-python",
   "name": "python",
   "nbconvert_exporter": "python",
   "pygments_lexer": "ipython3",
   "version": "3.6.1"
  }
 },
 "nbformat": 4,
 "nbformat_minor": 2
}
