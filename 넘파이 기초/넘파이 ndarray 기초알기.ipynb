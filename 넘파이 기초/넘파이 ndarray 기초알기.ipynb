{
 "cells": [
  {
   "cell_type": "markdown",
   "metadata": {},
   "source": [
    "## pandas, numpy \n",
    "\n",
    "pandas는 numpy 기반으로 개발되어 있지만, 복잡한 분석 작업에서 두 라이브러리를 모두 사용\n",
    "\n",
    "판다스로는 데이터를 조작하고 numpy로는 복잡한 배열연산을 수행\n",
    "\n",
    "pandas는 필터링, 선택, 그룹 등 데이터 조작에 유용, numpy는 벡터 연산에 좋음\n",
    "\n"
   ]
  },
  {
   "cell_type": "markdown",
   "metadata": {},
   "source": [
    "## 다차원 배열\n",
    "\n",
    "- 2D 그리드의 편미분방정식(PDE, Partial Differential Equation)의 전개는  3D 배열\n",
    "- 사진은 (높이, 폭, n_channels) 3D 배열 \n",
    "   ==> n_channels은 RGB, Gray(빛이 강도) 를 표시\n",
    "- 비디오는 (높이, 폭, n_channels, 지속시간) 4D배열\n",
    "\n"
   ]
  },
  {
   "cell_type": "markdown",
   "metadata": {},
   "source": [
    "## 리스트 연산 처리\n",
    "\n",
    "파이선에서 제공하는 기본 리스트 연산을 사용하면 ndarray보다 더 많은 자원을 차지하므로 성능에서 차이가 생김"
   ]
  },
  {
   "cell_type": "code",
   "execution_count": 5,
   "metadata": {
    "collapsed": false
   },
   "outputs": [
    {
     "name": "stdout",
     "output_type": "stream",
     "text": [
      "The slowest run took 33.61 times longer than the fastest. This could mean that an intermediate result is being cached.\n",
      "100000 loops, best of 3: 8.33 µs per loop\n",
      "[0.9079073715461715, 1.771522739712608, 1.108113195054369]\n"
     ]
    }
   ],
   "source": [
    "\n",
    "from random import random\n",
    "\n",
    "list_1 = [ random() for _ in range(100)]\n",
    "list_2 = [ random() for _ in range(100)]\n",
    "%timeit out = [ x+ y for (x,y) in zip(list_1, list_2)]\n",
    "print(out[:3])"
   ]
  },
  {
   "cell_type": "markdown",
   "metadata": {},
   "source": [
    "## 배열 관리 기준 (ndarray)\n",
    "\n",
    "  - 차원수 : demensions(ndim)\n",
    "  - 모양 : shape\n",
    "  - 스트라이드 : stride 확장시 가지는 영역\n",
    "        => 데이터 버퍼 내에 구성되면 원소 배열은 원소의 인덱스의 선형조합인 Strided indexing scheme을 구현\n",
    "        => 즉 스트라이드는 데이터 버퍼에서 얼마나 많은 바이트를 건너뛰면 다른 축의 데이터에 갈 수 있는 지를 알려준다\n",
    "  - 데이터 타입 : dtype\n",
    "  - 실제 데이터\n",
    "  \n",
    "  배열 원소관리 기준 :\n",
    "     메모리 버퍼에 연속적으로 있는 모든 원소에 행이나 열의 축과 연관\n",
    "     1. 행중심 : row-major order(C) ==>  c 언어\n",
    "     2. 열중심 : column-major order(F) => fortran 언어\n",
    "     "
   ]
  },
  {
   "cell_type": "code",
   "execution_count": 15,
   "metadata": {
    "collapsed": false
   },
   "outputs": [
    {
     "name": "stdout",
     "output_type": "stream",
     "text": [
      "(<type 'list'>, <type 'numpy.ndarray'>)\n",
      "1\n",
      "(100,)\n",
      "float64\n",
      "(8,)\n",
      "['T', '__abs__', '__add__', '__and__', '__array__', '__array_finalize__', '__array_interface__', '__array_prepare__', '__array_priority__', '__array_struct__', '__array_wrap__', '__class__', '__contains__', '__copy__', '__deepcopy__', '__delattr__', '__delitem__', '__delslice__', '__div__', '__divmod__', '__doc__', '__eq__', '__float__', '__floordiv__', '__format__', '__ge__', '__getattribute__', '__getitem__', '__getslice__', '__gt__', '__hash__', '__hex__', '__iadd__', '__iand__', '__idiv__', '__ifloordiv__', '__ilshift__', '__imod__', '__imul__', '__index__', '__init__', '__int__', '__invert__', '__ior__', '__ipow__', '__irshift__', '__isub__', '__iter__', '__itruediv__', '__ixor__', '__le__', '__len__', '__long__', '__lshift__', '__lt__', '__mod__', '__mul__', '__ne__', '__neg__', '__new__', '__nonzero__', '__oct__', '__or__', '__pos__', '__pow__', '__radd__', '__rand__', '__rdiv__', '__rdivmod__', '__reduce__', '__reduce_ex__', '__repr__', '__rfloordiv__', '__rlshift__', '__rmod__', '__rmul__', '__ror__', '__rpow__', '__rrshift__', '__rshift__', '__rsub__', '__rtruediv__', '__rxor__', '__setattr__', '__setitem__', '__setslice__', '__setstate__', '__sizeof__', '__str__', '__sub__', '__subclasshook__', '__truediv__', '__xor__', 'all', 'any', 'argmax', 'argmin', 'argpartition', 'argsort', 'astype', 'base', 'byteswap', 'choose', 'clip', 'compress', 'conj', 'conjugate', 'copy', 'ctypes', 'cumprod', 'cumsum', 'data', 'diagonal', 'dot', 'dtype', 'dump', 'dumps', 'fill', 'flags', 'flat', 'flatten', 'getfield', 'imag', 'item', 'itemset', 'itemsize', 'max', 'mean', 'min', 'nbytes', 'ndim', 'newbyteorder', 'nonzero', 'partition', 'prod', 'ptp', 'put', 'ravel', 'real', 'repeat', 'reshape', 'resize', 'round', 'searchsorted', 'setfield', 'setflags', 'shape', 'size', 'sort', 'squeeze', 'std', 'strides', 'sum', 'swapaxes', 'take', 'tobytes', 'tofile', 'tolist', 'tostring', 'trace', 'transpose', 'var', 'view']\n"
     ]
    }
   ],
   "source": [
    "import numpy as np\n",
    "arr1 = np.array(list_1)\n",
    "arr2 = np.array(list_2)\n",
    "print(type(list_1), type(arr1))\n",
    "print(arr1.ndim)\n",
    "print(arr1.shape)\n",
    "print(arr1.dtype)\n",
    "print(arr1.strides)\n",
    "print(dir(arr1))"
   ]
  },
  {
   "cell_type": "code",
   "execution_count": 12,
   "metadata": {
    "collapsed": false
   },
   "outputs": [
    {
     "name": "stdout",
     "output_type": "stream",
     "text": [
      "[ 0.4632161   0.4866955   0.59066162]\n"
     ]
    }
   ],
   "source": [
    "sum_arr = arr1 + arr2\n",
    "print(sum_arr[:3])"
   ]
  },
  {
   "cell_type": "markdown",
   "metadata": {},
   "source": [
    "##  배열의 생성\n",
    "\n",
    " 배열에는 고정된 데이터 타입이 있다. \n",
    " 타입을 명시할 수도 있자만 자동으로 데이터 타입을 인식할 수도 있다\n",
    "\n",
    " np.zeros : 0으로만 생성\n",
    " np.ones  : 1로만 생성 (실수형)\n",
    " np.arrange : 0 부터 정수로 표시한 부문의 갯수까지 생성\n",
    " np.linspace : 시작과 종료 범위내에서 세번째 인자갯수 만큼 배열을 만듬(정수형)\n",
    " np.array    : 인자가 주어지는 조건에 맞춰 배열을 만듬\n",
    " np.random.uniform  : 균일한 분산에 따른 무작위 값으로 배열을 생성\n",
    " "
   ]
  },
  {
   "cell_type": "code",
   "execution_count": 24,
   "metadata": {
    "collapsed": false
   },
   "outputs": [
    {
     "name": "stdout",
     "output_type": "stream",
     "text": [
      "[ 1.  1.  1.  1.  1.]\n",
      "[0 1 2 3 4]\n",
      "[ 0.    1.25  2.5   3.75  5.  ]\n",
      "[1 2 3 4 5]\n",
      "[ 0.09234744  0.67476465  0.23990579  0.61358563  0.66934256]\n"
     ]
    }
   ],
   "source": [
    "import numpy as np\n",
    "ones = np.ones(5)\n",
    "print(ones)\n",
    "\n",
    "ar_aranges = np.arange(5)\n",
    "print(ar_aranges)\n",
    "\n",
    "ar_linspace = np.linspace(0,5,5)\n",
    "print(ar_linspace)\n",
    "\n",
    "ar_nd = np.array([1,2,3,4,5])\n",
    "print(ar_nd)\n",
    "\n",
    "ar_ran = np.random.uniform(size=5)\n",
    "print(ar_ran)"
   ]
  },
  {
   "cell_type": "code",
   "execution_count": 25,
   "metadata": {
    "collapsed": false
   },
   "outputs": [
    {
     "name": "stdout",
     "output_type": "stream",
     "text": [
      "[[1 2]\n",
      " [3 4]]\n",
      "2\n",
      "(2, 2)\n"
     ]
    }
   ],
   "source": [
    "l = [[1,2],[3,4]]\n",
    "ar_nd_2 = np.array(l)\n",
    "print(ar_nd_2)\n",
    "print(ar_nd_2.ndim)\n",
    "print(ar_nd_2.shape)"
   ]
  },
  {
   "cell_type": "markdown",
   "metadata": {},
   "source": [
    "## 타입 배정하기\n",
    "  \n",
    "   dtype 을 배정하기"
   ]
  },
  {
   "cell_type": "code",
   "execution_count": 26,
   "metadata": {
    "collapsed": false
   },
   "outputs": [
    {
     "name": "stdout",
     "output_type": "stream",
     "text": [
      "[1 1 1 1 1]\n",
      "int64\n"
     ]
    }
   ],
   "source": [
    "dt_ones = np.ones(5, dtype=np.int64)\n",
    "print(dt_ones)\n",
    "print(dt_ones.dtype)"
   ]
  },
  {
   "cell_type": "markdown",
   "metadata": {},
   "source": [
    "## Pandas와 numpy 비교\n",
    "\n",
    "pandas.Series 는 1D numpy\n",
    "pandas.DataFrame은 2D numpy\n",
    "pandas.Panel 은 3D numpy\n",
    "\n",
    "pandas.DataFrame.values는 DataFrame을 ndarray로 변환해서 \n"
   ]
  },
  {
   "cell_type": "code",
   "execution_count": 1,
   "metadata": {
    "collapsed": false
   },
   "outputs": [
    {
     "ename": "ImportError",
     "evalue": "Missing required dependencies ['numpy']",
     "output_type": "error",
     "traceback": [
      "\u001b[0;31m---------------------------------------------------------------------------\u001b[0m",
      "\u001b[0;31mImportError\u001b[0m                               Traceback (most recent call last)",
      "\u001b[0;32m<ipython-input-1-4d8506e531a9>\u001b[0m in \u001b[0;36m<module>\u001b[0;34m()\u001b[0m\n\u001b[0;32m----> 1\u001b[0;31m \u001b[1;32mimport\u001b[0m \u001b[0mpandas\u001b[0m \u001b[1;32mas\u001b[0m \u001b[0mpd\u001b[0m\u001b[1;33m\u001b[0m\u001b[0m\n\u001b[0m\u001b[1;32m      2\u001b[0m \u001b[0mdata\u001b[0m \u001b[1;33m=\u001b[0m \u001b[0mpd\u001b[0m\u001b[1;33m.\u001b[0m\u001b[0mread_csv\u001b[0m\u001b[1;33m(\u001b[0m\u001b[1;34m\"data/nyc_data.csv\"\u001b[0m\u001b[1;33m)\u001b[0m\u001b[1;33m\u001b[0m\u001b[0m\n\u001b[1;32m      3\u001b[0m \u001b[0mpickup\u001b[0m \u001b[1;33m=\u001b[0m \u001b[0mdata\u001b[0m\u001b[1;33m[\u001b[0m\u001b[1;33m[\u001b[0m\u001b[1;34m'pickup_longitude'\u001b[0m\u001b[1;33m,\u001b[0m \u001b[1;34m'pickup_latitude'\u001b[0m\u001b[1;33m]\u001b[0m\u001b[1;33m]\u001b[0m\u001b[1;33m.\u001b[0m\u001b[0mvalues\u001b[0m\u001b[1;33m\u001b[0m\u001b[0m\n\u001b[1;32m      4\u001b[0m \u001b[0mprint\u001b[0m\u001b[1;33m(\u001b[0m\u001b[0mtype\u001b[0m\u001b[1;33m(\u001b[0m\u001b[0mpickup\u001b[0m\u001b[1;33m)\u001b[0m\u001b[1;33m)\u001b[0m\u001b[1;33m\u001b[0m\u001b[0m\n\u001b[1;32m      5\u001b[0m \u001b[0mprint\u001b[0m\u001b[1;33m(\u001b[0m\u001b[0mpickup\u001b[0m\u001b[1;33m.\u001b[0m\u001b[0mshape\u001b[0m\u001b[1;33m)\u001b[0m\u001b[1;33m\u001b[0m\u001b[0m\n",
      "\u001b[0;32mC:\\ProgramData\\Anaconda3\\lib\\site-packages\\pandas\\__init__.py\u001b[0m in \u001b[0;36m<module>\u001b[0;34m()\u001b[0m\n\u001b[1;32m     16\u001b[0m \u001b[1;33m\u001b[0m\u001b[0m\n\u001b[1;32m     17\u001b[0m \u001b[1;32mif\u001b[0m \u001b[0mmissing_dependencies\u001b[0m\u001b[1;33m:\u001b[0m\u001b[1;33m\u001b[0m\u001b[0m\n\u001b[0;32m---> 18\u001b[0;31m     \u001b[1;32mraise\u001b[0m \u001b[0mImportError\u001b[0m\u001b[1;33m(\u001b[0m\u001b[1;34m\"Missing required dependencies {0}\"\u001b[0m\u001b[1;33m.\u001b[0m\u001b[0mformat\u001b[0m\u001b[1;33m(\u001b[0m\u001b[0mmissing_dependencies\u001b[0m\u001b[1;33m)\u001b[0m\u001b[1;33m)\u001b[0m\u001b[1;33m\u001b[0m\u001b[0m\n\u001b[0m\u001b[1;32m     19\u001b[0m \u001b[1;32mdel\u001b[0m \u001b[0mhard_dependencies\u001b[0m\u001b[1;33m,\u001b[0m \u001b[0mdependency\u001b[0m\u001b[1;33m,\u001b[0m \u001b[0mmissing_dependencies\u001b[0m\u001b[1;33m\u001b[0m\u001b[0m\n\u001b[1;32m     20\u001b[0m \u001b[1;33m\u001b[0m\u001b[0m\n",
      "\u001b[0;31mImportError\u001b[0m: Missing required dependencies ['numpy']"
     ]
    }
   ],
   "source": [
    "import pandas as pd\n",
    "data = pd.read_csv(\"data/nyc_data.csv\")\n",
    "pickup = data[['pickup_longitude', 'pickup_latitude']].values\n",
    "print(type(pickup))\n",
    "print(pickup.shape)"
   ]
  },
  {
   "cell_type": "markdown",
   "metadata": {},
   "source": [
    "## 배열 차원을 바꾸기\n",
    "\n",
    "reshape 매소드를 이용해서 차원 변경을 하지만 차원변경시 새로운 ndarray가 생김\n",
    "   주의할 사항: 전체의 원소에 맞춰 차원이 바꿔야 한다. 1차원에서 10개이면 2차원은 (2,5)로 변환되어야 전체 원소가 10개임\n",
    "\n",
    "   reshape(1,-1) : -1은 자동으로 축을 결정하라는 것"
   ]
  },
  {
   "cell_type": "code",
   "execution_count": 10,
   "metadata": {
    "collapsed": false
   },
   "outputs": [
    {
     "name": "stdout",
     "output_type": "stream",
     "text": [
      "[ 1  2  3  4  5  6  7  8  9 10]\n",
      "(10,)\n",
      "1\n",
      "(1, 10)\n",
      "2\n",
      "(2, 5)\n",
      "2\n"
     ]
    }
   ],
   "source": [
    "import numpy as np\n",
    "x = np.arange(1,11)\n",
    "print(x)\n",
    "print(x.shape)\n",
    "print(x.ndim)\n",
    "y = x.reshape(1,-1)\n",
    "print(y.shape)\n",
    "print(y.ndim)\n",
    "\n",
    "z = x.reshape(2,5)\n",
    "print(z.shape)\n",
    "print(z.ndim)"
   ]
  },
  {
   "cell_type": "code",
   "execution_count": 11,
   "metadata": {
    "collapsed": false
   },
   "outputs": [
    {
     "name": "stdout",
     "output_type": "stream",
     "text": [
      "[[ 1  2  3  4  5]\n",
      " [ 6  7  8  9 10]]\n"
     ]
    }
   ],
   "source": [
    "print(z)"
   ]
  },
  {
   "cell_type": "markdown",
   "metadata": {},
   "source": [
    "## matrix 계산하기\n",
    "\n",
    " np.dot : 매트릭스 곱\n",
    " +, *, -, / :  배열의 원소끼리 계산"
   ]
  },
  {
   "cell_type": "code",
   "execution_count": 18,
   "metadata": {
    "collapsed": false
   },
   "outputs": [
    {
     "name": "stdout",
     "output_type": "stream",
     "text": [
      "None\n",
      "[[ 1]\n",
      " [ 2]\n",
      " [ 3]\n",
      " [ 4]\n",
      " [ 5]\n",
      " [ 6]\n",
      " [ 7]\n",
      " [ 8]\n",
      " [ 9]\n",
      " [10]]\n",
      "(10, 1)\n",
      "(1, 10)\n",
      "[[  1   2   3   4   5   6   7   8   9  10]\n",
      " [  2   4   6   8  10  12  14  16  18  20]\n",
      " [  3   6   9  12  15  18  21  24  27  30]\n",
      " [  4   8  12  16  20  24  28  32  36  40]\n",
      " [  5  10  15  20  25  30  35  40  45  50]\n",
      " [  6  12  18  24  30  36  42  48  54  60]\n",
      " [  7  14  21  28  35  42  49  56  63  70]\n",
      " [  8  16  24  32  40  48  56  64  72  80]\n",
      " [  9  18  27  36  45  54  63  72  81  90]\n",
      " [ 10  20  30  40  50  60  70  80  90 100]]\n"
     ]
    }
   ],
   "source": [
    "x_row = x.reshape((1,-1))\n",
    "x_col = x[:,np.newaxis]\n",
    "print(np.newaxis)\n",
    "print(x_col)\n",
    "\n",
    "print(x_col.shape)\n",
    "print(x_row.shape)\n",
    "\n",
    "print(np.dot(x_col,x_row))"
   ]
  },
  {
   "cell_type": "code",
   "execution_count": 19,
   "metadata": {
    "collapsed": false
   },
   "outputs": [
    {
     "name": "stdout",
     "output_type": "stream",
     "text": [
      "[[ 2  4  6  8 10 12 14 16 18 20]]\n",
      "[[  1   4   9  16  25  36  49  64  81 100]]\n"
     ]
    }
   ],
   "source": [
    "print(x_row + x_row)\n",
    "print(x_row * x_row)"
   ]
  },
  {
   "cell_type": "markdown",
   "metadata": {},
   "source": [
    "## broadcast처리\n",
    "\n",
    "배열 계산시 2개의 행과 열을 같이 만들어 원서끼리 계산하도록 만듬"
   ]
  },
  {
   "cell_type": "code",
   "execution_count": 20,
   "metadata": {
    "collapsed": false
   },
   "outputs": [
    {
     "data": {
      "text/plain": [
       "array([[  1,   2,   3,   4,   5,   6,   7,   8,   9,  10],\n",
       "       [  2,   4,   6,   8,  10,  12,  14,  16,  18,  20],\n",
       "       [  3,   6,   9,  12,  15,  18,  21,  24,  27,  30],\n",
       "       [  4,   8,  12,  16,  20,  24,  28,  32,  36,  40],\n",
       "       [  5,  10,  15,  20,  25,  30,  35,  40,  45,  50],\n",
       "       [  6,  12,  18,  24,  30,  36,  42,  48,  54,  60],\n",
       "       [  7,  14,  21,  28,  35,  42,  49,  56,  63,  70],\n",
       "       [  8,  16,  24,  32,  40,  48,  56,  64,  72,  80],\n",
       "       [  9,  18,  27,  36,  45,  54,  63,  72,  81,  90],\n",
       "       [ 10,  20,  30,  40,  50,  60,  70,  80,  90, 100]])"
      ]
     },
     "execution_count": 20,
     "metadata": {},
     "output_type": "execute_result"
    }
   ],
   "source": [
    "x_row * x_col"
   ]
  },
  {
   "cell_type": "code",
   "execution_count": 21,
   "metadata": {
    "collapsed": false
   },
   "outputs": [
    {
     "name": "stdout",
     "output_type": "stream",
     "text": [
      "40.755081\n"
     ]
    }
   ],
   "source": [
    "print(pickup[3,1])"
   ]
  },
  {
   "cell_type": "code",
   "execution_count": 24,
   "metadata": {
    "collapsed": false
   },
   "outputs": [
    {
     "name": "stdout",
     "output_type": "stream",
     "text": [
      "[ 40.781887  40.745735  40.79977 ]\n",
      "(3,)\n"
     ]
    }
   ],
   "source": [
    "xxx = pickup[:3,1]\n",
    "print(xxx)\n",
    "print(xxx.shape)"
   ]
  },
  {
   "cell_type": "code",
   "execution_count": 25,
   "metadata": {
    "collapsed": false
   },
   "outputs": [
    {
     "name": "stdout",
     "output_type": "stream",
     "text": [
      "[[-73.955925  40.781887]\n",
      " [-74.005501  40.745735]\n",
      " [-73.969955  40.79977 ]]\n",
      "(3, 2)\n"
     ]
    }
   ],
   "source": [
    "yyy = pickup[:3]\n",
    "print(yyy)\n",
    "print(yyy.shape)"
   ]
  },
  {
   "cell_type": "code",
   "execution_count": 45,
   "metadata": {
    "collapsed": false
   },
   "outputs": [
    {
     "name": "stdout",
     "output_type": "stream",
     "text": [
      "[-73.955925 -74.005501 -73.969955 ..., -73.993492 -73.978477 -73.987206]\n"
     ]
    },
    {
     "ename": "AttributeError",
     "evalue": "'numpy.ndarray' object has no attribute 'describes'",
     "output_type": "error",
     "traceback": [
      "\u001b[0;31m---------------------------------------------------------------------------\u001b[0m",
      "\u001b[0;31mAttributeError\u001b[0m                            Traceback (most recent call last)",
      "\u001b[0;32m<ipython-input-45-629c0652afa3>\u001b[0m in \u001b[0;36m<module>\u001b[0;34m()\u001b[0m\n\u001b[1;32m      1\u001b[0m \u001b[0mlon\u001b[0m \u001b[0;34m=\u001b[0m \u001b[0mpickup\u001b[0m\u001b[0;34m[\u001b[0m\u001b[0;34m:\u001b[0m\u001b[0;34m,\u001b[0m\u001b[0;36m0\u001b[0m\u001b[0;34m]\u001b[0m \u001b[0;31m# doctest Ellipsis\u001b[0m\u001b[0;34m\u001b[0m\u001b[0m\n\u001b[1;32m      2\u001b[0m \u001b[0;32mprint\u001b[0m\u001b[0;34m(\u001b[0m\u001b[0mlon\u001b[0m\u001b[0;34m)\u001b[0m\u001b[0;34m\u001b[0m\u001b[0m\n\u001b[0;32m----> 3\u001b[0;31m \u001b[0;32mprint\u001b[0m\u001b[0;34m(\u001b[0m\u001b[0mlon\u001b[0m\u001b[0;34m.\u001b[0m\u001b[0mdescribes\u001b[0m\u001b[0;34m(\u001b[0m\u001b[0;34m)\u001b[0m\u001b[0;34m)\u001b[0m\u001b[0;34m\u001b[0m\u001b[0m\n\u001b[0m\u001b[1;32m      4\u001b[0m \u001b[0;34m\u001b[0m\u001b[0m\n\u001b[1;32m      5\u001b[0m \u001b[0mlat\u001b[0m \u001b[0;34m=\u001b[0m \u001b[0mpickup\u001b[0m\u001b[0;34m[\u001b[0m\u001b[0;34m:\u001b[0m\u001b[0;34m,\u001b[0m\u001b[0;36m1\u001b[0m\u001b[0;34m]\u001b[0m\u001b[0;34m\u001b[0m\u001b[0m\n",
      "\u001b[0;31mAttributeError\u001b[0m: 'numpy.ndarray' object has no attribute 'describes'"
     ]
    }
   ],
   "source": [
    "lon = pickup[:,0] # doctest Ellipsis\n",
    "print(lon)\n",
    "\n",
    "lat = pickup[:,1]\n",
    "print(lat)"
   ]
  },
  {
   "cell_type": "code",
   "execution_count": 28,
   "metadata": {
    "collapsed": false
   },
   "outputs": [
    {
     "name": "stdout",
     "output_type": "stream",
     "text": [
      "[[-73.955925  40.781887]\n",
      " [-74.005501  40.745735]\n",
      " [-73.969955  40.79977 ]\n",
      " ..., \n",
      " [-73.993492  40.729347]\n",
      " [-73.978477  40.772945]\n",
      " [-73.987206  40.750568]]\n"
     ]
    }
   ],
   "source": [
    "lon2 = pickup[:,:]\n",
    "print(lon2)"
   ]
  },
  {
   "cell_type": "markdown",
   "metadata": {},
   "source": [
    "## 불리언 연산\n",
    "\n",
    "numpy 불리언연산을 처리하면 논리 표현으로 표현한다.\n",
    "\n",
    "python에서는 True는 1, False는 0으로 인식되므로 합산시 숫자로 처리가 가능"
   ]
  },
  {
   "cell_type": "code",
   "execution_count": 56,
   "metadata": {
    "collapsed": false
   },
   "outputs": [
    {
     "name": "stdout",
     "output_type": "stream",
     "text": [
      "(-73.9833, -73.98025)\n",
      "(40.76724, 40.76871)\n"
     ]
    }
   ],
   "source": [
    "lon_min, lon_max = min(lon), max(lon)\n",
    "lat_min, lat_max = min(lat), max(lat)\n",
    "\n",
    "lon_min, lon_max = -73.98330, -73.98025\n",
    "lat_min, lat_max =  40.76724, 40.76871\n",
    "print(lon_min, lon_max)\n",
    "print(lat_min, lat_max)"
   ]
  },
  {
   "cell_type": "code",
   "execution_count": 57,
   "metadata": {
    "collapsed": false
   },
   "outputs": [
    {
     "name": "stdout",
     "output_type": "stream",
     "text": [
      "[False False False ..., False False False]\n"
     ]
    }
   ],
   "source": [
    "in_lon = (lon_min <= lon) & (lon <= lon_max)\n",
    "print(in_lon)"
   ]
  },
  {
   "cell_type": "code",
   "execution_count": 58,
   "metadata": {
    "collapsed": false
   },
   "outputs": [
    {
     "data": {
      "text/plain": [
       "69163"
      ]
     },
     "execution_count": 58,
     "metadata": {},
     "output_type": "execute_result"
    }
   ],
   "source": [
    "in_lon.sum()"
   ]
  },
  {
   "cell_type": "code",
   "execution_count": 59,
   "metadata": {
    "collapsed": false
   },
   "outputs": [
    {
     "name": "stdout",
     "output_type": "stream",
     "text": [
      "[False False False ..., False False False]\n",
      "16110\n"
     ]
    }
   ],
   "source": [
    "in_lat = (lat_min <= lat) & (lat <= lat_max)\n",
    "print(in_lat)\n",
    "print(in_lat.sum())"
   ]
  },
  {
   "cell_type": "code",
   "execution_count": 60,
   "metadata": {
    "collapsed": false
   },
   "outputs": [
    {
     "name": "stdout",
     "output_type": "stream",
     "text": [
      "[False False False ..., False False False]\n",
      "3998\n"
     ]
    }
   ],
   "source": [
    "in_lonlat = in_lon & in_lat\n",
    "print(in_lonlat)\n",
    "print(in_lonlat.sum())"
   ]
  },
  {
   "cell_type": "code",
   "execution_count": 64,
   "metadata": {
    "collapsed": false
   },
   "outputs": [
    {
     "name": "stdout",
     "output_type": "stream",
     "text": [
      "[   901   1011   1066 ..., 845749 845903 846080]\n",
      "<type 'tuple'>\n",
      "(array([   901,   1011,   1066, ..., 845749, 845903, 846080]),)\n"
     ]
    }
   ],
   "source": [
    "# np.nonzero()는 non zero 값만 추출해서 tuple로 보관\n",
    "non_lonlat = np.nonzero(in_lonlat)\n",
    "print(non_lonlat[0])\n",
    "print(type(non_lonlat))\n",
    "print(non_lonlat)"
   ]
  },
  {
   "cell_type": "code",
   "execution_count": null,
   "metadata": {
    "collapsed": true
   },
   "outputs": [],
   "source": []
  }
 ],
 "metadata": {
  "kernelspec": {
   "display_name": "Python 3",
   "language": "python",
   "name": "python3"
  },
  "language_info": {
   "codemirror_mode": {
    "name": "ipython",
    "version": 3
   },
   "file_extension": ".py",
   "mimetype": "text/x-python",
   "name": "python",
   "nbconvert_exporter": "python",
   "pygments_lexer": "ipython3",
   "version": "3.6.0"
  }
 },
 "nbformat": 4,
 "nbformat_minor": 0
}
