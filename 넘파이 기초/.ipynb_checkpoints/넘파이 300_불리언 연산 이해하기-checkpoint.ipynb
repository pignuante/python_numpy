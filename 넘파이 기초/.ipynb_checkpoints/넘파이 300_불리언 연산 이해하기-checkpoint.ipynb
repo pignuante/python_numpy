{
 "cells": [
  {
   "cell_type": "markdown",
   "metadata": {},
   "source": [
    "## 불리언 연산\n",
    "\n",
    "numpy 불리언연산을 처리하면 논리 표현으로 표현한다.\n",
    "\n",
    "python에서는 True는 1, False는 0으로 인식되므로 합산시 숫자로 처리가 가능"
   ]
  },
  {
   "cell_type": "code",
   "execution_count": 56,
   "metadata": {},
   "outputs": [
    {
     "name": "stdout",
     "output_type": "stream",
     "text": [
      "(-73.9833, -73.98025)\n",
      "(40.76724, 40.76871)\n"
     ]
    }
   ],
   "source": [
    "lon_min, lon_max = min(lon), max(lon)\n",
    "lat_min, lat_max = min(lat), max(lat)\n",
    "\n",
    "lon_min, lon_max = -73.98330, -73.98025\n",
    "lat_min, lat_max =  40.76724, 40.76871\n",
    "print(lon_min, lon_max)\n",
    "print(lat_min, lat_max)"
   ]
  },
  {
   "cell_type": "code",
   "execution_count": 57,
   "metadata": {},
   "outputs": [
    {
     "name": "stdout",
     "output_type": "stream",
     "text": [
      "[False False False ..., False False False]\n"
     ]
    }
   ],
   "source": [
    "in_lon = (lon_min <= lon) & (lon <= lon_max)\n",
    "print(in_lon)"
   ]
  },
  {
   "cell_type": "code",
   "execution_count": 58,
   "metadata": {},
   "outputs": [
    {
     "data": {
      "text/plain": [
       "69163"
      ]
     },
     "execution_count": 58,
     "metadata": {},
     "output_type": "execute_result"
    }
   ],
   "source": [
    "in_lon.sum()"
   ]
  },
  {
   "cell_type": "code",
   "execution_count": 59,
   "metadata": {},
   "outputs": [
    {
     "name": "stdout",
     "output_type": "stream",
     "text": [
      "[False False False ..., False False False]\n",
      "16110\n"
     ]
    }
   ],
   "source": [
    "in_lat = (lat_min <= lat) & (lat <= lat_max)\n",
    "print(in_lat)\n",
    "print(in_lat.sum())"
   ]
  },
  {
   "cell_type": "code",
   "execution_count": 60,
   "metadata": {},
   "outputs": [
    {
     "name": "stdout",
     "output_type": "stream",
     "text": [
      "[False False False ..., False False False]\n",
      "3998\n"
     ]
    }
   ],
   "source": [
    "in_lonlat = in_lon & in_lat\n",
    "print(in_lonlat)\n",
    "print(in_lonlat.sum())"
   ]
  },
  {
   "cell_type": "code",
   "execution_count": 64,
   "metadata": {},
   "outputs": [
    {
     "name": "stdout",
     "output_type": "stream",
     "text": [
      "[   901   1011   1066 ..., 845749 845903 846080]\n",
      "<type 'tuple'>\n",
      "(array([   901,   1011,   1066, ..., 845749, 845903, 846080]),)\n"
     ]
    }
   ],
   "source": [
    "# np.nonzero()는 non zero 값만 추출해서 tuple로 보관\n",
    "non_lonlat = np.nonzero(in_lonlat)\n",
    "print(non_lonlat[0])\n",
    "print(type(non_lonlat))\n",
    "print(non_lonlat)"
   ]
  },
  {
   "cell_type": "code",
   "execution_count": 1,
   "metadata": {},
   "outputs": [
    {
     "name": "stdout",
     "output_type": "stream",
     "text": [
      "[[ True False False  True  True]\n",
      " [False False False False  True]\n",
      " [ True  True  True  True  True]\n",
      " [ True  True False False False]\n",
      " [False False False False  True]]\n",
      "[False False False False False]\n",
      "False\n"
     ]
    }
   ],
   "source": [
    "import numpy as np\n",
    "arr = np.random.randn(5,5)\n",
    "arr1 = np.random.randn(5,5)\n",
    "print(arr < arr1)\n",
    "\n",
    "print(np.logical_and.reduce(arr < arr1))\n",
    "\n",
    "print((arr < arr1).all())"
   ]
  },
  {
   "cell_type": "code",
   "execution_count": null,
   "metadata": {
    "collapsed": true
   },
   "outputs": [],
   "source": []
  }
 ],
 "metadata": {
  "kernelspec": {
   "display_name": "Python 3",
   "language": "python",
   "name": "python3"
  },
  "language_info": {
   "codemirror_mode": {
    "name": "ipython",
    "version": 3
   },
   "file_extension": ".py",
   "mimetype": "text/x-python",
   "name": "python",
   "nbconvert_exporter": "python",
   "pygments_lexer": "ipython3",
   "version": "3.6.1"
  }
 },
 "nbformat": 4,
 "nbformat_minor": 1
}
