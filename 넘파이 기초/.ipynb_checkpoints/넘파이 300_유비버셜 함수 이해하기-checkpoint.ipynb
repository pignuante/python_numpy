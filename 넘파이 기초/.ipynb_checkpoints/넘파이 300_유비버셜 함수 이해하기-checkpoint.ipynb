{
 "cells": [
  {
   "cell_type": "code",
   "execution_count": 1,
   "metadata": {
    "collapsed": true
   },
   "outputs": [],
   "source": [
    "import numpy as np"
   ]
  },
  {
   "cell_type": "markdown",
   "metadata": {},
   "source": [
    "# 유니버셜 함수란?"
   ]
  },
  {
   "cell_type": "markdown",
   "metadata": {},
   "source": [
    "### 넘파이 모듈 내의 ufunc 클래스의 함수를 기반으로 생성된 함수를 말한다.\n",
    "\n",
    "    실제 배열 내의 원소별로 계산할 수 있도록 브로드캐스팅 및 벡터화 처리한다."
   ]
  },
  {
   "cell_type": "code",
   "execution_count": 2,
   "metadata": {},
   "outputs": [
    {
     "data": {
      "text/plain": [
       "numpy.ufunc"
      ]
     },
     "execution_count": 2,
     "metadata": {},
     "output_type": "execute_result"
    }
   ],
   "source": [
    "np.ufunc"
   ]
  },
  {
   "cell_type": "code",
   "execution_count": 3,
   "metadata": {},
   "outputs": [
    {
     "data": {
      "text/plain": [
       "['__call__',\n",
       " '__class__',\n",
       " '__delattr__',\n",
       " '__dir__',\n",
       " '__doc__',\n",
       " '__eq__',\n",
       " '__format__',\n",
       " '__ge__',\n",
       " '__getattribute__',\n",
       " '__gt__',\n",
       " '__hash__',\n",
       " '__init__',\n",
       " '__init_subclass__',\n",
       " '__le__',\n",
       " '__lt__',\n",
       " '__name__',\n",
       " '__ne__',\n",
       " '__new__',\n",
       " '__reduce__',\n",
       " '__reduce_ex__',\n",
       " '__repr__',\n",
       " '__setattr__',\n",
       " '__sizeof__',\n",
       " '__str__',\n",
       " '__subclasshook__',\n",
       " 'accumulate',\n",
       " 'at',\n",
       " 'identity',\n",
       " 'nargs',\n",
       " 'nin',\n",
       " 'nout',\n",
       " 'ntypes',\n",
       " 'outer',\n",
       " 'reduce',\n",
       " 'reduceat',\n",
       " 'signature',\n",
       " 'types']"
      ]
     },
     "execution_count": 3,
     "metadata": {},
     "output_type": "execute_result"
    }
   ],
   "source": [
    "dir(np.ufunc)"
   ]
  },
  {
   "cell_type": "markdown",
   "metadata": {},
   "source": [
    "## 일반 함수와 유니버셜 함수의 차이\n",
    "\n",
    "    유니버셜 함수는 배열을 계산하기 위해 for문이 없이 벡터화 연산이 처리가 된다."
   ]
  },
  {
   "cell_type": "markdown",
   "metadata": {},
   "source": [
    "### 일반함수"
   ]
  },
  {
   "cell_type": "code",
   "execution_count": 4,
   "metadata": {},
   "outputs": [
    {
     "data": {
      "text/plain": [
       "<function numpy.core.fromnumeric.sum>"
      ]
     },
     "execution_count": 4,
     "metadata": {},
     "output_type": "execute_result"
    }
   ],
   "source": [
    "np.sum"
   ]
  },
  {
   "cell_type": "code",
   "execution_count": 5,
   "metadata": {},
   "outputs": [
    {
     "data": {
      "text/plain": [
       "function"
      ]
     },
     "execution_count": 5,
     "metadata": {},
     "output_type": "execute_result"
    }
   ],
   "source": [
    "type(np.sum)"
   ]
  },
  {
   "cell_type": "markdown",
   "metadata": {},
   "source": [
    "### 유니버셜 함수 "
   ]
  },
  {
   "cell_type": "code",
   "execution_count": 6,
   "metadata": {},
   "outputs": [
    {
     "data": {
      "text/plain": [
       "<ufunc 'add'>"
      ]
     },
     "execution_count": 6,
     "metadata": {},
     "output_type": "execute_result"
    }
   ],
   "source": [
    "np.add"
   ]
  },
  {
   "cell_type": "code",
   "execution_count": 7,
   "metadata": {},
   "outputs": [
    {
     "data": {
      "text/plain": [
       "numpy.ufunc"
      ]
     },
     "execution_count": 7,
     "metadata": {},
     "output_type": "execute_result"
    }
   ],
   "source": [
    "type(np.add)"
   ]
  },
  {
   "cell_type": "markdown",
   "metadata": {},
   "source": [
    "## 유니버셜 함수에는 특별한 내부 메소드들이 존재한다."
   ]
  },
  {
   "cell_type": "code",
   "execution_count": 9,
   "metadata": {
    "collapsed": true
   },
   "outputs": [],
   "source": [
    "for i in dir(np.sum) :\n",
    "    if not i.startswith(\"_\") :\n",
    "        print(i)"
   ]
  },
  {
   "cell_type": "code",
   "execution_count": 8,
   "metadata": {},
   "outputs": [
    {
     "name": "stdout",
     "output_type": "stream",
     "text": [
      "accumulate\n",
      "at\n",
      "identity\n",
      "nargs\n",
      "nin\n",
      "nout\n",
      "ntypes\n",
      "outer\n",
      "reduce\n",
      "reduceat\n",
      "signature\n",
      "types\n"
     ]
    }
   ],
   "source": [
    "for i in dir(np.add) :\n",
    "    if not i.startswith(\"_\") :\n",
    "        print(i)"
   ]
  },
  {
   "cell_type": "markdown",
   "metadata": {},
   "source": [
    "## 배열에 대한 덧셈을 할 경우 유니버셜함수는 원소로 배열을 받는다."
   ]
  },
  {
   "cell_type": "code",
   "execution_count": 10,
   "metadata": {
    "collapsed": true
   },
   "outputs": [],
   "source": [
    "a = np.array([1,2,3])"
   ]
  },
  {
   "cell_type": "code",
   "execution_count": 11,
   "metadata": {},
   "outputs": [
    {
     "data": {
      "text/plain": [
       "array([2, 4, 6])"
      ]
     },
     "execution_count": 11,
     "metadata": {},
     "output_type": "execute_result"
    }
   ],
   "source": [
    "np.add(a,a)"
   ]
  },
  {
   "cell_type": "markdown",
   "metadata": {},
   "source": [
    "### 축의 차원에 따라 reduce 처리가 가능"
   ]
  },
  {
   "cell_type": "code",
   "execution_count": 21,
   "metadata": {},
   "outputs": [
    {
     "name": "stdout",
     "output_type": "stream",
     "text": [
      "Help on built-in function reduce:\n",
      "\n",
      "reduce(...) method of numpy.ufunc instance\n",
      "    reduce(a, axis=0, dtype=None, out=None, keepdims=False)\n",
      "    \n",
      "    Reduces `a`'s dimension by one, by applying ufunc along one axis.\n",
      "    \n",
      "    Let :math:`a.shape = (N_0, ..., N_i, ..., N_{M-1})`.  Then\n",
      "    :math:`ufunc.reduce(a, axis=i)[k_0, ..,k_{i-1}, k_{i+1}, .., k_{M-1}]` =\n",
      "    the result of iterating `j` over :math:`range(N_i)`, cumulatively applying\n",
      "    ufunc to each :math:`a[k_0, ..,k_{i-1}, j, k_{i+1}, .., k_{M-1}]`.\n",
      "    For a one-dimensional array, reduce produces results equivalent to:\n",
      "    ::\n",
      "    \n",
      "     r = op.identity # op = ufunc\n",
      "     for i in range(len(A)):\n",
      "       r = op(r, A[i])\n",
      "     return r\n",
      "    \n",
      "    For example, add.reduce() is equivalent to sum().\n",
      "    \n",
      "    Parameters\n",
      "    ----------\n",
      "    a : array_like\n",
      "        The array to act on.\n",
      "    axis : None or int or tuple of ints, optional\n",
      "        Axis or axes along which a reduction is performed.\n",
      "        The default (`axis` = 0) is perform a reduction over the first\n",
      "        dimension of the input array. `axis` may be negative, in\n",
      "        which case it counts from the last to the first axis.\n",
      "    \n",
      "        .. versionadded:: 1.7.0\n",
      "    \n",
      "        If this is `None`, a reduction is performed over all the axes.\n",
      "        If this is a tuple of ints, a reduction is performed on multiple\n",
      "        axes, instead of a single axis or all the axes as before.\n",
      "    \n",
      "        For operations which are either not commutative or not associative,\n",
      "        doing a reduction over multiple axes is not well-defined. The\n",
      "        ufuncs do not currently raise an exception in this case, but will\n",
      "        likely do so in the future.\n",
      "    dtype : data-type code, optional\n",
      "        The type used to represent the intermediate results. Defaults\n",
      "        to the data-type of the output array if this is provided, or\n",
      "        the data-type of the input array if no output array is provided.\n",
      "    out : ndarray, None, or tuple of ndarray and None, optional\n",
      "        A location into which the result is stored. If not provided or `None`,\n",
      "        a freshly-allocated array is returned. For consistency with\n",
      "        :ref:`ufunc.__call__`, if given as a keyword, this may be wrapped in a\n",
      "        1-element tuple.\n",
      "    \n",
      "        .. versionchanged:: 1.13.0\n",
      "           Tuples are allowed for keyword argument.\n",
      "    keepdims : bool, optional\n",
      "        If this is set to True, the axes which are reduced are left\n",
      "        in the result as dimensions with size one. With this option,\n",
      "        the result will broadcast correctly against the original `arr`.\n",
      "    \n",
      "        .. versionadded:: 1.7.0\n",
      "    \n",
      "    Returns\n",
      "    -------\n",
      "    r : ndarray\n",
      "        The reduced array. If `out` was supplied, `r` is a reference to it.\n",
      "    \n",
      "    Examples\n",
      "    --------\n",
      "    >>> np.multiply.reduce([2,3,5])\n",
      "    30\n",
      "    \n",
      "    A multi-dimensional array example:\n",
      "    \n",
      "    >>> X = np.arange(8).reshape((2,2,2))\n",
      "    >>> X\n",
      "    array([[[0, 1],\n",
      "            [2, 3]],\n",
      "           [[4, 5],\n",
      "            [6, 7]]])\n",
      "    >>> np.add.reduce(X, 0)\n",
      "    array([[ 4,  6],\n",
      "           [ 8, 10]])\n",
      "    >>> np.add.reduce(X) # confirm: default axis value is 0\n",
      "    array([[ 4,  6],\n",
      "           [ 8, 10]])\n",
      "    >>> np.add.reduce(X, 1)\n",
      "    array([[ 2,  4],\n",
      "           [10, 12]])\n",
      "    >>> np.add.reduce(X, 2)\n",
      "    array([[ 1,  5],\n",
      "           [ 9, 13]])\n",
      "\n"
     ]
    }
   ],
   "source": [
    "help(np.add.reduce)"
   ]
  },
  {
   "cell_type": "code",
   "execution_count": 17,
   "metadata": {},
   "outputs": [
    {
     "data": {
      "text/plain": [
       "6"
      ]
     },
     "execution_count": 17,
     "metadata": {},
     "output_type": "execute_result"
    }
   ],
   "source": [
    "np.add.reduce(a)"
   ]
  },
  {
   "cell_type": "code",
   "execution_count": 22,
   "metadata": {
    "collapsed": true
   },
   "outputs": [],
   "source": [
    "X = np.arange(8).reshape((2,2,2))"
   ]
  },
  {
   "cell_type": "code",
   "execution_count": 23,
   "metadata": {},
   "outputs": [
    {
     "data": {
      "text/plain": [
       "array([[ 4,  6],\n",
       "       [ 8, 10]])"
      ]
     },
     "execution_count": 23,
     "metadata": {},
     "output_type": "execute_result"
    }
   ],
   "source": [
    "np.add.reduce(X,0)"
   ]
  },
  {
   "cell_type": "code",
   "execution_count": 24,
   "metadata": {},
   "outputs": [
    {
     "data": {
      "text/plain": [
       "array([[ 2,  4],\n",
       "       [10, 12]])"
      ]
     },
     "execution_count": 24,
     "metadata": {},
     "output_type": "execute_result"
    }
   ],
   "source": [
    "np.add.reduce(X,1)"
   ]
  },
  {
   "cell_type": "code",
   "execution_count": 25,
   "metadata": {},
   "outputs": [
    {
     "data": {
      "text/plain": [
       "array([[ 1,  5],\n",
       "       [ 9, 13]])"
      ]
     },
     "execution_count": 25,
     "metadata": {},
     "output_type": "execute_result"
    }
   ],
   "source": [
    "np.add.reduce(X,2)"
   ]
  },
  {
   "cell_type": "code",
   "execution_count": 18,
   "metadata": {},
   "outputs": [
    {
     "data": {
      "text/plain": [
       "array([1, 3, 6])"
      ]
     },
     "execution_count": 18,
     "metadata": {},
     "output_type": "execute_result"
    }
   ],
   "source": [
    "np.add.accumulate(a)"
   ]
  },
  {
   "cell_type": "code",
   "execution_count": 20,
   "metadata": {},
   "outputs": [
    {
     "ename": "TypeError",
     "evalue": "'list' object is not callable",
     "output_type": "error",
     "traceback": [
      "\u001b[0;31m---------------------------------------------------------------------------\u001b[0m",
      "\u001b[0;31mTypeError\u001b[0m                                 Traceback (most recent call last)",
      "\u001b[0;32m<ipython-input-20-88bfa1d41af2>\u001b[0m in \u001b[0;36m<module>\u001b[0;34m()\u001b[0m\n\u001b[0;32m----> 1\u001b[0;31m \u001b[0mnp\u001b[0m\u001b[0;34m.\u001b[0m\u001b[0madd\u001b[0m\u001b[0;34m.\u001b[0m\u001b[0mtypes\u001b[0m\u001b[0;34m(\u001b[0m\u001b[0ma\u001b[0m\u001b[0;34m)\u001b[0m\u001b[0;34m\u001b[0m\u001b[0m\n\u001b[0m",
      "\u001b[0;31mTypeError\u001b[0m: 'list' object is not callable"
     ]
    }
   ],
   "source": [
    "np.add.types(a)"
   ]
  },
  {
   "cell_type": "markdown",
   "metadata": {},
   "source": [
    "## 넘파이 모듈에서 유니버셜 함수에 대해 조회 : 원소별로 수학을 계산하는 함수들이 나온다."
   ]
  },
  {
   "cell_type": "code",
   "execution_count": 12,
   "metadata": {},
   "outputs": [
    {
     "name": "stdout",
     "output_type": "stream",
     "text": [
      "abs\n",
      "absolute\n",
      "add\n",
      "arccos\n",
      "arccosh\n",
      "arcsin\n",
      "arcsinh\n",
      "arctan\n",
      "arctan2\n",
      "arctanh\n",
      "bitwise_and\n",
      "bitwise_not\n",
      "bitwise_or\n",
      "bitwise_xor\n",
      "cbrt\n",
      "ceil\n",
      "conj\n",
      "conjugate\n",
      "copysign\n",
      "cos\n",
      "cosh\n",
      "deg2rad\n",
      "degrees\n",
      "divide\n",
      "divmod\n",
      "equal\n",
      "exp\n",
      "exp2\n",
      "expm1\n",
      "fabs\n",
      "float_power\n",
      "floor\n",
      "floor_divide\n",
      "fmax\n",
      "fmin\n",
      "fmod\n",
      "frexp\n",
      "greater\n",
      "greater_equal\n",
      "heaviside\n",
      "hypot\n",
      "invert\n",
      "isfinite\n",
      "isinf\n",
      "isnan\n",
      "isnat\n",
      "ldexp\n",
      "left_shift\n",
      "less\n",
      "less_equal\n",
      "log\n",
      "log10\n",
      "log1p\n",
      "log2\n",
      "logaddexp\n",
      "logaddexp2\n",
      "logical_and\n",
      "logical_not\n",
      "logical_or\n",
      "logical_xor\n",
      "maximum\n",
      "minimum\n",
      "mod\n",
      "modf\n",
      "multiply\n",
      "negative\n",
      "nextafter\n",
      "not_equal\n",
      "positive\n",
      "power\n",
      "rad2deg\n",
      "radians\n",
      "reciprocal\n",
      "remainder\n",
      "right_shift\n",
      "rint\n",
      "sign\n",
      "signbit\n",
      "sin\n",
      "sinh\n",
      "spacing\n",
      "sqrt\n",
      "square\n",
      "subtract\n",
      "tan\n",
      "tanh\n",
      "true_divide\n",
      "trunc\n"
     ]
    }
   ],
   "source": [
    "for i in dir(np) :\n",
    "    if isinstance(np.__dict__[i], np.ufunc) :\n",
    "        print(i)"
   ]
  },
  {
   "cell_type": "markdown",
   "metadata": {},
   "source": [
    "## 행렬 연산은 일반 함수 처리하는 연산이다.\n",
    "\n",
    "   "
   ]
  },
  {
   "cell_type": "code",
   "execution_count": 13,
   "metadata": {},
   "outputs": [
    {
     "data": {
      "text/plain": [
       "<function numpy.core.multiarray.dot>"
      ]
     },
     "execution_count": 13,
     "metadata": {},
     "output_type": "execute_result"
    }
   ],
   "source": [
    "np.dot"
   ]
  },
  {
   "cell_type": "code",
   "execution_count": 14,
   "metadata": {},
   "outputs": [
    {
     "data": {
      "text/plain": [
       "builtin_function_or_method"
      ]
     },
     "execution_count": 14,
     "metadata": {},
     "output_type": "execute_result"
    }
   ],
   "source": [
    "type(np.dot)"
   ]
  },
  {
   "cell_type": "code",
   "execution_count": 15,
   "metadata": {},
   "outputs": [
    {
     "data": {
      "text/plain": [
       "<function numpy.core.multiarray.inner>"
      ]
     },
     "execution_count": 15,
     "metadata": {},
     "output_type": "execute_result"
    }
   ],
   "source": [
    "np.inner"
   ]
  },
  {
   "cell_type": "code",
   "execution_count": 16,
   "metadata": {},
   "outputs": [
    {
     "data": {
      "text/plain": [
       "<function numpy.core.numeric.cross>"
      ]
     },
     "execution_count": 16,
     "metadata": {},
     "output_type": "execute_result"
    }
   ],
   "source": [
    "np.cross"
   ]
  },
  {
   "cell_type": "markdown",
   "metadata": {},
   "source": [
    "## 브로드캐스팅이 발생하지 않는다."
   ]
  },
  {
   "cell_type": "code",
   "execution_count": 24,
   "metadata": {
    "collapsed": true
   },
   "outputs": [],
   "source": [
    "c = np.arange(1,5).reshape(2,2)"
   ]
  },
  {
   "cell_type": "code",
   "execution_count": 25,
   "metadata": {
    "collapsed": true
   },
   "outputs": [],
   "source": [
    "d = np.arange(1,3).reshape(1,2)"
   ]
  },
  {
   "cell_type": "markdown",
   "metadata": {},
   "source": [
    "### 순환문은 필요없지만 실제 shape이 일치해야 한다. "
   ]
  },
  {
   "cell_type": "code",
   "execution_count": 26,
   "metadata": {},
   "outputs": [
    {
     "ename": "ValueError",
     "evalue": "shapes (2,2) and (1,2) not aligned: 2 (dim 1) != 1 (dim 0)",
     "output_type": "error",
     "traceback": [
      "\u001b[0;31m---------------------------------------------------------------------------\u001b[0m",
      "\u001b[0;31mValueError\u001b[0m                                Traceback (most recent call last)",
      "\u001b[0;32m<ipython-input-26-b740db175925>\u001b[0m in \u001b[0;36m<module>\u001b[0;34m()\u001b[0m\n\u001b[0;32m----> 1\u001b[0;31m \u001b[0mnp\u001b[0m\u001b[0;34m.\u001b[0m\u001b[0mdot\u001b[0m\u001b[0;34m(\u001b[0m\u001b[0mc\u001b[0m\u001b[0;34m,\u001b[0m\u001b[0md\u001b[0m\u001b[0;34m)\u001b[0m\u001b[0;34m\u001b[0m\u001b[0m\n\u001b[0m",
      "\u001b[0;31mValueError\u001b[0m: shapes (2,2) and (1,2) not aligned: 2 (dim 1) != 1 (dim 0)"
     ]
    }
   ],
   "source": [
    "np.dot(c,d)"
   ]
  },
  {
   "cell_type": "markdown",
   "metadata": {},
   "source": [
    "### 유니버셜 함수를 이용할 경우는 실제 브로드캐스팅이 발생한다."
   ]
  },
  {
   "cell_type": "code",
   "execution_count": 33,
   "metadata": {},
   "outputs": [
    {
     "data": {
      "text/plain": [
       "array([[2, 4],\n",
       "       [4, 6]])"
      ]
     },
     "execution_count": 33,
     "metadata": {},
     "output_type": "execute_result"
    }
   ],
   "source": [
    "np.add(c,d)"
   ]
  },
  {
   "cell_type": "markdown",
   "metadata": {},
   "source": [
    "### 행렬 연산을 위해 모양을 변환해서 처리"
   ]
  },
  {
   "cell_type": "code",
   "execution_count": 28,
   "metadata": {
    "collapsed": true
   },
   "outputs": [],
   "source": [
    "e = np.arange(1,3).reshape(2,1)"
   ]
  },
  {
   "cell_type": "code",
   "execution_count": 30,
   "metadata": {
    "collapsed": true
   },
   "outputs": [],
   "source": [
    "f = np.dot(c,e)"
   ]
  },
  {
   "cell_type": "code",
   "execution_count": 31,
   "metadata": {},
   "outputs": [
    {
     "data": {
      "text/plain": [
       "array([[ 5],\n",
       "       [11]])"
      ]
     },
     "execution_count": 31,
     "metadata": {},
     "output_type": "execute_result"
    }
   ],
   "source": [
    "f"
   ]
  },
  {
   "cell_type": "code",
   "execution_count": 32,
   "metadata": {},
   "outputs": [
    {
     "data": {
      "text/plain": [
       "(2, 1)"
      ]
     },
     "execution_count": 32,
     "metadata": {},
     "output_type": "execute_result"
    }
   ],
   "source": [
    "f.shape"
   ]
  },
  {
   "cell_type": "markdown",
   "metadata": {},
   "source": [
    "##  유니버셜 함수 내의 메소드 이용하기"
   ]
  },
  {
   "cell_type": "code",
   "execution_count": 3,
   "metadata": {},
   "outputs": [
    {
     "name": "stdout",
     "output_type": "stream",
     "text": [
      "Help on built-in function reduceat:\n",
      "\n",
      "reduceat(...) method of numpy.ufunc instance\n",
      "    reduceat(a, indices, axis=0, dtype=None, out=None)\n",
      "    \n",
      "    Performs a (local) reduce with specified slices over a single axis.\n",
      "    \n",
      "    For i in ``range(len(indices))``, `reduceat` computes\n",
      "    ``ufunc.reduce(a[indices[i]:indices[i+1]])``, which becomes the i-th\n",
      "    generalized \"row\" parallel to `axis` in the final result (i.e., in a\n",
      "    2-D array, for example, if `axis = 0`, it becomes the i-th row, but if\n",
      "    `axis = 1`, it becomes the i-th column).  There are three exceptions to this:\n",
      "    \n",
      "    * when ``i = len(indices) - 1`` (so for the last index),\n",
      "      ``indices[i+1] = a.shape[axis]``.\n",
      "    * if ``indices[i] >= indices[i + 1]``, the i-th generalized \"row\" is\n",
      "      simply ``a[indices[i]]``.\n",
      "    * if ``indices[i] >= len(a)`` or ``indices[i] < 0``, an error is raised.\n",
      "    \n",
      "    The shape of the output depends on the size of `indices`, and may be\n",
      "    larger than `a` (this happens if ``len(indices) > a.shape[axis]``).\n",
      "    \n",
      "    Parameters\n",
      "    ----------\n",
      "    a : array_like\n",
      "        The array to act on.\n",
      "    indices : array_like\n",
      "        Paired indices, comma separated (not colon), specifying slices to\n",
      "        reduce.\n",
      "    axis : int, optional\n",
      "        The axis along which to apply the reduceat.\n",
      "    dtype : data-type code, optional\n",
      "        The type used to represent the intermediate results. Defaults\n",
      "        to the data type of the output array if this is provided, or\n",
      "        the data type of the input array if no output array is provided.\n",
      "    out : ndarray, None, or tuple of ndarray and None, optional\n",
      "        A location into which the result is stored. If not provided or `None`,\n",
      "        a freshly-allocated array is returned. For consistency with\n",
      "        :ref:`ufunc.__call__`, if given as a keyword, this may be wrapped in a\n",
      "        1-element tuple.\n",
      "    \n",
      "        .. versionchanged:: 1.13.0\n",
      "           Tuples are allowed for keyword argument.\n",
      "    \n",
      "    Returns\n",
      "    -------\n",
      "    r : ndarray\n",
      "        The reduced values. If `out` was supplied, `r` is a reference to\n",
      "        `out`.\n",
      "    \n",
      "    Notes\n",
      "    -----\n",
      "    A descriptive example:\n",
      "    \n",
      "    If `a` is 1-D, the function `ufunc.accumulate(a)` is the same as\n",
      "    ``ufunc.reduceat(a, indices)[::2]`` where `indices` is\n",
      "    ``range(len(array) - 1)`` with a zero placed\n",
      "    in every other element:\n",
      "    ``indices = zeros(2 * len(a) - 1)``, ``indices[1::2] = range(1, len(a))``.\n",
      "    \n",
      "    Don't be fooled by this attribute's name: `reduceat(a)` is not\n",
      "    necessarily smaller than `a`.\n",
      "    \n",
      "    Examples\n",
      "    --------\n",
      "    To take the running sum of four successive values:\n",
      "    \n",
      "    >>> np.add.reduceat(np.arange(8),[0,4, 1,5, 2,6, 3,7])[::2]\n",
      "    array([ 6, 10, 14, 18])\n",
      "    \n",
      "    A 2-D example:\n",
      "    \n",
      "    >>> x = np.linspace(0, 15, 16).reshape(4,4)\n",
      "    >>> x\n",
      "    array([[  0.,   1.,   2.,   3.],\n",
      "           [  4.,   5.,   6.,   7.],\n",
      "           [  8.,   9.,  10.,  11.],\n",
      "           [ 12.,  13.,  14.,  15.]])\n",
      "    \n",
      "    ::\n",
      "    \n",
      "     # reduce such that the result has the following five rows:\n",
      "     # [row1 + row2 + row3]\n",
      "     # [row4]\n",
      "     # [row2]\n",
      "     # [row3]\n",
      "     # [row1 + row2 + row3 + row4]\n",
      "    \n",
      "    >>> np.add.reduceat(x, [0, 3, 1, 2, 0])\n",
      "    array([[ 12.,  15.,  18.,  21.],\n",
      "           [ 12.,  13.,  14.,  15.],\n",
      "           [  4.,   5.,   6.,   7.],\n",
      "           [  8.,   9.,  10.,  11.],\n",
      "           [ 24.,  28.,  32.,  36.]])\n",
      "    \n",
      "    ::\n",
      "    \n",
      "     # reduce such that result has the following two columns:\n",
      "     # [col1 * col2 * col3, col4]\n",
      "    \n",
      "    >>> np.multiply.reduceat(x, [0, 3], 1)\n",
      "    array([[    0.,     3.],\n",
      "           [  120.,     7.],\n",
      "           [  720.,    11.],\n",
      "           [ 2184.,    15.]])\n",
      "\n"
     ]
    }
   ],
   "source": [
    "help(np.add.reduceat)"
   ]
  },
  {
   "cell_type": "code",
   "execution_count": 1,
   "metadata": {},
   "outputs": [
    {
     "name": "stdout",
     "output_type": "stream",
     "text": [
      "<built-in method reduce of numpy.ufunc object at 0x7f8dc0c61e70>\n",
      "<built-in method reduceat of numpy.ufunc object at 0x7f8dc0c61e70>\n",
      "<built-in method accumulate of numpy.ufunc object at 0x7f8dc0c61e70>\n"
     ]
    }
   ],
   "source": [
    "import numpy as np\n",
    "\n",
    "print(np.add.reduce)\n",
    "print(np.add.reduceat)\n",
    "print(np.add.accumulate)"
   ]
  },
  {
   "cell_type": "code",
   "execution_count": 2,
   "metadata": {},
   "outputs": [
    {
     "name": "stdout",
     "output_type": "stream",
     "text": [
      "[0 1 2 3 4 5 6 7]\n",
      "[ 6 22]\n",
      "[ 6  4 10 18]\n"
     ]
    }
   ],
   "source": [
    "import numpy as np\n",
    "\n",
    "a = np.arange(8)\n",
    "print(a)\n",
    "print(np.add.reduceat(a,[0,4]))\n",
    "print(np.add.reduceat(a,[0,4,1,5]))"
   ]
  },
  {
   "cell_type": "code",
   "execution_count": null,
   "metadata": {
    "collapsed": true
   },
   "outputs": [],
   "source": []
  }
 ],
 "metadata": {
  "kernelspec": {
   "display_name": "Python 3",
   "language": "python",
   "name": "python3"
  },
  "language_info": {
   "codemirror_mode": {
    "name": "ipython",
    "version": 3
   },
   "file_extension": ".py",
   "mimetype": "text/x-python",
   "name": "python",
   "nbconvert_exporter": "python",
   "pygments_lexer": "ipython3",
   "version": "3.6.1"
  }
 },
 "nbformat": 4,
 "nbformat_minor": 2
}
