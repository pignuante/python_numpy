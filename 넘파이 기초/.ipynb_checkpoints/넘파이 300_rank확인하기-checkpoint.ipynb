{
 "cells": [
  {
   "cell_type": "code",
   "execution_count": 13,
   "metadata": {
    "collapsed": true
   },
   "outputs": [],
   "source": [
    "import numpy as np"
   ]
  },
  {
   "cell_type": "markdown",
   "metadata": {},
   "source": [
    "## 랭크 확인하기"
   ]
  },
  {
   "cell_type": "code",
   "execution_count": 95,
   "metadata": {},
   "outputs": [
    {
     "name": "stdout",
     "output_type": "stream",
     "text": [
      "[[1 3 4]\n",
      " [1 8 5]]\n",
      "2\n",
      "[[1 3 4]\n",
      " [1 8 5]\n",
      " [2 3 4]]\n",
      "3\n"
     ]
    }
   ],
   "source": [
    "import numpy as np\n",
    "\n",
    "X = np.array([[1,3,4],[1,8,5]])\n",
    "print(X )\n",
    "\n",
    "print(np.linalg.matrix_rank(X ))\n",
    "\n",
    "Y = np.array([[1,3,4],[1,8,5],[2,3,4]])\n",
    "print(Y)\n",
    "\n",
    "print(np.linalg.matrix_rank(Y))\n"
   ]
  },
  {
   "cell_type": "code",
   "execution_count": 96,
   "metadata": {},
   "outputs": [
    {
     "name": "stdout",
     "output_type": "stream",
     "text": [
      "[[1 2 3]\n",
      " [2 3 5]\n",
      " [3 5 6]]\n",
      "True\n",
      "True\n"
     ]
    }
   ],
   "source": [
    "import numpy as np\n",
    "\n",
    "X = np.array([[1,2,3],[2,3,5],[3,5,6]])\n",
    "print(X)\n",
    "\n",
    "#True if two arrays have the same shape and elements, \n",
    "print(np.array_equal(X,X.T))\n",
    "\n",
    "#Returns True if input arrays are shape consistent \n",
    "# and all elements equal.\n",
    "print(np.array_equiv(X,X.T))"
   ]
  },
  {
   "cell_type": "code",
   "execution_count": null,
   "metadata": {
    "collapsed": true
   },
   "outputs": [],
   "source": []
  },
  {
   "cell_type": "code",
   "execution_count": null,
   "metadata": {
    "collapsed": true
   },
   "outputs": [],
   "source": []
  }
 ],
 "metadata": {
  "kernelspec": {
   "display_name": "Python 3",
   "language": "python",
   "name": "python3"
  },
  "language_info": {
   "codemirror_mode": {
    "name": "ipython",
    "version": 3
   },
   "file_extension": ".py",
   "mimetype": "text/x-python",
   "name": "python",
   "nbconvert_exporter": "python",
   "pygments_lexer": "ipython3",
   "version": "3.6.1"
  }
 },
 "nbformat": 4,
 "nbformat_minor": 2
}
