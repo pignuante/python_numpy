{
 "cells": [
  {
   "cell_type": "code",
   "execution_count": 1,
   "metadata": {
    "collapsed": true
   },
   "outputs": [],
   "source": [
    "import numpy as np"
   ]
  },
  {
   "cell_type": "markdown",
   "metadata": {},
   "source": [
    "## 최대값과 최소값에 대한 인덱스 찾기"
   ]
  },
  {
   "cell_type": "code",
   "execution_count": 1,
   "metadata": {
    "scrolled": true
   },
   "outputs": [
    {
     "name": "stdout",
     "output_type": "stream",
     "text": [
      "2\n",
      "3\n",
      "[[ 0.84857239  0.05001833  0.50035338 -0.12297754]\n",
      " [-0.23965448 -0.43787994 -1.09735747 -2.0261545 ]\n",
      " [ 0.40430815  0.34007374 -2.48598348 -0.38411564]]\n",
      "[0 2 0 0]\n",
      "[1 1 2 1]\n"
     ]
    }
   ],
   "source": [
    "import numpy as np\n",
    "\n",
    "a = np.array([1,3,7,0])\n",
    "print(np.argmax(a))\n",
    "print(np.argmin(a))\n",
    "\n",
    "b = np.random.randn(3,4)\n",
    "print(b)\n",
    "print(np.argmax(b, axis=0))\n",
    "print(np.argmin(b, axis=0))"
   ]
  },
  {
   "cell_type": "markdown",
   "metadata": {},
   "source": [
    "## 인덱스 기준으로 정렬하기"
   ]
  },
  {
   "cell_type": "code",
   "execution_count": 2,
   "metadata": {},
   "outputs": [
    {
     "name": "stdout",
     "output_type": "stream",
     "text": [
      "[0 1 3 7]\n",
      "[3 0 1 2]\n",
      "[[-0.82018496 -0.26306577  1.35064837  0.32123375]\n",
      " [-1.72258156 -0.19179582  1.28847874  0.69985412]\n",
      " [ 1.09768305  0.11089581 -1.78830456 -0.25972731]]\n",
      "[[-1.72258156 -0.26306577 -1.78830456 -0.25972731]\n",
      " [-0.82018496 -0.19179582  1.28847874  0.32123375]\n",
      " [ 1.09768305  0.11089581  1.35064837  0.69985412]]\n",
      "[[1 0 2 2]\n",
      " [0 1 1 0]\n",
      " [2 2 0 1]]\n"
     ]
    }
   ],
   "source": [
    "import numpy as np\n",
    "\n",
    "a = np.array([1,3,7,0])\n",
    "print(np.sort(a))\n",
    "print(np.argsort(a))\n",
    "\n",
    "b = np.random.randn(3,4)\n",
    "print(b)\n",
    "print(np.sort(b, axis=0))\n",
    "print(np.argsort(b, axis=0))"
   ]
  },
  {
   "cell_type": "code",
   "execution_count": null,
   "metadata": {
    "collapsed": true
   },
   "outputs": [],
   "source": []
  }
 ],
 "metadata": {
  "anaconda-cloud": {},
  "kernelspec": {
   "display_name": "Python 3",
   "language": "python",
   "name": "python3"
  },
  "language_info": {
   "codemirror_mode": {
    "name": "ipython",
    "version": 3
   },
   "file_extension": ".py",
   "mimetype": "text/x-python",
   "name": "python",
   "nbconvert_exporter": "python",
   "pygments_lexer": "ipython3",
   "version": "3.6.1"
  }
 },
 "nbformat": 4,
 "nbformat_minor": 1
}
