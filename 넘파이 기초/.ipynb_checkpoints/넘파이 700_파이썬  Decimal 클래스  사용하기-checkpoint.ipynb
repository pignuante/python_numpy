{
 "cells": [
  {
   "cell_type": "markdown",
   "metadata": {},
   "source": [
    "# Numpy 에서 decimal 모듈 사용하기\n",
    "\n"
   ]
  },
  {
   "cell_type": "markdown",
   "metadata": {},
   "source": [
    "### dtype을 지정할 때 decimal로 지정해야 함"
   ]
  },
  {
   "cell_type": "code",
   "execution_count": 2,
   "metadata": {},
   "outputs": [
    {
     "name": "stdout",
     "output_type": "stream",
     "text": [
      "object\n",
      "<class 'decimal.Decimal'>\n"
     ]
    }
   ],
   "source": [
    "import decimal, numpy\n",
    "d = decimal.Decimal('1.1')\n",
    "a = numpy.array([d,d,d],dtype=numpy.dtype(decimal.Decimal))\n",
    "print(a.dtype)\n",
    "print(type(a[1]))"
   ]
  },
  {
   "cell_type": "code",
   "execution_count": 3,
   "metadata": {},
   "outputs": [
    {
     "name": "stdout",
     "output_type": "stream",
     "text": [
      "1.1\n"
     ]
    }
   ],
   "source": [
    "print(a[1])"
   ]
  },
  {
   "cell_type": "code",
   "execution_count": 4,
   "metadata": {},
   "outputs": [
    {
     "name": "stdout",
     "output_type": "stream",
     "text": [
      "object\n",
      "<class 'decimal.Decimal'>\n"
     ]
    }
   ],
   "source": [
    "import decimal, numpy\n",
    "d = decimal.Decimal('1.3')\n",
    "a = numpy.array([d,d,d],dtype=decimal.Decimal)\n",
    "print(a.dtype)\n",
    "print(type(a[1]))"
   ]
  },
  {
   "cell_type": "code",
   "execution_count": 5,
   "metadata": {},
   "outputs": [
    {
     "name": "stdout",
     "output_type": "stream",
     "text": [
      "1.3\n"
     ]
    }
   ],
   "source": [
    "print(a[1])"
   ]
  },
  {
   "cell_type": "code",
   "execution_count": 2,
   "metadata": {},
   "outputs": [
    {
     "name": "stdout",
     "output_type": "stream",
     "text": [
      "<class 'numpy.ndarray'>\n",
      "object\n",
      "<class 'decimal.Decimal'>\n"
     ]
    }
   ],
   "source": [
    "s = [['123.123','23'],['2323.212','123123.21312']]\n",
    "decimal_s = [[decimal.Decimal(x) for x in y] for y in s]\n",
    "ss = numpy.array(decimal_s)\n",
    "print(type(ss))\n",
    "print(ss.dtype)\n",
    "print(type(ss[0,0]))"
   ]
  },
  {
   "cell_type": "code",
   "execution_count": 8,
   "metadata": {},
   "outputs": [
    {
     "name": "stdout",
     "output_type": "stream",
     "text": [
      "100\n",
      "100\n",
      "<class 'int'>\n",
      "[[100 Decimal('23')]\n",
      " [Decimal('2323.212') Decimal('123123.21312')]]\n",
      "[[Decimal('100') Decimal('23')]\n",
      " [Decimal('2323.212') Decimal('123123.21312')]]\n"
     ]
    }
   ],
   "source": [
    "print(ss[0,0])\n",
    "\n",
    "ss[0,0] = 100\n",
    "\n",
    "print(ss[0,0])\n",
    "print(type(ss[0,0]))\n",
    "\n",
    "print(ss)\n",
    "\n",
    "ss[0,0] = decimal.Decimal(100)\n",
    "print(ss)"
   ]
  },
  {
   "cell_type": "code",
   "execution_count": null,
   "metadata": {
    "collapsed": true
   },
   "outputs": [],
   "source": []
  }
 ],
 "metadata": {
  "kernelspec": {
   "display_name": "Python 3",
   "language": "python",
   "name": "python3"
  },
  "language_info": {
   "codemirror_mode": {
    "name": "ipython",
    "version": 3
   },
   "file_extension": ".py",
   "mimetype": "text/x-python",
   "name": "python",
   "nbconvert_exporter": "python",
   "pygments_lexer": "ipython3",
   "version": "3.6.1"
  }
 },
 "nbformat": 4,
 "nbformat_minor": 1
}
