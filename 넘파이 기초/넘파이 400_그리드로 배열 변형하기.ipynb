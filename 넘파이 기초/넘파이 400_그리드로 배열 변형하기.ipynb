{
 "cells": [
  {
   "cell_type": "code",
   "execution_count": 1,
   "metadata": {
    "collapsed": true
   },
   "outputs": [],
   "source": [
    "import numpy as np"
   ]
  },
  {
   "cell_type": "code",
   "execution_count": 3,
   "metadata": {},
   "outputs": [
    {
     "name": "stdout",
     "output_type": "stream",
     "text": [
      "Help on function meshgrid in module numpy.lib.function_base:\n",
      "\n",
      "meshgrid(*xi, **kwargs)\n",
      "    Return coordinate matrices from coordinate vectors.\n",
      "    \n",
      "    Make N-D coordinate arrays for vectorized evaluations of\n",
      "    N-D scalar/vector fields over N-D grids, given\n",
      "    one-dimensional coordinate arrays x1, x2,..., xn.\n",
      "    \n",
      "    .. versionchanged:: 1.9\n",
      "       1-D and 0-D cases are allowed.\n",
      "    \n",
      "    Parameters\n",
      "    ----------\n",
      "    x1, x2,..., xn : array_like\n",
      "        1-D arrays representing the coordinates of a grid.\n",
      "    indexing : {'xy', 'ij'}, optional\n",
      "        Cartesian ('xy', default) or matrix ('ij') indexing of output.\n",
      "        See Notes for more details.\n",
      "    \n",
      "        .. versionadded:: 1.7.0\n",
      "    sparse : bool, optional\n",
      "        If True a sparse grid is returned in order to conserve memory.\n",
      "        Default is False.\n",
      "    \n",
      "        .. versionadded:: 1.7.0\n",
      "    copy : bool, optional\n",
      "        If False, a view into the original arrays are returned in order to\n",
      "        conserve memory.  Default is True.  Please note that\n",
      "        ``sparse=False, copy=False`` will likely return non-contiguous\n",
      "        arrays.  Furthermore, more than one element of a broadcast array\n",
      "        may refer to a single memory location.  If you need to write to the\n",
      "        arrays, make copies first.\n",
      "    \n",
      "        .. versionadded:: 1.7.0\n",
      "    \n",
      "    Returns\n",
      "    -------\n",
      "    X1, X2,..., XN : ndarray\n",
      "        For vectors `x1`, `x2`,..., 'xn' with lengths ``Ni=len(xi)`` ,\n",
      "        return ``(N1, N2, N3,...Nn)`` shaped arrays if indexing='ij'\n",
      "        or ``(N2, N1, N3,...Nn)`` shaped arrays if indexing='xy'\n",
      "        with the elements of `xi` repeated to fill the matrix along\n",
      "        the first dimension for `x1`, the second for `x2` and so on.\n",
      "    \n",
      "    Notes\n",
      "    -----\n",
      "    This function supports both indexing conventions through the indexing\n",
      "    keyword argument.  Giving the string 'ij' returns a meshgrid with\n",
      "    matrix indexing, while 'xy' returns a meshgrid with Cartesian indexing.\n",
      "    In the 2-D case with inputs of length M and N, the outputs are of shape\n",
      "    (N, M) for 'xy' indexing and (M, N) for 'ij' indexing.  In the 3-D case\n",
      "    with inputs of length M, N and P, outputs are of shape (N, M, P) for\n",
      "    'xy' indexing and (M, N, P) for 'ij' indexing.  The difference is\n",
      "    illustrated by the following code snippet::\n",
      "    \n",
      "        xv, yv = np.meshgrid(x, y, sparse=False, indexing='ij')\n",
      "        for i in range(nx):\n",
      "            for j in range(ny):\n",
      "                # treat xv[i,j], yv[i,j]\n",
      "    \n",
      "        xv, yv = np.meshgrid(x, y, sparse=False, indexing='xy')\n",
      "        for i in range(nx):\n",
      "            for j in range(ny):\n",
      "                # treat xv[j,i], yv[j,i]\n",
      "    \n",
      "    In the 1-D and 0-D case, the indexing and sparse keywords have no effect.\n",
      "    \n",
      "    See Also\n",
      "    --------\n",
      "    index_tricks.mgrid : Construct a multi-dimensional \"meshgrid\"\n",
      "                     using indexing notation.\n",
      "    index_tricks.ogrid : Construct an open multi-dimensional \"meshgrid\"\n",
      "                     using indexing notation.\n",
      "    \n",
      "    Examples\n",
      "    --------\n",
      "    >>> nx, ny = (3, 2)\n",
      "    >>> x = np.linspace(0, 1, nx)\n",
      "    >>> y = np.linspace(0, 1, ny)\n",
      "    >>> xv, yv = np.meshgrid(x, y)\n",
      "    >>> xv\n",
      "    array([[ 0. ,  0.5,  1. ],\n",
      "           [ 0. ,  0.5,  1. ]])\n",
      "    >>> yv\n",
      "    array([[ 0.,  0.,  0.],\n",
      "           [ 1.,  1.,  1.]])\n",
      "    >>> xv, yv = np.meshgrid(x, y, sparse=True)  # make sparse output arrays\n",
      "    >>> xv\n",
      "    array([[ 0. ,  0.5,  1. ]])\n",
      "    >>> yv\n",
      "    array([[ 0.],\n",
      "           [ 1.]])\n",
      "    \n",
      "    `meshgrid` is very useful to evaluate functions on a grid.\n",
      "    \n",
      "    >>> x = np.arange(-5, 5, 0.1)\n",
      "    >>> y = np.arange(-5, 5, 0.1)\n",
      "    >>> xx, yy = np.meshgrid(x, y, sparse=True)\n",
      "    >>> z = np.sin(xx**2 + yy**2) / (xx**2 + yy**2)\n",
      "    >>> h = plt.contourf(x,y,z)\n",
      "\n"
     ]
    }
   ],
   "source": [
    "help(np.meshgrid)"
   ]
  },
  {
   "cell_type": "markdown",
   "metadata": {},
   "source": [
    "## 두개의 1차원 배열이 주어질 경우 이를 이차원 배열로 처리"
   ]
  },
  {
   "cell_type": "code",
   "execution_count": 7,
   "metadata": {},
   "outputs": [
    {
     "name": "stdout",
     "output_type": "stream",
     "text": [
      "[[1 2 3]\n",
      " [1 2 3]\n",
      " [1 2 3]]\n",
      "[[10 10 10]\n",
      " [20 20 20]\n",
      " [30 30 30]]\n"
     ]
    }
   ],
   "source": [
    "import numpy as np\n",
    "\n",
    "x = np.array([1, 2, 3])\n",
    "y = np.array([10, 20, 30]) \n",
    "XX, YY = np.meshgrid(x, y)\n",
    "print(XX)\n",
    "print(YY)"
   ]
  },
  {
   "cell_type": "markdown",
   "metadata": {},
   "source": [
    "## mgrid 처리"
   ]
  },
  {
   "cell_type": "code",
   "execution_count": 5,
   "metadata": {},
   "outputs": [
    {
     "name": "stdout",
     "output_type": "stream",
     "text": [
      "Help on nd_grid in module numpy.lib.index_tricks object:\n",
      "\n",
      "class nd_grid(builtins.object)\n",
      " |  Construct a multi-dimensional \"meshgrid\".\n",
      " |  \n",
      " |  ``grid = nd_grid()`` creates an instance which will return a mesh-grid\n",
      " |  when indexed.  The dimension and number of the output arrays are equal\n",
      " |  to the number of indexing dimensions.  If the step length is not a\n",
      " |  complex number, then the stop is not inclusive.\n",
      " |  \n",
      " |  However, if the step length is a **complex number** (e.g. 5j), then the\n",
      " |  integer part of its magnitude is interpreted as specifying the\n",
      " |  number of points to create between the start and stop values, where\n",
      " |  the stop value **is inclusive**.\n",
      " |  \n",
      " |  If instantiated with an argument of ``sparse=True``, the mesh-grid is\n",
      " |  open (or not fleshed out) so that only one-dimension of each returned\n",
      " |  argument is greater than 1.\n",
      " |  \n",
      " |  Parameters\n",
      " |  ----------\n",
      " |  sparse : bool, optional\n",
      " |      Whether the grid is sparse or not. Default is False.\n",
      " |  \n",
      " |  Notes\n",
      " |  -----\n",
      " |  Two instances of `nd_grid` are made available in the NumPy namespace,\n",
      " |  `mgrid` and `ogrid`::\n",
      " |  \n",
      " |      mgrid = nd_grid(sparse=False)\n",
      " |      ogrid = nd_grid(sparse=True)\n",
      " |  \n",
      " |  Users should use these pre-defined instances instead of using `nd_grid`\n",
      " |  directly.\n",
      " |  \n",
      " |  Examples\n",
      " |  --------\n",
      " |  >>> mgrid = np.lib.index_tricks.nd_grid()\n",
      " |  >>> mgrid[0:5,0:5]\n",
      " |  array([[[0, 0, 0, 0, 0],\n",
      " |          [1, 1, 1, 1, 1],\n",
      " |          [2, 2, 2, 2, 2],\n",
      " |          [3, 3, 3, 3, 3],\n",
      " |          [4, 4, 4, 4, 4]],\n",
      " |         [[0, 1, 2, 3, 4],\n",
      " |          [0, 1, 2, 3, 4],\n",
      " |          [0, 1, 2, 3, 4],\n",
      " |          [0, 1, 2, 3, 4],\n",
      " |          [0, 1, 2, 3, 4]]])\n",
      " |  >>> mgrid[-1:1:5j]\n",
      " |  array([-1. , -0.5,  0. ,  0.5,  1. ])\n",
      " |  \n",
      " |  >>> ogrid = np.lib.index_tricks.nd_grid(sparse=True)\n",
      " |  >>> ogrid[0:5,0:5]\n",
      " |  [array([[0],\n",
      " |          [1],\n",
      " |          [2],\n",
      " |          [3],\n",
      " |          [4]]), array([[0, 1, 2, 3, 4]])]\n",
      " |  \n",
      " |  Methods defined here:\n",
      " |  \n",
      " |  __getitem__(self, key)\n",
      " |  \n",
      " |  __init__(self, sparse=False)\n",
      " |      Initialize self.  See help(type(self)) for accurate signature.\n",
      " |  \n",
      " |  __len__(self)\n",
      " |  \n",
      " |  ----------------------------------------------------------------------\n",
      " |  Data descriptors defined here:\n",
      " |  \n",
      " |  __dict__\n",
      " |      dictionary for instance variables (if defined)\n",
      " |  \n",
      " |  __weakref__\n",
      " |      list of weak references to the object (if defined)\n",
      "\n"
     ]
    }
   ],
   "source": [
    "help(np.mgrid)"
   ]
  },
  {
   "cell_type": "code",
   "execution_count": 8,
   "metadata": {},
   "outputs": [
    {
     "name": "stdout",
     "output_type": "stream",
     "text": [
      "[[10 10]\n",
      " [20 20]\n",
      " [30 30]]\n",
      "[[1 2]\n",
      " [1 2]\n",
      " [1 2]]\n"
     ]
    }
   ],
   "source": [
    "import numpy as np\n",
    "YY, XX = np.mgrid[10:40:10, 1:3]\n",
    "print(YY)\n",
    "print(XX)"
   ]
  },
  {
   "cell_type": "markdown",
   "metadata": {},
   "source": [
    "## Ogrid 처리"
   ]
  },
  {
   "cell_type": "code",
   "execution_count": 7,
   "metadata": {},
   "outputs": [
    {
     "name": "stdout",
     "output_type": "stream",
     "text": [
      "Help on nd_grid in module numpy.lib.index_tricks object:\n",
      "\n",
      "class nd_grid(builtins.object)\n",
      " |  Construct a multi-dimensional \"meshgrid\".\n",
      " |  \n",
      " |  ``grid = nd_grid()`` creates an instance which will return a mesh-grid\n",
      " |  when indexed.  The dimension and number of the output arrays are equal\n",
      " |  to the number of indexing dimensions.  If the step length is not a\n",
      " |  complex number, then the stop is not inclusive.\n",
      " |  \n",
      " |  However, if the step length is a **complex number** (e.g. 5j), then the\n",
      " |  integer part of its magnitude is interpreted as specifying the\n",
      " |  number of points to create between the start and stop values, where\n",
      " |  the stop value **is inclusive**.\n",
      " |  \n",
      " |  If instantiated with an argument of ``sparse=True``, the mesh-grid is\n",
      " |  open (or not fleshed out) so that only one-dimension of each returned\n",
      " |  argument is greater than 1.\n",
      " |  \n",
      " |  Parameters\n",
      " |  ----------\n",
      " |  sparse : bool, optional\n",
      " |      Whether the grid is sparse or not. Default is False.\n",
      " |  \n",
      " |  Notes\n",
      " |  -----\n",
      " |  Two instances of `nd_grid` are made available in the NumPy namespace,\n",
      " |  `mgrid` and `ogrid`::\n",
      " |  \n",
      " |      mgrid = nd_grid(sparse=False)\n",
      " |      ogrid = nd_grid(sparse=True)\n",
      " |  \n",
      " |  Users should use these pre-defined instances instead of using `nd_grid`\n",
      " |  directly.\n",
      " |  \n",
      " |  Examples\n",
      " |  --------\n",
      " |  >>> mgrid = np.lib.index_tricks.nd_grid()\n",
      " |  >>> mgrid[0:5,0:5]\n",
      " |  array([[[0, 0, 0, 0, 0],\n",
      " |          [1, 1, 1, 1, 1],\n",
      " |          [2, 2, 2, 2, 2],\n",
      " |          [3, 3, 3, 3, 3],\n",
      " |          [4, 4, 4, 4, 4]],\n",
      " |         [[0, 1, 2, 3, 4],\n",
      " |          [0, 1, 2, 3, 4],\n",
      " |          [0, 1, 2, 3, 4],\n",
      " |          [0, 1, 2, 3, 4],\n",
      " |          [0, 1, 2, 3, 4]]])\n",
      " |  >>> mgrid[-1:1:5j]\n",
      " |  array([-1. , -0.5,  0. ,  0.5,  1. ])\n",
      " |  \n",
      " |  >>> ogrid = np.lib.index_tricks.nd_grid(sparse=True)\n",
      " |  >>> ogrid[0:5,0:5]\n",
      " |  [array([[0],\n",
      " |          [1],\n",
      " |          [2],\n",
      " |          [3],\n",
      " |          [4]]), array([[0, 1, 2, 3, 4]])]\n",
      " |  \n",
      " |  Methods defined here:\n",
      " |  \n",
      " |  __getitem__(self, key)\n",
      " |  \n",
      " |  __init__(self, sparse=False)\n",
      " |      Initialize self.  See help(type(self)) for accurate signature.\n",
      " |  \n",
      " |  __len__(self)\n",
      " |  \n",
      " |  ----------------------------------------------------------------------\n",
      " |  Data descriptors defined here:\n",
      " |  \n",
      " |  __dict__\n",
      " |      dictionary for instance variables (if defined)\n",
      " |  \n",
      " |  __weakref__\n",
      " |      list of weak references to the object (if defined)\n",
      "\n"
     ]
    }
   ],
   "source": [
    "help(np.ogrid)"
   ]
  },
  {
   "cell_type": "code",
   "execution_count": 9,
   "metadata": {},
   "outputs": [
    {
     "name": "stdout",
     "output_type": "stream",
     "text": [
      "[[10]\n",
      " [20]\n",
      " [30]]\n",
      "[[1 2 3]]\n"
     ]
    }
   ],
   "source": [
    "import numpy as np\n",
    "YY, XX = np.ogrid[10:40:10, 1:4]\n",
    "print(YY)\n",
    "print(XX)"
   ]
  },
  {
   "cell_type": "markdown",
   "metadata": {},
   "source": [
    "## broadcast_arrays"
   ]
  },
  {
   "cell_type": "code",
   "execution_count": 9,
   "metadata": {},
   "outputs": [
    {
     "name": "stdout",
     "output_type": "stream",
     "text": [
      "Help on function broadcast_arrays in module numpy.lib.stride_tricks:\n",
      "\n",
      "broadcast_arrays(*args, **kwargs)\n",
      "    Broadcast any number of arrays against each other.\n",
      "    \n",
      "    Parameters\n",
      "    ----------\n",
      "    `*args` : array_likes\n",
      "        The arrays to broadcast.\n",
      "    \n",
      "    subok : bool, optional\n",
      "        If True, then sub-classes will be passed-through, otherwise\n",
      "        the returned arrays will be forced to be a base-class array (default).\n",
      "    \n",
      "    Returns\n",
      "    -------\n",
      "    broadcasted : list of arrays\n",
      "        These arrays are views on the original arrays.  They are typically\n",
      "        not contiguous.  Furthermore, more than one element of a\n",
      "        broadcasted array may refer to a single memory location.  If you\n",
      "        need to write to the arrays, make copies first.\n",
      "    \n",
      "    Examples\n",
      "    --------\n",
      "    >>> x = np.array([[1,2,3]])\n",
      "    >>> y = np.array([[1],[2],[3]])\n",
      "    >>> np.broadcast_arrays(x, y)\n",
      "    [array([[1, 2, 3],\n",
      "           [1, 2, 3],\n",
      "           [1, 2, 3]]), array([[1, 1, 1],\n",
      "           [2, 2, 2],\n",
      "           [3, 3, 3]])]\n",
      "    \n",
      "    Here is a useful idiom for getting contiguous copies instead of\n",
      "    non-contiguous views.\n",
      "    \n",
      "    >>> [np.array(a) for a in np.broadcast_arrays(x, y)]\n",
      "    [array([[1, 2, 3],\n",
      "           [1, 2, 3],\n",
      "           [1, 2, 3]]), array([[1, 1, 1],\n",
      "           [2, 2, 2],\n",
      "           [3, 3, 3]])]\n",
      "\n"
     ]
    }
   ],
   "source": [
    "help(np.broadcast_arrays)"
   ]
  },
  {
   "cell_type": "code",
   "execution_count": 10,
   "metadata": {},
   "outputs": [
    {
     "name": "stdout",
     "output_type": "stream",
     "text": [
      "[[10]\n",
      " [20]\n",
      " [30]]\n",
      "[[1 2 3]]\n",
      "[[10 10 10]\n",
      " [20 20 20]\n",
      " [30 30 30]]\n",
      "[[1 2 3]\n",
      " [1 2 3]\n",
      " [1 2 3]]\n"
     ]
    }
   ],
   "source": [
    "import numpy as np\n",
    "\n",
    "a, b = np.ogrid[10:40:10, 1:4]\n",
    "print(a)\n",
    "print(b)\n",
    "x2, y2 = np.broadcast_arrays(a, b)\n",
    "print(x2)\n",
    "print(y2)"
   ]
  },
  {
   "cell_type": "code",
   "execution_count": 11,
   "metadata": {},
   "outputs": [
    {
     "name": "stdout",
     "output_type": "stream",
     "text": [
      "[[0 1 2]\n",
      " [3 4 5]]\n",
      "[[1 1 1]\n",
      " [1 1 1]]\n",
      "[[0 0 0]\n",
      " [0 0 0]]\n",
      "[[0 0 0]\n",
      " [0 0 0]]\n"
     ]
    }
   ],
   "source": [
    "import numpy as np\n",
    "\n",
    "x = np.arange(6)\n",
    "x = x.reshape((2, 3))\n",
    "print(x)\n",
    "\n",
    "print(np.ones_like(x))\n",
    "print(np.zeros_like(x))\n",
    "print(np.empty_like(x))"
   ]
  },
  {
   "cell_type": "markdown",
   "metadata": {},
   "source": [
    "## view 함수 "
   ]
  },
  {
   "cell_type": "code",
   "execution_count": 12,
   "metadata": {},
   "outputs": [
    {
     "name": "stdout",
     "output_type": "stream",
     "text": [
      "[[0 1 2]\n",
      " [3 4 5]]\n",
      "5\n",
      "None\n",
      "[[ 0  1 20]\n",
      " [ 3  4  5]]\n",
      "[[ 0  1 20]\n",
      " [ 3  4  5]]\n"
     ]
    }
   ],
   "source": [
    "import numpy as np\n",
    "\n",
    "x = np.arange(6).reshape(2,3)\n",
    "print(x)\n",
    "print(x.item(1,2))\n",
    "print(x.itemset(2, 20))\n",
    "print(x)\n",
    "print(x.view())"
   ]
  },
  {
   "cell_type": "markdown",
   "metadata": {},
   "source": [
    "## itemset"
   ]
  },
  {
   "cell_type": "code",
   "execution_count": 14,
   "metadata": {},
   "outputs": [
    {
     "name": "stdout",
     "output_type": "stream",
     "text": [
      "[[8 2 7]\n",
      " [1 8 7]\n",
      " [7 6 7]]\n",
      "None\n",
      "[[8 2 7]\n",
      " [1 0 7]\n",
      " [7 6 7]]\n",
      "[[8 2 7]\n",
      " [1 0 7]\n",
      " [7 6 9]]\n"
     ]
    }
   ],
   "source": [
    "x = np.random.randint(9, size=(3, 3))\n",
    "print(x)\n",
    "print(x.itemset(4, 0))\n",
    "print(x)\n",
    "x.itemset((2, 2), 9)\n",
    "print(x)"
   ]
  },
  {
   "cell_type": "markdown",
   "metadata": {},
   "source": [
    "## 포맷처리"
   ]
  },
  {
   "cell_type": "code",
   "execution_count": 15,
   "metadata": {},
   "outputs": [
    {
     "name": "stdout",
     "output_type": "stream",
     "text": [
      "   0 : 0.000000 1.000000 0.000000  \n",
      "  10 : -0.544021 -0.839072 0.648361  \n",
      "  20 : 0.912945 0.408082 2.237161  \n",
      "  30 : -0.988032 0.154251 -6.405331  \n",
      "  40 : 0.745113 -0.666938 -1.117215  \n",
      "  50 : -0.262375 0.964966 -0.271901  \n",
      "  60 : -0.304811 -0.952413 0.320040  \n",
      "  70 : 0.773891 0.633319 1.221960  \n",
      "  80 : -0.993889 -0.110387 9.003655  \n",
      "  90 : 0.893997 -0.448074 -1.995200  \n",
      " 100 : -0.506366 0.862319 -0.587214  \n",
      " 110 : -0.044243 -0.999021 0.044286  \n",
      " 120 : 0.580611 0.814181 0.713123  \n",
      " 130 : -0.930106 -0.367291 2.532338  \n",
      " 140 : 0.980240 -0.197814 -4.955371  \n",
      " 150 : -0.714876 0.699251 -1.022346  \n",
      " 160 : 0.219425 -0.975629 -0.224906  \n",
      " 170 : 0.346649 0.937995 0.369564  \n",
      " 180 : -0.801153 -0.598460 1.338690  \n"
     ]
    }
   ],
   "source": [
    "import numpy as np\n",
    "\n",
    "fmt = \" {:3d} : {:>-2.6f} {:>2.6f} {:>2.6f}  \"\n",
    "\n",
    "for i in range(0,181,10) :\n",
    "    print(fmt.format(i,np.sin(i), np.cos(i), np.tan(i)))"
   ]
  },
  {
   "cell_type": "code",
   "execution_count": 16,
   "metadata": {
    "scrolled": true
   },
   "outputs": [
    {
     "name": "stdout",
     "output_type": "stream",
     "text": [
      "[  1.00000000e+00   6.12323400e-17  -1.00000000e+00]\n",
      "[ 0.99500417  0.98006658  0.95533649]\n",
      "True\n"
     ]
    }
   ],
   "source": [
    "import numpy as np\n",
    "\n",
    "out1 = np.cos(np.array([0, np.pi/2, np.pi]))\n",
    "print(out1)\n",
    "# Example of providing the optional output parameter\n",
    "out2 = np.cos([0.1,0.2,0.3], out1)\n",
    "print(out1)\n",
    "print(out2 is out1)"
   ]
  },
  {
   "cell_type": "code",
   "execution_count": 17,
   "metadata": {},
   "outputs": [
    {
     "name": "stdout",
     "output_type": "stream",
     "text": [
      "[  0.00000000e+00   1.00000000e+00   1.22464680e-16]\n",
      "[ 0.09983342  0.19866933  0.29552021]\n",
      "True\n"
     ]
    }
   ],
   "source": [
    "import numpy as np\n",
    "\n",
    "out1 = np.sin(np.array([0, np.pi/2, np.pi]))\n",
    "print(out1)\n",
    "# Example of providing the optional output parameter\n",
    "out2 = np.sin([0.1,0.2,0.3], out1)\n",
    "print(out1)\n",
    "print(out2 is out1)"
   ]
  },
  {
   "cell_type": "code",
   "execution_count": 18,
   "metadata": {},
   "outputs": [
    {
     "name": "stdout",
     "output_type": "stream",
     "text": [
      "1.57079632679\n",
      "1.0\n",
      "0.841470984808\n",
      "1.5707963267948966\n"
     ]
    }
   ],
   "source": [
    "import numpy as np\n",
    "\n",
    "print(np.arcsin(1) )   # pi/2\n",
    "y = np.sin(np.pi/2)\n",
    "print(y)\n",
    "\n",
    "x = np.sin(y)\n",
    "print(x)\n",
    "print(np.pi/2)"
   ]
  },
  {
   "cell_type": "code",
   "execution_count": 19,
   "metadata": {},
   "outputs": [
    {
     "name": "stdout",
     "output_type": "stream",
     "text": [
      "0.0\n",
      "0.0\n",
      "1.57079632679\n",
      "1.5707963267948966\n"
     ]
    }
   ],
   "source": [
    "import numpy as np\n",
    "\n",
    "print(np.arccos(1) )   \n",
    "\n",
    "y = round((np.cos(np.pi/2)),5)\n",
    "print(y)\n",
    "x = np.arccos(y)\n",
    "print(x)\n",
    "print(np.pi/2)\n"
   ]
  },
  {
   "cell_type": "code",
   "execution_count": 20,
   "metadata": {},
   "outputs": [
    {
     "name": "stdout",
     "output_type": "stream",
     "text": [
      "0.785398163397\n",
      "1.0\n",
      "0.785398163397\n",
      "0.7853981633974483\n"
     ]
    }
   ],
   "source": [
    "import numpy as np\n",
    "\n",
    "print(np.arctan(1.0) )   \n",
    "\n",
    "y = round((np.tan(np.pi/4)),5)\n",
    "print(y)\n",
    "x = np.arctan(1.0)\n",
    "print(x)\n",
    "print(np.pi/4)"
   ]
  },
  {
   "cell_type": "code",
   "execution_count": 21,
   "metadata": {},
   "outputs": [
    {
     "ename": "AttributeError",
     "evalue": "module 'scipy' has no attribute 'linalg'",
     "output_type": "error",
     "traceback": [
      "\u001b[0;31m---------------------------------------------------------------------------\u001b[0m",
      "\u001b[0;31mAttributeError\u001b[0m                            Traceback (most recent call last)",
      "\u001b[0;32m<ipython-input-21-fcf6fd56cd87>\u001b[0m in \u001b[0;36m<module>\u001b[0;34m()\u001b[0m\n\u001b[1;32m      2\u001b[0m \u001b[0;32mimport\u001b[0m \u001b[0mscipy\u001b[0m\u001b[0;34m\u001b[0m\u001b[0m\n\u001b[1;32m      3\u001b[0m \u001b[0;34m\u001b[0m\u001b[0m\n\u001b[0;32m----> 4\u001b[0;31m \u001b[0mscipy\u001b[0m\u001b[0;34m.\u001b[0m\u001b[0mlinalg\u001b[0m\u001b[0;34m.\u001b[0m\u001b[0mlu\u001b[0m\u001b[0;34m\u001b[0m\u001b[0m\n\u001b[0m",
      "\u001b[0;31mAttributeError\u001b[0m: module 'scipy' has no attribute 'linalg'"
     ]
    }
   ],
   "source": [
    "import numpy as np\n",
    "import scipy\n",
    "\n",
    "scipy.linalg.lu"
   ]
  },
  {
   "cell_type": "code",
   "execution_count": 22,
   "metadata": {},
   "outputs": [
    {
     "name": "stdout",
     "output_type": "stream",
     "text": [
      "A:\n",
      "array([[ 7,  3, -1,  2],\n",
      "       [ 3,  8,  1, -4],\n",
      "       [-1,  1,  4, -1],\n",
      "       [ 2, -4, -1,  6]])\n",
      "P:\n",
      "array([[ 1.,  0.,  0.,  0.],\n",
      "       [ 0.,  1.,  0.,  0.],\n",
      "       [ 0.,  0.,  1.,  0.],\n",
      "       [ 0.,  0.,  0.,  1.]])\n",
      "L:\n",
      "array([[ 1.        ,  0.        ,  0.        ,  0.        ],\n",
      "       [ 0.42857143,  1.        ,  0.        ,  0.        ],\n",
      "       [-0.14285714,  0.21276596,  1.        ,  0.        ],\n",
      "       [ 0.28571429, -0.72340426,  0.08982036,  1.        ]])\n",
      "U:\n",
      "array([[ 7.        ,  3.        , -1.        ,  2.        ],\n",
      "       [ 0.        ,  6.71428571,  1.42857143, -4.85714286],\n",
      "       [ 0.        ,  0.        ,  3.55319149,  0.31914894],\n",
      "       [ 0.        ,  0.        ,  0.        ,  1.88622754]])\n"
     ]
    }
   ],
   "source": [
    "import pprint\n",
    "import numpy as np\n",
    "import scipy.linalg   # SciPy Linear Algebra Library\n",
    "\n",
    "A = np.array([ [7, 3, -1, 2], [3, 8, 1, -4],\n",
    "              [-1, 1, 4, -1], [2, -4, -1, 6] ])\n",
    "P, L, U = scipy.linalg.lu(A)\n",
    "\n",
    "print (\"A:\")\n",
    "pprint.pprint(A)\n",
    "print(\"P:\")\n",
    "pprint.pprint(P)\n",
    "print(\"L:\")\n",
    "pprint.pprint(L)\n",
    "print(\"U:\")\n",
    "pprint.pprint(U)"
   ]
  },
  {
   "cell_type": "code",
   "execution_count": 23,
   "metadata": {},
   "outputs": [
    {
     "name": "stdout",
     "output_type": "stream",
     "text": [
      "[[ -2.79182316e-01   8.08895055e-01   9.69348229e-02   5.08281088e-01]\n",
      " [ -8.10078065e-01   8.50435017e-02  -8.89473370e-04  -5.80120970e-01]\n",
      " [ -1.34332727e-01  -2.53385991e-01   9.46336978e-01   1.48985172e-01]\n",
      " [  4.97780554e-01   5.23690684e-01   3.08300458e-01  -6.18799979e-01]]\n",
      "[[-0.8819171   0.12001372 -0.10823812 -0.44283568]\n",
      " [-0.37796447 -0.75437193  0.06201752  0.53312257]\n",
      " [ 0.12598816 -0.18859298 -0.97180277 -0.06449063]\n",
      " [-0.25197632  0.6172134  -0.20009425  0.71799572]]\n"
     ]
    }
   ],
   "source": [
    "import pprint\n",
    "import numpy as np\n",
    "import scipy.linalg   # SciPy Linear Algebra Library\n",
    "\n",
    "A = np.array([ [7, 3, -1, 2], [3, 8, 1, -4],\n",
    "              [-1, 1, 4, -1], [2, -4, -1, 6] ])\n",
    "Q = scipy.linalg.orth(A)\n",
    "print(Q)\n",
    "\n",
    "Q1,R = scipy.linalg.qr(A)\n",
    "print(Q1)"
   ]
  },
  {
   "cell_type": "code",
   "execution_count": 24,
   "metadata": {},
   "outputs": [
    {
     "name": "stdout",
     "output_type": "stream",
     "text": [
      "3.0\n",
      "4.28571428571\n",
      "7.91836734694\n",
      "2.81395937194\n"
     ]
    }
   ],
   "source": [
    "import numpy as np\n",
    "a = np.array([1, 4, 3, 8, 9, 2, 3], float)\n",
    "\n",
    "print(np.median(a))\n",
    "print(np.mean(a))\n",
    "print(np.var(a))\n",
    "print(np.std(a))"
   ]
  },
  {
   "cell_type": "code",
   "execution_count": 25,
   "metadata": {},
   "outputs": [
    {
     "name": "stdout",
     "output_type": "stream",
     "text": [
      "3.0\n",
      "3.5\n"
     ]
    }
   ],
   "source": [
    "import numpy as np\n",
    "\n",
    "A = np.array([1, 4, 3, 8, 9, 2, 3], float)\n",
    "print(np.median(A))\n",
    "\n",
    "B = np.array([1, 4, 3, 8, 9, 2, np.nan], float)\n",
    "print(np.nanmedian(B))"
   ]
  },
  {
   "cell_type": "code",
   "execution_count": 26,
   "metadata": {},
   "outputs": [
    {
     "name": "stdout",
     "output_type": "stream",
     "text": [
      "4.28571428571\n",
      "4.28571428571\n",
      "4.5\n"
     ]
    }
   ],
   "source": [
    "import numpy as np\n",
    "A = np.array([1, 4, 3, 8, 9, 2, 3], float)\n",
    "print(np.mean(A))\n",
    "print(np.average(A))\n",
    "B = np.array([1, 4, 3, 8, 9, 2, np.nan], float)\n",
    "print(np.nanmean(B))\n"
   ]
  },
  {
   "cell_type": "code",
   "execution_count": 27,
   "metadata": {},
   "outputs": [
    {
     "name": "stdout",
     "output_type": "stream",
     "text": [
      "9.2380952381\n",
      "3.03942350423\n",
      "10.7\n",
      "3.27108544676\n"
     ]
    }
   ],
   "source": [
    "import numpy as np\n",
    "A = np.array([1, 4, 3, 8, 9, 2, 3], float)\n",
    "\n",
    "print(np.var(A,ddof=1))\n",
    "print(np.std(A,ddof=1))\n",
    "\n",
    "B = np.array([1, 4, 3, 8, 9, 2, np.nan], float)\n",
    "print(np.nanvar(B,ddof=1))\n",
    "print(np.nanstd(B,ddof=1))"
   ]
  },
  {
   "cell_type": "code",
   "execution_count": 28,
   "metadata": {},
   "outputs": [
    {
     "name": "stdout",
     "output_type": "stream",
     "text": [
      "7.91836734694\n",
      "2.81395937194\n",
      "8.91666666667\n",
      "2.98607881119\n"
     ]
    }
   ],
   "source": [
    "import numpy as np\n",
    "A = np.array([1, 4, 3, 8, 9, 2, 3], float)\n",
    "\n",
    "print(np.var(A))\n",
    "print(np.std(A))\n",
    "\n",
    "B = np.array([1, 4, 3, 8, 9, 2, np.nan], float)\n",
    "print(np.nanvar(B))\n",
    "print(np.nanstd(B))"
   ]
  },
  {
   "cell_type": "code",
   "execution_count": 29,
   "metadata": {},
   "outputs": [
    {
     "name": "stdout",
     "output_type": "stream",
     "text": [
      "[[ 1.  4.  3.]\n",
      " [ 8.  9.  2.]]\n",
      "[ 4.5  6.5  2.5]\n",
      "[ 4.5  6.5  2.5]\n",
      "[ 24.5  12.5   0.5]\n",
      "[ 4.94974747  3.53553391  0.70710678]\n"
     ]
    }
   ],
   "source": [
    "import numpy as np\n",
    "a = np.array([1, 4, 3, 8, 9, 2], float).reshape(2,3)\n",
    "print(a)\n",
    "print(np.median(a,axis=0))\n",
    "print(np.mean(a,axis=0))\n",
    "print(np.var(a,axis=0,ddof=1))\n",
    "print(np.std(a,axis=0,ddof=1))"
   ]
  },
  {
   "cell_type": "code",
   "execution_count": null,
   "metadata": {
    "collapsed": true
   },
   "outputs": [],
   "source": []
  },
  {
   "cell_type": "code",
   "execution_count": 30,
   "metadata": {},
   "outputs": [
    {
     "name": "stdout",
     "output_type": "stream",
     "text": [
      "[[ 1.          0.72870505]\n",
      " [ 0.72870505  1.        ]]\n",
      "[[ 0.91666667  2.08333333]\n",
      " [ 2.08333333  8.91666667]]\n"
     ]
    }
   ],
   "source": [
    "import numpy as np\n",
    "\n",
    "a = np.array([[1, 2, 1, 3], [5, 3, 1, 8]], float)\n",
    "c = np.corrcoef(a)\n",
    "\n",
    "print(c)\n",
    "print(np.cov(a))"
   ]
  },
  {
   "cell_type": "code",
   "execution_count": 31,
   "metadata": {},
   "outputs": [
    {
     "name": "stdout",
     "output_type": "stream",
     "text": [
      "[ 0.33677247  0.52693437  0.79529578  0.78867702  0.02147624]\n",
      "[ 0.33677247  0.52693437  0.79529578  0.78867702  0.02147624]\n",
      "[ 0.84612516  0.0704939   0.1526965   0.77831701  0.80821151]\n",
      "[ 0.33677247  0.52693437  0.79529578  0.78867702  0.02147624]\n"
     ]
    }
   ],
   "source": [
    "import numpy as np\n",
    "\n",
    "np.random.seed(293423)\n",
    "print(np.random.rand(5))\n",
    "np.random.seed(293423)\n",
    "print(np.random.rand(5))\n",
    "print(np.random.rand(5))\n",
    "np.random.seed(293423)\n",
    "print(np.random.rand(5))"
   ]
  },
  {
   "cell_type": "code",
   "execution_count": 32,
   "metadata": {},
   "outputs": [
    {
     "name": "stdout",
     "output_type": "stream",
     "text": [
      "[ 0.84612516  0.0704939   0.1526965 ]\n",
      "[[ 0.77831701  0.80821151  0.82198398]\n",
      " [ 0.90239653  0.8385685   0.02638565]\n",
      " [ 0.33681448  0.46480928  0.61686496]]\n"
     ]
    }
   ],
   "source": [
    "import numpy as np\n",
    "\n",
    "a = np.random.rand(3)\n",
    "print(a)\n",
    "a2 = np.random.rand(3,3)\n",
    "print(a2)"
   ]
  },
  {
   "cell_type": "code",
   "execution_count": 33,
   "metadata": {},
   "outputs": [
    {
     "name": "stdout",
     "output_type": "stream",
     "text": [
      "[-1.16325047 -0.20889529 -0.66229909]\n",
      "[[-0.99579575  2.26324974 -0.94420948]\n",
      " [ 1.32513673 -0.80002789 -0.33701576]\n",
      " [ 0.00696034  0.02353519 -1.87609929]]\n",
      "[[ 4.49024631  3.77127322  5.50473781  4.44724697]\n",
      " [ 2.16716266  1.88103531  3.0891184   4.06438887]]\n"
     ]
    }
   ],
   "source": [
    "import numpy as np\n",
    "\n",
    "a = np.random.randn(3)\n",
    "print(a)\n",
    "a2 = np.random.randn(3,3)\n",
    "print(a2)\n",
    "\n",
    "# sigma(표준편차) * np.random.randn(...) + mu(평균)\n",
    "c = 2.5 * np.random.randn(2, 4) + 3\n",
    "print(c)"
   ]
  },
  {
   "cell_type": "code",
   "execution_count": 34,
   "metadata": {},
   "outputs": [
    {
     "name": "stdout",
     "output_type": "stream",
     "text": [
      "1\n",
      "4\n",
      "[1 1 0 1 0 0 0 1 1 0]\n",
      "[0 0 0 0 0 0 0 0 0 0]\n",
      "[[0 3 4 0]\n",
      " [2 0 4 1]]\n"
     ]
    }
   ],
   "source": [
    "import numpy as np\n",
    "\n",
    "a = np.random.randint(3)\n",
    "print(a)\n",
    "\n",
    "b = np.random.randint(3, 10)\n",
    "print(b)\n",
    "\n",
    "print(np.random.randint(2, size=10))\n",
    "print(np.random.randint(1, size=10))\n",
    "print(np.random.randint(5, size=(2, 4)))\n"
   ]
  },
  {
   "cell_type": "code",
   "execution_count": 35,
   "metadata": {},
   "outputs": [
    {
     "name": "stdout",
     "output_type": "stream",
     "text": [
      "2\n"
     ]
    },
    {
     "name": "stderr",
     "output_type": "stream",
     "text": [
      "/Users/dahlmoon/anaconda/lib/python3.6/site-packages/ipykernel_launcher.py:3: DeprecationWarning: This function is deprecated. Please call randint(1, 3 + 1) instead\n",
      "  This is separate from the ipykernel package so we can avoid doing imports until\n"
     ]
    }
   ],
   "source": [
    "import numpy as np\n",
    "\n",
    "a = np.random.random_integers(3)\n",
    "print(a)\n"
   ]
  },
  {
   "cell_type": "code",
   "execution_count": 36,
   "metadata": {},
   "outputs": [
    {
     "name": "stdout",
     "output_type": "stream",
     "text": [
      "Help on built-in function randint:\n",
      "\n",
      "randint(...) method of mtrand.RandomState instance\n",
      "    randint(low, high=None, size=None, dtype='l')\n",
      "    \n",
      "    Return random integers from `low` (inclusive) to `high` (exclusive).\n",
      "    \n",
      "    Return random integers from the \"discrete uniform\" distribution of\n",
      "    the specified dtype in the \"half-open\" interval [`low`, `high`). If\n",
      "    `high` is None (the default), then results are from [0, `low`).\n",
      "    \n",
      "    Parameters\n",
      "    ----------\n",
      "    low : int\n",
      "        Lowest (signed) integer to be drawn from the distribution (unless\n",
      "        ``high=None``, in which case this parameter is one above the\n",
      "        *highest* such integer).\n",
      "    high : int, optional\n",
      "        If provided, one above the largest (signed) integer to be drawn\n",
      "        from the distribution (see above for behavior if ``high=None``).\n",
      "    size : int or tuple of ints, optional\n",
      "        Output shape.  If the given shape is, e.g., ``(m, n, k)``, then\n",
      "        ``m * n * k`` samples are drawn.  Default is None, in which case a\n",
      "        single value is returned.\n",
      "    dtype : dtype, optional\n",
      "        Desired dtype of the result. All dtypes are determined by their\n",
      "        name, i.e., 'int64', 'int', etc, so byteorder is not available\n",
      "        and a specific precision may have different C types depending\n",
      "        on the platform. The default value is 'np.int'.\n",
      "    \n",
      "        .. versionadded:: 1.11.0\n",
      "    \n",
      "    Returns\n",
      "    -------\n",
      "    out : int or ndarray of ints\n",
      "        `size`-shaped array of random integers from the appropriate\n",
      "        distribution, or a single such random int if `size` not provided.\n",
      "    \n",
      "    See Also\n",
      "    --------\n",
      "    random.random_integers : similar to `randint`, only for the closed\n",
      "        interval [`low`, `high`], and 1 is the lowest value if `high` is\n",
      "        omitted. In particular, this other one is the one to use to generate\n",
      "        uniformly distributed discrete non-integers.\n",
      "    \n",
      "    Examples\n",
      "    --------\n",
      "    >>> np.random.randint(2, size=10)\n",
      "    array([1, 0, 0, 0, 1, 1, 0, 0, 1, 0])\n",
      "    >>> np.random.randint(1, size=10)\n",
      "    array([0, 0, 0, 0, 0, 0, 0, 0, 0, 0])\n",
      "    \n",
      "    Generate a 2 x 4 array of ints between 0 and 4, inclusive:\n",
      "    \n",
      "    >>> np.random.randint(5, size=(2, 4))\n",
      "    array([[4, 0, 2, 1],\n",
      "           [3, 2, 2, 0]])\n",
      "\n"
     ]
    }
   ],
   "source": [
    "help(np.random.randint)"
   ]
  },
  {
   "cell_type": "code",
   "execution_count": 37,
   "metadata": {},
   "outputs": [
    {
     "name": "stdout",
     "output_type": "stream",
     "text": [
      "[ True  True]\n",
      "[False False]\n",
      "[False False]\n",
      "[False False]\n",
      "[False False]\n"
     ]
    }
   ],
   "source": [
    "import numpy as np\n",
    "\n",
    "x = np.arange(2.0,4)\n",
    "y = x >= 0\n",
    "z = x < 2\n",
    "print(y)\n",
    "print(z)\n",
    "print(np.logical_and(y, z))\n",
    "print(y & z)\n",
    "print((x > 0) & (x < 2))"
   ]
  },
  {
   "cell_type": "code",
   "execution_count": 38,
   "metadata": {},
   "outputs": [
    {
     "name": "stdout",
     "output_type": "stream",
     "text": [
      "[ True  True]\n",
      "[False False]\n",
      "[ True  True]\n",
      "[ True  True]\n",
      "[ True  True]\n"
     ]
    }
   ],
   "source": [
    "import numpy as np\n",
    "\n",
    "x = np.arange(2.0,4)\n",
    "y = x >= 0\n",
    "z = x < 2\n",
    "print(y)\n",
    "print(z)\n",
    "print(np.logical_or(y, z))\n",
    "print(y |z)\n",
    "print((x > 0) | (x < 2))"
   ]
  },
  {
   "cell_type": "code",
   "execution_count": 39,
   "metadata": {},
   "outputs": [
    {
     "name": "stdout",
     "output_type": "stream",
     "text": [
      "[ True  True]\n",
      "[False False]\n",
      "[False False]\n"
     ]
    }
   ],
   "source": [
    "import numpy as np\n",
    "\n",
    "x = np.arange(2.0,4)\n",
    "y = x >= 0\n",
    "\n",
    "print(y)\n",
    "print(np.logical_not(y))\n",
    "print(~y)"
   ]
  },
  {
   "cell_type": "code",
   "execution_count": 40,
   "metadata": {},
   "outputs": [
    {
     "name": "stdout",
     "output_type": "stream",
     "text": [
      "[False False False  True]\n",
      "[False False  True False]\n",
      "[ True  True False False]\n"
     ]
    }
   ],
   "source": [
    "import numpy as np\n",
    "\n",
    "x = np.array([4,np.pi,np.inf,np.inf/np.inf])\n",
    "\n",
    "print(np.isnan(x))\n",
    "print(np.isinf(x))\n",
    "print(np.isfinite(x))\n"
   ]
  },
  {
   "cell_type": "code",
   "execution_count": 41,
   "metadata": {},
   "outputs": [
    {
     "name": "stdout",
     "output_type": "stream",
     "text": [
      "[ 0.          1.          2.          1.09861229]\n",
      "[ 0.          0.43429448  0.86858896  0.47712125]\n",
      "[ 0.          1.44269504  2.88539008  1.5849625 ]\n",
      "[ 0.69314718  1.31326169  2.12692801  1.38629436]\n"
     ]
    }
   ],
   "source": [
    "import numpy as np\n",
    "\n",
    "x = np.log([1, np.e, np.e**2, 3])\n",
    "print(x)\n",
    "y = np.log10([1, np.e, np.e**2, 3])\n",
    "print(y)\n",
    "z = np.log2([1, np.e, np.e**2, 3])\n",
    "print(z)\n",
    "\n",
    "a = np.log1p([1, np.e, np.e**2, 3])\n",
    "print(a)"
   ]
  },
  {
   "cell_type": "code",
   "execution_count": 42,
   "metadata": {},
   "outputs": [
    {
     "name": "stdout",
     "output_type": "stream",
     "text": [
      "[[  1.86744273e-03 +4.57391553e-19j   2.12018428e-03 +5.19295378e-19j\n",
      "    2.40713211e-03 +5.89577328e-19j ...,   4.15432121e+02 +1.01751523e-13j\n",
      "    4.71657115e+02 +1.15522675e-13j   5.35491656e+02 +1.31157628e-13j]\n",
      " [  1.85241881e-03 +2.36404157e-04j   2.10312700e-03 +2.68399330e-04j\n",
      "    2.38776629e-03 +3.04724760e-04j ...,   4.12089892e+02 +5.25905715e+01j\n",
      "    4.67862545e+02 +5.97082315e+01j   5.31183525e+02 +6.77892025e+01j]\n",
      " [  1.80758877e-03 +4.69004483e-04j   2.05222962e-03 +5.32480014e-04j\n",
      "    2.32998040e-03 +6.04546385e-04j ...,   4.02116982e+02 +1.04334941e+02j\n",
      "    4.56539892e+02 +1.18455735e+02j   5.18328453e+02 +1.34487651e+02j]\n",
      " ..., \n",
      " [  1.80758877e-03 -4.69004483e-04j   2.05222962e-03 -5.32480014e-04j\n",
      "    2.32998040e-03 -6.04546385e-04j ...,   4.02116982e+02 -1.04334941e+02j\n",
      "    4.56539892e+02 -1.18455735e+02j   5.18328453e+02 -1.34487651e+02j]\n",
      " [  1.85241881e-03 -2.36404157e-04j   2.10312700e-03 -2.68399330e-04j\n",
      "    2.38776629e-03 -3.04724760e-04j ...,   4.12089892e+02 -5.25905715e+01j\n",
      "    4.67862545e+02 -5.97082315e+01j   5.31183525e+02 -6.77892025e+01j]\n",
      " [  1.86744273e-03 -4.57391553e-19j   2.12018428e-03 -5.19295378e-19j\n",
      "    2.40713211e-03 -5.89577328e-19j ...,   4.15432121e+02 -1.01751523e-13j\n",
      "    4.71657115e+02 -1.15522675e-13j   5.35491656e+02 -1.31157628e-13j]]\n"
     ]
    }
   ],
   "source": [
    "import numpy as np\n",
    "\n",
    "x = np.linspace(-2*np.pi, 2*np.pi, 100)\n",
    "xx = x + 1j * x[:, np.newaxis] # a + ib over complex plane\n",
    "out = np.exp(xx)\n",
    "print(out)"
   ]
  },
  {
   "cell_type": "code",
   "execution_count": 43,
   "metadata": {},
   "outputs": [
    {
     "name": "stdout",
     "output_type": "stream",
     "text": [
      "[ 1  2  3 -7]\n",
      "1\n",
      "2\n",
      "3\n",
      "-7\n"
     ]
    }
   ],
   "source": [
    "x = np.array([1, 2, 4, 7, 0])\n",
    "\n",
    "print(np.diff(x))\n",
    "print(x[1] - x[0])\n",
    "print(x[2] - x[1])\n",
    "print(x[3] - x[2])\n",
    "print(x[4] - x[3])\n"
   ]
  },
  {
   "cell_type": "code",
   "execution_count": 44,
   "metadata": {},
   "outputs": [
    {
     "name": "stdout",
     "output_type": "stream",
     "text": [
      "[ 1  2  3 -7]\n",
      "1\n",
      "1\n",
      "-10\n"
     ]
    }
   ],
   "source": [
    "x = np.array([1, 2, 4, 7, 0])\n",
    "xd = np.diff(x)\n",
    "print(xd)\n",
    "xx = np.diff(x,n=2)\n",
    "print(xd[1] - xd[0])\n",
    "print(xd[2] - xd[1])\n",
    "print(xd[3] - xd[2])"
   ]
  },
  {
   "cell_type": "code",
   "execution_count": 45,
   "metadata": {},
   "outputs": [
    {
     "name": "stdout",
     "output_type": "stream",
     "text": [
      "[ 1.   1.5  2.5  3.5  4.5  5. ]\n"
     ]
    }
   ],
   "source": [
    "import numpy as np\n",
    "\n",
    "x = np.array([1, 2, 4, 7, 11, 16], dtype=np.float)\n",
    "j = np.gradient(x)\n",
    "print(j)"
   ]
  },
  {
   "cell_type": "code",
   "execution_count": 46,
   "metadata": {},
   "outputs": [
    {
     "name": "stdout",
     "output_type": "stream",
     "text": [
      "[ 1.   1.5  2.5  3.5  4.5  5. ]\n"
     ]
    }
   ],
   "source": [
    "\n",
    "import numpy as np\n",
    "\n",
    "x = np.array([1, 2, 4, 7, 11, 16], dtype=np.float)\n",
    "j = np.zeros(6)\n",
    "j[0] = (x[1]-x[0])/1 \n",
    "j[1] = (x[2]-x[0])/2 \n",
    "j[2] = (x[3]-x[1])/2 \n",
    "j[3] = (x[4]-x[2])/2 \n",
    "j[4] = (x[5]-x[3])/2 \n",
    "j[5] = (x[5]-x[4])/1\n",
    "\n",
    "print(j)"
   ]
  },
  {
   "cell_type": "code",
   "execution_count": 47,
   "metadata": {},
   "outputs": [
    {
     "name": "stdout",
     "output_type": "stream",
     "text": [
      "[[-1. -1. -1.]\n",
      " [-1. -1. -1.]]\n",
      "[[ 1.  1.  1.]\n",
      " [ 1.  1.  1.]]\n"
     ]
    }
   ],
   "source": [
    "import numpy as np\n",
    "\n",
    "a = np.array([[4, 5, 6], [3, 4, 5]], dtype=np.float)\n",
    "x,y = np.gradient(a)\n",
    "print(x)\n",
    "print(y)"
   ]
  },
  {
   "cell_type": "code",
   "execution_count": 48,
   "metadata": {},
   "outputs": [
    {
     "name": "stdout",
     "output_type": "stream",
     "text": [
      "[[-1. -1. -1.]\n",
      " [-1. -1. -1.]]\n"
     ]
    }
   ],
   "source": [
    "import numpy as np\n",
    "\n",
    "a = np.array([[4, 5, 6], [3, 4, 5]], dtype=np.float)\n",
    "j = np.zeros((2,3))\n",
    "j[0,0] = (a[1,0]-a[0,0])/1 \n",
    "j[0,1] = (a[1,1]-a[0,1])/1 \n",
    "j[0,2] = (a[1,2]-a[0,2])/1 \n",
    "j[1,0] = (a[1,0]-a[0,0])/1 \n",
    "j[1,1] = (a[1,1]-a[0,1])/1 \n",
    "j[1,2] = (a[1,2]-a[0,2])/1 \n",
    "print(j)"
   ]
  },
  {
   "cell_type": "code",
   "execution_count": 49,
   "metadata": {},
   "outputs": [
    {
     "name": "stdout",
     "output_type": "stream",
     "text": [
      "[[ 1.  1.  1.]\n",
      " [ 1.  1.  1.]]\n"
     ]
    }
   ],
   "source": [
    "import numpy as np\n",
    "\n",
    "a = np.array([[4, 5, 6], [3, 4, 5]], dtype=np.float)\n",
    "j = np.zeros((2,3))\n",
    "j[0,0] = (a[0,1]-a[0,0])/1 \n",
    "j[0,1] = (a[0,2]-a[0,0])/2 \n",
    "j[0,2] = (a[0,2]-a[0,1])/1\n",
    "j[1,0] = (a[1,1]-a[1,0])/1 \n",
    "j[1,1] = (a[1,2]-a[1,0])/2 \n",
    "j[1,2] = (a[1,2]-a[1,1])/1\n",
    "print(j)"
   ]
  },
  {
   "cell_type": "code",
   "execution_count": 50,
   "metadata": {},
   "outputs": [
    {
     "name": "stdout",
     "output_type": "stream",
     "text": [
      "[ 1.   1.5  2. ]\n",
      "[ 1.   1.5  2. ]\n"
     ]
    }
   ],
   "source": [
    "x = np.array([1, 2, 4], dtype=np.float)\n",
    "print(np.gradient(x))\n",
    "\n",
    "j = np.zeros(3)\n",
    "j[0] = (x[1]-x[0])/1 \n",
    "j[1] = (x[2]-x[0])/2 \n",
    "j[2] = (x[2]-x[1])/1\n",
    "\n",
    "print(j)"
   ]
  },
  {
   "cell_type": "code",
   "execution_count": 51,
   "metadata": {},
   "outputs": [
    {
     "name": "stdout",
     "output_type": "stream",
     "text": [
      "[ 1.   1.5  2. ]\n"
     ]
    }
   ],
   "source": [
    "\n",
    "j = np.zeros(3)\n",
    "j[0] = (x[1]-x[0])/1 \n",
    "j[1] = (x[2]-x[0])/2 \n",
    "j[2] = (x[2]-x[1])/1\n",
    "\n",
    "print(j)"
   ]
  },
  {
   "cell_type": "code",
   "execution_count": 52,
   "metadata": {},
   "outputs": [
    {
     "name": "stdout",
     "output_type": "stream",
     "text": [
      "4.0\n",
      "4.0\n"
     ]
    }
   ],
   "source": [
    "a = np.array([1,2,3])\n",
    "x = np.trapz(a)\n",
    "print(x)\n",
    "\n",
    "#(b-a) *(b+a)/2 \n",
    "c = (a[2]-a[0])\n",
    "d = c * ((a[len(a)-1]+ a[0])/2.)\n",
    "print(d)"
   ]
  },
  {
   "cell_type": "code",
   "execution_count": 53,
   "metadata": {},
   "outputs": [
    {
     "name": "stdout",
     "output_type": "stream",
     "text": [
      "7.5\n",
      "7.5\n"
     ]
    }
   ],
   "source": [
    "a = np.array([1,2,3,4])\n",
    "x = np.trapz(a)\n",
    "print(x)\n",
    "\n",
    "#(b-a) *(b+a)/2 \n",
    "c = (a[len(a)-1]-a[0])\n",
    "d = c * ((a[len(a)-1]+ a[0])/2.)\n",
    "print(d)"
   ]
  },
  {
   "cell_type": "code",
   "execution_count": 54,
   "metadata": {},
   "outputs": [
    {
     "name": "stdout",
     "output_type": "stream",
     "text": [
      "8.0\n",
      "2\n",
      "8\n",
      "4\n",
      "8.0\n"
     ]
    }
   ],
   "source": [
    "a = np.array([1,2,3])\n",
    "x_a = np.array([4,6,8])\n",
    "x = np.trapz(a, x=[4,6,8])\n",
    "print(x)\n",
    "\n",
    "\n",
    "#(b-a) *(b+a)/2 \n",
    "c = (a[len(x_a)-1]-a[0])\n",
    "print(c)\n",
    "def y(x) :\n",
    "    return 2*x+2\n",
    "\n",
    "print(y(a[len(a)-1]))\n",
    "print(y(a[0]))\n",
    "xx = y(a[len(a)-1])+ y(a[0])\n",
    "d = c * (xx/len(x_a))\n",
    "print(d)"
   ]
  },
  {
   "cell_type": "code",
   "execution_count": 55,
   "metadata": {},
   "outputs": [
    {
     "name": "stdout",
     "output_type": "stream",
     "text": [
      "[[0 1 2]\n",
      " [3 4 5]]\n",
      "[ 1.5  2.5  3.5]\n",
      "[3 3 3]\n",
      "[6 7 8]\n",
      "[3 4 5]\n",
      "[ 13.5  16.5  19.5]\n"
     ]
    }
   ],
   "source": [
    "a = np.arange(6).reshape(2, 3)\n",
    "print(a)\n",
    "\n",
    "print(np.trapz(a, axis=0))\n",
    "\n",
    "#(b-a) *(b+a)/2 \n",
    "c = (a[len(a)-1]-a[0])\n",
    "print(c)\n",
    "def y(x) :\n",
    "    return x+3\n",
    "\n",
    "print(y(a[len(a)-1]))\n",
    "print(y(a[0]))\n",
    "xx = y(a[len(a)-1])+ y(a[0])\n",
    "d = c * (xx/len(a[:,1]))\n",
    "print(d)\n"
   ]
  },
  {
   "cell_type": "code",
   "execution_count": 56,
   "metadata": {},
   "outputs": [
    {
     "name": "stdout",
     "output_type": "stream",
     "text": [
      "[ 2.  8.]\n",
      "2.0\n",
      "8.0\n"
     ]
    }
   ],
   "source": [
    "print(np.trapz(a, axis=1))\n",
    "#(b-a) *(b+a)/2 \n",
    "c = (a[0,2]-a[0,0])\n",
    "d = c * ((a[0,0]+ a[0,2])/2.)\n",
    "print(d)\n",
    "c = (a[1,2]-a[1,0])\n",
    "d = c * ((a[1,0]+ a[1,2])/2.)\n",
    "print(d)"
   ]
  },
  {
   "cell_type": "code",
   "execution_count": 57,
   "metadata": {},
   "outputs": [
    {
     "name": "stdout",
     "output_type": "stream",
     "text": [
      "[0 1 2 3]\n",
      "[0 1 3 6]\n",
      "4.5\n",
      "Trapezoidal integration:  11.0\n"
     ]
    }
   ],
   "source": [
    "import numpy as np\n",
    "x = np.arange(0,4)\n",
    "print(x)\n",
    "dx = x[1] - x[0]\n",
    "\n",
    "F = np.cumsum(x) * dx\n",
    "print(F)\n",
    "print(np.trapz(x))\n",
    "print(\"Trapezoidal integration: \", np.trapz(x,x=F))\n"
   ]
  },
  {
   "cell_type": "code",
   "execution_count": 58,
   "metadata": {},
   "outputs": [
    {
     "name": "stdout",
     "output_type": "stream",
     "text": [
      "[1 2 3]\n",
      "Trapezoidal integration: x  4.0\n",
      "Trapezoidal integration: x  4.0\n",
      "Trapezoidal integration: 2x+2  12.0\n",
      "Trapezoidal integration: 2x+2  12.0\n"
     ]
    }
   ],
   "source": [
    "import numpy as np\n",
    "x = np.arange(1,4)\n",
    "print(x)\n",
    "\n",
    "print(\"Trapezoidal integration: x \", np.trapz(x, x=x))\n",
    "print(\"Trapezoidal integration: x \", np.trapz(x))\n",
    "\n",
    "y = 2*x+2\n",
    "print(\"Trapezoidal integration: 2x+2 \",np.trapz([4,6,8], x=x))\n",
    "print(\"Trapezoidal integration: 2x+2 \",np.trapz(y, x=x))"
   ]
  },
  {
   "cell_type": "code",
   "execution_count": 59,
   "metadata": {},
   "outputs": [
    {
     "name": "stdout",
     "output_type": "stream",
     "text": [
      "[1 2 3 4]\n",
      "10\n",
      "[ 1  3  6 10]\n"
     ]
    }
   ],
   "source": [
    "import numpy as np\n",
    "x = np.arange(1,5)\n",
    "print(x)\n",
    "print(np.sum(x))\n",
    "print(np.cumsum(x))"
   ]
  },
  {
   "cell_type": "code",
   "execution_count": 60,
   "metadata": {},
   "outputs": [
    {
     "name": "stdout",
     "output_type": "stream",
     "text": [
      "[1 2 3 4]\n",
      "24\n",
      "[ 1  2  6 24]\n"
     ]
    }
   ],
   "source": [
    "import numpy as np\n",
    "x = np.arange(1,5)\n",
    "print(x)\n",
    "print(np.prod(x))\n",
    "print(np.cumprod(x))"
   ]
  },
  {
   "cell_type": "code",
   "execution_count": 61,
   "metadata": {},
   "outputs": [
    {
     "name": "stdout",
     "output_type": "stream",
     "text": [
      "11.000000501\n"
     ]
    }
   ],
   "source": [
    "import numpy as np\n",
    "\n",
    "x = np.linspace(1., 2., 1000)\n",
    "y = 3. * x**2 + 2. * x + 1.\n",
    "\n",
    "print(np.trapz(y, x=x))"
   ]
  },
  {
   "cell_type": "code",
   "execution_count": 62,
   "metadata": {},
   "outputs": [
    {
     "name": "stdout",
     "output_type": "stream",
     "text": [
      "[1 2 3]\n",
      "[ 1.  1.  1.]\n",
      "[ 1.  3.  6.]\n",
      "6.5\n",
      "Trapezoidal integration:  6.5\n"
     ]
    }
   ],
   "source": [
    "x = np.arange(1,4)\n",
    "print(x)\n",
    "dx = np.zeros(3)\n",
    "dx[0] = x[0]\n",
    "dx[1] = x[1] - x[0]\n",
    "dx[2] = x[2] - x[1]\n",
    "print(dx)\n",
    "\n",
    "F = np.cumsum(x) * dx\n",
    "print(F)\n",
    "print(np.trapz(F))\n",
    "print(\"Trapezoidal integration: \", np.trapz(F,x=x))"
   ]
  },
  {
   "cell_type": "code",
   "execution_count": 63,
   "metadata": {},
   "outputs": [
    {
     "name": "stdout",
     "output_type": "stream",
     "text": [
      "A =  [ 0.37147243  0.05337405]\n",
      "B =  [ 0.37147243  0.05337405]\n"
     ]
    }
   ],
   "source": [
    "import numpy as np\n",
    "\n",
    "A = np.random.random(2)\n",
    "print(\"A = \", A)\n",
    "\n",
    "np.savetxt(\"data.txt\", A) # Store A to disk\n",
    "\n",
    "B = np.loadtxt(\"data.txt\") # Load data.txt to B\n",
    "\n",
    "print(\"B = \", B)\n"
   ]
  },
  {
   "cell_type": "code",
   "execution_count": 64,
   "metadata": {},
   "outputs": [
    {
     "name": "stdout",
     "output_type": "stream",
     "text": [
      "C =  [ 0.49300567  0.10304672]\n",
      "D =  [ 0.49300567  0.10304672]\n"
     ]
    }
   ],
   "source": [
    "import numpy as np\n",
    "\n",
    "C = np.random.random(2)\n",
    "print(\"C = \", C)\n",
    "C.tofile(\"tofile.npy\")\n",
    "\n",
    "D = np.fromfile(\"tofile.npy\") \n",
    "\n",
    "print(\"D = \", D)\n"
   ]
  },
  {
   "cell_type": "code",
   "execution_count": 65,
   "metadata": {},
   "outputs": [
    {
     "name": "stdout",
     "output_type": "stream",
     "text": [
      "True\n",
      "False\n"
     ]
    },
    {
     "ename": "AssertionError",
     "evalue": "\nArrays are not almost equal to 6 decimals\n\n(shapes (5, 5), (6, 6) mismatch)\n x: [repr failed for <matrix>: The truth value of an array with more than one element is ambiguous. Use a.any() or a.all()]\n y: array([[ 1.,  0.,  0.,  0.,  0.,  0.],\n       [ 0.,  1.,  0.,  0.,  0.,  0.],\n       [ 0.,  0.,  1.,  0.,  0.,  0.],...",
     "output_type": "error",
     "traceback": [
      "\u001b[0;31m---------------------------------------------------------------------------\u001b[0m",
      "\u001b[0;31mAssertionError\u001b[0m                            Traceback (most recent call last)",
      "\u001b[0;32m<ipython-input-65-161e50a92062>\u001b[0m in \u001b[0;36m<module>\u001b[0;34m()\u001b[0m\n\u001b[1;32m      9\u001b[0m \u001b[0mAinv\u001b[0m \u001b[0;34m=\u001b[0m \u001b[0mnp\u001b[0m\u001b[0;34m.\u001b[0m\u001b[0mlinalg\u001b[0m\u001b[0;34m.\u001b[0m\u001b[0minv\u001b[0m\u001b[0;34m(\u001b[0m\u001b[0mA\u001b[0m\u001b[0;34m)\u001b[0m\u001b[0;34m\u001b[0m\u001b[0m\n\u001b[1;32m     10\u001b[0m \u001b[0;34m\u001b[0m\u001b[0m\n\u001b[0;32m---> 11\u001b[0;31m \u001b[0mnp\u001b[0m\u001b[0;34m.\u001b[0m\u001b[0mtesting\u001b[0m\u001b[0;34m.\u001b[0m\u001b[0massert_array_almost_equal\u001b[0m\u001b[0;34m(\u001b[0m\u001b[0mnp\u001b[0m\u001b[0;34m.\u001b[0m\u001b[0mmat\u001b[0m\u001b[0;34m(\u001b[0m\u001b[0mA\u001b[0m\u001b[0;34m)\u001b[0m\u001b[0;34m*\u001b[0m\u001b[0mnp\u001b[0m\u001b[0;34m.\u001b[0m\u001b[0mmat\u001b[0m\u001b[0;34m(\u001b[0m\u001b[0mAinv\u001b[0m\u001b[0;34m)\u001b[0m\u001b[0;34m,\u001b[0m \u001b[0mnp\u001b[0m\u001b[0;34m.\u001b[0m\u001b[0meye\u001b[0m\u001b[0;34m(\u001b[0m\u001b[0;36m6\u001b[0m\u001b[0;34m)\u001b[0m\u001b[0;34m)\u001b[0m\u001b[0;34m\u001b[0m\u001b[0m\n\u001b[0m",
      "\u001b[0;32m~/anaconda/lib/python3.6/site-packages/numpy/testing/utils.py\u001b[0m in \u001b[0;36massert_array_almost_equal\u001b[0;34m(x, y, decimal, err_msg, verbose)\u001b[0m\n\u001b[1;32m    960\u001b[0m     assert_array_compare(compare, x, y, err_msg=err_msg, verbose=verbose,\n\u001b[1;32m    961\u001b[0m              \u001b[0mheader\u001b[0m\u001b[0;34m=\u001b[0m\u001b[0;34m(\u001b[0m\u001b[0;34m'Arrays are not almost equal to %d decimals'\u001b[0m \u001b[0;34m%\u001b[0m \u001b[0mdecimal\u001b[0m\u001b[0;34m)\u001b[0m\u001b[0;34m,\u001b[0m\u001b[0;34m\u001b[0m\u001b[0m\n\u001b[0;32m--> 962\u001b[0;31m              precision=decimal)\n\u001b[0m\u001b[1;32m    963\u001b[0m \u001b[0;34m\u001b[0m\u001b[0m\n\u001b[1;32m    964\u001b[0m \u001b[0;34m\u001b[0m\u001b[0m\n",
      "\u001b[0;32m~/anaconda/lib/python3.6/site-packages/numpy/testing/utils.py\u001b[0m in \u001b[0;36massert_array_compare\u001b[0;34m(comparison, x, y, err_msg, verbose, header, precision, equal_nan, equal_inf)\u001b[0m\n\u001b[1;32m    713\u001b[0m                                 \u001b[0mverbose\u001b[0m\u001b[0;34m=\u001b[0m\u001b[0mverbose\u001b[0m\u001b[0;34m,\u001b[0m \u001b[0mheader\u001b[0m\u001b[0;34m=\u001b[0m\u001b[0mheader\u001b[0m\u001b[0;34m,\u001b[0m\u001b[0;34m\u001b[0m\u001b[0m\n\u001b[1;32m    714\u001b[0m                                 names=('x', 'y'), precision=precision)\n\u001b[0;32m--> 715\u001b[0;31m             \u001b[0;32mraise\u001b[0m \u001b[0mAssertionError\u001b[0m\u001b[0;34m(\u001b[0m\u001b[0mmsg\u001b[0m\u001b[0;34m)\u001b[0m\u001b[0;34m\u001b[0m\u001b[0m\n\u001b[0m\u001b[1;32m    716\u001b[0m \u001b[0;34m\u001b[0m\u001b[0m\n\u001b[1;32m    717\u001b[0m         \u001b[0;32mif\u001b[0m \u001b[0misnumber\u001b[0m\u001b[0;34m(\u001b[0m\u001b[0mx\u001b[0m\u001b[0;34m)\u001b[0m \u001b[0;32mand\u001b[0m \u001b[0misnumber\u001b[0m\u001b[0;34m(\u001b[0m\u001b[0my\u001b[0m\u001b[0;34m)\u001b[0m\u001b[0;34m:\u001b[0m\u001b[0;34m\u001b[0m\u001b[0m\n",
      "\u001b[0;31mAssertionError\u001b[0m: \nArrays are not almost equal to 6 decimals\n\n(shapes (5, 5), (6, 6) mismatch)\n x: [repr failed for <matrix>: The truth value of an array with more than one element is ambiguous. Use a.any() or a.all()]\n y: array([[ 1.,  0.,  0.,  0.,  0.,  0.],\n       [ 0.,  1.,  0.,  0.,  0.,  0.],\n       [ 0.,  0.,  1.,  0.,  0.,  0.],..."
     ]
    }
   ],
   "source": [
    "import numpy as np\n",
    "\n",
    "x = np.array([-1, 2, 3, 4, 5])\n",
    "\n",
    "print((x < 0).any())\n",
    "print((x < 0).all())\n",
    "\n",
    "A = np.random.random((5,5))\n",
    "Ainv = np.linalg.inv(A)\n",
    "\n",
    "np.testing.assert_array_almost_equal(np.mat(A)*np.mat(Ainv), np.eye(6))"
   ]
  },
  {
   "cell_type": "code",
   "execution_count": 66,
   "metadata": {},
   "outputs": [
    {
     "name": "stdout",
     "output_type": "stream",
     "text": [
      "Help on function partition in module numpy.core.fromnumeric:\n",
      "\n",
      "partition(a, kth, axis=-1, kind='introselect', order=None)\n",
      "    Return a partitioned copy of an array.\n",
      "    \n",
      "    Creates a copy of the array with its elements rearranged in such a\n",
      "    way that the value of the element in k-th position is in the\n",
      "    position it would be in a sorted array. All elements smaller than\n",
      "    the k-th element are moved before this element and all equal or\n",
      "    greater are moved behind it. The ordering of the elements in the two\n",
      "    partitions is undefined.\n",
      "    \n",
      "    .. versionadded:: 1.8.0\n",
      "    \n",
      "    Parameters\n",
      "    ----------\n",
      "    a : array_like\n",
      "        Array to be sorted.\n",
      "    kth : int or sequence of ints\n",
      "        Element index to partition by. The k-th value of the element\n",
      "        will be in its final sorted position and all smaller elements\n",
      "        will be moved before it and all equal or greater elements behind\n",
      "        it. The order all elements in the partitions is undefined. If\n",
      "        provided with a sequence of k-th it will partition all elements\n",
      "        indexed by k-th  of them into their sorted position at once.\n",
      "    axis : int or None, optional\n",
      "        Axis along which to sort. If None, the array is flattened before\n",
      "        sorting. The default is -1, which sorts along the last axis.\n",
      "    kind : {'introselect'}, optional\n",
      "        Selection algorithm. Default is 'introselect'.\n",
      "    order : str or list of str, optional\n",
      "        When `a` is an array with fields defined, this argument\n",
      "        specifies which fields to compare first, second, etc.  A single\n",
      "        field can be specified as a string.  Not all fields need be\n",
      "        specified, but unspecified fields will still be used, in the\n",
      "        order in which they come up in the dtype, to break ties.\n",
      "    \n",
      "    Returns\n",
      "    -------\n",
      "    partitioned_array : ndarray\n",
      "        Array of the same type and shape as `a`.\n",
      "    \n",
      "    See Also\n",
      "    --------\n",
      "    ndarray.partition : Method to sort an array in-place.\n",
      "    argpartition : Indirect partition.\n",
      "    sort : Full sorting\n",
      "    \n",
      "    Notes\n",
      "    -----\n",
      "    The various selection algorithms are characterized by their average\n",
      "    speed, worst case performance, work space size, and whether they are\n",
      "    stable. A stable sort keeps items with the same key in the same\n",
      "    relative order. The available algorithms have the following\n",
      "    properties:\n",
      "    \n",
      "    ================= ======= ============= ============ =======\n",
      "       kind            speed   worst case    work space  stable\n",
      "    ================= ======= ============= ============ =======\n",
      "    'introselect'        1        O(n)           0         no\n",
      "    ================= ======= ============= ============ =======\n",
      "    \n",
      "    All the partition algorithms make temporary copies of the data when\n",
      "    partitioning along any but the last axis.  Consequently,\n",
      "    partitioning along the last axis is faster and uses less space than\n",
      "    partitioning along any other axis.\n",
      "    \n",
      "    The sort order for complex numbers is lexicographic. If both the\n",
      "    real and imaginary parts are non-nan then the order is determined by\n",
      "    the real parts except when they are equal, in which case the order\n",
      "    is determined by the imaginary parts.\n",
      "    \n",
      "    Examples\n",
      "    --------\n",
      "    >>> a = np.array([3, 4, 2, 1])\n",
      "    >>> np.partition(a, 3)\n",
      "    array([2, 1, 3, 4])\n",
      "    \n",
      "    >>> np.partition(a, (1, 3))\n",
      "    array([1, 2, 3, 4])\n",
      "\n"
     ]
    }
   ],
   "source": [
    "help(np.partition)"
   ]
  },
  {
   "cell_type": "code",
   "execution_count": 67,
   "metadata": {},
   "outputs": [
    {
     "name": "stdout",
     "output_type": "stream",
     "text": [
      "[2 1 3 4]\n",
      "[1 2 3 4]\n"
     ]
    }
   ],
   "source": [
    "import numpy as np\n",
    "\n",
    "a = np.array([3, 4, 2, 1])\n",
    "print(np.partition(a, 3))\n",
    "\n",
    "print(np.partition(a, (1, 3)))"
   ]
  },
  {
   "cell_type": "code",
   "execution_count": 68,
   "metadata": {},
   "outputs": [
    {
     "name": "stdout",
     "output_type": "stream",
     "text": [
      "[1 2 3 4]\n",
      "[1 2 3 4 5]\n",
      "[1 2 3 4]\n",
      "[99  2  3  4  5]\n",
      "[1 2 3 4 5 6 7 8 9]\n",
      "[[1 2 3]\n",
      " [4 5 6]\n",
      " [7 8 9]]\n"
     ]
    }
   ],
   "source": [
    "import numpy as np\n",
    "\n",
    "a = np.array([1,2,3,4])\n",
    "b = np.append(a,5)\n",
    "print(a)\n",
    "print(b)\n",
    "b[0] = 99\n",
    "print(a)\n",
    "print(b)\n",
    "c = np.append([1, 2, 3], [[4, 5, 6], [7, 8, 9]])\n",
    "print(c)\n",
    "d = np.append([[1, 2, 3], [4, 5, 6]], [[7, 8, 9]], axis=0)\n",
    "print(d)"
   ]
  },
  {
   "cell_type": "code",
   "execution_count": 69,
   "metadata": {},
   "outputs": [
    {
     "name": "stdout",
     "output_type": "stream",
     "text": [
      "int32\n",
      "float64\n"
     ]
    }
   ],
   "source": [
    "import numpy as np \n",
    "dt = np.dtype(np.int32) \n",
    "print(dt)\n",
    "dt = np.dtype(np.float64)\n",
    "print(dt)"
   ]
  },
  {
   "cell_type": "code",
   "execution_count": 70,
   "metadata": {},
   "outputs": [
    {
     "name": "stdout",
     "output_type": "stream",
     "text": [
      "int32\n",
      "int32\n",
      ">i4\n"
     ]
    }
   ],
   "source": [
    "import numpy as np \n",
    "\n",
    "dt = np.dtype(np.int32) \n",
    "print(dt)\n",
    "# little-endian \n",
    "dt = np.dtype('<i4') \n",
    "print(dt)\n",
    "# big-endian \n",
    "dt = np.dtype('>i4') \n",
    "print(dt)"
   ]
  },
  {
   "cell_type": "code",
   "execution_count": 71,
   "metadata": {},
   "outputs": [
    {
     "name": "stdout",
     "output_type": "stream",
     "text": [
      "<class 'type'>\n",
      "<class 'numpy.bool_'>\n"
     ]
    }
   ],
   "source": [
    "import numpy as np \n",
    "\n",
    "print(type(np.bool_))\n",
    "a = np.bool_(0)\n",
    "print(type(a))"
   ]
  },
  {
   "cell_type": "code",
   "execution_count": 72,
   "metadata": {},
   "outputs": [
    {
     "name": "stdout",
     "output_type": "stream",
     "text": [
      "[2 4 6]\n",
      "[0 0 0]\n",
      "[ 1.  1.  1.]\n",
      "[1 1 1]\n",
      "[ 1.  1.  1.]\n",
      "[1 4 9]\n"
     ]
    }
   ],
   "source": [
    "import numpy as np \n",
    "\n",
    "a = np.array([1,2,3])\n",
    "\n",
    "c = np.add(a,a)\n",
    "print(c)\n",
    "d = np.subtract(a,a)\n",
    "print(d)\n",
    "e = np.divide(a,a)\n",
    "print(e)\n",
    "f = np.floor_divide(a,a)\n",
    "print(f)\n",
    "g = np.true_divide(a,a)\n",
    "print(g)\n",
    "h = np.multiply(a,a)\n",
    "print(h)"
   ]
  },
  {
   "cell_type": "code",
   "execution_count": 73,
   "metadata": {},
   "outputs": [
    {
     "name": "stdout",
     "output_type": "stream",
     "text": [
      "[ 2.  3.  4.]\n",
      "[ 1.  2.  3.]\n",
      "[ 1.  3.  3.]\n"
     ]
    }
   ],
   "source": [
    "import numpy as np \n",
    "\n",
    "aa = np.array([1.03,2.534,3.235])\n",
    "c = np.ceil(aa)\n",
    "print(c)\n",
    "d = np.floor(aa)\n",
    "print(d)\n",
    "e = np.round(aa)\n",
    "print(e)"
   ]
  },
  {
   "cell_type": "code",
   "execution_count": 74,
   "metadata": {},
   "outputs": [
    {
     "name": "stdout",
     "output_type": "stream",
     "text": [
      "[ 1.03   2.534  3.235]\n",
      "[ 1.03   2.534  3.235]\n",
      "[ 1. -1. -1.]\n",
      "[-1.03   2.534  3.235]\n",
      "[ 1.  3.  3.]\n"
     ]
    }
   ],
   "source": [
    "import numpy as np \n",
    "\n",
    "a = np.array([1.03,-2.534,-3.235])\n",
    "\n",
    "b = np.abs(a)\n",
    "print(b)\n",
    "print(np.absolute(a))\n",
    "\n",
    "c = np.sign(a)\n",
    "print(c)\n",
    "\n",
    "d = np.negative(a)\n",
    "print(d)\n",
    "\n",
    "aa = np.array([1.03,-2.534,np.nan])\n",
    "f = np.sign(aa)\n",
    "print(e)\n"
   ]
  },
  {
   "cell_type": "code",
   "execution_count": 75,
   "metadata": {},
   "outputs": [
    {
     "name": "stdout",
     "output_type": "stream",
     "text": [
      "2.718281828459045\n",
      "3.141592653589793\n",
      "inf\n",
      "inf\n",
      "-inf\n",
      "-inf\n",
      "nan\n"
     ]
    }
   ],
   "source": [
    "import numpy as np \n",
    "\n",
    "print(np.e)\n",
    "print(np.pi)\n",
    "\n",
    "print(np.Inf)\n",
    "print(np.Infinity)\n",
    "print(-1* np.Inf)\n",
    "print(-1* np.Infinity)\n",
    "\n",
    "print(np.nan)"
   ]
  },
  {
   "cell_type": "code",
   "execution_count": 76,
   "metadata": {},
   "outputs": [
    {
     "name": "stdout",
     "output_type": "stream",
     "text": [
      "100\n",
      "2.0\n",
      "[25 16 36]\n",
      "[25 16 36]\n",
      "[ 2.23606798  2.          2.44948974]\n"
     ]
    }
   ],
   "source": [
    "import numpy as np \n",
    "\n",
    "print(np.power(10,2))\n",
    "print(np.sqrt(4))\n",
    "\n",
    "a = np.array([5,4,6])\n",
    "print(np.power(a,2))\n",
    "print(np.square(a,))\n",
    "print(np.sqrt(a))"
   ]
  },
  {
   "cell_type": "code",
   "execution_count": 77,
   "metadata": {},
   "outputs": [
    {
     "name": "stdout",
     "output_type": "stream",
     "text": [
      "180.0\n",
      "3.14159265359\n",
      "3.14159265359\n"
     ]
    }
   ],
   "source": [
    "import numpy as np \n",
    "\n",
    "print(np.degrees(np.pi))\n",
    "print(np.radians(180))\n",
    "\n",
    "print(np.deg2rad(180))"
   ]
  },
  {
   "cell_type": "code",
   "execution_count": 78,
   "metadata": {},
   "outputs": [
    {
     "name": "stdout",
     "output_type": "stream",
     "text": [
      "Help on ufunc object:\n",
      "\n",
      "hypot = class ufunc(builtins.object)\n",
      " |  Functions that operate element by element on whole arrays.\n",
      " |  \n",
      " |  To see the documentation for a specific ufunc, use `info`.  For\n",
      " |  example, ``np.info(np.sin)``.  Because ufuncs are written in C\n",
      " |  (for speed) and linked into Python with NumPy's ufunc facility,\n",
      " |  Python's help() function finds this page whenever help() is called\n",
      " |  on a ufunc.\n",
      " |  \n",
      " |  A detailed explanation of ufuncs can be found in the docs for :ref:`ufuncs`.\n",
      " |  \n",
      " |  Calling ufuncs:\n",
      " |  ===============\n",
      " |  \n",
      " |  op(*x[, out], where=True, **kwargs)\n",
      " |  Apply `op` to the arguments `*x` elementwise, broadcasting the arguments.\n",
      " |  \n",
      " |  The broadcasting rules are:\n",
      " |  \n",
      " |  * Dimensions of length 1 may be prepended to either array.\n",
      " |  * Arrays may be repeated along dimensions of length 1.\n",
      " |  \n",
      " |  Parameters\n",
      " |  ----------\n",
      " |  *x : array_like\n",
      " |      Input arrays.\n",
      " |  out : ndarray, None, or tuple of ndarray and None, optional\n",
      " |      Alternate array object(s) in which to put the result; if provided, it\n",
      " |      must have a shape that the inputs broadcast to. A tuple of arrays\n",
      " |      (possible only as a keyword argument) must have length equal to the\n",
      " |      number of outputs; use `None` for outputs to be allocated by the ufunc.\n",
      " |  where : array_like, optional\n",
      " |      Values of True indicate to calculate the ufunc at that position, values\n",
      " |      of False indicate to leave the value in the output alone.\n",
      " |  **kwargs\n",
      " |      For other keyword-only arguments, see the :ref:`ufunc docs <ufuncs.kwargs>`.\n",
      " |  \n",
      " |  Returns\n",
      " |  -------\n",
      " |  r : ndarray or tuple of ndarray\n",
      " |      `r` will have the shape that the arrays in `x` broadcast to; if `out` is\n",
      " |      provided, `r` will be equal to `out`. If the function has more than one\n",
      " |      output, then the result will be a tuple of arrays.\n",
      " |  \n",
      " |  Methods defined here:\n",
      " |  \n",
      " |  __call__(self, /, *args, **kwargs)\n",
      " |      Call self as a function.\n",
      " |  \n",
      " |  __repr__(self, /)\n",
      " |      Return repr(self).\n",
      " |  \n",
      " |  __str__(self, /)\n",
      " |      Return str(self).\n",
      " |  \n",
      " |  accumulate(...)\n",
      " |      accumulate(array, axis=0, dtype=None, out=None, keepdims=None)\n",
      " |      \n",
      " |      Accumulate the result of applying the operator to all elements.\n",
      " |      \n",
      " |      For a one-dimensional array, accumulate produces results equivalent to::\n",
      " |      \n",
      " |        r = np.empty(len(A))\n",
      " |        t = op.identity        # op = the ufunc being applied to A's  elements\n",
      " |        for i in range(len(A)):\n",
      " |            t = op(t, A[i])\n",
      " |            r[i] = t\n",
      " |        return r\n",
      " |      \n",
      " |      For example, add.accumulate() is equivalent to np.cumsum().\n",
      " |      \n",
      " |      For a multi-dimensional array, accumulate is applied along only one\n",
      " |      axis (axis zero by default; see Examples below) so repeated use is\n",
      " |      necessary if one wants to accumulate over multiple axes.\n",
      " |      \n",
      " |      Parameters\n",
      " |      ----------\n",
      " |      array : array_like\n",
      " |          The array to act on.\n",
      " |      axis : int, optional\n",
      " |          The axis along which to apply the accumulation; default is zero.\n",
      " |      dtype : data-type code, optional\n",
      " |          The data-type used to represent the intermediate results. Defaults\n",
      " |          to the data-type of the output array if such is provided, or the\n",
      " |          the data-type of the input array if no output array is provided.\n",
      " |      out : ndarray, None, or tuple of ndarray and None, optional\n",
      " |          A location into which the result is stored. If not provided or `None`,\n",
      " |          a freshly-allocated array is returned. For consistency with\n",
      " |          :ref:`ufunc.__call__`, if given as a keyword, this may be wrapped in a\n",
      " |          1-element tuple.\n",
      " |      \n",
      " |          .. versionchanged:: 1.13.0\n",
      " |             Tuples are allowed for keyword argument.\n",
      " |      keepdims : bool\n",
      " |          Has no effect. Deprecated, and will be removed in future.\n",
      " |      \n",
      " |      Returns\n",
      " |      -------\n",
      " |      r : ndarray\n",
      " |          The accumulated values. If `out` was supplied, `r` is a reference to\n",
      " |          `out`.\n",
      " |      \n",
      " |      Examples\n",
      " |      --------\n",
      " |      1-D array examples:\n",
      " |      \n",
      " |      >>> np.add.accumulate([2, 3, 5])\n",
      " |      array([ 2,  5, 10])\n",
      " |      >>> np.multiply.accumulate([2, 3, 5])\n",
      " |      array([ 2,  6, 30])\n",
      " |      \n",
      " |      2-D array examples:\n",
      " |      \n",
      " |      >>> I = np.eye(2)\n",
      " |      >>> I\n",
      " |      array([[ 1.,  0.],\n",
      " |             [ 0.,  1.]])\n",
      " |      \n",
      " |      Accumulate along axis 0 (rows), down columns:\n",
      " |      \n",
      " |      >>> np.add.accumulate(I, 0)\n",
      " |      array([[ 1.,  0.],\n",
      " |             [ 1.,  1.]])\n",
      " |      >>> np.add.accumulate(I) # no axis specified = axis zero\n",
      " |      array([[ 1.,  0.],\n",
      " |             [ 1.,  1.]])\n",
      " |      \n",
      " |      Accumulate along axis 1 (columns), through rows:\n",
      " |      \n",
      " |      >>> np.add.accumulate(I, 1)\n",
      " |      array([[ 1.,  1.],\n",
      " |             [ 0.,  1.]])\n",
      " |  \n",
      " |  at(...)\n",
      " |      at(a, indices, b=None)\n",
      " |      \n",
      " |      Performs unbuffered in place operation on operand 'a' for elements\n",
      " |      specified by 'indices'. For addition ufunc, this method is equivalent to\n",
      " |      `a[indices] += b`, except that results are accumulated for elements that\n",
      " |      are indexed more than once. For example, `a[[0,0]] += 1` will only\n",
      " |      increment the first element once because of buffering, whereas\n",
      " |      `add.at(a, [0,0], 1)` will increment the first element twice.\n",
      " |      \n",
      " |      .. versionadded:: 1.8.0\n",
      " |      \n",
      " |      Parameters\n",
      " |      ----------\n",
      " |      a : array_like\n",
      " |          The array to perform in place operation on.\n",
      " |      indices : array_like or tuple\n",
      " |          Array like index object or slice object for indexing into first\n",
      " |          operand. If first operand has multiple dimensions, indices can be a\n",
      " |          tuple of array like index objects or slice objects.\n",
      " |      b : array_like\n",
      " |          Second operand for ufuncs requiring two operands. Operand must be\n",
      " |          broadcastable over first operand after indexing or slicing.\n",
      " |      \n",
      " |      Examples\n",
      " |      --------\n",
      " |      Set items 0 and 1 to their negative values:\n",
      " |      \n",
      " |      >>> a = np.array([1, 2, 3, 4])\n",
      " |      >>> np.negative.at(a, [0, 1])\n",
      " |      >>> print(a)\n",
      " |      array([-1, -2, 3, 4])\n",
      " |      \n",
      " |      ::\n",
      " |      \n",
      " |      Increment items 0 and 1, and increment item 2 twice:\n",
      " |      \n",
      " |      >>> a = np.array([1, 2, 3, 4])\n",
      " |      >>> np.add.at(a, [0, 1, 2, 2], 1)\n",
      " |      >>> print(a)\n",
      " |      array([2, 3, 5, 4])\n",
      " |      \n",
      " |      ::\n",
      " |      \n",
      " |      Add items 0 and 1 in first array to second array,\n",
      " |      and store results in first array:\n",
      " |      \n",
      " |      >>> a = np.array([1, 2, 3, 4])\n",
      " |      >>> b = np.array([1, 2])\n",
      " |      >>> np.add.at(a, [0, 1], b)\n",
      " |      >>> print(a)\n",
      " |      array([2, 4, 3, 4])\n",
      " |  \n",
      " |  outer(...)\n",
      " |      outer(A, B, **kwargs)\n",
      " |      \n",
      " |      Apply the ufunc `op` to all pairs (a, b) with a in `A` and b in `B`.\n",
      " |      \n",
      " |      Let ``M = A.ndim``, ``N = B.ndim``. Then the result, `C`, of\n",
      " |      ``op.outer(A, B)`` is an array of dimension M + N such that:\n",
      " |      \n",
      " |      .. math:: C[i_0, ..., i_{M-1}, j_0, ..., j_{N-1}] =\n",
      " |         op(A[i_0, ..., i_{M-1}], B[j_0, ..., j_{N-1}])\n",
      " |      \n",
      " |      For `A` and `B` one-dimensional, this is equivalent to::\n",
      " |      \n",
      " |        r = empty(len(A),len(B))\n",
      " |        for i in range(len(A)):\n",
      " |            for j in range(len(B)):\n",
      " |                r[i,j] = op(A[i], B[j]) # op = ufunc in question\n",
      " |      \n",
      " |      Parameters\n",
      " |      ----------\n",
      " |      A : array_like\n",
      " |          First array\n",
      " |      B : array_like\n",
      " |          Second array\n",
      " |      kwargs : any\n",
      " |          Arguments to pass on to the ufunc. Typically `dtype` or `out`.\n",
      " |      \n",
      " |      Returns\n",
      " |      -------\n",
      " |      r : ndarray\n",
      " |          Output array\n",
      " |      \n",
      " |      See Also\n",
      " |      --------\n",
      " |      numpy.outer\n",
      " |      \n",
      " |      Examples\n",
      " |      --------\n",
      " |      >>> np.multiply.outer([1, 2, 3], [4, 5, 6])\n",
      " |      array([[ 4,  5,  6],\n",
      " |             [ 8, 10, 12],\n",
      " |             [12, 15, 18]])\n",
      " |      \n",
      " |      A multi-dimensional example:\n",
      " |      \n",
      " |      >>> A = np.array([[1, 2, 3], [4, 5, 6]])\n",
      " |      >>> A.shape\n",
      " |      (2, 3)\n",
      " |      >>> B = np.array([[1, 2, 3, 4]])\n",
      " |      >>> B.shape\n",
      " |      (1, 4)\n",
      " |      >>> C = np.multiply.outer(A, B)\n",
      " |      >>> C.shape; C\n",
      " |      (2, 3, 1, 4)\n",
      " |      array([[[[ 1,  2,  3,  4]],\n",
      " |              [[ 2,  4,  6,  8]],\n",
      " |              [[ 3,  6,  9, 12]]],\n",
      " |             [[[ 4,  8, 12, 16]],\n",
      " |              [[ 5, 10, 15, 20]],\n",
      " |              [[ 6, 12, 18, 24]]]])\n",
      " |  \n",
      " |  reduce(...)\n",
      " |      reduce(a, axis=0, dtype=None, out=None, keepdims=False)\n",
      " |      \n",
      " |      Reduces `a`'s dimension by one, by applying ufunc along one axis.\n",
      " |      \n",
      " |      Let :math:`a.shape = (N_0, ..., N_i, ..., N_{M-1})`.  Then\n",
      " |      :math:`ufunc.reduce(a, axis=i)[k_0, ..,k_{i-1}, k_{i+1}, .., k_{M-1}]` =\n",
      " |      the result of iterating `j` over :math:`range(N_i)`, cumulatively applying\n",
      " |      ufunc to each :math:`a[k_0, ..,k_{i-1}, j, k_{i+1}, .., k_{M-1}]`.\n",
      " |      For a one-dimensional array, reduce produces results equivalent to:\n",
      " |      ::\n",
      " |      \n",
      " |       r = op.identity # op = ufunc\n",
      " |       for i in range(len(A)):\n",
      " |         r = op(r, A[i])\n",
      " |       return r\n",
      " |      \n",
      " |      For example, add.reduce() is equivalent to sum().\n",
      " |      \n",
      " |      Parameters\n",
      " |      ----------\n",
      " |      a : array_like\n",
      " |          The array to act on.\n",
      " |      axis : None or int or tuple of ints, optional\n",
      " |          Axis or axes along which a reduction is performed.\n",
      " |          The default (`axis` = 0) is perform a reduction over the first\n",
      " |          dimension of the input array. `axis` may be negative, in\n",
      " |          which case it counts from the last to the first axis.\n",
      " |      \n",
      " |          .. versionadded:: 1.7.0\n",
      " |      \n",
      " |          If this is `None`, a reduction is performed over all the axes.\n",
      " |          If this is a tuple of ints, a reduction is performed on multiple\n",
      " |          axes, instead of a single axis or all the axes as before.\n",
      " |      \n",
      " |          For operations which are either not commutative or not associative,\n",
      " |          doing a reduction over multiple axes is not well-defined. The\n",
      " |          ufuncs do not currently raise an exception in this case, but will\n",
      " |          likely do so in the future.\n",
      " |      dtype : data-type code, optional\n",
      " |          The type used to represent the intermediate results. Defaults\n",
      " |          to the data-type of the output array if this is provided, or\n",
      " |          the data-type of the input array if no output array is provided.\n",
      " |      out : ndarray, None, or tuple of ndarray and None, optional\n",
      " |          A location into which the result is stored. If not provided or `None`,\n",
      " |          a freshly-allocated array is returned. For consistency with\n",
      " |          :ref:`ufunc.__call__`, if given as a keyword, this may be wrapped in a\n",
      " |          1-element tuple.\n",
      " |      \n",
      " |          .. versionchanged:: 1.13.0\n",
      " |             Tuples are allowed for keyword argument.\n",
      " |      keepdims : bool, optional\n",
      " |          If this is set to True, the axes which are reduced are left\n",
      " |          in the result as dimensions with size one. With this option,\n",
      " |          the result will broadcast correctly against the original `arr`.\n",
      " |      \n",
      " |          .. versionadded:: 1.7.0\n",
      " |      \n",
      " |      Returns\n",
      " |      -------\n",
      " |      r : ndarray\n",
      " |          The reduced array. If `out` was supplied, `r` is a reference to it.\n",
      " |      \n",
      " |      Examples\n",
      " |      --------\n",
      " |      >>> np.multiply.reduce([2,3,5])\n",
      " |      30\n",
      " |      \n",
      " |      A multi-dimensional array example:\n",
      " |      \n",
      " |      >>> X = np.arange(8).reshape((2,2,2))\n",
      " |      >>> X\n",
      " |      array([[[0, 1],\n",
      " |              [2, 3]],\n",
      " |             [[4, 5],\n",
      " |              [6, 7]]])\n",
      " |      >>> np.add.reduce(X, 0)\n",
      " |      array([[ 4,  6],\n",
      " |             [ 8, 10]])\n",
      " |      >>> np.add.reduce(X) # confirm: default axis value is 0\n",
      " |      array([[ 4,  6],\n",
      " |             [ 8, 10]])\n",
      " |      >>> np.add.reduce(X, 1)\n",
      " |      array([[ 2,  4],\n",
      " |             [10, 12]])\n",
      " |      >>> np.add.reduce(X, 2)\n",
      " |      array([[ 1,  5],\n",
      " |             [ 9, 13]])\n",
      " |  \n",
      " |  reduceat(...)\n",
      " |      reduceat(a, indices, axis=0, dtype=None, out=None)\n",
      " |      \n",
      " |      Performs a (local) reduce with specified slices over a single axis.\n",
      " |      \n",
      " |      For i in ``range(len(indices))``, `reduceat` computes\n",
      " |      ``ufunc.reduce(a[indices[i]:indices[i+1]])``, which becomes the i-th\n",
      " |      generalized \"row\" parallel to `axis` in the final result (i.e., in a\n",
      " |      2-D array, for example, if `axis = 0`, it becomes the i-th row, but if\n",
      " |      `axis = 1`, it becomes the i-th column).  There are three exceptions to this:\n",
      " |      \n",
      " |      * when ``i = len(indices) - 1`` (so for the last index),\n",
      " |        ``indices[i+1] = a.shape[axis]``.\n",
      " |      * if ``indices[i] >= indices[i + 1]``, the i-th generalized \"row\" is\n",
      " |        simply ``a[indices[i]]``.\n",
      " |      * if ``indices[i] >= len(a)`` or ``indices[i] < 0``, an error is raised.\n",
      " |      \n",
      " |      The shape of the output depends on the size of `indices`, and may be\n",
      " |      larger than `a` (this happens if ``len(indices) > a.shape[axis]``).\n",
      " |      \n",
      " |      Parameters\n",
      " |      ----------\n",
      " |      a : array_like\n",
      " |          The array to act on.\n",
      " |      indices : array_like\n",
      " |          Paired indices, comma separated (not colon), specifying slices to\n",
      " |          reduce.\n",
      " |      axis : int, optional\n",
      " |          The axis along which to apply the reduceat.\n",
      " |      dtype : data-type code, optional\n",
      " |          The type used to represent the intermediate results. Defaults\n",
      " |          to the data type of the output array if this is provided, or\n",
      " |          the data type of the input array if no output array is provided.\n",
      " |      out : ndarray, None, or tuple of ndarray and None, optional\n",
      " |          A location into which the result is stored. If not provided or `None`,\n",
      " |          a freshly-allocated array is returned. For consistency with\n",
      " |          :ref:`ufunc.__call__`, if given as a keyword, this may be wrapped in a\n",
      " |          1-element tuple.\n",
      " |      \n",
      " |          .. versionchanged:: 1.13.0\n",
      " |             Tuples are allowed for keyword argument.\n",
      " |      \n",
      " |      Returns\n",
      " |      -------\n",
      " |      r : ndarray\n",
      " |          The reduced values. If `out` was supplied, `r` is a reference to\n",
      " |          `out`.\n",
      " |      \n",
      " |      Notes\n",
      " |      -----\n",
      " |      A descriptive example:\n",
      " |      \n",
      " |      If `a` is 1-D, the function `ufunc.accumulate(a)` is the same as\n",
      " |      ``ufunc.reduceat(a, indices)[::2]`` where `indices` is\n",
      " |      ``range(len(array) - 1)`` with a zero placed\n",
      " |      in every other element:\n",
      " |      ``indices = zeros(2 * len(a) - 1)``, ``indices[1::2] = range(1, len(a))``.\n",
      " |      \n",
      " |      Don't be fooled by this attribute's name: `reduceat(a)` is not\n",
      " |      necessarily smaller than `a`.\n",
      " |      \n",
      " |      Examples\n",
      " |      --------\n",
      " |      To take the running sum of four successive values:\n",
      " |      \n",
      " |      >>> np.add.reduceat(np.arange(8),[0,4, 1,5, 2,6, 3,7])[::2]\n",
      " |      array([ 6, 10, 14, 18])\n",
      " |      \n",
      " |      A 2-D example:\n",
      " |      \n",
      " |      >>> x = np.linspace(0, 15, 16).reshape(4,4)\n",
      " |      >>> x\n",
      " |      array([[  0.,   1.,   2.,   3.],\n",
      " |             [  4.,   5.,   6.,   7.],\n",
      " |             [  8.,   9.,  10.,  11.],\n",
      " |             [ 12.,  13.,  14.,  15.]])\n",
      " |      \n",
      " |      ::\n",
      " |      \n",
      " |       # reduce such that the result has the following five rows:\n",
      " |       # [row1 + row2 + row3]\n",
      " |       # [row4]\n",
      " |       # [row2]\n",
      " |       # [row3]\n",
      " |       # [row1 + row2 + row3 + row4]\n",
      " |      \n",
      " |      >>> np.add.reduceat(x, [0, 3, 1, 2, 0])\n",
      " |      array([[ 12.,  15.,  18.,  21.],\n",
      " |             [ 12.,  13.,  14.,  15.],\n",
      " |             [  4.,   5.,   6.,   7.],\n",
      " |             [  8.,   9.,  10.,  11.],\n",
      " |             [ 24.,  28.,  32.,  36.]])\n",
      " |      \n",
      " |      ::\n",
      " |      \n",
      " |       # reduce such that result has the following two columns:\n",
      " |       # [col1 * col2 * col3, col4]\n",
      " |      \n",
      " |      >>> np.multiply.reduceat(x, [0, 3], 1)\n",
      " |      array([[    0.,     3.],\n",
      " |             [  120.,     7.],\n",
      " |             [  720.,    11.],\n",
      " |             [ 2184.,    15.]])\n",
      " |  \n",
      " |  ----------------------------------------------------------------------\n",
      " |  Data descriptors defined here:\n",
      " |  \n",
      " |  identity\n",
      " |      The identity value.\n",
      " |      \n",
      " |      Data attribute containing the identity element for the ufunc, if it has one.\n",
      " |      If it does not, the attribute value is None.\n",
      " |      \n",
      " |      Examples\n",
      " |      --------\n",
      " |      >>> np.add.identity\n",
      " |      0\n",
      " |      >>> np.multiply.identity\n",
      " |      1\n",
      " |      >>> np.power.identity\n",
      " |      1\n",
      " |      >>> print(np.exp.identity)\n",
      " |      None\n",
      " |  \n",
      " |  nargs\n",
      " |      The number of arguments.\n",
      " |      \n",
      " |      Data attribute containing the number of arguments the ufunc takes, including\n",
      " |      optional ones.\n",
      " |      \n",
      " |      Notes\n",
      " |      -----\n",
      " |      Typically this value will be one more than what you might expect because all\n",
      " |      ufuncs take  the optional \"out\" argument.\n",
      " |      \n",
      " |      Examples\n",
      " |      --------\n",
      " |      >>> np.add.nargs\n",
      " |      3\n",
      " |      >>> np.multiply.nargs\n",
      " |      3\n",
      " |      >>> np.power.nargs\n",
      " |      3\n",
      " |      >>> np.exp.nargs\n",
      " |      2\n",
      " |  \n",
      " |  nin\n",
      " |      The number of inputs.\n",
      " |      \n",
      " |      Data attribute containing the number of arguments the ufunc treats as input.\n",
      " |      \n",
      " |      Examples\n",
      " |      --------\n",
      " |      >>> np.add.nin\n",
      " |      2\n",
      " |      >>> np.multiply.nin\n",
      " |      2\n",
      " |      >>> np.power.nin\n",
      " |      2\n",
      " |      >>> np.exp.nin\n",
      " |      1\n",
      " |  \n",
      " |  nout\n",
      " |      The number of outputs.\n",
      " |      \n",
      " |      Data attribute containing the number of arguments the ufunc treats as output.\n",
      " |      \n",
      " |      Notes\n",
      " |      -----\n",
      " |      Since all ufuncs can take output arguments, this will always be (at least) 1.\n",
      " |      \n",
      " |      Examples\n",
      " |      --------\n",
      " |      >>> np.add.nout\n",
      " |      1\n",
      " |      >>> np.multiply.nout\n",
      " |      1\n",
      " |      >>> np.power.nout\n",
      " |      1\n",
      " |      >>> np.exp.nout\n",
      " |      1\n",
      " |  \n",
      " |  ntypes\n",
      " |      The number of types.\n",
      " |      \n",
      " |      The number of numerical NumPy types - of which there are 18 total - on which\n",
      " |      the ufunc can operate.\n",
      " |      \n",
      " |      See Also\n",
      " |      --------\n",
      " |      numpy.ufunc.types\n",
      " |      \n",
      " |      Examples\n",
      " |      --------\n",
      " |      >>> np.add.ntypes\n",
      " |      18\n",
      " |      >>> np.multiply.ntypes\n",
      " |      18\n",
      " |      >>> np.power.ntypes\n",
      " |      17\n",
      " |      >>> np.exp.ntypes\n",
      " |      7\n",
      " |      >>> np.remainder.ntypes\n",
      " |      14\n",
      " |  \n",
      " |  signature\n",
      " |  \n",
      " |  types\n",
      " |      Returns a list with types grouped input->output.\n",
      " |      \n",
      " |      Data attribute listing the data-type \"Domain-Range\" groupings the ufunc can\n",
      " |      deliver. The data-types are given using the character codes.\n",
      " |      \n",
      " |      See Also\n",
      " |      --------\n",
      " |      numpy.ufunc.ntypes\n",
      " |      \n",
      " |      Examples\n",
      " |      --------\n",
      " |      >>> np.add.types\n",
      " |      ['??->?', 'bb->b', 'BB->B', 'hh->h', 'HH->H', 'ii->i', 'II->I', 'll->l',\n",
      " |      'LL->L', 'qq->q', 'QQ->Q', 'ff->f', 'dd->d', 'gg->g', 'FF->F', 'DD->D',\n",
      " |      'GG->G', 'OO->O']\n",
      " |      \n",
      " |      >>> np.multiply.types\n",
      " |      ['??->?', 'bb->b', 'BB->B', 'hh->h', 'HH->H', 'ii->i', 'II->I', 'll->l',\n",
      " |      'LL->L', 'qq->q', 'QQ->Q', 'ff->f', 'dd->d', 'gg->g', 'FF->F', 'DD->D',\n",
      " |      'GG->G', 'OO->O']\n",
      " |      \n",
      " |      >>> np.power.types\n",
      " |      ['bb->b', 'BB->B', 'hh->h', 'HH->H', 'ii->i', 'II->I', 'll->l', 'LL->L',\n",
      " |      'qq->q', 'QQ->Q', 'ff->f', 'dd->d', 'gg->g', 'FF->F', 'DD->D', 'GG->G',\n",
      " |      'OO->O']\n",
      " |      \n",
      " |      >>> np.exp.types\n",
      " |      ['f->f', 'd->d', 'g->g', 'F->F', 'D->D', 'G->G', 'O->O']\n",
      " |      \n",
      " |      >>> np.remainder.types\n",
      " |      ['bb->b', 'BB->B', 'hh->h', 'HH->H', 'ii->i', 'II->I', 'll->l', 'LL->L',\n",
      " |      'qq->q', 'QQ->Q', 'ff->f', 'dd->d', 'gg->g', 'OO->O']\n",
      "\n"
     ]
    }
   ],
   "source": [
    "help(np.hypot)"
   ]
  },
  {
   "cell_type": "code",
   "execution_count": 79,
   "metadata": {},
   "outputs": [
    {
     "name": "stdout",
     "output_type": "stream",
     "text": [
      "5.0\n",
      "[[ 5.  5.  5.]\n",
      " [ 5.  5.  5.]\n",
      " [ 5.  5.  5.]]\n",
      "[[ 5.  5.  5.]\n",
      " [ 5.  5.  5.]\n",
      " [ 5.  5.  5.]]\n"
     ]
    }
   ],
   "source": [
    "import numpy as np\n",
    "\n",
    "print(np.hypot(3, 4))\n",
    "print(np.hypot(3*np.ones((3, 3)), 4*np.ones((3, 3))))\n",
    "\n",
    "print(np.sqrt(np.power(3*np.ones((3, 3)),2) \n",
    "              + np.power(4*np.ones((3, 3)),2)))"
   ]
  },
  {
   "cell_type": "code",
   "execution_count": 80,
   "metadata": {},
   "outputs": [
    {
     "name": "stdout",
     "output_type": "stream",
     "text": [
      "[[1 2 3]\n",
      " [4 5 6]\n",
      " [7 8 9]]\n",
      "(3, 3)\n",
      "15\n",
      "15\n"
     ]
    }
   ],
   "source": [
    "import numpy as np\n",
    "\n",
    "a = np.array([[1,2,3],[4,5,6],[7,8,9]])\n",
    "print(a)\n",
    "print(a.shape)\n",
    "#정방행렬의 궤적\n",
    "print(np.trace(a))\n",
    "\n",
    "#전치행렬의 궤적\n",
    "print(np.trace(np.transpose(a)))"
   ]
  },
  {
   "cell_type": "code",
   "execution_count": 81,
   "metadata": {},
   "outputs": [
    {
     "name": "stdout",
     "output_type": "stream",
     "text": [
      "[[ 8 16 24]\n",
      " [32 40 48]\n",
      " [56 64 72]]\n",
      "[[ 8.          4.          2.66666667]\n",
      " [ 2.          1.6         1.33333333]\n",
      " [ 1.14285714  1.          0.88888889]]\n"
     ]
    }
   ],
   "source": [
    "import numpy as np\n",
    "\n",
    "a = np.array([[1,2,3],[4,5,6],[7,8,9]])\n",
    "\n",
    "print(8*a)\n",
    "print(8/a)"
   ]
  },
  {
   "cell_type": "code",
   "execution_count": 82,
   "metadata": {},
   "outputs": [
    {
     "name": "stdout",
     "output_type": "stream",
     "text": [
      "[[ 0.  0.]\n",
      " [ 0.  0.]]\n",
      "[[ 0.  0.  0.]\n",
      " [ 0.  0.  0.]\n",
      " [ 0.  0.  0.]]\n"
     ]
    }
   ],
   "source": [
    "import numpy as np\n",
    "\n",
    "z2 = np.zeros((2,2))\n",
    "print(z2)\n",
    "\n",
    "z3 = np.zeros((3,3))\n",
    "print(z3)"
   ]
  },
  {
   "cell_type": "code",
   "execution_count": 83,
   "metadata": {},
   "outputs": [
    {
     "name": "stdout",
     "output_type": "stream",
     "text": [
      "[[ 30  36  42]\n",
      " [ 66  81  96]\n",
      " [102 126 150]]\n",
      "[[ 30  36  42]\n",
      " [ 66  81  96]\n",
      " [102 126 150]]\n"
     ]
    }
   ],
   "source": [
    "import numpy as np\n",
    "\n",
    "A = np.array([[1,2,3],[4,5,6],[7,8,9]])\n",
    "B = np.array([[1,2,3],[4,5,6],[7,8,9]])\n",
    "\n",
    "print(np.dot(A,B))\n",
    "\n",
    "a = np.dot(A,B[:,0])[:,np.newaxis]\n",
    "b = np.dot(A,B[:,1])[:,np.newaxis]\n",
    "c = np.dot(A,B[:,2])[:,np.newaxis]\n",
    "\n",
    "print(np.concatenate([a,b,c],axis=1))"
   ]
  },
  {
   "cell_type": "code",
   "execution_count": 84,
   "metadata": {},
   "outputs": [
    {
     "name": "stdout",
     "output_type": "stream",
     "text": [
      "[[ 1.  0.  0.  0.]\n",
      " [ 0.  1.  0.  0.]\n",
      " [ 0.  0.  1.  0.]\n",
      " [ 0.  0.  0.  1.]]\n",
      "[[ 1.]\n",
      " [ 2.]\n",
      " [ 3.]\n",
      " [ 4.]]\n"
     ]
    }
   ],
   "source": [
    "import numpy as np\n",
    "\n",
    "I4 = np.identity(4)\n",
    "print(I4)\n",
    "\n",
    "B = np.array([1,2,3,4]).reshape(4,1)\n",
    "\n",
    "print(np.dot(I4,B))"
   ]
  },
  {
   "cell_type": "code",
   "execution_count": 85,
   "metadata": {},
   "outputs": [
    {
     "name": "stdout",
     "output_type": "stream",
     "text": [
      "[[ 1.  0.  0.  0.]\n",
      " [ 0.  1.  0.  0.]\n",
      " [ 0.  0.  1.  0.]\n",
      " [ 0.  0.  0.  1.]]\n",
      "[[ 1.  2.  3.  4.]]\n"
     ]
    }
   ],
   "source": [
    "import numpy as np\n",
    "\n",
    "I4 = np.identity(4)\n",
    "print(I4)\n",
    "\n",
    "B = np.array([1,2,3,4]).reshape(1,4)\n",
    "\n",
    "print(np.dot(B, I4))\n"
   ]
  },
  {
   "cell_type": "code",
   "execution_count": 86,
   "metadata": {},
   "outputs": [
    {
     "name": "stdout",
     "output_type": "stream",
     "text": [
      "[False False False False]\n",
      "[False False  True False]\n",
      "[ True  True False  True]\n",
      "[ True  True  True  True]\n",
      "[False False  True False]\n",
      "[ True  True False  True]\n"
     ]
    }
   ],
   "source": [
    "import numpy as np\n",
    "\n",
    "A = np.array([1,2,30,4])\n",
    "B = np.array([10,20,30,40])\n",
    "\n",
    "print(np.greater(A,B))\n",
    "print(np.greater_equal(A,B))\n",
    "\n",
    "print(np.less(A,B))\n",
    "print(np.less_equal(A,B))\n",
    "\n",
    "print(np.equal(A,B))\n",
    "print(np.not_equal(A,B))"
   ]
  },
  {
   "cell_type": "code",
   "execution_count": 87,
   "metadata": {},
   "outputs": [
    {
     "name": "stdout",
     "output_type": "stream",
     "text": [
      "7.0\n",
      "8.0\n"
     ]
    }
   ],
   "source": [
    "import numpy as np\n",
    "\n",
    "A = np.array([1,2,np.nan,4])\n",
    "\n",
    "print(np.nansum(A))\n",
    "print(np.nanprod(A))"
   ]
  },
  {
   "cell_type": "code",
   "execution_count": 88,
   "metadata": {},
   "outputs": [
    {
     "name": "stdout",
     "output_type": "stream",
     "text": [
      "[[1 0 0]\n",
      " [4 5 0]\n",
      " [7 8 9]]\n",
      "[[1 2 3]\n",
      " [0 5 6]\n",
      " [0 0 9]]\n"
     ]
    }
   ],
   "source": [
    "import numpy as np\n",
    "\n",
    "A = np.arange(1,10).reshape(3,3)\n",
    "print(np.tril(A))\n",
    "print(np.triu(A))"
   ]
  },
  {
   "cell_type": "code",
   "execution_count": 89,
   "metadata": {},
   "outputs": [
    {
     "name": "stdout",
     "output_type": "stream",
     "text": [
      "[[ 25   0   0]\n",
      " [ 64   8   0]\n",
      " [144  12   1]]\n",
      "[[25  5  1]\n",
      " [ 0  8  1]\n",
      " [ 0  0  1]]\n"
     ]
    }
   ],
   "source": [
    "\n",
    "import numpy as np\n",
    "\n",
    "A = np.array([[25,5,1],[64,8,1],[144,12,1]]) \n",
    "print(np.tril(A))\n",
    "print(np.triu(A))"
   ]
  },
  {
   "cell_type": "code",
   "execution_count": 90,
   "metadata": {},
   "outputs": [
    {
     "name": "stdout",
     "output_type": "stream",
     "text": [
      " det A  -84.0\n",
      "[[ 1.          0.          0.        ]\n",
      " [ 0.17361111  1.          0.        ]\n",
      " [ 0.44444444  0.91428571  1.        ]]\n",
      "[[ 144.           12.            1.        ]\n",
      " [   0.            2.91666667    0.82638889]\n",
      " [   0.            0.           -0.2       ]]\n",
      "1.0\n",
      "-84.0\n",
      " det L det U -84.0\n"
     ]
    }
   ],
   "source": [
    "import numpy as np\n",
    "from numpy import linalg as LA\n",
    "import scipy \n",
    "\n",
    "A = np.array([[25,5,1],[64,8,1],[144,12,1]]) \n",
    "\n",
    "print(\" det A \",LA.det(A))\n",
    "P,L,U = scipy.linalg.lu(A)\n",
    "print(L)\n",
    "print(U)\n",
    "print(LA.det(L))\n",
    "print(LA.det(U))\n",
    "print(\" det L det U\", np.dot(LA.det(L),LA.det(U)))"
   ]
  },
  {
   "cell_type": "code",
   "execution_count": 91,
   "metadata": {},
   "outputs": [
    {
     "name": "stdout",
     "output_type": "stream",
     "text": [
      "nan\n",
      "nan\n",
      "nan\n",
      "nan\n"
     ]
    }
   ],
   "source": [
    "import numpy as np\n",
    "\n",
    "x = np.nan\n",
    "print(1.0 + x)\n",
    "print(1.0 * x)\n",
    "print( 0.0 * x)\n",
    "print(np.mean(x))"
   ]
  },
  {
   "cell_type": "code",
   "execution_count": 92,
   "metadata": {},
   "outputs": [
    {
     "name": "stdout",
     "output_type": "stream",
     "text": [
      "1.79769313486e+308\n",
      "-1.79769313486e+308\n",
      "15\n"
     ]
    }
   ],
   "source": [
    "import numpy as np\n",
    "\n",
    "print(np.finfo(float).max)\n",
    "print(np.finfo(float).min)\n",
    "print(np.finfo(float).precision)"
   ]
  },
  {
   "cell_type": "code",
   "execution_count": 93,
   "metadata": {},
   "outputs": [
    {
     "name": "stdout",
     "output_type": "stream",
     "text": [
      "2.22044604925e-16\n",
      "1.0\n",
      "True\n"
     ]
    }
   ],
   "source": [
    "import numpy as np\n",
    "\n",
    "x = 1.0\n",
    "eps = np.finfo(float).eps\n",
    "print(eps)\n",
    "x = x+eps/2\n",
    "print(x)\n",
    "print(x == 1)"
   ]
  },
  {
   "cell_type": "code",
   "execution_count": 94,
   "metadata": {},
   "outputs": [
    {
     "name": "stdout",
     "output_type": "stream",
     "text": [
      "2.22044604925e-16\n",
      "[False False]\n",
      "True\n"
     ]
    }
   ],
   "source": [
    "import numpy as np\n",
    "\n",
    "eps = np.finfo(np.float64).eps\n",
    "print(eps)\n",
    "\n",
    "x = np.random.randn(2)\n",
    "y = x + eps\n",
    "\n",
    "print(x == y)\n",
    "\n",
    "print(np.allclose(x,y))\n"
   ]
  },
  {
   "cell_type": "code",
   "execution_count": 95,
   "metadata": {},
   "outputs": [
    {
     "name": "stdout",
     "output_type": "stream",
     "text": [
      "[[1 3 4]\n",
      " [1 8 5]]\n",
      "2\n",
      "[[1 3 4]\n",
      " [1 8 5]\n",
      " [2 3 4]]\n",
      "3\n"
     ]
    }
   ],
   "source": [
    "import numpy as np\n",
    "\n",
    "X = np.array([[1,3,4],[1,8,5]])\n",
    "print(X )\n",
    "\n",
    "print(np.linalg.matrix_rank(X ))\n",
    "\n",
    "Y = np.array([[1,3,4],[1,8,5],[2,3,4]])\n",
    "print(Y)\n",
    "\n",
    "print(np.linalg.matrix_rank(Y))\n"
   ]
  },
  {
   "cell_type": "code",
   "execution_count": 96,
   "metadata": {},
   "outputs": [
    {
     "name": "stdout",
     "output_type": "stream",
     "text": [
      "[[1 2 3]\n",
      " [2 3 5]\n",
      " [3 5 6]]\n",
      "True\n",
      "True\n"
     ]
    }
   ],
   "source": [
    "import numpy as np\n",
    "\n",
    "X = np.array([[1,2,3],[2,3,5],[3,5,6]])\n",
    "print(X)\n",
    "\n",
    "#True if two arrays have the same shape and elements, \n",
    "print(np.array_equal(X,X.T))\n",
    "\n",
    "#Returns True if input arrays are shape consistent \n",
    "# and all elements equal.\n",
    "print(np.array_equiv(X,X.T))"
   ]
  },
  {
   "cell_type": "code",
   "execution_count": 97,
   "metadata": {},
   "outputs": [
    {
     "name": "stdout",
     "output_type": "stream",
     "text": [
      "[[1 2 3]\n",
      " [2 3 5]\n",
      " [3 5 6]]\n",
      "[[ 2  4  6]\n",
      " [ 4  6 10]\n",
      " [ 6 10 12]]\n",
      "[[14 23 31]\n",
      " [23 38 51]\n",
      " [31 51 70]]\n",
      "[[ True  True  True]\n",
      " [ True  True  True]\n",
      " [ True  True  True]]\n"
     ]
    }
   ],
   "source": [
    "import numpy as np\n",
    "\n",
    "X = np.array([[1,2,3],[2,3,5],[3,5,6]])\n",
    "print(X)\n",
    "\n",
    "print(X+X.T)\n",
    "print(np.dot(X,X.T))\n",
    "\n",
    "print(np.transpose(np.dot(X,X.T)) == np.dot(X.T,X))"
   ]
  },
  {
   "cell_type": "code",
   "execution_count": 98,
   "metadata": {},
   "outputs": [
    {
     "name": "stdout",
     "output_type": "stream",
     "text": [
      "[[1 2 3]\n",
      " [2 3 5]\n",
      " [3 5 6]]\n",
      "{1, 2, 3, 5, 6}\n"
     ]
    }
   ],
   "source": [
    "import numpy as np\n",
    "\n",
    "X = np.array([[1,2,3],[2,3,5],[3,5,6]])\n",
    "print(X)\n",
    "s = set(X.flatten())\n",
    "print(s)"
   ]
  },
  {
   "cell_type": "code",
   "execution_count": 99,
   "metadata": {},
   "outputs": [
    {
     "name": "stdout",
     "output_type": "stream",
     "text": [
      "[[ 0  2 -3]\n",
      " [-2  0  5]\n",
      " [ 3 -5  0]]\n",
      "[[  0   4  -6]\n",
      " [ -4   0  10]\n",
      " [  6 -10   0]]\n",
      "0 0\n"
     ]
    }
   ],
   "source": [
    "import numpy as np\n",
    "\n",
    "X = np.array([[0,2,-3],[-2,0,5],[3,-5,0]])\n",
    "print(X)\n",
    "print(X -X.T)\n",
    "print(np.trace(X), np.trace(X.T))"
   ]
  },
  {
   "cell_type": "code",
   "execution_count": 100,
   "metadata": {},
   "outputs": [
    {
     "name": "stdout",
     "output_type": "stream",
     "text": [
      "[[False False False]\n",
      " [False False  True]\n",
      " [False False False]]\n",
      "[[False False False]\n",
      " [False False False]\n",
      " [False False  True]]\n"
     ]
    }
   ],
   "source": [
    "import numpy as np\n",
    "\n",
    "X = np.array([[0,2,-3],[-2,0,np.inf],[3,-5, -np.inf]])\n",
    "\n",
    "print(np.isposinf(X))\n",
    "print(np.isneginf(X))"
   ]
  },
  {
   "cell_type": "code",
   "execution_count": 101,
   "metadata": {},
   "outputs": [
    {
     "name": "stdout",
     "output_type": "stream",
     "text": [
      "x     = [1 2 3]\n",
      "e^x   = [  2.71828183   7.3890561   20.08553692]\n",
      "2^x   = [ 2.  4.  8.]\n",
      "2^x   = [2 4 8]\n"
     ]
    }
   ],
   "source": [
    "import numpy as np\n",
    "X =  np.array([1, 2, 3])\n",
    "print(\"x     =\", X)\n",
    "print(\"e^x   =\", np.exp(X))\n",
    "print(\"2^x   =\", np.exp2(X))\n",
    "print(\"2^x   =\", np.power(2, X))"
   ]
  },
  {
   "cell_type": "code",
   "execution_count": 102,
   "metadata": {},
   "outputs": [
    {
     "name": "stdout",
     "output_type": "stream",
     "text": [
      "exp(x) - 1 = [ 0.          0.0010005   0.01005017  0.10517092]\n",
      "log(1 + x) = [ 0.          0.0009995   0.00995033  0.09531018]\n"
     ]
    }
   ],
   "source": [
    "import numpy as np\n",
    "X = [0, 0.001, 0.01, 0.1]\n",
    "print(\"exp(x) - 1 =\", np.expm1(X))\n",
    "print(\"log(1 + x) =\", np.log1p(X))"
   ]
  },
  {
   "cell_type": "code",
   "execution_count": 103,
   "metadata": {},
   "outputs": [
    {
     "name": "stdout",
     "output_type": "stream",
     "text": [
      "(2, 3)\n",
      "(3,)\n",
      "(1, 3)\n",
      "[[ 1.  1.  1.]\n",
      " [ 1.  1.  1.]]\n",
      "[[0 1 2]]\n"
     ]
    }
   ],
   "source": [
    "import numpy as np\n",
    "\n",
    "M = np.ones((2, 3))\n",
    "A = np.arange(3)\n",
    "\n",
    "print(M.shape)\n",
    "print(A.shape)\n",
    "\n",
    "# rule 1 \n",
    "A = A[np.newaxis,:]\n",
    "print(A.shape)\n",
    "print(M)\n",
    "print(A)"
   ]
  },
  {
   "cell_type": "code",
   "execution_count": 104,
   "metadata": {},
   "outputs": [
    {
     "name": "stdout",
     "output_type": "stream",
     "text": [
      "(1, 3)\n",
      "(2, 3)\n",
      "[[ 1.  1.  1.]\n",
      " [ 1.  1.  1.]]\n",
      "[[0 1 2]\n",
      " [0 1 2]]\n"
     ]
    }
   ],
   "source": [
    "import numpy as np\n",
    "\n",
    "M = np.ones((2, 3))\n",
    "A = np.arange(3)\n",
    "\n",
    "# rule 1 \n",
    "A = A[np.newaxis,:]\n",
    "print(A.shape)\n",
    "# rule 2\n",
    "A = np.vstack((A,A))\n",
    "print(A.shape)\n",
    "\n",
    "print(M)\n",
    "print(A)\n"
   ]
  },
  {
   "cell_type": "code",
   "execution_count": 105,
   "metadata": {},
   "outputs": [
    {
     "name": "stdout",
     "output_type": "stream",
     "text": [
      "(1, 3)\n",
      "(2, 3)\n",
      "[[ 1.  2.  3.]\n",
      " [ 1.  2.  3.]]\n"
     ]
    }
   ],
   "source": [
    "import numpy as np\n",
    "\n",
    "M = np.ones((2, 3))\n",
    "A = np.arange(3)\n",
    "\n",
    "# rule 1 \n",
    "A = A[np.newaxis,:]\n",
    "print(A.shape)\n",
    "# rule 2\n",
    "A = np.vstack((A,A))\n",
    "print(A.shape)\n",
    "\n",
    "print(M+A)"
   ]
  },
  {
   "cell_type": "code",
   "execution_count": 106,
   "metadata": {},
   "outputs": [
    {
     "name": "stdout",
     "output_type": "stream",
     "text": [
      "(1, 3)\n",
      "[2 0 1 2 0]\n"
     ]
    }
   ],
   "source": [
    "import numpy as np\n",
    "\n",
    "M = np.ones((2, 3))\n",
    "A = np.arange(3)\n",
    "\n",
    "# rule 1 \n",
    "B = A[np.newaxis,:]\n",
    "print(B.shape)\n",
    "\n",
    "C =  np.pad(A,(1,),'wrap')\n",
    "print(C)"
   ]
  },
  {
   "cell_type": "code",
   "execution_count": 107,
   "metadata": {},
   "outputs": [
    {
     "name": "stdout",
     "output_type": "stream",
     "text": [
      "[[ 11.  12.   0.]\n",
      " [ 21.  22.   0.]\n",
      " [  0.   0.   0.]]\n"
     ]
    }
   ],
   "source": [
    "inser = np.array([[11, 12], [21, 22]])\n",
    "zeros = np.zeros(9).reshape( (3,3) )\n",
    "\n",
    "\n",
    "zeros[:inser.shape[0], :inser.shape[1]] = inser\n",
    "print(zeros)\n"
   ]
  },
  {
   "cell_type": "code",
   "execution_count": 108,
   "metadata": {},
   "outputs": [
    {
     "data": {
      "text/plain": [
       "array([[ 0,  0,  0,  0,  0,  0,  0,  0],\n",
       "       [ 0,  0,  0,  0,  0,  0,  0,  0],\n",
       "       [ 0,  0,  0,  0,  0,  0,  0,  0],\n",
       "       [ 0,  0,  0, 11, 12,  0,  0,  0],\n",
       "       [ 0,  0,  0, 21, 22,  0,  0,  0],\n",
       "       [ 0,  0,  0,  0,  0,  0,  0,  0],\n",
       "       [ 0,  0,  0,  0,  0,  0,  0,  0],\n",
       "       [ 0,  0,  0,  0,  0,  0,  0,  0]])"
      ]
     },
     "execution_count": 108,
     "metadata": {},
     "output_type": "execute_result"
    }
   ],
   "source": [
    "np.pad(inser,(3,3),\"constant\")"
   ]
  },
  {
   "cell_type": "code",
   "execution_count": 109,
   "metadata": {},
   "outputs": [
    {
     "data": {
      "text/plain": [
       "array([[11, 12,  0],\n",
       "       [21, 22,  0],\n",
       "       [ 0,  0,  0]])"
      ]
     },
     "execution_count": 109,
     "metadata": {},
     "output_type": "execute_result"
    }
   ],
   "source": [
    "np.pad(inser,(0,1),\"constant\")"
   ]
  },
  {
   "cell_type": "code",
   "execution_count": 110,
   "metadata": {},
   "outputs": [
    {
     "name": "stdout",
     "output_type": "stream",
     "text": [
      "[[ 11.  12.   0.]\n",
      " [ 21.  22.   0.]\n",
      " [  0.   0.   0.]]\n",
      "[[11 12  0]\n",
      " [21 22  0]\n",
      " [ 0  0  0]]\n"
     ]
    }
   ],
   "source": [
    "import numpy as np\n",
    "\n",
    "inser = np.array([[11, 12], [21, 22]])\n",
    "zeros = np.zeros(9).reshape( (3,3) )\n",
    "\n",
    "zeros[:inser.shape[0], :inser.shape[1]] = inser\n",
    "print(zeros)\n",
    "\n",
    "print(np.pad(inser,(0,1),\"constant\"))"
   ]
  },
  {
   "cell_type": "code",
   "execution_count": 111,
   "metadata": {},
   "outputs": [
    {
     "name": "stdout",
     "output_type": "stream",
     "text": [
      "[[ 0  0  0]\n",
      " [ 0 11 12]\n",
      " [ 0 21 22]]\n",
      "[[11 12  0]\n",
      " [21 22  0]\n",
      " [ 0  0  0]]\n",
      "[[ 0  0  0  0  0  0  0  0]\n",
      " [ 0  0  0  0  0  0  0  0]\n",
      " [ 0  0  0  0  0  0  0  0]\n",
      " [ 0  0  0 11 12  0  0  0]\n",
      " [ 0  0  0 21 22  0  0  0]\n",
      " [ 0  0  0  0  0  0  0  0]\n",
      " [ 0  0  0  0  0  0  0  0]\n",
      " [ 0  0  0  0  0  0  0  0]]\n"
     ]
    }
   ],
   "source": [
    "import numpy as np\n",
    "\n",
    "inser = np.array([[11, 12], [21, 22]])\n",
    "\n",
    "print(np.pad(inser,(1,0),\"constant\"))\n",
    "print(np.pad(inser,(0,1),\"constant\"))\n",
    "print(np.pad(inser,(3,3),\"constant\"))"
   ]
  },
  {
   "cell_type": "code",
   "execution_count": 112,
   "metadata": {},
   "outputs": [
    {
     "name": "stdout",
     "output_type": "stream",
     "text": [
      "[[22 21 22]\n",
      " [12 11 12]\n",
      " [22 21 22]]\n",
      "[[11 12 12]\n",
      " [21 22 22]\n",
      " [21 22 22]]\n",
      "[[22 22 22 21 22 22 22 22]\n",
      " [22 22 22 21 22 22 22 22]\n",
      " [22 22 22 21 22 22 22 22]\n",
      " [12 12 12 11 12 12 12 12]\n",
      " [22 22 22 21 22 22 22 22]\n",
      " [22 22 22 21 22 22 22 22]\n",
      " [22 22 22 21 22 22 22 22]\n",
      " [22 22 22 21 22 22 22 22]]\n"
     ]
    }
   ],
   "source": [
    "import numpy as np\n",
    "\n",
    "inser = np.array([[11, 12], [21, 22]])\n",
    "\n",
    "print(np.pad(inser,(1,0),\"maximum\"))\n",
    "print(np.pad(inser,(0,1),\"maximum\"))\n",
    "print(np.pad(inser,(3,3),\"maximum\"))"
   ]
  },
  {
   "cell_type": "code",
   "execution_count": 113,
   "metadata": {},
   "outputs": [
    {
     "name": "stdout",
     "output_type": "stream",
     "text": [
      "[[11 11 12]\n",
      " [11 11 12]\n",
      " [21 21 22]]\n",
      "[[11 12 11]\n",
      " [21 22 21]\n",
      " [11 12 11]]\n",
      "[[11 11 11 11 12 11 11 11]\n",
      " [11 11 11 11 12 11 11 11]\n",
      " [11 11 11 11 12 11 11 11]\n",
      " [11 11 11 11 12 11 11 11]\n",
      " [21 21 21 21 22 21 21 21]\n",
      " [11 11 11 11 12 11 11 11]\n",
      " [11 11 11 11 12 11 11 11]\n",
      " [11 11 11 11 12 11 11 11]]\n"
     ]
    }
   ],
   "source": [
    "import numpy as np\n",
    "\n",
    "inser = np.array([[11, 12], [21, 22]])\n",
    "\n",
    "print(np.pad(inser,(1,0),\"minimum\"))\n",
    "print(np.pad(inser,(0,1),\"minimum\"))\n",
    "print(np.pad(inser,(3,3),\"minimum\"))"
   ]
  },
  {
   "cell_type": "code",
   "execution_count": 114,
   "metadata": {},
   "outputs": [
    {
     "name": "stdout",
     "output_type": "stream",
     "text": [
      "[[16 16 17]\n",
      " [12 11 12]\n",
      " [22 21 22]]\n",
      "[[11 12 12]\n",
      " [21 22 22]\n",
      " [16 17 16]]\n",
      "[[16 16 16 16 17 16 16 16]\n",
      " [16 16 16 16 17 16 16 16]\n",
      " [16 16 16 16 17 16 16 16]\n",
      " [12 12 12 11 12 12 12 12]\n",
      " [22 22 22 21 22 22 22 22]\n",
      " [16 16 16 16 17 16 16 16]\n",
      " [16 16 16 16 17 16 16 16]\n",
      " [16 16 16 16 17 16 16 16]]\n"
     ]
    }
   ],
   "source": [
    "import numpy as np\n",
    "\n",
    "inser = np.array([[11, 12], [21, 22]])\n",
    "\n",
    "print(np.pad(inser,(1,0),\"mean\"))\n",
    "print(np.pad(inser,(0,1),\"mean\"))\n",
    "print(np.pad(inser,(3,3),\"mean\"))"
   ]
  },
  {
   "cell_type": "code",
   "execution_count": 115,
   "metadata": {},
   "outputs": [
    {
     "name": "stdout",
     "output_type": "stream",
     "text": [
      "[[22 21 22]\n",
      " [12 11 12]\n",
      " [22 21 22]]\n",
      "[[11 12 11]\n",
      " [21 22 21]\n",
      " [11 12 11]]\n",
      "[[22 21 22 21 22 21 22 21]\n",
      " [12 11 12 11 12 11 12 11]\n",
      " [22 21 22 21 22 21 22 21]\n",
      " [12 11 12 11 12 11 12 11]\n",
      " [22 21 22 21 22 21 22 21]\n",
      " [12 11 12 11 12 11 12 11]\n",
      " [22 21 22 21 22 21 22 21]\n",
      " [12 11 12 11 12 11 12 11]]\n"
     ]
    }
   ],
   "source": [
    "import numpy as np\n",
    "\n",
    "inser = np.array([[11, 12], [21, 22]])\n",
    "\n",
    "print(np.pad(inser,(1,0),\"reflect\"))\n",
    "print(np.pad(inser,(0,1),\"reflect\"))\n",
    "print(np.pad(inser,(3,3),\"reflect\"))"
   ]
  },
  {
   "cell_type": "code",
   "execution_count": 116,
   "metadata": {},
   "outputs": [
    {
     "name": "stdout",
     "output_type": "stream",
     "text": [
      "[[11 11 12]\n",
      " [11 11 12]\n",
      " [21 21 22]]\n",
      "[[11 12 12]\n",
      " [21 22 22]\n",
      " [21 22 22]]\n",
      "[[22 22 21 21 22 22 21 21]\n",
      " [22 22 21 21 22 22 21 21]\n",
      " [12 12 11 11 12 12 11 11]\n",
      " [12 12 11 11 12 12 11 11]\n",
      " [22 22 21 21 22 22 21 21]\n",
      " [22 22 21 21 22 22 21 21]\n",
      " [12 12 11 11 12 12 11 11]\n",
      " [12 12 11 11 12 12 11 11]]\n"
     ]
    }
   ],
   "source": [
    "import numpy as np\n",
    "\n",
    "inser = np.array([[11, 12], [21, 22]])\n",
    "\n",
    "print(np.pad(inser,(1,0),\"symmetric\"))\n",
    "print(np.pad(inser,(0,1),\"symmetric\"))\n",
    "print(np.pad(inser,(3,3),\"symmetric\"))"
   ]
  },
  {
   "cell_type": "code",
   "execution_count": 117,
   "metadata": {},
   "outputs": [
    {
     "name": "stdout",
     "output_type": "stream",
     "text": [
      "[[22 21 22]\n",
      " [12 11 12]\n",
      " [22 21 22]]\n",
      "[[11 12 11]\n",
      " [21 22 21]\n",
      " [11 12 11]]\n",
      "[[22 21 22 21 22 21 22 21]\n",
      " [12 11 12 11 12 11 12 11]\n",
      " [22 21 22 21 22 21 22 21]\n",
      " [12 11 12 11 12 11 12 11]\n",
      " [22 21 22 21 22 21 22 21]\n",
      " [12 11 12 11 12 11 12 11]\n",
      " [22 21 22 21 22 21 22 21]\n",
      " [12 11 12 11 12 11 12 11]]\n"
     ]
    }
   ],
   "source": [
    "import numpy as np\n",
    "\n",
    "inser = np.array([[11, 12], [21, 22]])\n",
    "\n",
    "print(np.pad(inser,(1,0),\"wrap\"))\n",
    "print(np.pad(inser,(0,1),\"wrap\"))\n",
    "print(np.pad(inser,(3,3),\"wrap\"))"
   ]
  },
  {
   "cell_type": "code",
   "execution_count": 118,
   "metadata": {},
   "outputs": [
    {
     "name": "stdout",
     "output_type": "stream",
     "text": [
      "[[16 16 17]\n",
      " [12 11 12]\n",
      " [22 21 22]]\n",
      "[[11 12 12]\n",
      " [21 22 22]\n",
      " [16 17 16]]\n",
      "[[16 16 16 16 17 16 16 16]\n",
      " [16 16 16 16 17 16 16 16]\n",
      " [16 16 16 16 17 16 16 16]\n",
      " [12 12 12 11 12 12 12 12]\n",
      " [22 22 22 21 22 22 22 22]\n",
      " [16 16 16 16 17 16 16 16]\n",
      " [16 16 16 16 17 16 16 16]\n",
      " [16 16 16 16 17 16 16 16]]\n"
     ]
    }
   ],
   "source": [
    "import numpy as np\n",
    "\n",
    "inser = np.array([[11, 12], [21, 22]])\n",
    "\n",
    "print(np.pad(inser,(1,0),\"median\"))\n",
    "print(np.pad(inser,(0,1),\"median\"))\n",
    "print(np.pad(inser,(3,3),\"median\"))"
   ]
  },
  {
   "cell_type": "code",
   "execution_count": 119,
   "metadata": {},
   "outputs": [
    {
     "name": "stdout",
     "output_type": "stream",
     "text": [
      "[[0 1 2]\n",
      " [1 2 3]\n",
      " [2 3 4]]\n",
      "[[0 0 0]\n",
      " [1 1 1]\n",
      " [2 2 2]]\n",
      "[[0 1 2]\n",
      " [0 1 2]\n",
      " [0 1 2]]\n",
      "[[0 1 2]\n",
      " [1 2 3]\n",
      " [2 3 4]]\n"
     ]
    }
   ],
   "source": [
    "import numpy as np\n",
    "\n",
    "a = np.arange(3).reshape((3, 1))\n",
    "b = np.arange(3).reshape((1,3))\n",
    "print(a+b)\n",
    "\n",
    "A = np.hstack((a,a,a))\n",
    "B = np.vstack((b,b,b))\n",
    "print(A)\n",
    "print(B)\n",
    "print(A+B)"
   ]
  },
  {
   "cell_type": "code",
   "execution_count": null,
   "metadata": {
    "collapsed": true
   },
   "outputs": [],
   "source": []
  },
  {
   "cell_type": "code",
   "execution_count": 120,
   "metadata": {},
   "outputs": [
    {
     "name": "stdout",
     "output_type": "stream",
     "text": [
      "(1, 3)\n",
      "(3, 3)\n"
     ]
    },
    {
     "ename": "ValueError",
     "evalue": "operands could not be broadcast together with shapes (3,2) (3,3) ",
     "output_type": "error",
     "traceback": [
      "\u001b[0;31m---------------------------------------------------------------------------\u001b[0m",
      "\u001b[0;31mValueError\u001b[0m                                Traceback (most recent call last)",
      "\u001b[0;32m<ipython-input-120-ec2cc47a1855>\u001b[0m in \u001b[0;36m<module>\u001b[0;34m()\u001b[0m\n\u001b[1;32m      7\u001b[0m \u001b[0mA\u001b[0m \u001b[0;34m=\u001b[0m \u001b[0mnp\u001b[0m\u001b[0;34m.\u001b[0m\u001b[0mvstack\u001b[0m\u001b[0;34m(\u001b[0m\u001b[0;34m(\u001b[0m\u001b[0mA\u001b[0m\u001b[0;34m,\u001b[0m\u001b[0mA\u001b[0m\u001b[0;34m,\u001b[0m\u001b[0mA\u001b[0m\u001b[0;34m)\u001b[0m\u001b[0;34m)\u001b[0m\u001b[0;34m\u001b[0m\u001b[0m\n\u001b[1;32m      8\u001b[0m \u001b[0mprint\u001b[0m\u001b[0;34m(\u001b[0m\u001b[0mA\u001b[0m\u001b[0;34m.\u001b[0m\u001b[0mshape\u001b[0m\u001b[0;34m)\u001b[0m\u001b[0;34m\u001b[0m\u001b[0m\n\u001b[0;32m----> 9\u001b[0;31m \u001b[0mprint\u001b[0m\u001b[0;34m(\u001b[0m\u001b[0mM\u001b[0m\u001b[0;34m+\u001b[0m\u001b[0mA\u001b[0m\u001b[0;34m)\u001b[0m\u001b[0;34m\u001b[0m\u001b[0m\n\u001b[0m",
      "\u001b[0;31mValueError\u001b[0m: operands could not be broadcast together with shapes (3,2) (3,3) "
     ]
    }
   ],
   "source": [
    "import numpy as np\n",
    "\n",
    "M = np.ones((3, 2))\n",
    "a = np.arange(3)\n",
    "A = a[np.newaxis,:]\n",
    "print(A.shape)\n",
    "A = np.vstack((A,A,A))\n",
    "print(A.shape)\n",
    "print(M+A)"
   ]
  },
  {
   "cell_type": "code",
   "execution_count": 121,
   "metadata": {},
   "outputs": [
    {
     "name": "stdout",
     "output_type": "stream",
     "text": [
      "[[4 1 1 5]\n",
      " [2 4 3 0]\n",
      " [1 6 8 9]]\n",
      "9\n",
      "9\n"
     ]
    }
   ],
   "source": [
    "import numpy as np\n",
    "\n",
    "x = np.random.randint(10, size=(3, 4))\n",
    "print(x)\n",
    "print(np.count_nonzero(x < 6))\n",
    "print(np.sum(x<6))"
   ]
  },
  {
   "cell_type": "code",
   "execution_count": null,
   "metadata": {
    "collapsed": true
   },
   "outputs": [],
   "source": []
  },
  {
   "cell_type": "code",
   "execution_count": null,
   "metadata": {
    "collapsed": true
   },
   "outputs": [],
   "source": []
  }
 ],
 "metadata": {
  "kernelspec": {
   "display_name": "Python 3",
   "language": "python",
   "name": "python3"
  },
  "language_info": {
   "codemirror_mode": {
    "name": "ipython",
    "version": 3
   },
   "file_extension": ".py",
   "mimetype": "text/x-python",
   "name": "python",
   "nbconvert_exporter": "python",
   "pygments_lexer": "ipython3",
   "version": "3.6.1"
  }
 },
 "nbformat": 4,
 "nbformat_minor": 2
}
